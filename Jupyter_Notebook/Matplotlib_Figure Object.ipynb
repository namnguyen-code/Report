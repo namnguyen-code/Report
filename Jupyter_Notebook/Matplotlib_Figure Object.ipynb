{
 "cells": [
  {
   "cell_type": "markdown",
   "metadata": {
    "collapsed": true,
    "pycharm": {
     "name": "#%% md\n"
    }
   },
   "source": [
    "# Matplotlib Figure Object :Understand the figure"
   ]
  },
  {
   "cell_type": "markdown",
   "source": [
    "* The more comprehensive Matplotlib OOP API makes use of Figure object\n",
    "    * We have different layers where we have a general Figure Object as a blank canvas\n",
    "* We then add axes to this Figure object and then plot on those axes\n",
    "* This allows for very robust controls over the entire plot\n",
    "* Let's quickly visually build an understanding of the Figure object before coding with Python\n",
    "* Note:\n",
    "    * The Figure object we're about to show is technically not visible (blank canvas) until you add axes to it"
   ],
   "metadata": {
    "collapsed": false,
    "pycharm": {
     "name": "#%% md\n"
    }
   }
  },
  {
   "cell_type": "markdown",
   "source": [
    "* <b>plt.figure()</b> - Create figure object in default size (432 x 288 with 0 Axes) - a blank canvas in a box, waiting for a set of axes for plotting\n",
    "* <b>plt.figure(figsiz =(10,10))</b> - Resize the figure to 10 x 10 inches\n",
    "* <b>axes = fig.add_axes([0, 0, 1, 1])</b> - add the axes in to the figure - add many axes you want - contains four parameters (X, Y of the bottom left to the figure canvas, the width and height of the overall set of axes )"
   ],
   "metadata": {
    "collapsed": false,
    "pycharm": {
     "name": "#%% md\n"
    }
   }
  },
  {
   "cell_type": "markdown",
   "source": [
    "* The first two parameters in this set of axes is Lower left conner of Axes ([0,0]) -> (0,0) in regard to figure. The lower left corner of the axes is the same as the lower left corner of the underlying figure canvas\n",
    "* If you want your axes to start of the middle of figure -> the first two parameters are ([0.5, 0.5])\n",
    "* The first two parameters often ranges from 0 to 1 but could go beyond 1 if you want to start drawing these sort of axes outside the figure canvas matplotlib"
   ],
   "metadata": {
    "collapsed": false,
    "pycharm": {
     "name": "#%% md\n"
    }
   }
  },
  {
   "cell_type": "markdown",
   "source": [
    "* The last two parameters are the width and height ([1,1]) - which means take up 100 percent above the width and the height of the figure\n",
    "* These numbers in ratios in regards to the underlying figure\n",
    "* If the last two parameters are 0.5 and 0.5 - the width and height are only going to be half of the width and height in regards to the figure\n",
    "* If the last two parameters are 0.5 and 1 - the width is half and the height is full of the figure"
   ],
   "metadata": {
    "collapsed": false,
    "pycharm": {
     "name": "#%% md\n"
    }
   }
  },
  {
   "cell_type": "markdown",
   "source": [
    "* Plotting on the figure\n",
    "<p> <b>fig = plt.figure() </b> - create the figure, and adjust high level parameters on that figure - figure size, dots per inch</p>\n",
    "<p> <b>axes = fig.add_axes([0,0,1,1])</b> - add the axes (could add many axes) - adjust four parameters </p>\n",
    "<p> <b>axes.plot(x,y)</b> - Plot the axes </p>"
   ],
   "metadata": {
    "collapsed": false,
    "pycharm": {
     "name": "#%% md\n"
    }
   }
  },
  {
   "cell_type": "markdown",
   "source": [
    "* This methodlogy allows us to add in multiple axes as well as move and resize the axes (have the small figure inside the big figure)"
   ],
   "metadata": {
    "collapsed": false
   }
  },
  {
   "cell_type": "markdown",
   "source": [
    "* In theory we could set axes side by side using <b>plt.figure()</b> calls but typically it is easier to use <b>plt.subplots()</b> function call for this.\n",
    "* We'll explore multiple side by side plots in a future lecture, for now let's explore the Figure object methodology for Matplotlib!"
   ],
   "metadata": {
    "collapsed": false,
    "pycharm": {
     "name": "#%% md\n"
    }
   }
  },
  {
   "cell_type": "markdown",
   "source": [
    "# Matplotlib Figure Object: Implementing figures and axes\n",
    "\n"
   ],
   "metadata": {
    "collapsed": false,
    "pycharm": {
     "name": "#%% md\n"
    }
   }
  },
  {
   "cell_type": "code",
   "execution_count": 1,
   "outputs": [],
   "source": [
    "import numpy as np\n",
    "import matplotlib.pyplot as plt"
   ],
   "metadata": {
    "collapsed": false,
    "pycharm": {
     "name": "#%%\n"
    }
   }
  },
  {
   "cell_type": "code",
   "execution_count": 2,
   "outputs": [],
   "source": [
    "# DATA\n",
    "a = np.linspace(0, 10, 11)"
   ],
   "metadata": {
    "collapsed": false,
    "pycharm": {
     "name": "#%%\n"
    }
   }
  },
  {
   "cell_type": "code",
   "execution_count": 3,
   "outputs": [
    {
     "data": {
      "text/plain": "array([ 0.,  1.,  2.,  3.,  4.,  5.,  6.,  7.,  8.,  9., 10.])"
     },
     "execution_count": 3,
     "metadata": {},
     "output_type": "execute_result"
    }
   ],
   "source": [
    "a"
   ],
   "metadata": {
    "collapsed": false,
    "pycharm": {
     "name": "#%%\n"
    }
   }
  },
  {
   "cell_type": "code",
   "execution_count": 4,
   "outputs": [],
   "source": [
    "b = a ** 4"
   ],
   "metadata": {
    "collapsed": false,
    "pycharm": {
     "name": "#%%\n"
    }
   }
  },
  {
   "cell_type": "code",
   "execution_count": 5,
   "outputs": [
    {
     "data": {
      "text/plain": "array([0.000e+00, 1.000e+00, 1.600e+01, 8.100e+01, 2.560e+02, 6.250e+02,\n       1.296e+03, 2.401e+03, 4.096e+03, 6.561e+03, 1.000e+04])"
     },
     "execution_count": 5,
     "metadata": {},
     "output_type": "execute_result"
    }
   ],
   "source": [
    "b"
   ],
   "metadata": {
    "collapsed": false,
    "pycharm": {
     "name": "#%%\n"
    }
   }
  },
  {
   "cell_type": "code",
   "execution_count": 10,
   "outputs": [],
   "source": [
    "x = np.arange(0,10)"
   ],
   "metadata": {
    "collapsed": false,
    "pycharm": {
     "name": "#%%\n"
    }
   }
  },
  {
   "cell_type": "code",
   "execution_count": 11,
   "outputs": [],
   "source": [
    "y = 2 * x\n"
   ],
   "metadata": {
    "collapsed": false,
    "pycharm": {
     "name": "#%%\n"
    }
   }
  },
  {
   "cell_type": "code",
   "execution_count": 7,
   "outputs": [
    {
     "data": {
      "text/plain": "array([0, 1, 2, 3, 4, 5, 6, 7, 8, 9])"
     },
     "execution_count": 7,
     "metadata": {},
     "output_type": "execute_result"
    }
   ],
   "source": [
    "x"
   ],
   "metadata": {
    "collapsed": false,
    "pycharm": {
     "name": "#%%\n"
    }
   }
  },
  {
   "cell_type": "code",
   "execution_count": 8,
   "outputs": [
    {
     "data": {
      "text/plain": "array([ 0,  2,  4,  6,  8, 10, 12, 14, 16, 18])"
     },
     "execution_count": 8,
     "metadata": {},
     "output_type": "execute_result"
    }
   ],
   "source": [
    "y"
   ],
   "metadata": {
    "collapsed": false,
    "pycharm": {
     "name": "#%%\n"
    }
   }
  },
  {
   "cell_type": "code",
   "execution_count": 14,
   "outputs": [
    {
     "data": {
      "text/plain": "<Figure size 432x288 with 0 Axes>"
     },
     "metadata": {},
     "output_type": "display_data"
    }
   ],
   "source": [
    "# create the blank figure - <Figure size 432x288 with 0 Axes>\n",
    "fig_1 = plt.figure()"
   ],
   "metadata": {
    "collapsed": false,
    "pycharm": {
     "name": "#%%\n"
    }
   }
  },
  {
   "cell_type": "code",
   "execution_count": 18,
   "outputs": [
    {
     "data": {
      "text/plain": "<Figure size 432x288 with 1 Axes>",
      "image/png": "[encoded data removed]"
     },
     "metadata": {
      "needs_background": "light"
     },
     "output_type": "display_data"
    }
   ],
   "source": [
    "# add the axes\n",
    "# plot the x,y relationship\n",
    "# you could avoid the output string by using the ';' or 'plt.show()'\n",
    "fig = plt.figure() # typically only has one figure\n",
    "axes = fig.add_axes([0,0,1,1]) # the axes could have more than one\n",
    "axes.plot(a,b)\n",
    "plt.show()"
   ],
   "metadata": {
    "collapsed": false,
    "pycharm": {
     "name": "#%%\n"
    }
   }
  },
  {
   "cell_type": "code",
   "execution_count": 19,
   "outputs": [
    {
     "data": {
      "text/plain": "matplotlib.figure.Figure"
     },
     "execution_count": 19,
     "metadata": {},
     "output_type": "execute_result"
    }
   ],
   "source": [
    "type(fig)"
   ],
   "metadata": {
    "collapsed": false,
    "pycharm": {
     "name": "#%%\n"
    }
   }
  },
  {
   "cell_type": "code",
   "execution_count": 33,
   "outputs": [
    {
     "data": {
      "text/plain": "<Figure size 432x288 with 2 Axes>",
      "image/png": "[encoded data removed]"
     },
     "metadata": {
      "needs_background": "light"
     },
     "output_type": "display_data"
    }
   ],
   "source": [
    "# add multiple axes\n",
    "fig = plt.figure()\n",
    "# the axes could has\n",
    "# large axes\n",
    "axes1 = fig.add_axes([0, 0, 1, 1])\n",
    "axes1.plot(a,b)\n",
    "\n",
    "# small axes\n",
    "# if you want to add small axes inside the large axes, so the start must not equal to large axes\n",
    "# if you want to move the small axes - use the x and y parameter in add_axes\n",
    "axes2 = fig.add_axes([0.2, 0.5, 0.25, 0.25]) # 20% x, 20% y, 50% width, 50% height\n",
    "axes2.plot(x,y)\n",
    "\n",
    "\n",
    "plt.show()"
   ],
   "metadata": {
    "collapsed": false,
    "pycharm": {
     "name": "#%%\n"
    }
   }
  },
  {
   "cell_type": "code",
   "execution_count": 40,
   "outputs": [
    {
     "data": {
      "text/plain": "<Figure size 432x288 with 2 Axes>",
      "image/png": "[encoded data removed]"
     },
     "metadata": {
      "needs_background": "light"
     },
     "output_type": "display_data"
    }
   ],
   "source": [
    "# Create the zoom in axes for a and b\n",
    "fig = plt.figure()\n",
    "# Large axes\n",
    "axes1 = fig.add_axes([0,0,1,1])\n",
    "axes1.plot(a,b)\n",
    "\n",
    "axes1.set_xlim(0,8)\n",
    "axes1.set_ylim(0, 8000)\n",
    "axes1.set_xlabel('A')\n",
    "axes1.set_ylabel('B')\n",
    "axes1.set_title('Power of four') # add the title\n",
    "# Small axes\n",
    "axes2 = fig.add_axes([0.25, 0.25, 0.25, 0.25]) # 20% a, 20% b, 25% width, 25% height\n",
    "axes2.plot(a,b)\n",
    "\n",
    "axes2.set_xlim(1,2)\n",
    "axes2.set_ylim(0, 50)\n",
    "axes2.set_xlabel('A')\n",
    "axes2.set_ylabel('B')\n",
    "axes2.set_title('Zoomed In')\n",
    "\n",
    "plt.show()"
   ],
   "metadata": {
    "collapsed": false,
    "pycharm": {
     "name": "#%%\n"
    }
   }
  },
  {
   "cell_type": "markdown",
   "source": [
    "* <b> You can add many axes as you want\n",
    "\n"
   ],
   "metadata": {
    "collapsed": false,
    "pycharm": {
     "name": "#%% md\n"
    }
   }
  },
  {
   "cell_type": "code",
   "execution_count": 42,
   "outputs": [
    {
     "data": {
      "text/plain": "<Figure size 432x288 with 2 Axes>",
      "image/png": "[encoded data removed]"
     },
     "metadata": {
      "needs_background": "light"
     },
     "output_type": "display_data"
    }
   ],
   "source": [
    "# Create the zoom in axes for a and b\n",
    "fig = plt.figure()\n",
    "# Large axes\n",
    "axes1 = fig.add_axes([0,0,1,1])\n",
    "axes1.plot(a,b)\n",
    "\n",
    "axes1.set_xlim(0,8)\n",
    "axes1.set_ylim(0, 8000)\n",
    "axes1.set_xlabel('A')\n",
    "axes1.set_ylabel('B')\n",
    "axes1.set_title('Power of four') # add the\n",
    "# Small axes\n",
    "\n",
    "# if the a = 1 and b = 1 => move to the right corner of figure\n",
    "# move all the way to the top right corner and start axes here\n",
    "# 2 times higher and wider as larger axes\n",
    "axes2 = fig.add_axes([1, 1, 2, 2]) # 100% a, 100% b, 200% width, 200% height\n",
    "\n",
    "axes2.plot(a,b)\n",
    "\n",
    "axes2.set_xlim(1,2)\n",
    "axes2.set_ylim(0, 50)\n",
    "axes2.set_xlabel('A')\n",
    "axes2.set_ylabel('B')\n",
    "axes2.set_title('Zoomed In')\n",
    "\n",
    "plt.show()"
   ],
   "metadata": {
    "collapsed": false,
    "pycharm": {
     "name": "#%%\n"
    }
   }
  },
  {
   "cell_type": "code",
   "execution_count": null,
   "outputs": [],
   "source": [
    "np.linspace(0,10, 11)"
   ],
   "metadata": {
    "collapsed": false,
    "pycharm": {
     "name": "#%%\n"
    }
   }
  },
  {
   "cell_type": "code",
   "execution_count": null,
   "outputs": [],
   "source": [],
   "metadata": {
    "collapsed": false,
    "pycharm": {
     "name": "#%%\n"
    }
   }
  }
 ],
 "metadata": {
  "kernelspec": {
   "name": "python3",
   "language": "python",
   "display_name": "Python 3 (ipykernel)"
  },
  "language_info": {
   "codemirror_mode": {
    "name": "ipython",
    "version": 2
   },
   "file_extension": ".py",
   "mimetype": "text/x-python",
   "name": "python",
   "nbconvert_exporter": "python",
   "pygments_lexer": "ipython2",
   "version": "2.7.6"
  }
 },
 "nbformat": 4,
 "nbformat_minor": 0
}