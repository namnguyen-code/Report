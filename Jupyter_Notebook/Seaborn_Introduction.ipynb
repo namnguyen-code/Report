{
 "cells": [
  {
   "cell_type": "markdown",
   "metadata": {
    "collapsed": true,
    "pycharm": {
     "name": "#%% md\n"
    }
   },
   "source": [
    "# Introduction Seaborn\n",
    "\n",
    "* Seaborn is a statistical plotting library that is specifically designed to interact well with Pandas DataFrame to create common statistical plot types. (Histogram or scatter)\n",
    "* Seaborn is built directly off of Matplotlib but uses a simpler \"one-line\" syntax\n",
    "* When using seaborn, we **trade-off** customization for ease of use"
   ]
  },
  {
   "cell_type": "markdown",
   "source": [
    "* A typical seaborn plot uses one line of code, for example:\n",
    "    * **sns.scatterplot(x='salary', y='sales', data=df)**\n",
    "* Seaborn takes in a pandas DataFrame and then user provides the corresponding string column names for x and y (depending on the plot type)"
   ],
   "metadata": {
    "collapsed": false,
    "pycharm": {
     "name": "#%% md\n"
    }
   }
  },
  {
   "cell_type": "markdown",
   "source": [
    "* Online Docs: https://seaborn.pydata.org/\n",
    "* Common student question:\n",
    "    * <i>\"How do I choose which plot to use</i>\n",
    "* It depends on what questions or relationships you are trying to understand.\n",
    "* Google Image Searching \"Choosing a plot visualization\" will yield many useful flowcharts."
   ],
   "metadata": {
    "collapsed": false,
    "pycharm": {
     "name": "#%% md\n"
    }
   }
  },
  {
   "cell_type": "markdown",
   "source": [
    "* Section Topics:\n",
    "    * Scatter Plots\n",
    "    * Distribution Plots\n",
    "    * Categorical Plots\n",
    "    * Comparison Plots\n",
    "    * Seaborn Grids\n",
    "    * Matrix Plots\n"
   ],
   "metadata": {
    "collapsed": false,
    "pycharm": {
     "name": "#%% md\n"
    }
   }
  }
 ],
 "metadata": {
  "kernelspec": {
   "name": "pycharm-bbcd271a",
   "language": "python",
   "display_name": "PyCharm (Numpy)"
  },
  "language_info": {
   "codemirror_mode": {
    "name": "ipython",
    "version": 2
   },
   "file_extension": ".py",
   "mimetype": "text/x-python",
   "name": "python",
   "nbconvert_exporter": "python",
   "pygments_lexer": "ipython2",
   "version": "2.7.6"
  }
 },
 "nbformat": 4,
 "nbformat_minor": 0
}