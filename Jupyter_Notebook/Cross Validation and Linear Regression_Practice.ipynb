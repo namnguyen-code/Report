{
 "cells": [
  {
   "cell_type": "markdown",
   "source": [
    "# Overiew and introduction\n",
    "* Now that we've spent some time cleaning and working with the Ames Data Set, we're ready to let you test your new Regression skills on it to create a house sale price prediction model\n",
    "* However, there are two more general topics we want to learn before we jump to the project\n",
    "* Section Overview\n",
    "    * Cross Validation in Detial\n",
    "        * Train | Test Split\n",
    "        * Train | Validation | Test Split\n",
    "        * Scikit-Learn cross_val_score\n",
    "        * Scikit-Learn cross_validate\n",
    "    * Grid Search\n",
    "    * Linear Regression Project Exercise\n",
    "* We've already discussed models with built-in cross validation (e.g. RidgeCV)\n",
    "* We will expand on this by exploring Scikit-Learn's general tools for utilizing cross-validation for any model\n",
    "* This will also allow us to later perform grid searches for the optimal combination of multiple hyperparameters.\n",
    "* We'll begin by reviewing the most basic cross validation process we know so far (Train|Test split) and then slowly build up to the full k-fold cross validation"
   ],
   "metadata": {
    "collapsed": false
   }
  },
  {
   "cell_type": "markdown",
   "source": [
    "# Cross Validation - Train | Test Split\n",
    "* Begin with the data set\n",
    "* Split into two sets Train and Test (Typically 70/30)\n",
    "* Train the model then evaluate error on Test\n",
    "* We \"allow\" ourselves model adjustments based on the Error or performance from the test set\n",
    "* Let's briefly review this process!\n",
    "* We'll later expand on it until we reach full k-fold cross validation"
   ],
   "metadata": {
    "collapsed": false
   }
  },
  {
   "cell_type": "markdown",
   "source": [
    "---\n",
    "### Import environment"
   ],
   "metadata": {
    "collapsed": false
   }
  },
  {
   "cell_type": "code",
   "execution_count": 201,
   "metadata": {
    "collapsed": true
   },
   "outputs": [],
   "source": [
    "import pandas as pd\n",
    "import numpy as np\n",
    "import seaborn as sns\n",
    "import matplotlib as mpl\n",
    "import matplotlib.pyplot as plt"
   ]
  },
  {
   "cell_type": "markdown",
   "source": [
    "---\n",
    "### Import background"
   ],
   "metadata": {
    "collapsed": false
   }
  },
  {
   "cell_type": "code",
   "execution_count": 202,
   "outputs": [],
   "source": [
    "mpl.rcParams.update({\"figure.facecolor\": \"white\",\n",
    "                     \"figure.figsize\": [16,11]})"
   ],
   "metadata": {
    "collapsed": false,
    "pycharm": {
     "name": "#%%\n"
    }
   }
  },
  {
   "cell_type": "code",
   "execution_count": 203,
   "outputs": [],
   "source": [
    "df = pd.read_csv(r\"..\\Course-2021\\DATA\\Advertising.csv\")"
   ],
   "metadata": {
    "collapsed": false,
    "pycharm": {
     "name": "#%%\n"
    }
   }
  },
  {
   "cell_type": "code",
   "execution_count": 204,
   "outputs": [
    {
     "data": {
      "text/plain": "      TV  radio  newspaper  sales\n0  230.1   37.8       69.2   22.1\n1   44.5   39.3       45.1   10.4\n2   17.2   45.9       69.3    9.3\n3  151.5   41.3       58.5   18.5\n4  180.8   10.8       58.4   12.9",
      "text/html": "<div>\n<style scoped>\n    .dataframe tbody tr th:only-of-type {\n        vertical-align: middle;\n    }\n\n    .dataframe tbody tr th {\n        vertical-align: top;\n    }\n\n    .dataframe thead th {\n        text-align: right;\n    }\n</style>\n<table border=\"1\" class=\"dataframe\">\n  <thead>\n    <tr style=\"text-align: right;\">\n      <th></th>\n      <th>TV</th>\n      <th>radio</th>\n      <th>newspaper</th>\n      <th>sales</th>\n    </tr>\n  </thead>\n  <tbody>\n    <tr>\n      <th>0</th>\n      <td>230.1</td>\n      <td>37.8</td>\n      <td>69.2</td>\n      <td>22.1</td>\n    </tr>\n    <tr>\n      <th>1</th>\n      <td>44.5</td>\n      <td>39.3</td>\n      <td>45.1</td>\n      <td>10.4</td>\n    </tr>\n    <tr>\n      <th>2</th>\n      <td>17.2</td>\n      <td>45.9</td>\n      <td>69.3</td>\n      <td>9.3</td>\n    </tr>\n    <tr>\n      <th>3</th>\n      <td>151.5</td>\n      <td>41.3</td>\n      <td>58.5</td>\n      <td>18.5</td>\n    </tr>\n    <tr>\n      <th>4</th>\n      <td>180.8</td>\n      <td>10.8</td>\n      <td>58.4</td>\n      <td>12.9</td>\n    </tr>\n  </tbody>\n</table>\n</div>"
     },
     "execution_count": 204,
     "metadata": {},
     "output_type": "execute_result"
    }
   ],
   "source": [
    "df.head()"
   ],
   "metadata": {
    "collapsed": false,
    "pycharm": {
     "name": "#%%\n"
    }
   }
  },
  {
   "cell_type": "markdown",
   "source": [
    "### Train | Test Split Procedure\n",
    "0. Clean and adjust data as necessary for X and y\n",
    "1. Split Data in Train/Test for both X and y\n",
    "2. Fit/Train Scaler on Training X Data\n",
    "3. Scale X Test Data\n",
    "4. Create Model\n",
    "5. Fit/Train Model on X Train Data\n",
    "6. Evaluate Model on X Test Data (by creating predictions and comparing to Y_test)\n",
    "7. Adjust Parameters as Necessary and repeat steps 5 and 6"
   ],
   "metadata": {
    "collapsed": false
   }
  },
  {
   "cell_type": "code",
   "execution_count": 205,
   "outputs": [],
   "source": [
    "X = df.drop(labels=\"sales\", axis=1)"
   ],
   "metadata": {
    "collapsed": false,
    "pycharm": {
     "name": "#%%\n"
    }
   }
  },
  {
   "cell_type": "code",
   "execution_count": 206,
   "outputs": [],
   "source": [
    "y = df[\"sales\"]"
   ],
   "metadata": {
    "collapsed": false,
    "pycharm": {
     "name": "#%%\n"
    }
   }
  },
  {
   "cell_type": "code",
   "execution_count": 207,
   "outputs": [
    {
     "data": {
      "text/plain": "        TV  radio  newspaper\n0    230.1   37.8       69.2\n1     44.5   39.3       45.1\n2     17.2   45.9       69.3\n3    151.5   41.3       58.5\n4    180.8   10.8       58.4\n..     ...    ...        ...\n195   38.2    3.7       13.8\n196   94.2    4.9        8.1\n197  177.0    9.3        6.4\n198  283.6   42.0       66.2\n199  232.1    8.6        8.7\n\n[200 rows x 3 columns]",
      "text/html": "<div>\n<style scoped>\n    .dataframe tbody tr th:only-of-type {\n        vertical-align: middle;\n    }\n\n    .dataframe tbody tr th {\n        vertical-align: top;\n    }\n\n    .dataframe thead th {\n        text-align: right;\n    }\n</style>\n<table border=\"1\" class=\"dataframe\">\n  <thead>\n    <tr style=\"text-align: right;\">\n      <th></th>\n      <th>TV</th>\n      <th>radio</th>\n      <th>newspaper</th>\n    </tr>\n  </thead>\n  <tbody>\n    <tr>\n      <th>0</th>\n      <td>230.1</td>\n      <td>37.8</td>\n      <td>69.2</td>\n    </tr>\n    <tr>\n      <th>1</th>\n      <td>44.5</td>\n      <td>39.3</td>\n      <td>45.1</td>\n    </tr>\n    <tr>\n      <th>2</th>\n      <td>17.2</td>\n      <td>45.9</td>\n      <td>69.3</td>\n    </tr>\n    <tr>\n      <th>3</th>\n      <td>151.5</td>\n      <td>41.3</td>\n      <td>58.5</td>\n    </tr>\n    <tr>\n      <th>4</th>\n      <td>180.8</td>\n      <td>10.8</td>\n      <td>58.4</td>\n    </tr>\n    <tr>\n      <th>...</th>\n      <td>...</td>\n      <td>...</td>\n      <td>...</td>\n    </tr>\n    <tr>\n      <th>195</th>\n      <td>38.2</td>\n      <td>3.7</td>\n      <td>13.8</td>\n    </tr>\n    <tr>\n      <th>196</th>\n      <td>94.2</td>\n      <td>4.9</td>\n      <td>8.1</td>\n    </tr>\n    <tr>\n      <th>197</th>\n      <td>177.0</td>\n      <td>9.3</td>\n      <td>6.4</td>\n    </tr>\n    <tr>\n      <th>198</th>\n      <td>283.6</td>\n      <td>42.0</td>\n      <td>66.2</td>\n    </tr>\n    <tr>\n      <th>199</th>\n      <td>232.1</td>\n      <td>8.6</td>\n      <td>8.7</td>\n    </tr>\n  </tbody>\n</table>\n<p>200 rows × 3 columns</p>\n</div>"
     },
     "execution_count": 207,
     "metadata": {},
     "output_type": "execute_result"
    }
   ],
   "source": [
    "X"
   ],
   "metadata": {
    "collapsed": false,
    "pycharm": {
     "name": "#%%\n"
    }
   }
  },
  {
   "cell_type": "code",
   "execution_count": 208,
   "outputs": [
    {
     "data": {
      "text/plain": "0      22.1\n1      10.4\n2       9.3\n3      18.5\n4      12.9\n       ... \n195     7.6\n196     9.7\n197    12.8\n198    25.5\n199    13.4\nName: sales, Length: 200, dtype: float64"
     },
     "execution_count": 208,
     "metadata": {},
     "output_type": "execute_result"
    }
   ],
   "source": [
    "y"
   ],
   "metadata": {
    "collapsed": false,
    "pycharm": {
     "name": "#%%\n"
    }
   }
  },
  {
   "cell_type": "code",
   "execution_count": 209,
   "outputs": [],
   "source": [
    "from sklearn.model_selection import train_test_split"
   ],
   "metadata": {
    "collapsed": false,
    "pycharm": {
     "name": "#%%\n"
    }
   }
  },
  {
   "cell_type": "code",
   "execution_count": 210,
   "outputs": [],
   "source": [
    "X_train, X_test, y_train, y_test = train_test_split(X, y, test_size=0.3, random_state=101)"
   ],
   "metadata": {
    "collapsed": false,
    "pycharm": {
     "name": "#%%\n"
    }
   }
  },
  {
   "cell_type": "code",
   "execution_count": 211,
   "outputs": [
    {
     "data": {
      "text/plain": "        TV  radio  newspaper\n85   193.2   18.4       65.7\n183  287.6   43.0       71.8\n127   80.2    0.0        9.2\n53   182.6   46.2       58.7\n100  222.4    4.3       49.8\n..     ...    ...        ...\n63   102.7   29.6        8.4\n70   199.1   30.6       38.7\n81   239.8    4.1       36.9\n11   214.7   24.0        4.0\n95   163.3   31.6       52.9\n\n[140 rows x 3 columns]",
      "text/html": "<div>\n<style scoped>\n    .dataframe tbody tr th:only-of-type {\n        vertical-align: middle;\n    }\n\n    .dataframe tbody tr th {\n        vertical-align: top;\n    }\n\n    .dataframe thead th {\n        text-align: right;\n    }\n</style>\n<table border=\"1\" class=\"dataframe\">\n  <thead>\n    <tr style=\"text-align: right;\">\n      <th></th>\n      <th>TV</th>\n      <th>radio</th>\n      <th>newspaper</th>\n    </tr>\n  </thead>\n  <tbody>\n    <tr>\n      <th>85</th>\n      <td>193.2</td>\n      <td>18.4</td>\n      <td>65.7</td>\n    </tr>\n    <tr>\n      <th>183</th>\n      <td>287.6</td>\n      <td>43.0</td>\n      <td>71.8</td>\n    </tr>\n    <tr>\n      <th>127</th>\n      <td>80.2</td>\n      <td>0.0</td>\n      <td>9.2</td>\n    </tr>\n    <tr>\n      <th>53</th>\n      <td>182.6</td>\n      <td>46.2</td>\n      <td>58.7</td>\n    </tr>\n    <tr>\n      <th>100</th>\n      <td>222.4</td>\n      <td>4.3</td>\n      <td>49.8</td>\n    </tr>\n    <tr>\n      <th>...</th>\n      <td>...</td>\n      <td>...</td>\n      <td>...</td>\n    </tr>\n    <tr>\n      <th>63</th>\n      <td>102.7</td>\n      <td>29.6</td>\n      <td>8.4</td>\n    </tr>\n    <tr>\n      <th>70</th>\n      <td>199.1</td>\n      <td>30.6</td>\n      <td>38.7</td>\n    </tr>\n    <tr>\n      <th>81</th>\n      <td>239.8</td>\n      <td>4.1</td>\n      <td>36.9</td>\n    </tr>\n    <tr>\n      <th>11</th>\n      <td>214.7</td>\n      <td>24.0</td>\n      <td>4.0</td>\n    </tr>\n    <tr>\n      <th>95</th>\n      <td>163.3</td>\n      <td>31.6</td>\n      <td>52.9</td>\n    </tr>\n  </tbody>\n</table>\n<p>140 rows × 3 columns</p>\n</div>"
     },
     "execution_count": 211,
     "metadata": {},
     "output_type": "execute_result"
    }
   ],
   "source": [
    "X_train"
   ],
   "metadata": {
    "collapsed": false,
    "pycharm": {
     "name": "#%%\n"
    }
   }
  },
  {
   "cell_type": "code",
   "execution_count": 212,
   "outputs": [
    {
     "data": {
      "text/plain": "85     15.2\n183    26.2\n127     8.8\n53     21.2\n100    11.7\n       ... \n63     14.0\n70     18.3\n81     12.3\n11     17.4\n95     16.9\nName: sales, Length: 140, dtype: float64"
     },
     "execution_count": 212,
     "metadata": {},
     "output_type": "execute_result"
    }
   ],
   "source": [
    "y_train"
   ],
   "metadata": {
    "collapsed": false,
    "pycharm": {
     "name": "#%%\n"
    }
   }
  },
  {
   "cell_type": "markdown",
   "source": [
    "## Scale Data"
   ],
   "metadata": {
    "collapsed": false
   }
  },
  {
   "cell_type": "code",
   "execution_count": 213,
   "outputs": [],
   "source": [
    "from sklearn.preprocessing import StandardScaler"
   ],
   "metadata": {
    "collapsed": false,
    "pycharm": {
     "name": "#%%\n"
    }
   }
  },
  {
   "cell_type": "code",
   "execution_count": 214,
   "outputs": [],
   "source": [
    "scaler = StandardScaler()"
   ],
   "metadata": {
    "collapsed": false,
    "pycharm": {
     "name": "#%%\n"
    }
   }
  },
  {
   "cell_type": "code",
   "execution_count": 215,
   "outputs": [
    {
     "data": {
      "text/plain": "StandardScaler()"
     },
     "execution_count": 215,
     "metadata": {},
     "output_type": "execute_result"
    }
   ],
   "source": [
    "scaler.fit(X_train)"
   ],
   "metadata": {
    "collapsed": false,
    "pycharm": {
     "name": "#%%\n"
    }
   }
  },
  {
   "cell_type": "code",
   "execution_count": 216,
   "outputs": [],
   "source": [
    "X_train = scaler.transform(X_train)"
   ],
   "metadata": {
    "collapsed": false,
    "pycharm": {
     "name": "#%%\n"
    }
   }
  },
  {
   "cell_type": "code",
   "execution_count": 217,
   "outputs": [],
   "source": [
    "X_test = scaler.transform(X_test)"
   ],
   "metadata": {
    "collapsed": false,
    "pycharm": {
     "name": "#%%\n"
    }
   }
  },
  {
   "cell_type": "code",
   "execution_count": 218,
   "outputs": [
    {
     "data": {
      "text/plain": "array([[ 4.93001715e-01, -3.39942376e-01,  1.61586707e+00],\n       [ 1.61337153e+00,  1.32852213e+00,  1.90079242e+00],\n       [-8.48118933e-01, -1.58789957e+00, -1.02319564e+00],\n       [ 3.67197477e-01,  1.54555816e+00,  1.28890355e+00],\n       [ 8.39556785e-01, -1.29625740e+00,  8.73192784e-01],\n       [ 1.17780403e+00,  8.87667686e-01,  1.92414696e+00],\n       [ 4.28912763e-01, -1.56818223e-01, -1.00918292e+00],\n       [-8.71855582e-01,  1.58625242e+00,  1.58543944e-01],\n       [-3.08110177e-01,  9.14797190e-01,  2.24643957e+00],\n       [-2.44021225e-01,  1.31495738e+00, -1.03026873e-01],\n       [ 9.83163509e-01, -1.35729878e+00,  2.50801039e+00],\n       [-1.06056194e+00, -7.33320185e-01, -5.98143063e-01],\n       [ 1.59438221e+00, -6.45149297e-01, -1.28009555e+00],\n       [-8.93218565e-01, -1.53364056e+00, -7.61624823e-01],\n       [-6.42796922e-01, -1.07243899e+00, -1.11661379e+00],\n       [ 7.68346839e-01,  1.24035124e+00,  3.96760224e-01],\n       [-7.82843149e-01,  8.40191053e-01,  8.49838247e-01],\n       [ 1.08641793e+00,  1.73546469e+00,  6.16292874e-01],\n       [-1.71331978e+00,  3.17948099e-01,  4.80836558e-01],\n       [ 9.54679531e-01, -1.00461523e+00, -1.04655018e+00],\n       [ 1.53148009e+00, -6.45149297e-01,  2.75316631e-01],\n       [-2.36900231e-01, -3.39942376e-01,  1.63214852e-01],\n       [-1.13295872e+00, -1.20130413e+00, -6.56596133e-02],\n       [ 6.33047942e-01,  1.47095202e+00, -5.37421266e-01],\n       [ 1.79677953e-01,  1.26069837e+00, -1.28476646e+00],\n       [ 1.04962613e+00, -4.55242768e-01, -3.83281320e-01],\n       [-1.59582336e+00, -1.30982215e+00,  2.30876283e-02],\n       [ 6.54410925e-01, -1.23521601e+00, -5.46763081e-01],\n       [ 1.02707631e+00,  7.38455413e-01, -1.20536103e+00],\n       [ 3.00734861e-01, -9.57138594e-01, -1.15398105e+00],\n       [-1.46052447e+00, -1.48616392e+00,  8.84803326e-02],\n       [ 1.01758165e+00, -1.24199839e+00, -3.55255875e-01],\n       [-1.22671848e+00,  1.59981717e+00, -1.05589199e+00],\n       [-9.62054846e-01, -5.02719400e-01,  4.52811114e-01],\n       [ 5.45222342e-01, -1.35051640e+00, -1.17733559e+00],\n       [-1.22964317e-01,  2.29777211e-01,  7.05040116e-01],\n       [-7.35369852e-01, -9.16444338e-01,  2.14594834e-01],\n       [-3.69825463e-01,  3.45077603e-01, -7.89650268e-01],\n       [-1.83492771e-01, -2.85683367e-01, -6.77548489e-01],\n       [-9.06273722e-01, -2.11077231e-01,  6.51257953e-02],\n       [-1.46700966e-01, -6.04455041e-01, -9.76486566e-01],\n       [ 1.63829501e+00,  1.28104550e+00,  9.38585489e-01],\n       [-4.23232922e-01, -1.06565661e+00, -3.73939505e-01],\n       [-1.36201738e+00,  1.03009758e+00,  1.61119616e+00],\n       [ 9.09579898e-01, -4.41678016e-01, -2.29141374e-01],\n       [ 1.01758165e+00,  2.77253843e-01, -9.39119307e-01],\n       [-1.64448349e+00, -1.56077006e+00, -2.57166819e-01],\n       [ 5.45222342e-01, -7.60595026e-03, -7.89650268e-01],\n       [ 1.71781278e+00,  8.74102934e-01,  3.26002649e+00],\n       [ 2.20030255e-01, -1.05887423e+00,  1.91240296e-01],\n       [-7.51985506e-01,  1.41606322e-01,  1.97552694e+00],\n       [-1.11752989e+00,  6.36719773e-01, -3.55255875e-01],\n       [-6.08378782e-01, -9.36791466e-01, -1.28476646e+00],\n       [ 1.14813322e+00,  4.60377996e-01, -5.04724914e-01],\n       [ 4.68078234e-01,  3.58642355e-01, -6.02813970e-01],\n       [ 7.73094169e-01,  1.38956351e+00, -1.82432300e-01],\n       [ 6.22366450e-01,  6.43502149e-01,  6.95698301e-01],\n       [ 1.34752107e+00, -1.39121066e+00,  5.55571078e-01],\n       [ 7.33928698e-01,  1.32852213e+00,  1.25847592e-01],\n       [ 7.93270320e-01, -1.22165126e+00, -1.73090485e-01],\n       [-1.90740927e-03,  1.21322174e+00,  1.27956173e+00],\n       [ 2.47327401e-01, -3.60289504e-01, -1.89505388e-02],\n       [ 1.65016334e+00, -1.30982215e+00, -1.05589199e+00],\n       [-5.25300512e-01, -6.38366921e-01, -9.43790214e-01],\n       [ 6.87642234e-01, -1.90730103e-01, -9.53132029e-01],\n       [ 3.94494623e-01,  1.38956351e+00, -1.37351370e+00],\n       [-3.38967820e-01,  7.58802541e-01, -8.73726602e-01],\n       [ 1.56589823e+00,  1.26069837e+00,  1.63922161e+00],\n       [ 7.83775660e-01,  6.84196405e-01,  1.30291627e+00],\n       [ 7.01884223e-01,  1.77615895e+00,  3.08012983e-01],\n       [-1.79165072e+00,  1.09792134e+00, -1.04655018e+00],\n       [ 1.04725246e+00,  1.22678649e+00, -5.88801248e-01],\n       [-1.58751554e+00,  9.62273822e-01, -4.44003117e-01],\n       [-1.03974998e-01,  3.99336612e-01, -8.64384787e-01],\n       [ 8.58546104e-01, -1.42512254e+00, -7.24257564e-01],\n       [-8.94405398e-01,  2.77253843e-01, -7.05573934e-01],\n       [ 1.40512483e-01,  9.08014814e-01, -1.10727197e+00],\n       [ 7.92083487e-01,  2.90818595e-01,  1.04134545e+00],\n       [-3.63891301e-01, -1.01817998e+00,  8.21812802e-01],\n       [-1.01546231e+00, -1.19452176e+00, -3.22559523e-01],\n       [ 1.67627365e+00,  3.31512851e-01,  5.64912893e-01],\n       [ 1.52380807e-01, -1.70382975e-01,  7.61091005e-01],\n       [ 9.23821887e-01,  6.02807892e-01,  2.01289420e+00],\n       [ 3.94494623e-01, -1.63600599e-01, -4.25319487e-01],\n       [ 1.53978792e+00,  1.09792134e+00,  1.15344723e+00],\n       [ 1.21222217e+00, -1.43253471e-01, -5.16468910e-02],\n       [-1.50325044e+00, -8.41838202e-01, -6.56596133e-02],\n       [-1.47887798e-01, -6.18019793e-01, -2.57166819e-01],\n       [ 9.30942882e-01,  9.75838574e-01,  1.77934883e+00],\n       [ 1.98667272e-01, -1.10635087e+00, -8.55042972e-01],\n       [-5.58531820e-01, -1.20130413e+00,  1.53873037e-01],\n       [-6.85522890e-01,  1.36243401e+00,  9.05889136e-01],\n       [-4.96816533e-01, -6.18019793e-01,  2.77585357e-02],\n       [ 1.04962613e+00, -1.09278612e+00, -1.04655018e+00],\n       [-2.64197377e-01, -1.20130413e+00,  9.07490590e-03],\n       [-1.28843377e+00,  2.22994835e-01,  1.86569389e-01],\n       [ 4.30099596e-01, -4.21330888e-01, -6.16826692e-01],\n       [ 1.57420606e+00, -8.68967706e-01, -1.15398105e+00],\n       [-3.73385960e-01, -2.58553863e-01, -9.11093862e-01],\n       [-1.57802088e+00, -7.67232066e-01, -3.59926783e-01],\n       [ 1.15288055e+00,  2.50124339e-01, -3.83281320e-01],\n       [-1.95361096e-01,  1.24035124e+00,  6.91027394e-01],\n       [ 1.04013147e+00, -5.36631281e-01, -1.77761392e-01],\n       [-1.69789095e+00, -1.44546967e+00, -1.40621005e+00],\n       [-1.63316620e-01,  1.55912291e+00,  1.30291627e+00],\n       [ 8.14633304e-01,  1.73546469e+00, -1.30345009e+00],\n       [-2.32703930e-02,  8.26626301e-01, -1.17266468e+00],\n       [-7.27062025e-01, -1.56755244e+00, -3.69268598e-01],\n       [-1.47357962e+00, -1.47938155e+00, -4.86041284e-01],\n       [-1.28962060e+00,  1.68735827e-01, -4.95383099e-01],\n       [-1.70738561e+00,  1.05044471e+00,  9.10560044e-01],\n       [-5.17543714e-02,  3.30883059e-02, -5.60775803e-01],\n       [-1.48188745e+00,  6.50284525e-01, -5.51433988e-01],\n       [-1.50206360e+00,  1.55171074e-01,  5.69583800e-01],\n       [ 4.36033758e-01, -3.60289504e-01, -2.57166819e-01],\n       [ 7.00697390e-01,  4.12901364e-01, -1.01852473e+00],\n       [ 1.48400680e+00, -1.43190492e+00, -3.45914060e-01],\n       [-2.20835606e-02, -1.49972868e+00, -3.17888616e-01],\n       [-9.08647387e-01,  7.85932045e-01,  1.00864910e+00],\n       [-1.49612944e+00,  1.05722709e+00, -1.01852473e+00],\n       [ 1.06861544e+00,  9.89403326e-01, -3.69268598e-01],\n       [-9.88165160e-01,  1.43025777e+00,  2.09923926e-01],\n       [-1.00596765e+00, -7.94361570e-01,  2.65974816e-01],\n       [-9.03900057e-01, -8.55402954e-01, -1.17266468e+00],\n       [-9.28823538e-01, -4.34895640e-01, -8.50372065e-01],\n       [-1.69670412e+00,  1.72868231e+00,  2.05026146e+00],\n       [ 8.79909087e-01, -1.03174473e+00,  1.18614358e+00],\n       [-1.16500319e+00, -1.45225204e+00, -4.53344932e-01],\n       [ 7.56478515e-01,  1.27411778e-02,  1.23752357e+00],\n       [-1.34658855e+00, -1.33695165e+00, -8.08333898e-01],\n       [-1.70026462e+00,  2.56906715e-01, -1.35483007e+00],\n       [ 6.03377131e-01, -7.54297106e-02,  2.30876283e-02],\n       [ 1.44840182e+00,  3.72207107e-01,  1.33561262e+00],\n       [-1.59938386e+00,  1.37599876e+00,  2.72287213e+00],\n       [-4.86135041e-01,  1.16574510e+00,  1.49909438e+00],\n       [-5.81081636e-01,  4.19683740e-01, -1.06056290e+00],\n       [ 5.63024828e-01,  4.87507500e-01,  3.54722057e-01],\n       [ 1.04606563e+00, -1.30982215e+00,  2.70645723e-01],\n       [ 7.48170688e-01,  3.98706819e-02, -1.26608283e+00],\n       [ 1.38138818e-01,  5.55331260e-01,  1.01799092e+00]])"
     },
     "execution_count": 218,
     "metadata": {},
     "output_type": "execute_result"
    }
   ],
   "source": [
    "X_train"
   ],
   "metadata": {
    "collapsed": false,
    "pycharm": {
     "name": "#%%\n"
    }
   }
  },
  {
   "cell_type": "markdown",
   "source": [
    "## Rigde model"
   ],
   "metadata": {
    "collapsed": false
   }
  },
  {
   "cell_type": "code",
   "execution_count": 219,
   "outputs": [],
   "source": [
    "from sklearn.linear_model import Ridge"
   ],
   "metadata": {
    "collapsed": false,
    "pycharm": {
     "name": "#%%\n"
    }
   }
  },
  {
   "cell_type": "code",
   "execution_count": 220,
   "outputs": [],
   "source": [
    "model_rigde = Ridge(alpha=100)"
   ],
   "metadata": {
    "collapsed": false,
    "pycharm": {
     "name": "#%%\n"
    }
   }
  },
  {
   "cell_type": "code",
   "execution_count": 221,
   "outputs": [
    {
     "data": {
      "text/plain": "Ridge(alpha=100)"
     },
     "execution_count": 221,
     "metadata": {},
     "output_type": "execute_result"
    }
   ],
   "source": [
    "model_rigde.fit(X_train, y_train)"
   ],
   "metadata": {
    "collapsed": false,
    "pycharm": {
     "name": "#%%\n"
    }
   }
  },
  {
   "cell_type": "code",
   "execution_count": 222,
   "outputs": [],
   "source": [
    "ridge_prediction = model_rigde.predict(X_test)"
   ],
   "metadata": {
    "collapsed": false,
    "pycharm": {
     "name": "#%%\n"
    }
   }
  },
  {
   "cell_type": "code",
   "execution_count": 223,
   "outputs": [],
   "source": [
    "from sklearn.metrics import mean_squared_error, mean_absolute_error"
   ],
   "metadata": {
    "collapsed": false,
    "pycharm": {
     "name": "#%%\n"
    }
   }
  },
  {
   "cell_type": "code",
   "execution_count": 224,
   "outputs": [],
   "source": [
    "MAE_ridge = mean_absolute_error(y_true=y_test, y_pred=ridge_prediction)"
   ],
   "metadata": {
    "collapsed": false,
    "pycharm": {
     "name": "#%%\n"
    }
   }
  },
  {
   "cell_type": "code",
   "execution_count": 225,
   "outputs": [
    {
     "data": {
      "text/plain": "2.1631741364394363"
     },
     "execution_count": 225,
     "metadata": {},
     "output_type": "execute_result"
    }
   ],
   "source": [
    "MAE_ridge"
   ],
   "metadata": {
    "collapsed": false,
    "pycharm": {
     "name": "#%%\n"
    }
   }
  },
  {
   "cell_type": "code",
   "execution_count": 226,
   "outputs": [],
   "source": [
    "MSE_ridge = mean_squared_error(y_true=y_test, y_pred=ridge_prediction)"
   ],
   "metadata": {
    "collapsed": false,
    "pycharm": {
     "name": "#%%\n"
    }
   }
  },
  {
   "cell_type": "code",
   "execution_count": 227,
   "outputs": [
    {
     "data": {
      "text/plain": "7.341775789034128"
     },
     "execution_count": 227,
     "metadata": {},
     "output_type": "execute_result"
    }
   ],
   "source": [
    "MSE_ridge"
   ],
   "metadata": {
    "collapsed": false,
    "pycharm": {
     "name": "#%%\n"
    }
   }
  },
  {
   "cell_type": "code",
   "execution_count": 228,
   "outputs": [],
   "source": [
    "RMSE = np.sqrt(MSE_ridge)"
   ],
   "metadata": {
    "collapsed": false,
    "pycharm": {
     "name": "#%%\n"
    }
   }
  },
  {
   "cell_type": "code",
   "execution_count": 229,
   "outputs": [
    {
     "data": {
      "text/plain": "2.7095711448556075"
     },
     "execution_count": 229,
     "metadata": {},
     "output_type": "execute_result"
    }
   ],
   "source": [
    "RMSE"
   ],
   "metadata": {
    "collapsed": false,
    "pycharm": {
     "name": "#%%\n"
    }
   }
  },
  {
   "cell_type": "markdown",
   "source": [
    "* Adjust your hyper parameter based off your test set performance - change the `alpha = 1`"
   ],
   "metadata": {
    "collapsed": false
   }
  },
  {
   "cell_type": "code",
   "execution_count": 230,
   "outputs": [],
   "source": [
    "model_rigde = Ridge(alpha=1)"
   ],
   "metadata": {
    "collapsed": false,
    "pycharm": {
     "name": "#%%\n"
    }
   }
  },
  {
   "cell_type": "code",
   "execution_count": 231,
   "outputs": [
    {
     "data": {
      "text/plain": "Ridge(alpha=1)"
     },
     "execution_count": 231,
     "metadata": {},
     "output_type": "execute_result"
    }
   ],
   "source": [
    "model_rigde.fit(X_train, y_train)"
   ],
   "metadata": {
    "collapsed": false,
    "pycharm": {
     "name": "#%%\n"
    }
   }
  },
  {
   "cell_type": "code",
   "execution_count": 232,
   "outputs": [],
   "source": [
    "ridge_prediction = model_rigde.predict(X_test)"
   ],
   "metadata": {
    "collapsed": false,
    "pycharm": {
     "name": "#%%\n"
    }
   }
  },
  {
   "cell_type": "code",
   "execution_count": 233,
   "outputs": [],
   "source": [
    "MAE_ridge = mean_absolute_error(y_true=y_test, y_pred=ridge_prediction)"
   ],
   "metadata": {
    "collapsed": false,
    "pycharm": {
     "name": "#%%\n"
    }
   }
  },
  {
   "cell_type": "code",
   "execution_count": 234,
   "outputs": [
    {
     "data": {
      "text/plain": "1.2168768443580575"
     },
     "execution_count": 234,
     "metadata": {},
     "output_type": "execute_result"
    }
   ],
   "source": [
    "MAE_ridge"
   ],
   "metadata": {
    "collapsed": false,
    "pycharm": {
     "name": "#%%\n"
    }
   }
  },
  {
   "cell_type": "code",
   "execution_count": 235,
   "outputs": [],
   "source": [
    "MSE_ridge = mean_squared_error(y_true=y_test, y_pred=ridge_prediction)"
   ],
   "metadata": {
    "collapsed": false,
    "pycharm": {
     "name": "#%%\n"
    }
   }
  },
  {
   "cell_type": "code",
   "execution_count": 236,
   "outputs": [
    {
     "data": {
      "text/plain": "2.3190215794287514"
     },
     "execution_count": 236,
     "metadata": {},
     "output_type": "execute_result"
    }
   ],
   "source": [
    "MSE_ridge"
   ],
   "metadata": {
    "collapsed": false,
    "pycharm": {
     "name": "#%%\n"
    }
   }
  },
  {
   "cell_type": "code",
   "execution_count": 237,
   "outputs": [],
   "source": [
    "RMSE = np.sqrt(MSE_ridge)"
   ],
   "metadata": {
    "collapsed": false,
    "pycharm": {
     "name": "#%%\n"
    }
   }
  },
  {
   "cell_type": "code",
   "execution_count": 238,
   "outputs": [
    {
     "data": {
      "text/plain": "1.5228334050147283"
     },
     "execution_count": 238,
     "metadata": {},
     "output_type": "execute_result"
    }
   ],
   "source": [
    "RMSE"
   ],
   "metadata": {
    "collapsed": false,
    "pycharm": {
     "name": "#%%\n"
    }
   }
  },
  {
   "cell_type": "markdown",
   "source": [
    "* The advantages and disadvantages of a simple trained test play?\n",
    "    * Advantages\n",
    "        * Very simple to understand what doing in here\n",
    "    * Disadvantages\n",
    "        * Quite tedious (Could run the for loop)\n",
    "        * The mean squared error could not be most fair evaluation or report of this performance metric (Because is not the first time the model training) (The alpha is changed by the X_test) => Not the fair model"
   ],
   "metadata": {
    "collapsed": false
   }
  },
  {
   "cell_type": "markdown",
   "source": [
    "# Cross Validation - Train | Validation | Test Split\n",
    "* We just saw that Train | Test split method has a disadvantage of not having a portion of data that can report a performance metric on truly \"unseen\" data.\n",
    "* While adjusting hyper parameters on test  data is a fair technique and not typically referred to as \"data leakage\", it is a potential issue in regards to reporting.\n",
    "* If we want a truly fair and final set of performance metrics, we should get these metrics from a **final** test set that we do not allow ourselves to adjust on\n",
    "* Let's quickly review this process in theory and application!\n",
    "* Begin with the normal data set\n",
    "* Split into: Train, Validation, and Test\n",
    "* The Validation should have a great percentage in the case of less value of data set\n",
    "* Set aside Test set for final metric\n",
    "* Fit the model on Train set\n",
    "* Evaluate performance on validation set (Get some error)\n",
    "* Adjust hyperparameters as needed\n",
    "* Repeat the process as necessary (train, validate, and adjust)\n",
    "* When satisfy with it, perform final evaluation on Test set\n",
    "* In the Final evaluation, do not adjust! report this as final metric!\n",
    "* Recall the entire reason to not adjust after the final test data set is to get the fairest evaluation of the model\n",
    "* The model was not fitted to the final test data **and** the model hyperparameters were not adjusted based off final test data\n",
    "* This is truly never seen before data\n",
    "* To achieve this in Python with Scikit-Learn we simply perform the **train_test_split()** function call twice\n",
    "    * Once to split off larger training set\n",
    "    * Second time to split remaining data into a validation set and test set"
   ],
   "metadata": {
    "collapsed": false
   }
  },
  {
   "cell_type": "markdown",
   "source": [
    "### TRain | Validation | Test Split Procedure\n",
    "* This often also called a \"hold-out\" set, since you should not adjust parameters based on the final test set, but instead use it **only** for reporting final expected perfomance\n",
    "\n",
    "0. Clean and adjust data as necessary for X and y\n",
    "1. Split Data in Train/Validation/Test for both X and y\n",
    "2. Fit/Train Scaler on Training X Data\n",
    "3. Scale X Eval Data\n",
    "4. Create model\n",
    "5. Fit/train model on X train data\n",
    "6. Evaluate Model on X Evaluation Data (by creating predictions and comparing to Y_eval)\n",
    "7. Adjust parameters as necessary and repeat steps 5 and 6\n",
    "8. Get final metrics on Test set (not allowed to go back and adjust after this!)"
   ],
   "metadata": {
    "collapsed": false
   }
  },
  {
   "cell_type": "code",
   "execution_count": 239,
   "outputs": [],
   "source": [
    "df = pd.read_csv(r\"..\\Course-2021\\DATA\\Advertising.csv\")"
   ],
   "metadata": {
    "collapsed": false,
    "pycharm": {
     "name": "#%%\n"
    }
   }
  },
  {
   "cell_type": "code",
   "execution_count": 240,
   "outputs": [],
   "source": [
    "X = df.drop(labels=\"sales\", axis=1)"
   ],
   "metadata": {
    "collapsed": false,
    "pycharm": {
     "name": "#%%\n"
    }
   }
  },
  {
   "cell_type": "code",
   "execution_count": 241,
   "outputs": [],
   "source": [
    "y = df[\"sales\"]"
   ],
   "metadata": {
    "collapsed": false,
    "pycharm": {
     "name": "#%%\n"
    }
   }
  },
  {
   "cell_type": "code",
   "execution_count": 242,
   "outputs": [],
   "source": [
    "from sklearn.model_selection import train_test_split"
   ],
   "metadata": {
    "collapsed": false,
    "pycharm": {
     "name": "#%%\n"
    }
   }
  },
  {
   "cell_type": "markdown",
   "source": [
    "* First split:` X_train, X_other, y_train, y_other = train_test_split(X, y, test_size=0.3, random_state=101)`\n"
   ],
   "metadata": {
    "collapsed": false
   }
  },
  {
   "cell_type": "code",
   "execution_count": 243,
   "outputs": [],
   "source": [
    "X_train, X_other, y_train, y_other = train_test_split(X, y, test_size=0.3, random_state=101)"
   ],
   "metadata": {
    "collapsed": false,
    "pycharm": {
     "name": "#%%\n"
    }
   }
  },
  {
   "cell_type": "markdown",
   "source": [
    "* Second split: `X_train, X_test, y_train, y_test = train_test_split(X, y, test_size=0.3, random_state=101)`\n",
    "* `test_size = 0.5` (50% of 30% other ---> test = 15% of all data)\n"
   ],
   "metadata": {
    "collapsed": false
   }
  },
  {
   "cell_type": "code",
   "execution_count": 244,
   "outputs": [],
   "source": [
    "X_eval, X_test, y_eval, y_test = train_test_split(X_other, y_other, test_size=0.5,random_state=101)"
   ],
   "metadata": {
    "collapsed": false,
    "pycharm": {
     "name": "#%%\n"
    }
   }
  },
  {
   "cell_type": "markdown",
   "source": [
    "---\n",
    "## Scale Data"
   ],
   "metadata": {
    "collapsed": false
   }
  },
  {
   "cell_type": "code",
   "execution_count": 245,
   "outputs": [],
   "source": [
    "from sklearn.preprocessing import StandardScaler"
   ],
   "metadata": {
    "collapsed": false,
    "pycharm": {
     "name": "#%%\n"
    }
   }
  },
  {
   "cell_type": "code",
   "execution_count": 246,
   "outputs": [],
   "source": [
    "scaler = StandardScaler()"
   ],
   "metadata": {
    "collapsed": false,
    "pycharm": {
     "name": "#%%\n"
    }
   }
  },
  {
   "cell_type": "code",
   "execution_count": 247,
   "outputs": [
    {
     "data": {
      "text/plain": "StandardScaler()"
     },
     "execution_count": 247,
     "metadata": {},
     "output_type": "execute_result"
    }
   ],
   "source": [
    "scaler.fit(X_train)"
   ],
   "metadata": {
    "collapsed": false,
    "pycharm": {
     "name": "#%%\n"
    }
   }
  },
  {
   "cell_type": "code",
   "execution_count": 248,
   "outputs": [],
   "source": [
    "X_train = scaler.transform(X_train)"
   ],
   "metadata": {
    "collapsed": false,
    "pycharm": {
     "name": "#%%\n"
    }
   }
  },
  {
   "cell_type": "code",
   "execution_count": 249,
   "outputs": [],
   "source": [
    "X_test = scaler.transform(X_test)"
   ],
   "metadata": {
    "collapsed": false,
    "pycharm": {
     "name": "#%%\n"
    }
   }
  },
  {
   "cell_type": "code",
   "execution_count": 250,
   "outputs": [],
   "source": [
    "X_eval = scaler.transform(X_eval)"
   ],
   "metadata": {
    "collapsed": false,
    "pycharm": {
     "name": "#%%\n"
    }
   }
  },
  {
   "cell_type": "markdown",
   "source": [
    "---\n",
    "### Ridge Model"
   ],
   "metadata": {
    "collapsed": false
   }
  },
  {
   "cell_type": "code",
   "execution_count": 251,
   "outputs": [],
   "source": [
    "from sklearn.linear_model import Ridge"
   ],
   "metadata": {
    "collapsed": false,
    "pycharm": {
     "name": "#%%\n"
    }
   }
  },
  {
   "cell_type": "code",
   "execution_count": 252,
   "outputs": [],
   "source": [
    "model_rigde = Ridge(alpha=100)"
   ],
   "metadata": {
    "collapsed": false,
    "pycharm": {
     "name": "#%%\n"
    }
   }
  },
  {
   "cell_type": "code",
   "source": [
    "model_rigde.fit(X_train, y_train)"
   ],
   "metadata": {
    "collapsed": false,
    "pycharm": {
     "name": "#%%\n"
    }
   },
   "execution_count": 253,
   "outputs": [
    {
     "data": {
      "text/plain": "Ridge(alpha=100)"
     },
     "execution_count": 253,
     "metadata": {},
     "output_type": "execute_result"
    }
   ]
  },
  {
   "cell_type": "code",
   "execution_count": 254,
   "outputs": [],
   "source": [
    "ridge_cv_prediction = model_rigde.predict(X_eval)"
   ],
   "metadata": {
    "collapsed": false,
    "pycharm": {
     "name": "#%%\n"
    }
   }
  },
  {
   "cell_type": "code",
   "execution_count": 255,
   "outputs": [
    {
     "data": {
      "text/plain": "array([16.0980788 , 10.8495293 ,  8.75095421, 14.83525505, 12.55896716,\n       12.8883864 , 11.58372535, 12.01609545, 16.18778637, 10.90016204,\n       11.32616781, 17.90771073, 14.09264772, 13.79206361, 13.71636726,\n        9.87999576, 15.34908128, 13.00876939, 13.43419788, 10.85075815,\n       14.75707677, 18.83377117, 17.30158479, 15.74187916, 16.49277745,\n       19.66643199, 17.6105132 , 10.07145317, 13.64670913, 17.42108555])"
     },
     "execution_count": 255,
     "metadata": {},
     "output_type": "execute_result"
    }
   ],
   "source": [
    "ridge_cv_prediction"
   ],
   "metadata": {
    "collapsed": false,
    "pycharm": {
     "name": "#%%\n"
    }
   }
  },
  {
   "cell_type": "code",
   "execution_count": 256,
   "outputs": [],
   "source": [
    "from sklearn.metrics import mean_squared_error, mean_absolute_error"
   ],
   "metadata": {
    "collapsed": false,
    "pycharm": {
     "name": "#%%\n"
    }
   }
  },
  {
   "cell_type": "code",
   "execution_count": 257,
   "outputs": [],
   "source": [
    "MAE_ridge_cv = mean_absolute_error(y_true=y_eval, y_pred=ridge_cv_prediction)"
   ],
   "metadata": {
    "collapsed": false,
    "pycharm": {
     "name": "#%%\n"
    }
   }
  },
  {
   "cell_type": "code",
   "execution_count": 258,
   "outputs": [
    {
     "data": {
      "text/plain": "2.175424374439987"
     },
     "execution_count": 258,
     "metadata": {},
     "output_type": "execute_result"
    }
   ],
   "source": [
    "MAE_ridge_cv"
   ],
   "metadata": {
    "collapsed": false,
    "pycharm": {
     "name": "#%%\n"
    }
   }
  },
  {
   "cell_type": "code",
   "execution_count": 259,
   "outputs": [],
   "source": [
    "MSE_ridge_cv = mean_squared_error(y_true=y_eval, y_pred=ridge_cv_prediction)"
   ],
   "metadata": {
    "collapsed": false,
    "pycharm": {
     "name": "#%%\n"
    }
   }
  },
  {
   "cell_type": "code",
   "execution_count": 260,
   "outputs": [
    {
     "data": {
      "text/plain": "7.320101458823869"
     },
     "execution_count": 260,
     "metadata": {},
     "output_type": "execute_result"
    }
   ],
   "source": [
    "MSE_ridge_cv"
   ],
   "metadata": {
    "collapsed": false,
    "pycharm": {
     "name": "#%%\n"
    }
   }
  },
  {
   "cell_type": "code",
   "execution_count": 261,
   "outputs": [],
   "source": [
    "RMSE_ridge_cv = np.sqrt(MSE_ridge_cv)"
   ],
   "metadata": {
    "collapsed": false,
    "pycharm": {
     "name": "#%%\n"
    }
   }
  },
  {
   "cell_type": "code",
   "execution_count": 262,
   "outputs": [
    {
     "data": {
      "text/plain": "2.705568601758948"
     },
     "execution_count": 262,
     "metadata": {},
     "output_type": "execute_result"
    }
   ],
   "source": [
    "RMSE_ridge_cv"
   ],
   "metadata": {
    "collapsed": false,
    "pycharm": {
     "name": "#%%\n"
    }
   }
  },
  {
   "cell_type": "code",
   "execution_count": 263,
   "outputs": [],
   "source": [
    "model_rigde = Ridge(alpha=1)"
   ],
   "metadata": {
    "collapsed": false,
    "pycharm": {
     "name": "#%%\n"
    }
   }
  },
  {
   "cell_type": "code",
   "execution_count": 264,
   "outputs": [
    {
     "data": {
      "text/plain": "Ridge(alpha=1)"
     },
     "execution_count": 264,
     "metadata": {},
     "output_type": "execute_result"
    }
   ],
   "source": [
    "model_rigde.fit(X_train,y_train)"
   ],
   "metadata": {
    "collapsed": false,
    "pycharm": {
     "name": "#%%\n"
    }
   }
  },
  {
   "cell_type": "code",
   "execution_count": 265,
   "outputs": [],
   "source": [
    "ridge_cv_prediction = model_rigde.predict(X_eval)"
   ],
   "metadata": {
    "collapsed": false,
    "pycharm": {
     "name": "#%%\n"
    }
   }
  },
  {
   "cell_type": "code",
   "execution_count": 266,
   "outputs": [],
   "source": [
    "from sklearn.metrics import mean_squared_error, mean_absolute_error"
   ],
   "metadata": {
    "collapsed": false,
    "pycharm": {
     "name": "#%%\n"
    }
   }
  },
  {
   "cell_type": "code",
   "execution_count": 267,
   "outputs": [],
   "source": [
    "MAE_ridge_cv = mean_absolute_error(y_true=y_eval, y_pred=ridge_cv_prediction)"
   ],
   "metadata": {
    "collapsed": false,
    "pycharm": {
     "name": "#%%\n"
    }
   }
  },
  {
   "cell_type": "code",
   "execution_count": 268,
   "outputs": [
    {
     "data": {
      "text/plain": "1.1951434240237035"
     },
     "execution_count": 268,
     "metadata": {},
     "output_type": "execute_result"
    }
   ],
   "source": [
    "MAE_ridge_cv"
   ],
   "metadata": {
    "collapsed": false,
    "pycharm": {
     "name": "#%%\n"
    }
   }
  },
  {
   "cell_type": "code",
   "execution_count": 269,
   "outputs": [],
   "source": [
    "MSE_ridge_cv = mean_squared_error(y_true=y_eval, y_pred=ridge_cv_prediction)"
   ],
   "metadata": {
    "collapsed": false,
    "pycharm": {
     "name": "#%%\n"
    }
   }
  },
  {
   "cell_type": "code",
   "execution_count": 270,
   "outputs": [
    {
     "data": {
      "text/plain": "2.3837830750569853"
     },
     "execution_count": 270,
     "metadata": {},
     "output_type": "execute_result"
    }
   ],
   "source": [
    "MSE_ridge_cv"
   ],
   "metadata": {
    "collapsed": false,
    "pycharm": {
     "name": "#%%\n"
    }
   }
  },
  {
   "cell_type": "code",
   "execution_count": 271,
   "outputs": [],
   "source": [
    "RMSE_ridge_cv = np.sqrt(MSE_ridge_cv)"
   ],
   "metadata": {
    "collapsed": false,
    "pycharm": {
     "name": "#%%\n"
    }
   }
  },
  {
   "cell_type": "code",
   "execution_count": 272,
   "outputs": [
    {
     "data": {
      "text/plain": "1.5439504768796781"
     },
     "execution_count": 272,
     "metadata": {},
     "output_type": "execute_result"
    }
   ],
   "source": [
    "RMSE_ridge_cv"
   ],
   "metadata": {
    "collapsed": false,
    "pycharm": {
     "name": "#%%\n"
    }
   }
  },
  {
   "cell_type": "markdown",
   "source": [
    "* In this case the cross validation model still not fair model! Still depend on the change of data (X_eval)\n",
    "* But put the test set to make it become the fair model\n",
    "* Final model choose: `model_ridge` with alpha = 1"
   ],
   "metadata": {
    "collapsed": false
   }
  },
  {
   "cell_type": "code",
   "execution_count": 273,
   "outputs": [],
   "source": [
    "final_model = model_rigde.predict(X_test)"
   ],
   "metadata": {
    "collapsed": false,
    "pycharm": {
     "name": "#%%\n"
    }
   }
  },
  {
   "cell_type": "code",
   "execution_count": 274,
   "outputs": [],
   "source": [
    "MSE_final = mean_squared_error(y_true=y_test, y_pred=final_model)"
   ],
   "metadata": {
    "collapsed": false,
    "pycharm": {
     "name": "#%%\n"
    }
   }
  },
  {
   "cell_type": "code",
   "execution_count": 275,
   "outputs": [
    {
     "data": {
      "text/plain": "2.254260083800517"
     },
     "execution_count": 275,
     "metadata": {},
     "output_type": "execute_result"
    }
   ],
   "source": [
    "MSE_final"
   ],
   "metadata": {
    "collapsed": false,
    "pycharm": {
     "name": "#%%\n"
    }
   }
  },
  {
   "cell_type": "code",
   "execution_count": 276,
   "outputs": [],
   "source": [
    "RMSE_final = np.sqrt(MSE_final)"
   ],
   "metadata": {
    "collapsed": false,
    "pycharm": {
     "name": "#%%\n"
    }
   }
  },
  {
   "cell_type": "code",
   "execution_count": 277,
   "outputs": [
    {
     "data": {
      "text/plain": "1.5014193564093001"
     },
     "execution_count": 277,
     "metadata": {},
     "output_type": "execute_result"
    }
   ],
   "source": [
    "RMSE_final"
   ],
   "metadata": {
    "collapsed": false,
    "pycharm": {
     "name": "#%%\n"
    }
   }
  },
  {
   "cell_type": "markdown",
   "source": [
    "What we are actually going to deploy to the real world is going to be a model that is fit and trained to the entire dataset, just X and Y.\n",
    "If you are going to train to everything you want to be able to then fairly evaluate the model on any subset of that same data it was trained on, which is why you now have this final test metric report right before you go retrain everything"
   ],
   "metadata": {
    "collapsed": false
   }
  },
  {
   "cell_type": "markdown",
   "source": [
    "# Cross Validation - using the cross_val_score function\n",
    "* Acquire the cross-validation to any machine learning model\n",
    "* Start with entire data set\n",
    "* Split data training data and test data\n",
    "* Remove Test data for final evaluation\n",
    "* Choose K-Fold Split Value for Training data\n",
    "* Recall larger K means more computation\n",
    "* The largest possible here is a single leave one out policy where you actually perform it as many as you have\n",
    "* Choose K-Fold Split Value for Training data\n",
    "* Here k = 5\n",
    "* Train on k-1 folds (4 folds) and validate on 1 fold\n",
    "* Obtain the first combination error metric for this fold\n",
    "* Repeat for another combination\n",
    "* Continue for all fold combinations\n",
    "* The advantage for cross-validation is you were able to evaluate your model as it was trained on all portions of the data at some point in time and validated on all portions of the data at some point in time\n",
    "* Use mean (or average) error for parameter adjustment\n",
    "* One you satisfy with this error, get final metrics from final test set\n",
    "* The **cross_val_score** function uses a model and training set (along  with a K and chosen metric) to perform all of this for us automatically!\n",
    "* This allows for K-Fold cross validation to be performed on any model"
   ],
   "metadata": {
    "collapsed": false
   }
  },
  {
   "cell_type": "code",
   "execution_count": 278,
   "outputs": [
    {
     "data": {
      "text/plain": "<PIL.PngImagePlugin.PngImageFile image mode=RGBA size=885x613 at 0x1CC5F904910>",
      "image/png": "[encoded data removed]"
     },
     "execution_count": 278,
     "metadata": {},
     "output_type": "execute_result"
    }
   ],
   "source": [
    "from PIL import Image\n",
    "Image.open(r\"D:\\Data Science\\Course-2021\\10-Cross-Val-and-LinReg-Project\\grid_search_cross_validation.png\")"
   ],
   "metadata": {
    "collapsed": false,
    "pycharm": {
     "name": "#%%\n"
    }
   }
  },
  {
   "cell_type": "code",
   "execution_count": 279,
   "outputs": [],
   "source": [
    "X = df.drop(labels=\"sales\", axis=1)"
   ],
   "metadata": {
    "collapsed": false,
    "pycharm": {
     "name": "#%%\n"
    }
   }
  },
  {
   "cell_type": "code",
   "execution_count": 280,
   "outputs": [],
   "source": [
    "y = df[\"sales\"]"
   ],
   "metadata": {
    "collapsed": false,
    "pycharm": {
     "name": "#%%\n"
    }
   }
  },
  {
   "cell_type": "code",
   "execution_count": 281,
   "outputs": [],
   "source": [
    "from sklearn.model_selection import train_test_split"
   ],
   "metadata": {
    "collapsed": false,
    "pycharm": {
     "name": "#%%\n"
    }
   }
  },
  {
   "cell_type": "code",
   "execution_count": 282,
   "outputs": [],
   "source": [
    "X_train, X_test, y_train, y_test = train_test_split(X, y, test_size=0.3, random_state=101)"
   ],
   "metadata": {
    "collapsed": false,
    "pycharm": {
     "name": "#%%\n"
    }
   }
  },
  {
   "cell_type": "markdown",
   "source": [
    "---\n",
    "### Scale Data"
   ],
   "metadata": {
    "collapsed": false
   }
  },
  {
   "cell_type": "code",
   "execution_count": 283,
   "outputs": [],
   "source": [
    "from sklearn.preprocessing import StandardScaler"
   ],
   "metadata": {
    "collapsed": false,
    "pycharm": {
     "name": "#%%\n"
    }
   }
  },
  {
   "cell_type": "code",
   "execution_count": 284,
   "outputs": [],
   "source": [
    "scaler = StandardScaler()"
   ],
   "metadata": {
    "collapsed": false,
    "pycharm": {
     "name": "#%%\n"
    }
   }
  },
  {
   "cell_type": "code",
   "execution_count": 285,
   "outputs": [
    {
     "data": {
      "text/plain": "StandardScaler()"
     },
     "execution_count": 285,
     "metadata": {},
     "output_type": "execute_result"
    }
   ],
   "source": [
    "scaler.fit(X_train)"
   ],
   "metadata": {
    "collapsed": false,
    "pycharm": {
     "name": "#%%\n"
    }
   }
  },
  {
   "cell_type": "code",
   "execution_count": 286,
   "outputs": [],
   "source": [
    "X_train = scaler.transform(X_train)"
   ],
   "metadata": {
    "collapsed": false,
    "pycharm": {
     "name": "#%%\n"
    }
   }
  },
  {
   "cell_type": "code",
   "execution_count": 287,
   "outputs": [],
   "source": [
    "X_test = scaler.transform(X_test)"
   ],
   "metadata": {
    "collapsed": false,
    "pycharm": {
     "name": "#%%\n"
    }
   }
  },
  {
   "cell_type": "markdown",
   "source": [
    "---\n",
    "Ridge Model"
   ],
   "metadata": {
    "collapsed": false
   }
  },
  {
   "cell_type": "code",
   "execution_count": 288,
   "outputs": [],
   "source": [
    "from sklearn.linear_model import Ridge"
   ],
   "metadata": {
    "collapsed": false,
    "pycharm": {
     "name": "#%%\n"
    }
   }
  },
  {
   "cell_type": "code",
   "execution_count": 289,
   "outputs": [],
   "source": [
    "model_rigde = Ridge(alpha=100)"
   ],
   "metadata": {
    "collapsed": false,
    "pycharm": {
     "name": "#%%\n"
    }
   }
  },
  {
   "cell_type": "code",
   "execution_count": 290,
   "outputs": [],
   "source": [
    "from sklearn.model_selection import cross_val_score"
   ],
   "metadata": {
    "collapsed": false,
    "pycharm": {
     "name": "#%%\n"
    }
   }
  },
  {
   "cell_type": "markdown",
   "source": [
    "* `estimator` is internal word for machine learning model because it's estimating some output\n",
    "* X, y are going to be X train and y train\n",
    "* `scoring` is just a error that is reported back\n",
    "* link: `https://scikit-learn.org/stable/modules/model_evaluation.html` show all the available scoring\n",
    "* `cv` is the fold value"
   ],
   "metadata": {
    "collapsed": false
   }
  },
  {
   "cell_type": "markdown",
   "source": [
    "* `neg_mean_squared_error` higher is better"
   ],
   "metadata": {
    "collapsed": false
   }
  },
  {
   "cell_type": "code",
   "execution_count": 291,
   "outputs": [
    {
     "name": "stdout",
     "output_type": "stream",
     "text": [
      "[CV] END .................................................... total time=   0.0s\n",
      "[CV] END .................................................... total time=   0.0s\n",
      "[CV] END .................................................... total time=   0.0s\n",
      "[CV] END .................................................... total time=   0.0s\n",
      "[CV] END .................................................... total time=   0.0s\n"
     ]
    },
    {
     "name": "stderr",
     "output_type": "stream",
     "text": [
      "[Parallel(n_jobs=1)]: Using backend SequentialBackend with 1 concurrent workers.\n",
      "[Parallel(n_jobs=1)]: Done   1 out of   1 | elapsed:    0.0s remaining:    0.0s\n",
      "[Parallel(n_jobs=1)]: Done   5 out of   5 | elapsed:    0.0s finished\n"
     ]
    }
   ],
   "source": [
    "score = cross_val_score(estimator=model_rigde,X= X_train, y= y_train, scoring=\"neg_mean_squared_error\",\n",
    "                cv=5, verbose=2)"
   ],
   "metadata": {
    "collapsed": false,
    "pycharm": {
     "name": "#%%\n"
    }
   }
  },
  {
   "cell_type": "code",
   "execution_count": 292,
   "outputs": [],
   "source": [
    "score = pd.DataFrame(data=score)"
   ],
   "metadata": {
    "collapsed": false,
    "pycharm": {
     "name": "#%%\n"
    }
   }
  },
  {
   "cell_type": "code",
   "execution_count": 293,
   "outputs": [
    {
     "data": {
      "text/plain": "           0\n0  -9.325530\n1  -4.944962\n2 -11.396652\n3  -7.024211\n4  -8.385627",
      "text/html": "<div>\n<style scoped>\n    .dataframe tbody tr th:only-of-type {\n        vertical-align: middle;\n    }\n\n    .dataframe tbody tr th {\n        vertical-align: top;\n    }\n\n    .dataframe thead th {\n        text-align: right;\n    }\n</style>\n<table border=\"1\" class=\"dataframe\">\n  <thead>\n    <tr style=\"text-align: right;\">\n      <th></th>\n      <th>0</th>\n    </tr>\n  </thead>\n  <tbody>\n    <tr>\n      <th>0</th>\n      <td>-9.325530</td>\n    </tr>\n    <tr>\n      <th>1</th>\n      <td>-4.944962</td>\n    </tr>\n    <tr>\n      <th>2</th>\n      <td>-11.396652</td>\n    </tr>\n    <tr>\n      <th>3</th>\n      <td>-7.024211</td>\n    </tr>\n    <tr>\n      <th>4</th>\n      <td>-8.385627</td>\n    </tr>\n  </tbody>\n</table>\n</div>"
     },
     "execution_count": 293,
     "metadata": {},
     "output_type": "execute_result"
    }
   ],
   "source": [
    "score"
   ],
   "metadata": {
    "collapsed": false,
    "pycharm": {
     "name": "#%%\n"
    }
   }
  },
  {
   "cell_type": "code",
   "execution_count": 294,
   "outputs": [
    {
     "data": {
      "text/plain": "0    8.215396\ndtype: float64"
     },
     "execution_count": 294,
     "metadata": {},
     "output_type": "execute_result"
    }
   ],
   "source": [
    "abs(score.mean())"
   ],
   "metadata": {
    "collapsed": false,
    "pycharm": {
     "name": "#%%\n"
    }
   }
  },
  {
   "cell_type": "code",
   "execution_count": 295,
   "outputs": [],
   "source": [
    "model_rigde = Ridge(alpha=1)"
   ],
   "metadata": {
    "collapsed": false,
    "pycharm": {
     "name": "#%%\n"
    }
   }
  },
  {
   "cell_type": "code",
   "execution_count": 296,
   "outputs": [
    {
     "name": "stdout",
     "output_type": "stream",
     "text": [
      "[CV] END .................................................... total time=   0.0s\n",
      "[CV] END .................................................... total time=   0.0s\n",
      "[CV] END .................................................... total time=   0.0s\n",
      "[CV] END .................................................... total time=   0.0s\n",
      "[CV] END .................................................... total time=   0.0s\n"
     ]
    },
    {
     "name": "stderr",
     "output_type": "stream",
     "text": [
      "[Parallel(n_jobs=1)]: Using backend SequentialBackend with 1 concurrent workers.\n",
      "[Parallel(n_jobs=1)]: Done   1 out of   1 | elapsed:    0.0s remaining:    0.0s\n",
      "[Parallel(n_jobs=1)]: Done   5 out of   5 | elapsed:    0.0s finished\n"
     ]
    }
   ],
   "source": [
    "score = cross_val_score(estimator=model_rigde, X= X_train, y =y_train, scoring=\"neg_mean_squared_error\",cv=5, verbose=2 )"
   ],
   "metadata": {
    "collapsed": false,
    "pycharm": {
     "name": "#%%\n"
    }
   }
  },
  {
   "cell_type": "code",
   "execution_count": 297,
   "outputs": [
    {
     "data": {
      "text/plain": "array([-3.15513238, -1.58086982, -5.40455562, -2.21654481, -4.36709384])"
     },
     "execution_count": 297,
     "metadata": {},
     "output_type": "execute_result"
    }
   ],
   "source": [
    "score"
   ],
   "metadata": {
    "collapsed": false,
    "pycharm": {
     "name": "#%%\n"
    }
   }
  },
  {
   "cell_type": "markdown",
   "source": [
    "* Better than the alpha=100"
   ],
   "metadata": {
    "collapsed": false
   }
  },
  {
   "cell_type": "code",
   "execution_count": 298,
   "outputs": [
    {
     "data": {
      "text/plain": "3.344839296530695"
     },
     "execution_count": 298,
     "metadata": {},
     "output_type": "execute_result"
    }
   ],
   "source": [
    "abs(score.mean())"
   ],
   "metadata": {
    "collapsed": false,
    "pycharm": {
     "name": "#%%\n"
    }
   }
  },
  {
   "cell_type": "markdown",
   "source": [
    "* The model above is only fit within **cross validation** score in order to produce these `scores` back out\n",
    "* We need to do is fit the model on all the training data again to perform that final\n",
    "* You need to fit again to do the sort of prediction on some final test set"
   ],
   "metadata": {
    "collapsed": false
   }
  },
  {
   "cell_type": "code",
   "execution_count": 299,
   "outputs": [
    {
     "data": {
      "text/plain": "Ridge(alpha=1)"
     },
     "execution_count": 299,
     "metadata": {},
     "output_type": "execute_result"
    }
   ],
   "source": [
    "model_rigde.fit(X_train, y_train)"
   ],
   "metadata": {
    "collapsed": false,
    "pycharm": {
     "name": "#%%\n"
    }
   }
  },
  {
   "cell_type": "markdown",
   "source": [
    "* Test on final data"
   ],
   "metadata": {
    "collapsed": false
   }
  },
  {
   "cell_type": "code",
   "execution_count": 300,
   "outputs": [],
   "source": [
    "y_test_prediction = model_rigde.predict(X_test)"
   ],
   "metadata": {
    "collapsed": false,
    "pycharm": {
     "name": "#%%\n"
    }
   }
  },
  {
   "cell_type": "code",
   "source": [
    "y_test_prediction"
   ],
   "metadata": {
    "collapsed": false,
    "pycharm": {
     "name": "#%%\n"
    }
   },
   "execution_count": 301,
   "outputs": [
    {
     "data": {
      "text/plain": "array([15.73544249, 19.56177685, 11.47282584, 16.99614361,  9.19583919,\n        7.06034338, 20.24078477, 17.27047482,  9.7997058 , 19.18969381,\n       12.40827613, 13.88321006, 13.72330625, 21.24960621, 18.41451801,\n       10.00739858, 15.54023734,  7.72694272,  7.59886443, 20.3595504 ,\n        7.831815  , 18.21607253, 24.61611392, 22.77116018,  8.0117733 ,\n       12.667102  , 21.40567156,  8.10250725, 12.43158049, 12.53481984,\n       10.81678067, 19.21537816, 10.09192883,  6.76998079, 17.29636618,\n        7.81497124,  9.28808588,  8.31202002, 10.6122371 , 10.6533735 ,\n       13.05491413,  9.80364168, 10.24764859,  8.09836046, 11.58209801,\n       10.10783927,  9.025001  , 16.24936342, 13.26025422, 20.77690029,\n       12.51477346, 13.96784546, 17.53696507, 11.15686875, 12.57233878,\n        5.56009018, 23.21824128, 12.62301353, 18.72931877, 15.18197827])"
     },
     "execution_count": 301,
     "metadata": {},
     "output_type": "execute_result"
    }
   ]
  },
  {
   "cell_type": "code",
   "execution_count": 302,
   "outputs": [],
   "source": [
    "MSE_final = mean_squared_error(y_true=y_test, y_pred=y_test_prediction)"
   ],
   "metadata": {
    "collapsed": false,
    "pycharm": {
     "name": "#%%\n"
    }
   }
  },
  {
   "cell_type": "code",
   "execution_count": 303,
   "outputs": [
    {
     "data": {
      "text/plain": "2.3190215794287514"
     },
     "execution_count": 303,
     "metadata": {},
     "output_type": "execute_result"
    }
   ],
   "source": [
    "MSE_final"
   ],
   "metadata": {
    "collapsed": false,
    "pycharm": {
     "name": "#%%\n"
    }
   }
  },
  {
   "cell_type": "code",
   "execution_count": 304,
   "outputs": [],
   "source": [
    "RMSE_final = np.sqrt(MSE_final)"
   ],
   "metadata": {
    "collapsed": false,
    "pycharm": {
     "name": "#%%\n"
    }
   }
  },
  {
   "cell_type": "code",
   "execution_count": 305,
   "outputs": [
    {
     "data": {
      "text/plain": "1.5228334050147283"
     },
     "execution_count": 305,
     "metadata": {},
     "output_type": "execute_result"
    }
   ],
   "source": [
    "RMSE_final"
   ],
   "metadata": {
    "collapsed": false,
    "pycharm": {
     "name": "#%%\n"
    }
   }
  },
  {
   "cell_type": "markdown",
   "source": [
    "# Cross validation - using the cross_validate function\n",
    "* The \"cross_validate\" function allows us to view multiple performance metrics from cross validation on a model and explore how much time fitting and testing took\n",
    "* The only tradeoff with cross validation is just more computational time\n",
    "* Let's quickly review how to use this function call!"
   ],
   "metadata": {
    "collapsed": false
   }
  },
  {
   "cell_type": "code",
   "execution_count": 306,
   "outputs": [],
   "source": [
    "X = df.drop(labels=\"sales\", axis=1)\n",
    "y = df[\"sales\"]\n",
    "from sklearn.model_selection import train_test_split\n",
    "X_train, X_test, y_train, y_test = train_test_split(X, y, test_size=0.3, random_state=101)\n",
    "\n",
    "from sklearn.preprocessing import StandardScaler\n",
    "\n",
    "scaler = StandardScaler()\n",
    "scaler.fit(X_train)\n",
    "X_train = scaler.transform(X_train)\n",
    "X_test = scaler.transform(X_test)"
   ],
   "metadata": {
    "collapsed": false,
    "pycharm": {
     "name": "#%%\n"
    }
   }
  },
  {
   "cell_type": "code",
   "execution_count": 307,
   "outputs": [],
   "source": [
    "from sklearn.linear_model import Ridge"
   ],
   "metadata": {
    "collapsed": false,
    "pycharm": {
     "name": "#%%\n"
    }
   }
  },
  {
   "cell_type": "code",
   "execution_count": 308,
   "outputs": [],
   "source": [
    "model_rigde = Ridge(alpha=100)"
   ],
   "metadata": {
    "collapsed": false,
    "pycharm": {
     "name": "#%%\n"
    }
   }
  },
  {
   "cell_type": "markdown",
   "source": [
    "* Using the `cross_validate` to check if cross validation is reasonable or not\n",
    "* Checking the for the available scoring: https://scikit-lear.org/stable/modules/model_evaluation.html\n",
    "* We are doing the `regression` task"
   ],
   "metadata": {
    "collapsed": false
   }
  },
  {
   "cell_type": "code",
   "execution_count": 309,
   "outputs": [],
   "source": [
    "from sklearn.model_selection import cross_validate"
   ],
   "metadata": {
    "collapsed": false,
    "pycharm": {
     "name": "#%%\n"
    }
   }
  },
  {
   "cell_type": "code",
   "execution_count": 310,
   "outputs": [
    {
     "name": "stdout",
     "output_type": "stream",
     "text": [
      "[CV] END .................................................... total time=   0.0s\n",
      "[CV] END .................................................... total time=   0.0s\n",
      "[CV] END .................................................... total time=   0.0s\n",
      "[CV] END .................................................... total time=   0.0s\n",
      "[CV] END .................................................... total time=   0.0s\n"
     ]
    },
    {
     "name": "stderr",
     "output_type": "stream",
     "text": [
      "[Parallel(n_jobs=1)]: Using backend SequentialBackend with 1 concurrent workers.\n",
      "[Parallel(n_jobs=1)]: Done   1 out of   1 | elapsed:    0.0s remaining:    0.0s\n",
      "[Parallel(n_jobs=1)]: Done   5 out of   5 | elapsed:    0.0s finished\n"
     ]
    }
   ],
   "source": [
    "score = cross_validate(estimator=model_rigde, X = X_train, y = y_train, cv=5, verbose=2, scoring=[\"neg_mean_squared_error\", \"neg_mean_absolute_error\"])"
   ],
   "metadata": {
    "collapsed": false,
    "pycharm": {
     "name": "#%%\n"
    }
   }
  },
  {
   "cell_type": "code",
   "execution_count": 311,
   "outputs": [
    {
     "data": {
      "text/plain": "{'fit_time': array([0.        , 0.0009973 , 0.0009973 , 0.00099754, 0.        ]),\n 'score_time': array([0.0009973 , 0.        , 0.        , 0.        , 0.00099659]),\n 'test_neg_mean_squared_error': array([ -9.32552967,  -4.9449624 , -11.39665242,  -7.0242106 ,\n         -8.38562723]),\n 'test_neg_mean_absolute_error': array([-2.31243044, -1.74653361, -2.56211701, -2.01873159, -2.27951906])}"
     },
     "execution_count": 311,
     "metadata": {},
     "output_type": "execute_result"
    }
   ],
   "source": [
    "score"
   ],
   "metadata": {
    "collapsed": false,
    "pycharm": {
     "name": "#%%\n"
    }
   }
  },
  {
   "cell_type": "code",
   "execution_count": 312,
   "outputs": [],
   "source": [
    "score = pd.DataFrame(data=score)"
   ],
   "metadata": {
    "collapsed": false,
    "pycharm": {
     "name": "#%%\n"
    }
   }
  },
  {
   "cell_type": "code",
   "execution_count": 313,
   "outputs": [
    {
     "data": {
      "text/plain": "   fit_time  score_time  test_neg_mean_squared_error  \\\n0  0.000000    0.000997                    -9.325530   \n1  0.000997    0.000000                    -4.944962   \n2  0.000997    0.000000                   -11.396652   \n3  0.000998    0.000000                    -7.024211   \n4  0.000000    0.000997                    -8.385627   \n\n   test_neg_mean_absolute_error  \n0                     -2.312430  \n1                     -1.746534  \n2                     -2.562117  \n3                     -2.018732  \n4                     -2.279519  ",
      "text/html": "<div>\n<style scoped>\n    .dataframe tbody tr th:only-of-type {\n        vertical-align: middle;\n    }\n\n    .dataframe tbody tr th {\n        vertical-align: top;\n    }\n\n    .dataframe thead th {\n        text-align: right;\n    }\n</style>\n<table border=\"1\" class=\"dataframe\">\n  <thead>\n    <tr style=\"text-align: right;\">\n      <th></th>\n      <th>fit_time</th>\n      <th>score_time</th>\n      <th>test_neg_mean_squared_error</th>\n      <th>test_neg_mean_absolute_error</th>\n    </tr>\n  </thead>\n  <tbody>\n    <tr>\n      <th>0</th>\n      <td>0.000000</td>\n      <td>0.000997</td>\n      <td>-9.325530</td>\n      <td>-2.312430</td>\n    </tr>\n    <tr>\n      <th>1</th>\n      <td>0.000997</td>\n      <td>0.000000</td>\n      <td>-4.944962</td>\n      <td>-1.746534</td>\n    </tr>\n    <tr>\n      <th>2</th>\n      <td>0.000997</td>\n      <td>0.000000</td>\n      <td>-11.396652</td>\n      <td>-2.562117</td>\n    </tr>\n    <tr>\n      <th>3</th>\n      <td>0.000998</td>\n      <td>0.000000</td>\n      <td>-7.024211</td>\n      <td>-2.018732</td>\n    </tr>\n    <tr>\n      <th>4</th>\n      <td>0.000000</td>\n      <td>0.000997</td>\n      <td>-8.385627</td>\n      <td>-2.279519</td>\n    </tr>\n  </tbody>\n</table>\n</div>"
     },
     "execution_count": 313,
     "metadata": {},
     "output_type": "execute_result"
    }
   ],
   "source": [
    "score"
   ],
   "metadata": {
    "collapsed": false,
    "pycharm": {
     "name": "#%%\n"
    }
   }
  },
  {
   "cell_type": "code",
   "execution_count": 314,
   "outputs": [
    {
     "data": {
      "text/plain": "fit_time                        0.000598\nscore_time                      0.000399\ntest_neg_mean_squared_error    -8.215396\ntest_neg_mean_absolute_error   -2.183866\ndtype: float64"
     },
     "execution_count": 314,
     "metadata": {},
     "output_type": "execute_result"
    }
   ],
   "source": [
    "score.mean()"
   ],
   "metadata": {
    "collapsed": false,
    "pycharm": {
     "name": "#%%\n"
    }
   }
  },
  {
   "cell_type": "code",
   "execution_count": 315,
   "outputs": [],
   "source": [
    "model_rigde = Ridge(alpha=1)"
   ],
   "metadata": {
    "collapsed": false,
    "pycharm": {
     "name": "#%%\n"
    }
   }
  },
  {
   "cell_type": "code",
   "execution_count": 316,
   "outputs": [
    {
     "name": "stdout",
     "output_type": "stream",
     "text": [
      "[CV] END .................................................... total time=   0.0s\n",
      "[CV] END .................................................... total time=   0.0s\n",
      "[CV] END .................................................... total time=   0.0s\n",
      "[CV] END .................................................... total time=   0.0s\n",
      "[CV] END .................................................... total time=   0.0s\n"
     ]
    },
    {
     "name": "stderr",
     "output_type": "stream",
     "text": [
      "[Parallel(n_jobs=1)]: Using backend SequentialBackend with 1 concurrent workers.\n",
      "[Parallel(n_jobs=1)]: Done   1 out of   1 | elapsed:    0.0s remaining:    0.0s\n",
      "[Parallel(n_jobs=1)]: Done   5 out of   5 | elapsed:    0.0s finished\n"
     ]
    }
   ],
   "source": [
    "score = cross_validate(estimator=model_rigde, X = X_train, y = y_train, cv=5, verbose=2, scoring=[\"neg_mean_squared_error\", \"neg_mean_absolute_error\"])"
   ],
   "metadata": {
    "collapsed": false,
    "pycharm": {
     "name": "#%%\n"
    }
   }
  },
  {
   "cell_type": "code",
   "execution_count": 317,
   "outputs": [],
   "source": [
    "score = pd.DataFrame(score)"
   ],
   "metadata": {
    "collapsed": false,
    "pycharm": {
     "name": "#%%\n"
    }
   }
  },
  {
   "cell_type": "code",
   "execution_count": 318,
   "outputs": [
    {
     "data": {
      "text/plain": "   fit_time  score_time  test_neg_mean_squared_error  \\\n0  0.000997    0.000998                    -3.155132   \n1  0.000000    0.001091                    -1.580870   \n2  0.000903    0.000000                    -5.404556   \n3  0.000998    0.000000                    -2.216545   \n4  0.000186    0.000000                    -4.367094   \n\n   test_neg_mean_absolute_error  \n0                     -1.547117  \n1                     -1.026044  \n2                     -1.400793  \n3                     -1.154251  \n4                     -1.470222  ",
      "text/html": "<div>\n<style scoped>\n    .dataframe tbody tr th:only-of-type {\n        vertical-align: middle;\n    }\n\n    .dataframe tbody tr th {\n        vertical-align: top;\n    }\n\n    .dataframe thead th {\n        text-align: right;\n    }\n</style>\n<table border=\"1\" class=\"dataframe\">\n  <thead>\n    <tr style=\"text-align: right;\">\n      <th></th>\n      <th>fit_time</th>\n      <th>score_time</th>\n      <th>test_neg_mean_squared_error</th>\n      <th>test_neg_mean_absolute_error</th>\n    </tr>\n  </thead>\n  <tbody>\n    <tr>\n      <th>0</th>\n      <td>0.000997</td>\n      <td>0.000998</td>\n      <td>-3.155132</td>\n      <td>-1.547117</td>\n    </tr>\n    <tr>\n      <th>1</th>\n      <td>0.000000</td>\n      <td>0.001091</td>\n      <td>-1.580870</td>\n      <td>-1.026044</td>\n    </tr>\n    <tr>\n      <th>2</th>\n      <td>0.000903</td>\n      <td>0.000000</td>\n      <td>-5.404556</td>\n      <td>-1.400793</td>\n    </tr>\n    <tr>\n      <th>3</th>\n      <td>0.000998</td>\n      <td>0.000000</td>\n      <td>-2.216545</td>\n      <td>-1.154251</td>\n    </tr>\n    <tr>\n      <th>4</th>\n      <td>0.000186</td>\n      <td>0.000000</td>\n      <td>-4.367094</td>\n      <td>-1.470222</td>\n    </tr>\n  </tbody>\n</table>\n</div>"
     },
     "execution_count": 318,
     "metadata": {},
     "output_type": "execute_result"
    }
   ],
   "source": [
    "score"
   ],
   "metadata": {
    "collapsed": false,
    "pycharm": {
     "name": "#%%\n"
    }
   }
  },
  {
   "cell_type": "code",
   "execution_count": 319,
   "outputs": [
    {
     "data": {
      "text/plain": "fit_time                        0.000617\nscore_time                      0.000418\ntest_neg_mean_squared_error    -3.344839\ntest_neg_mean_absolute_error   -1.319685\ndtype: float64"
     },
     "execution_count": 319,
     "metadata": {},
     "output_type": "execute_result"
    }
   ],
   "source": [
    "score.mean()"
   ],
   "metadata": {
    "collapsed": false,
    "pycharm": {
     "name": "#%%\n"
    }
   }
  },
  {
   "cell_type": "markdown",
   "source": [
    "* Test on final data"
   ],
   "metadata": {
    "collapsed": false
   }
  },
  {
   "cell_type": "code",
   "execution_count": 320,
   "outputs": [
    {
     "data": {
      "text/plain": "Ridge(alpha=1)"
     },
     "execution_count": 320,
     "metadata": {},
     "output_type": "execute_result"
    }
   ],
   "source": [
    "model_rigde.fit(X_train, y_train)"
   ],
   "metadata": {
    "collapsed": false,
    "pycharm": {
     "name": "#%%\n"
    }
   }
  },
  {
   "cell_type": "code",
   "execution_count": 321,
   "outputs": [],
   "source": [
    "final_prediction = model_rigde.predict(X_test)"
   ],
   "metadata": {
    "collapsed": false,
    "pycharm": {
     "name": "#%%\n"
    }
   }
  },
  {
   "cell_type": "code",
   "execution_count": 322,
   "outputs": [
    {
     "data": {
      "text/plain": "array([15.73544249, 19.56177685, 11.47282584, 16.99614361,  9.19583919,\n        7.06034338, 20.24078477, 17.27047482,  9.7997058 , 19.18969381,\n       12.40827613, 13.88321006, 13.72330625, 21.24960621, 18.41451801,\n       10.00739858, 15.54023734,  7.72694272,  7.59886443, 20.3595504 ,\n        7.831815  , 18.21607253, 24.61611392, 22.77116018,  8.0117733 ,\n       12.667102  , 21.40567156,  8.10250725, 12.43158049, 12.53481984,\n       10.81678067, 19.21537816, 10.09192883,  6.76998079, 17.29636618,\n        7.81497124,  9.28808588,  8.31202002, 10.6122371 , 10.6533735 ,\n       13.05491413,  9.80364168, 10.24764859,  8.09836046, 11.58209801,\n       10.10783927,  9.025001  , 16.24936342, 13.26025422, 20.77690029,\n       12.51477346, 13.96784546, 17.53696507, 11.15686875, 12.57233878,\n        5.56009018, 23.21824128, 12.62301353, 18.72931877, 15.18197827])"
     },
     "execution_count": 322,
     "metadata": {},
     "output_type": "execute_result"
    }
   ],
   "source": [
    "final_prediction"
   ],
   "metadata": {
    "collapsed": false,
    "pycharm": {
     "name": "#%%\n"
    }
   }
  },
  {
   "cell_type": "code",
   "execution_count": 323,
   "outputs": [],
   "source": [
    "from sklearn.metrics import mean_squared_error"
   ],
   "metadata": {
    "collapsed": false,
    "pycharm": {
     "name": "#%%\n"
    }
   }
  },
  {
   "cell_type": "code",
   "execution_count": 324,
   "outputs": [
    {
     "data": {
      "text/plain": "2.3190215794287514"
     },
     "execution_count": 324,
     "metadata": {},
     "output_type": "execute_result"
    }
   ],
   "source": [
    "mean_squared_error(y_true=y_test, y_pred=final_prediction)"
   ],
   "metadata": {
    "collapsed": false,
    "pycharm": {
     "name": "#%%\n"
    }
   }
  },
  {
   "cell_type": "markdown",
   "source": [
    "# Grid Search\n",
    "* Often more complex models have multiple adjustable hyper parameters\n",
    "* A grid search is a way of training and validating a model on every possible combination of multiple hyper parameter options\n",
    "* Scikit-Learn includes a **GridSearchCV** class capable of testing a dictionary of multiple hyperparameter options through cross-validation\n",
    "* This allows for both cross-validation and a grid search to be performed in a generalized way for any model"
   ],
   "metadata": {
    "collapsed": false
   }
  },
  {
   "cell_type": "code",
   "execution_count": 325,
   "outputs": [],
   "source": [
    "df = pd.read_csv(\"..\\Course-2021\\DATA\\Advertising.csv\")"
   ],
   "metadata": {
    "collapsed": false,
    "pycharm": {
     "name": "#%%\n"
    }
   }
  },
  {
   "cell_type": "code",
   "execution_count": 326,
   "outputs": [],
   "source": [
    "X = df.drop(labels=\"sales\", axis=1)\n",
    "y = df[\"sales\"]\n",
    "from sklearn.model_selection import train_test_split\n",
    "X_train, X_test, y_train, y_test = train_test_split(X, y, test_size=0.3, random_state=101)\n",
    "\n",
    "from sklearn.preprocessing import StandardScaler\n",
    "\n",
    "scaler = StandardScaler()\n",
    "scaler.fit(X_train)\n",
    "X_train = scaler.transform(X_train)\n",
    "X_test = scaler.transform(X_test)"
   ],
   "metadata": {
    "collapsed": false,
    "pycharm": {
     "name": "#%%\n"
    }
   }
  },
  {
   "cell_type": "code",
   "execution_count": 327,
   "outputs": [],
   "source": [
    "from sklearn.linear_model import ElasticNet"
   ],
   "metadata": {
    "collapsed": false,
    "pycharm": {
     "name": "#%%\n"
    }
   }
  },
  {
   "cell_type": "markdown",
   "source": [
    "* Find out the optimal L1 value\n",
    "* Don't want to run a for loop that constantly checks through every single combination\n",
    "* Luckily for us, there is a grid search CV class, which does all that work for us behind the scences"
   ],
   "metadata": {
    "collapsed": false
   }
  },
  {
   "cell_type": "code",
   "execution_count": 328,
   "outputs": [],
   "source": [
    "model_elastic = ElasticNet()"
   ],
   "metadata": {
    "collapsed": false,
    "pycharm": {
     "name": "#%%\n"
    }
   }
  },
  {
   "cell_type": "markdown",
   "source": [
    "* The key should match exactly the spell inside the ElasticNet\n",
    "* Check the documentation for the good of `alpha` and `l1_ratio` for hyper parameter\n",
    "* **Keep in mind, every combination in the `param_grid` will run** (0.1 with all the l1_ratio)"
   ],
   "metadata": {
    "collapsed": false
   }
  },
  {
   "cell_type": "code",
   "execution_count": 329,
   "outputs": [],
   "source": [
    "param_girds = {\"alpha\": [0.1, 1, 5, 10, 50, 100],\n",
    "               \"l1_ratio\": [.1, .5, .7, .95, .99, 1] }"
   ],
   "metadata": {
    "collapsed": false,
    "pycharm": {
     "name": "#%%\n"
    }
   }
  },
  {
   "cell_type": "code",
   "execution_count": 330,
   "outputs": [],
   "source": [
    "from sklearn.model_selection import GridSearchCV"
   ],
   "metadata": {
    "collapsed": false,
    "pycharm": {
     "name": "#%%\n"
    }
   }
  },
  {
   "cell_type": "code",
   "execution_count": 331,
   "outputs": [],
   "source": [
    "model_grid = GridSearchCV(estimator=model_elastic, param_grid=param_girds, scoring=\"neg_mean_squared_error\", cv=5, verbose=2)"
   ],
   "metadata": {
    "collapsed": false,
    "pycharm": {
     "name": "#%%\n"
    }
   }
  },
  {
   "cell_type": "code",
   "execution_count": 332,
   "outputs": [
    {
     "data": {
      "text/plain": "GridSearchCV(cv=5, estimator=ElasticNet(),\n             param_grid={'alpha': [0.1, 1, 5, 10, 50, 100],\n                         'l1_ratio': [0.1, 0.5, 0.7, 0.95, 0.99, 1]},\n             scoring='neg_mean_squared_error', verbose=2)"
     },
     "execution_count": 332,
     "metadata": {},
     "output_type": "execute_result"
    }
   ],
   "source": [
    "model_grid"
   ],
   "metadata": {
    "collapsed": false,
    "pycharm": {
     "name": "#%%\n"
    }
   }
  },
  {
   "cell_type": "code",
   "execution_count": 333,
   "outputs": [
    {
     "name": "stdout",
     "output_type": "stream",
     "text": [
      "Fitting 5 folds for each of 36 candidates, totalling 180 fits\n",
      "[CV] END ............................alpha=0.1, l1_ratio=0.1; total time=   0.0s\n",
      "[CV] END ............................alpha=0.1, l1_ratio=0.1; total time=   0.0s\n",
      "[CV] END ............................alpha=0.1, l1_ratio=0.1; total time=   0.0s\n",
      "[CV] END ............................alpha=0.1, l1_ratio=0.1; total time=   0.0s\n",
      "[CV] END ............................alpha=0.1, l1_ratio=0.1; total time=   0.0s\n",
      "[CV] END ............................alpha=0.1, l1_ratio=0.5; total time=   0.0s\n",
      "[CV] END ............................alpha=0.1, l1_ratio=0.5; total time=   0.0s\n",
      "[CV] END ............................alpha=0.1, l1_ratio=0.5; total time=   0.0s\n",
      "[CV] END ............................alpha=0.1, l1_ratio=0.5; total time=   0.0s\n",
      "[CV] END ............................alpha=0.1, l1_ratio=0.5; total time=   0.0s\n",
      "[CV] END ............................alpha=0.1, l1_ratio=0.7; total time=   0.0s\n",
      "[CV] END ............................alpha=0.1, l1_ratio=0.7; total time=   0.0s\n",
      "[CV] END ............................alpha=0.1, l1_ratio=0.7; total time=   0.0s\n",
      "[CV] END ............................alpha=0.1, l1_ratio=0.7; total time=   0.0s\n",
      "[CV] END ............................alpha=0.1, l1_ratio=0.7; total time=   0.0s\n",
      "[CV] END ...........................alpha=0.1, l1_ratio=0.95; total time=   0.0s\n",
      "[CV] END ...........................alpha=0.1, l1_ratio=0.95; total time=   0.0s\n",
      "[CV] END ...........................alpha=0.1, l1_ratio=0.95; total time=   0.0s\n",
      "[CV] END ...........................alpha=0.1, l1_ratio=0.95; total time=   0.0s\n",
      "[CV] END ...........................alpha=0.1, l1_ratio=0.95; total time=   0.0s\n",
      "[CV] END ...........................alpha=0.1, l1_ratio=0.99; total time=   0.0s\n",
      "[CV] END ...........................alpha=0.1, l1_ratio=0.99; total time=   0.0s\n",
      "[CV] END ...........................alpha=0.1, l1_ratio=0.99; total time=   0.0s\n",
      "[CV] END ...........................alpha=0.1, l1_ratio=0.99; total time=   0.0s\n",
      "[CV] END ...........................alpha=0.1, l1_ratio=0.99; total time=   0.0s\n",
      "[CV] END ..............................alpha=0.1, l1_ratio=1; total time=   0.0s\n",
      "[CV] END ..............................alpha=0.1, l1_ratio=1; total time=   0.0s\n",
      "[CV] END ..............................alpha=0.1, l1_ratio=1; total time=   0.0s\n",
      "[CV] END ..............................alpha=0.1, l1_ratio=1; total time=   0.0s\n",
      "[CV] END ..............................alpha=0.1, l1_ratio=1; total time=   0.0s\n",
      "[CV] END ..............................alpha=1, l1_ratio=0.1; total time=   0.0s\n",
      "[CV] END ..............................alpha=1, l1_ratio=0.1; total time=   0.0s\n",
      "[CV] END ..............................alpha=1, l1_ratio=0.1; total time=   0.0s\n",
      "[CV] END ..............................alpha=1, l1_ratio=0.1; total time=   0.0s\n",
      "[CV] END ..............................alpha=1, l1_ratio=0.1; total time=   0.0s\n",
      "[CV] END ..............................alpha=1, l1_ratio=0.5; total time=   0.0s\n",
      "[CV] END ..............................alpha=1, l1_ratio=0.5; total time=   0.0s\n",
      "[CV] END ..............................alpha=1, l1_ratio=0.5; total time=   0.0s\n",
      "[CV] END ..............................alpha=1, l1_ratio=0.5; total time=   0.0s\n",
      "[CV] END ..............................alpha=1, l1_ratio=0.5; total time=   0.0s\n",
      "[CV] END ..............................alpha=1, l1_ratio=0.7; total time=   0.0s\n",
      "[CV] END ..............................alpha=1, l1_ratio=0.7; total time=   0.0s\n",
      "[CV] END ..............................alpha=1, l1_ratio=0.7; total time=   0.0s\n",
      "[CV] END ..............................alpha=1, l1_ratio=0.7; total time=   0.0s\n",
      "[CV] END ..............................alpha=1, l1_ratio=0.7; total time=   0.0s\n",
      "[CV] END .............................alpha=1, l1_ratio=0.95; total time=   0.0s\n",
      "[CV] END .............................alpha=1, l1_ratio=0.95; total time=   0.0s\n",
      "[CV] END .............................alpha=1, l1_ratio=0.95; total time=   0.0s\n",
      "[CV] END .............................alpha=1, l1_ratio=0.95; total time=   0.0s\n",
      "[CV] END .............................alpha=1, l1_ratio=0.95; total time=   0.0s\n",
      "[CV] END .............................alpha=1, l1_ratio=0.99; total time=   0.0s\n",
      "[CV] END .............................alpha=1, l1_ratio=0.99; total time=   0.0s\n",
      "[CV] END .............................alpha=1, l1_ratio=0.99; total time=   0.0s\n",
      "[CV] END .............................alpha=1, l1_ratio=0.99; total time=   0.0s\n",
      "[CV] END .............................alpha=1, l1_ratio=0.99; total time=   0.0s\n",
      "[CV] END ................................alpha=1, l1_ratio=1; total time=   0.0s\n",
      "[CV] END ................................alpha=1, l1_ratio=1; total time=   0.0s\n",
      "[CV] END ................................alpha=1, l1_ratio=1; total time=   0.0s\n",
      "[CV] END ................................alpha=1, l1_ratio=1; total time=   0.0s\n",
      "[CV] END ................................alpha=1, l1_ratio=1; total time=   0.0s\n",
      "[CV] END ..............................alpha=5, l1_ratio=0.1; total time=   0.0s\n",
      "[CV] END ..............................alpha=5, l1_ratio=0.1; total time=   0.0s\n",
      "[CV] END ..............................alpha=5, l1_ratio=0.1; total time=   0.0s\n",
      "[CV] END ..............................alpha=5, l1_ratio=0.1; total time=   0.0s\n",
      "[CV] END ..............................alpha=5, l1_ratio=0.1; total time=   0.0s\n",
      "[CV] END ..............................alpha=5, l1_ratio=0.5; total time=   0.0s\n",
      "[CV] END ..............................alpha=5, l1_ratio=0.5; total time=   0.0s\n",
      "[CV] END ..............................alpha=5, l1_ratio=0.5; total time=   0.0s\n",
      "[CV] END ..............................alpha=5, l1_ratio=0.5; total time=   0.0s\n",
      "[CV] END ..............................alpha=5, l1_ratio=0.5; total time=   0.0s\n",
      "[CV] END ..............................alpha=5, l1_ratio=0.7; total time=   0.0s\n",
      "[CV] END ..............................alpha=5, l1_ratio=0.7; total time=   0.0s\n",
      "[CV] END ..............................alpha=5, l1_ratio=0.7; total time=   0.0s\n",
      "[CV] END ..............................alpha=5, l1_ratio=0.7; total time=   0.0s\n",
      "[CV] END ..............................alpha=5, l1_ratio=0.7; total time=   0.0s\n",
      "[CV] END .............................alpha=5, l1_ratio=0.95; total time=   0.0s\n",
      "[CV] END .............................alpha=5, l1_ratio=0.95; total time=   0.0s\n",
      "[CV] END .............................alpha=5, l1_ratio=0.95; total time=   0.0s\n",
      "[CV] END .............................alpha=5, l1_ratio=0.95; total time=   0.0s\n",
      "[CV] END .............................alpha=5, l1_ratio=0.95; total time=   0.0s\n",
      "[CV] END .............................alpha=5, l1_ratio=0.99; total time=   0.0s\n",
      "[CV] END .............................alpha=5, l1_ratio=0.99; total time=   0.0s\n",
      "[CV] END .............................alpha=5, l1_ratio=0.99; total time=   0.0s\n",
      "[CV] END .............................alpha=5, l1_ratio=0.99; total time=   0.0s\n",
      "[CV] END .............................alpha=5, l1_ratio=0.99; total time=   0.0s\n",
      "[CV] END ................................alpha=5, l1_ratio=1; total time=   0.0s\n",
      "[CV] END ................................alpha=5, l1_ratio=1; total time=   0.0s\n",
      "[CV] END ................................alpha=5, l1_ratio=1; total time=   0.0s\n",
      "[CV] END ................................alpha=5, l1_ratio=1; total time=   0.0s\n",
      "[CV] END ................................alpha=5, l1_ratio=1; total time=   0.0s\n",
      "[CV] END .............................alpha=10, l1_ratio=0.1; total time=   0.0s\n",
      "[CV] END .............................alpha=10, l1_ratio=0.1; total time=   0.0s\n",
      "[CV] END .............................alpha=10, l1_ratio=0.1; total time=   0.0s\n",
      "[CV] END .............................alpha=10, l1_ratio=0.1; total time=   0.0s\n",
      "[CV] END .............................alpha=10, l1_ratio=0.1; total time=   0.0s\n",
      "[CV] END .............................alpha=10, l1_ratio=0.5; total time=   0.0s\n",
      "[CV] END .............................alpha=10, l1_ratio=0.5; total time=   0.0s\n",
      "[CV] END .............................alpha=10, l1_ratio=0.5; total time=   0.0s\n",
      "[CV] END .............................alpha=10, l1_ratio=0.5; total time=   0.0s\n",
      "[CV] END .............................alpha=10, l1_ratio=0.5; total time=   0.0s\n",
      "[CV] END .............................alpha=10, l1_ratio=0.7; total time=   0.0s\n",
      "[CV] END .............................alpha=10, l1_ratio=0.7; total time=   0.0s\n",
      "[CV] END .............................alpha=10, l1_ratio=0.7; total time=   0.0s\n",
      "[CV] END .............................alpha=10, l1_ratio=0.7; total time=   0.0s\n",
      "[CV] END .............................alpha=10, l1_ratio=0.7; total time=   0.0s\n",
      "[CV] END ............................alpha=10, l1_ratio=0.95; total time=   0.0s\n",
      "[CV] END ............................alpha=10, l1_ratio=0.95; total time=   0.0s\n",
      "[CV] END ............................alpha=10, l1_ratio=0.95; total time=   0.0s\n",
      "[CV] END ............................alpha=10, l1_ratio=0.95; total time=   0.0s\n",
      "[CV] END ............................alpha=10, l1_ratio=0.95; total time=   0.0s\n",
      "[CV] END ............................alpha=10, l1_ratio=0.99; total time=   0.0s\n",
      "[CV] END ............................alpha=10, l1_ratio=0.99; total time=   0.0s\n",
      "[CV] END ............................alpha=10, l1_ratio=0.99; total time=   0.0s\n",
      "[CV] END ............................alpha=10, l1_ratio=0.99; total time=   0.0s\n",
      "[CV] END ............................alpha=10, l1_ratio=0.99; total time=   0.0s\n",
      "[CV] END ...............................alpha=10, l1_ratio=1; total time=   0.0s\n",
      "[CV] END ...............................alpha=10, l1_ratio=1; total time=   0.0s\n",
      "[CV] END ...............................alpha=10, l1_ratio=1; total time=   0.0s\n",
      "[CV] END ...............................alpha=10, l1_ratio=1; total time=   0.0s\n",
      "[CV] END ...............................alpha=10, l1_ratio=1; total time=   0.0s\n",
      "[CV] END .............................alpha=50, l1_ratio=0.1; total time=   0.0s\n",
      "[CV] END .............................alpha=50, l1_ratio=0.1; total time=   0.0s\n",
      "[CV] END .............................alpha=50, l1_ratio=0.1; total time=   0.0s\n",
      "[CV] END .............................alpha=50, l1_ratio=0.1; total time=   0.0s\n",
      "[CV] END .............................alpha=50, l1_ratio=0.1; total time=   0.0s\n",
      "[CV] END .............................alpha=50, l1_ratio=0.5; total time=   0.0s\n",
      "[CV] END .............................alpha=50, l1_ratio=0.5; total time=   0.0s\n",
      "[CV] END .............................alpha=50, l1_ratio=0.5; total time=   0.0s\n",
      "[CV] END .............................alpha=50, l1_ratio=0.5; total time=   0.0s\n",
      "[CV] END .............................alpha=50, l1_ratio=0.5; total time=   0.0s\n",
      "[CV] END .............................alpha=50, l1_ratio=0.7; total time=   0.0s\n",
      "[CV] END .............................alpha=50, l1_ratio=0.7; total time=   0.0s\n",
      "[CV] END .............................alpha=50, l1_ratio=0.7; total time=   0.0s\n",
      "[CV] END .............................alpha=50, l1_ratio=0.7; total time=   0.0s\n",
      "[CV] END .............................alpha=50, l1_ratio=0.7; total time=   0.0s\n",
      "[CV] END ............................alpha=50, l1_ratio=0.95; total time=   0.0s\n",
      "[CV] END ............................alpha=50, l1_ratio=0.95; total time=   0.0s\n",
      "[CV] END ............................alpha=50, l1_ratio=0.95; total time=   0.0s\n",
      "[CV] END ............................alpha=50, l1_ratio=0.95; total time=   0.0s\n",
      "[CV] END ............................alpha=50, l1_ratio=0.95; total time=   0.0s\n",
      "[CV] END ............................alpha=50, l1_ratio=0.99; total time=   0.0s\n",
      "[CV] END ............................alpha=50, l1_ratio=0.99; total time=   0.0s\n",
      "[CV] END ............................alpha=50, l1_ratio=0.99; total time=   0.0s\n",
      "[CV] END ............................alpha=50, l1_ratio=0.99; total time=   0.0s\n",
      "[CV] END ............................alpha=50, l1_ratio=0.99; total time=   0.0s\n",
      "[CV] END ...............................alpha=50, l1_ratio=1; total time=   0.0s\n",
      "[CV] END ...............................alpha=50, l1_ratio=1; total time=   0.0s\n",
      "[CV] END ...............................alpha=50, l1_ratio=1; total time=   0.0s\n",
      "[CV] END ...............................alpha=50, l1_ratio=1; total time=   0.0s\n",
      "[CV] END ...............................alpha=50, l1_ratio=1; total time=   0.0s\n",
      "[CV] END ............................alpha=100, l1_ratio=0.1; total time=   0.0s\n",
      "[CV] END ............................alpha=100, l1_ratio=0.1; total time=   0.0s\n",
      "[CV] END ............................alpha=100, l1_ratio=0.1; total time=   0.0s\n",
      "[CV] END ............................alpha=100, l1_ratio=0.1; total time=   0.0s\n",
      "[CV] END ............................alpha=100, l1_ratio=0.1; total time=   0.0s\n",
      "[CV] END ............................alpha=100, l1_ratio=0.5; total time=   0.0s\n",
      "[CV] END ............................alpha=100, l1_ratio=0.5; total time=   0.0s\n",
      "[CV] END ............................alpha=100, l1_ratio=0.5; total time=   0.0s\n",
      "[CV] END ............................alpha=100, l1_ratio=0.5; total time=   0.0s\n",
      "[CV] END ............................alpha=100, l1_ratio=0.5; total time=   0.0s\n",
      "[CV] END ............................alpha=100, l1_ratio=0.7; total time=   0.0s\n",
      "[CV] END ............................alpha=100, l1_ratio=0.7; total time=   0.0s\n",
      "[CV] END ............................alpha=100, l1_ratio=0.7; total time=   0.0s\n",
      "[CV] END ............................alpha=100, l1_ratio=0.7; total time=   0.0s\n",
      "[CV] END ............................alpha=100, l1_ratio=0.7; total time=   0.0s\n",
      "[CV] END ...........................alpha=100, l1_ratio=0.95; total time=   0.0s\n",
      "[CV] END ...........................alpha=100, l1_ratio=0.95; total time=   0.0s\n",
      "[CV] END ...........................alpha=100, l1_ratio=0.95; total time=   0.0s\n",
      "[CV] END ...........................alpha=100, l1_ratio=0.95; total time=   0.0s\n",
      "[CV] END ...........................alpha=100, l1_ratio=0.95; total time=   0.0s\n",
      "[CV] END ...........................alpha=100, l1_ratio=0.99; total time=   0.0s\n",
      "[CV] END ...........................alpha=100, l1_ratio=0.99; total time=   0.0s\n",
      "[CV] END ...........................alpha=100, l1_ratio=0.99; total time=   0.0s\n",
      "[CV] END ...........................alpha=100, l1_ratio=0.99; total time=   0.0s\n",
      "[CV] END ...........................alpha=100, l1_ratio=0.99; total time=   0.0s\n",
      "[CV] END ..............................alpha=100, l1_ratio=1; total time=   0.0s\n",
      "[CV] END ..............................alpha=100, l1_ratio=1; total time=   0.0s\n",
      "[CV] END ..............................alpha=100, l1_ratio=1; total time=   0.0s\n",
      "[CV] END ..............................alpha=100, l1_ratio=1; total time=   0.0s\n",
      "[CV] END ..............................alpha=100, l1_ratio=1; total time=   0.0s\n"
     ]
    },
    {
     "data": {
      "text/plain": "GridSearchCV(cv=5, estimator=ElasticNet(),\n             param_grid={'alpha': [0.1, 1, 5, 10, 50, 100],\n                         'l1_ratio': [0.1, 0.5, 0.7, 0.95, 0.99, 1]},\n             scoring='neg_mean_squared_error', verbose=2)"
     },
     "execution_count": 333,
     "metadata": {},
     "output_type": "execute_result"
    }
   ],
   "source": [
    "model_grid.fit(X_train, y_train)"
   ],
   "metadata": {
    "collapsed": false,
    "pycharm": {
     "name": "#%%\n"
    }
   }
  },
  {
   "cell_type": "code",
   "execution_count": 334,
   "outputs": [],
   "source": [],
   "metadata": {
    "collapsed": false,
    "pycharm": {
     "name": "#%%\n"
    }
   }
  },
  {
   "cell_type": "code",
   "execution_count": 335,
   "outputs": [
    {
     "data": {
      "text/plain": "{'alpha': 0.1, 'l1_ratio': 1}"
     },
     "execution_count": 335,
     "metadata": {},
     "output_type": "execute_result"
    }
   ],
   "source": [
    "model_grid.best_params_"
   ],
   "metadata": {
    "collapsed": false,
    "pycharm": {
     "name": "#%%\n"
    }
   }
  },
  {
   "cell_type": "code",
   "execution_count": 336,
   "outputs": [
    {
     "data": {
      "text/plain": "ElasticNet(alpha=0.1, l1_ratio=1)"
     },
     "execution_count": 336,
     "metadata": {},
     "output_type": "execute_result"
    }
   ],
   "source": [
    "model_grid.best_estimator_"
   ],
   "metadata": {
    "collapsed": false,
    "pycharm": {
     "name": "#%%\n"
    }
   }
  },
  {
   "cell_type": "code",
   "execution_count": 337,
   "outputs": [
    {
     "data": {
      "text/plain": "    mean_fit_time  std_fit_time  mean_score_time  std_score_time param_alpha  \\\n0        0.000363  4.477850e-04         0.000598        0.000488         0.1   \n1        0.000997  2.780415e-07         0.000000        0.000000         0.1   \n2        0.000997  5.519789e-07         0.000000        0.000000         0.1   \n3        0.000997  1.168008e-07         0.000000        0.000000         0.1   \n4        0.000961  7.507795e-05         0.000000        0.000000         0.1   \n5        0.000997  1.183479e-06         0.000000        0.000000         0.1   \n6        0.000800  3.973572e-04         0.000000        0.000000           1   \n7        0.000598  4.879954e-04         0.000000        0.000000           1   \n8        0.000000  0.000000e+00         0.000000        0.000000           1   \n9        0.000000  0.000000e+00         0.000000        0.000000           1   \n10       0.000805  4.024604e-04         0.000000        0.000000           1   \n11       0.000798  3.989817e-04         0.000000        0.000000           1   \n12       0.000799  3.993552e-04         0.000000        0.000000           5   \n13       0.000400  4.903349e-04         0.000000        0.000000           5   \n14       0.000798  3.989018e-04         0.000000        0.000000           5   \n15       0.000798  3.989958e-04         0.000000        0.000000           5   \n16       0.000997  3.994063e-06         0.000000        0.000000           5   \n17       0.000997  7.629395e-07         0.000000        0.000000           5   \n18       0.000971  5.287705e-05         0.000000        0.000000          10   \n19       0.001002  9.769461e-06         0.000000        0.000000          10   \n20       0.000999  2.623038e-06         0.000000        0.000000          10   \n21       0.000969  7.134217e-05         0.000000        0.000000          10   \n22       0.000993  1.165318e-05         0.000000        0.000000          10   \n23       0.001003  1.270536e-05         0.000000        0.000000          10   \n24       0.000998  3.027071e-06         0.000000        0.000000          50   \n25       0.000957  9.245264e-05         0.000000        0.000000          50   \n26       0.000998  3.101275e-06         0.000000        0.000000          50   \n27       0.000952  9.019170e-05         0.000000        0.000000          50   \n28       0.000998  1.614219e-06         0.000000        0.000000          50   \n29       0.000997  8.971638e-07         0.000000        0.000000          50   \n30       0.001004  1.051315e-05         0.000000        0.000000         100   \n31       0.000966  7.850793e-05         0.000000        0.000000         100   \n32       0.000997  6.442421e-06         0.000000        0.000000         100   \n33       0.000969  6.969732e-05         0.000000        0.000000         100   \n34       0.000997  2.140994e-06         0.000000        0.000000         100   \n35       0.001003  9.020418e-06         0.000000        0.000000         100   \n\n   param_l1_ratio                            params  split0_test_score  \\\n0             0.1   {'alpha': 0.1, 'l1_ratio': 0.1}          -3.453021   \n1             0.5   {'alpha': 0.1, 'l1_ratio': 0.5}          -3.325440   \n2             0.7   {'alpha': 0.1, 'l1_ratio': 0.7}          -3.269880   \n3            0.95  {'alpha': 0.1, 'l1_ratio': 0.95}          -3.213052   \n4            0.99  {'alpha': 0.1, 'l1_ratio': 0.99}          -3.208124   \n5               1     {'alpha': 0.1, 'l1_ratio': 1}          -3.206943   \n6             0.1     {'alpha': 1, 'l1_ratio': 0.1}          -9.827475   \n7             0.5     {'alpha': 1, 'l1_ratio': 0.5}          -8.707071   \n8             0.7     {'alpha': 1, 'l1_ratio': 0.7}          -7.920870   \n9            0.95    {'alpha': 1, 'l1_ratio': 0.95}          -6.729435   \n10           0.99    {'alpha': 1, 'l1_ratio': 0.99}          -6.521344   \n11              1       {'alpha': 1, 'l1_ratio': 1}          -6.468807   \n12            0.1     {'alpha': 5, 'l1_ratio': 0.1}         -22.979265   \n13            0.5     {'alpha': 5, 'l1_ratio': 0.5}         -27.793488   \n14            0.7     {'alpha': 5, 'l1_ratio': 0.7}         -29.655510   \n15           0.95    {'alpha': 5, 'l1_ratio': 0.95}         -31.130307   \n16           0.99    {'alpha': 5, 'l1_ratio': 0.99}         -31.130307   \n17              1       {'alpha': 5, 'l1_ratio': 1}         -31.130307   \n18            0.1    {'alpha': 10, 'l1_ratio': 0.1}         -27.385346   \n19            0.5    {'alpha': 10, 'l1_ratio': 0.5}         -31.130307   \n20            0.7    {'alpha': 10, 'l1_ratio': 0.7}         -31.130307   \n21           0.95   {'alpha': 10, 'l1_ratio': 0.95}         -31.130307   \n22           0.99   {'alpha': 10, 'l1_ratio': 0.99}         -31.130307   \n23              1      {'alpha': 10, 'l1_ratio': 1}         -31.130307   \n24            0.1    {'alpha': 50, 'l1_ratio': 0.1}         -31.130307   \n25            0.5    {'alpha': 50, 'l1_ratio': 0.5}         -31.130307   \n26            0.7    {'alpha': 50, 'l1_ratio': 0.7}         -31.130307   \n27           0.95   {'alpha': 50, 'l1_ratio': 0.95}         -31.130307   \n28           0.99   {'alpha': 50, 'l1_ratio': 0.99}         -31.130307   \n29              1      {'alpha': 50, 'l1_ratio': 1}         -31.130307   \n30            0.1   {'alpha': 100, 'l1_ratio': 0.1}         -31.130307   \n31            0.5   {'alpha': 100, 'l1_ratio': 0.5}         -31.130307   \n32            0.7   {'alpha': 100, 'l1_ratio': 0.7}         -31.130307   \n33           0.95  {'alpha': 100, 'l1_ratio': 0.95}         -31.130307   \n34           0.99  {'alpha': 100, 'l1_ratio': 0.99}         -31.130307   \n35              1     {'alpha': 100, 'l1_ratio': 1}         -31.130307   \n\n    split1_test_score  split2_test_score  split3_test_score  \\\n0           -1.405190          -5.789125          -2.187302   \n1           -1.427522          -5.595610          -2.163089   \n2           -1.442432          -5.502437          -2.163950   \n3           -1.472417          -5.396258          -2.177452   \n4           -1.478489          -5.380242          -2.181097   \n5           -1.480065          -5.376257          -2.182076   \n6           -5.261525         -11.875347          -7.449195   \n7           -4.214228         -10.879261          -6.204545   \n8           -3.549562         -10.024877          -5.379553   \n9           -2.591285          -8.709842          -4.156317   \n10          -2.431385          -8.471086          -3.946327   \n11          -2.391483          -8.410171          -3.893566   \n12         -15.547104         -23.668249         -19.921063   \n13         -18.602269         -27.107849         -23.945227   \n14         -21.085059         -29.629478         -26.724595   \n15         -22.549433         -31.155204         -27.963447   \n16         -22.549433         -31.155204         -27.963447   \n17         -22.549433         -31.155204         -27.963447   \n18         -19.159534         -27.635464         -24.154104   \n19         -22.549433         -31.155204         -27.963447   \n20         -22.549433         -31.155204         -27.963447   \n21         -22.549433         -31.155204         -27.963447   \n22         -22.549433         -31.155204         -27.963447   \n23         -22.549433         -31.155204         -27.963447   \n24         -22.549433         -31.155204         -27.963447   \n25         -22.549433         -31.155204         -27.963447   \n26         -22.549433         -31.155204         -27.963447   \n27         -22.549433         -31.155204         -27.963447   \n28         -22.549433         -31.155204         -27.963447   \n29         -22.549433         -31.155204         -27.963447   \n30         -22.549433         -31.155204         -27.963447   \n31         -22.549433         -31.155204         -27.963447   \n32         -22.549433         -31.155204         -27.963447   \n33         -22.549433         -31.155204         -27.963447   \n34         -22.549433         -31.155204         -27.963447   \n35         -22.549433         -31.155204         -27.963447   \n\n    split4_test_score  mean_test_score  std_test_score  rank_test_score  \n0           -4.645576        -3.496043        1.591601                6  \n1           -4.451679        -3.392668        1.506827                5  \n2           -4.356738        -3.347088        1.462765                4  \n3           -4.241080        -3.300052        1.406248                3  \n4           -4.222968        -3.294184        1.396953                2  \n5           -4.218460        -3.292760        1.394613                1  \n6           -8.542329        -8.591174        2.222939               12  \n7           -7.173031        -7.435627        2.255532               11  \n8           -6.324836        -6.639940        2.206213               10  \n9           -5.329916        -5.503359        2.102835                9  \n10          -5.151344        -5.304297        2.079945                8  \n11          -5.105922        -5.253990        2.073832                7  \n12         -16.262737       -19.675684        3.334901               13  \n13         -18.064635       -23.102694        4.108297               14  \n14         -20.223654       -25.463659        4.077877               16  \n15         -21.698192       -26.899317        4.077240               17  \n16         -21.698192       -26.899317        4.077240               17  \n17         -21.698192       -26.899317        4.077240               17  \n18         -18.968161       -23.460522        3.794608               15  \n19         -21.698192       -26.899317        4.077240               17  \n20         -21.698192       -26.899317        4.077240               17  \n21         -21.698192       -26.899317        4.077240               17  \n22         -21.698192       -26.899317        4.077240               17  \n23         -21.698192       -26.899317        4.077240               17  \n24         -21.698192       -26.899317        4.077240               17  \n25         -21.698192       -26.899317        4.077240               17  \n26         -21.698192       -26.899317        4.077240               17  \n27         -21.698192       -26.899317        4.077240               17  \n28         -21.698192       -26.899317        4.077240               17  \n29         -21.698192       -26.899317        4.077240               17  \n30         -21.698192       -26.899317        4.077240               17  \n31         -21.698192       -26.899317        4.077240               17  \n32         -21.698192       -26.899317        4.077240               17  \n33         -21.698192       -26.899317        4.077240               17  \n34         -21.698192       -26.899317        4.077240               17  \n35         -21.698192       -26.899317        4.077240               17  ",
      "text/html": "<div>\n<style scoped>\n    .dataframe tbody tr th:only-of-type {\n        vertical-align: middle;\n    }\n\n    .dataframe tbody tr th {\n        vertical-align: top;\n    }\n\n    .dataframe thead th {\n        text-align: right;\n    }\n</style>\n<table border=\"1\" class=\"dataframe\">\n  <thead>\n    <tr style=\"text-align: right;\">\n      <th></th>\n      <th>mean_fit_time</th>\n      <th>std_fit_time</th>\n      <th>mean_score_time</th>\n      <th>std_score_time</th>\n      <th>param_alpha</th>\n      <th>param_l1_ratio</th>\n      <th>params</th>\n      <th>split0_test_score</th>\n      <th>split1_test_score</th>\n      <th>split2_test_score</th>\n      <th>split3_test_score</th>\n      <th>split4_test_score</th>\n      <th>mean_test_score</th>\n      <th>std_test_score</th>\n      <th>rank_test_score</th>\n    </tr>\n  </thead>\n  <tbody>\n    <tr>\n      <th>0</th>\n      <td>0.000363</td>\n      <td>4.477850e-04</td>\n      <td>0.000598</td>\n      <td>0.000488</td>\n      <td>0.1</td>\n      <td>0.1</td>\n      <td>{'alpha': 0.1, 'l1_ratio': 0.1}</td>\n      <td>-3.453021</td>\n      <td>-1.405190</td>\n      <td>-5.789125</td>\n      <td>-2.187302</td>\n      <td>-4.645576</td>\n      <td>-3.496043</td>\n      <td>1.591601</td>\n      <td>6</td>\n    </tr>\n    <tr>\n      <th>1</th>\n      <td>0.000997</td>\n      <td>2.780415e-07</td>\n      <td>0.000000</td>\n      <td>0.000000</td>\n      <td>0.1</td>\n      <td>0.5</td>\n      <td>{'alpha': 0.1, 'l1_ratio': 0.5}</td>\n      <td>-3.325440</td>\n      <td>-1.427522</td>\n      <td>-5.595610</td>\n      <td>-2.163089</td>\n      <td>-4.451679</td>\n      <td>-3.392668</td>\n      <td>1.506827</td>\n      <td>5</td>\n    </tr>\n    <tr>\n      <th>2</th>\n      <td>0.000997</td>\n      <td>5.519789e-07</td>\n      <td>0.000000</td>\n      <td>0.000000</td>\n      <td>0.1</td>\n      <td>0.7</td>\n      <td>{'alpha': 0.1, 'l1_ratio': 0.7}</td>\n      <td>-3.269880</td>\n      <td>-1.442432</td>\n      <td>-5.502437</td>\n      <td>-2.163950</td>\n      <td>-4.356738</td>\n      <td>-3.347088</td>\n      <td>1.462765</td>\n      <td>4</td>\n    </tr>\n    <tr>\n      <th>3</th>\n      <td>0.000997</td>\n      <td>1.168008e-07</td>\n      <td>0.000000</td>\n      <td>0.000000</td>\n      <td>0.1</td>\n      <td>0.95</td>\n      <td>{'alpha': 0.1, 'l1_ratio': 0.95}</td>\n      <td>-3.213052</td>\n      <td>-1.472417</td>\n      <td>-5.396258</td>\n      <td>-2.177452</td>\n      <td>-4.241080</td>\n      <td>-3.300052</td>\n      <td>1.406248</td>\n      <td>3</td>\n    </tr>\n    <tr>\n      <th>4</th>\n      <td>0.000961</td>\n      <td>7.507795e-05</td>\n      <td>0.000000</td>\n      <td>0.000000</td>\n      <td>0.1</td>\n      <td>0.99</td>\n      <td>{'alpha': 0.1, 'l1_ratio': 0.99}</td>\n      <td>-3.208124</td>\n      <td>-1.478489</td>\n      <td>-5.380242</td>\n      <td>-2.181097</td>\n      <td>-4.222968</td>\n      <td>-3.294184</td>\n      <td>1.396953</td>\n      <td>2</td>\n    </tr>\n    <tr>\n      <th>5</th>\n      <td>0.000997</td>\n      <td>1.183479e-06</td>\n      <td>0.000000</td>\n      <td>0.000000</td>\n      <td>0.1</td>\n      <td>1</td>\n      <td>{'alpha': 0.1, 'l1_ratio': 1}</td>\n      <td>-3.206943</td>\n      <td>-1.480065</td>\n      <td>-5.376257</td>\n      <td>-2.182076</td>\n      <td>-4.218460</td>\n      <td>-3.292760</td>\n      <td>1.394613</td>\n      <td>1</td>\n    </tr>\n    <tr>\n      <th>6</th>\n      <td>0.000800</td>\n      <td>3.973572e-04</td>\n      <td>0.000000</td>\n      <td>0.000000</td>\n      <td>1</td>\n      <td>0.1</td>\n      <td>{'alpha': 1, 'l1_ratio': 0.1}</td>\n      <td>-9.827475</td>\n      <td>-5.261525</td>\n      <td>-11.875347</td>\n      <td>-7.449195</td>\n      <td>-8.542329</td>\n      <td>-8.591174</td>\n      <td>2.222939</td>\n      <td>12</td>\n    </tr>\n    <tr>\n      <th>7</th>\n      <td>0.000598</td>\n      <td>4.879954e-04</td>\n      <td>0.000000</td>\n      <td>0.000000</td>\n      <td>1</td>\n      <td>0.5</td>\n      <td>{'alpha': 1, 'l1_ratio': 0.5}</td>\n      <td>-8.707071</td>\n      <td>-4.214228</td>\n      <td>-10.879261</td>\n      <td>-6.204545</td>\n      <td>-7.173031</td>\n      <td>-7.435627</td>\n      <td>2.255532</td>\n      <td>11</td>\n    </tr>\n    <tr>\n      <th>8</th>\n      <td>0.000000</td>\n      <td>0.000000e+00</td>\n      <td>0.000000</td>\n      <td>0.000000</td>\n      <td>1</td>\n      <td>0.7</td>\n      <td>{'alpha': 1, 'l1_ratio': 0.7}</td>\n      <td>-7.920870</td>\n      <td>-3.549562</td>\n      <td>-10.024877</td>\n      <td>-5.379553</td>\n      <td>-6.324836</td>\n      <td>-6.639940</td>\n      <td>2.206213</td>\n      <td>10</td>\n    </tr>\n    <tr>\n      <th>9</th>\n      <td>0.000000</td>\n      <td>0.000000e+00</td>\n      <td>0.000000</td>\n      <td>0.000000</td>\n      <td>1</td>\n      <td>0.95</td>\n      <td>{'alpha': 1, 'l1_ratio': 0.95}</td>\n      <td>-6.729435</td>\n      <td>-2.591285</td>\n      <td>-8.709842</td>\n      <td>-4.156317</td>\n      <td>-5.329916</td>\n      <td>-5.503359</td>\n      <td>2.102835</td>\n      <td>9</td>\n    </tr>\n    <tr>\n      <th>10</th>\n      <td>0.000805</td>\n      <td>4.024604e-04</td>\n      <td>0.000000</td>\n      <td>0.000000</td>\n      <td>1</td>\n      <td>0.99</td>\n      <td>{'alpha': 1, 'l1_ratio': 0.99}</td>\n      <td>-6.521344</td>\n      <td>-2.431385</td>\n      <td>-8.471086</td>\n      <td>-3.946327</td>\n      <td>-5.151344</td>\n      <td>-5.304297</td>\n      <td>2.079945</td>\n      <td>8</td>\n    </tr>\n    <tr>\n      <th>11</th>\n      <td>0.000798</td>\n      <td>3.989817e-04</td>\n      <td>0.000000</td>\n      <td>0.000000</td>\n      <td>1</td>\n      <td>1</td>\n      <td>{'alpha': 1, 'l1_ratio': 1}</td>\n      <td>-6.468807</td>\n      <td>-2.391483</td>\n      <td>-8.410171</td>\n      <td>-3.893566</td>\n      <td>-5.105922</td>\n      <td>-5.253990</td>\n      <td>2.073832</td>\n      <td>7</td>\n    </tr>\n    <tr>\n      <th>12</th>\n      <td>0.000799</td>\n      <td>3.993552e-04</td>\n      <td>0.000000</td>\n      <td>0.000000</td>\n      <td>5</td>\n      <td>0.1</td>\n      <td>{'alpha': 5, 'l1_ratio': 0.1}</td>\n      <td>-22.979265</td>\n      <td>-15.547104</td>\n      <td>-23.668249</td>\n      <td>-19.921063</td>\n      <td>-16.262737</td>\n      <td>-19.675684</td>\n      <td>3.334901</td>\n      <td>13</td>\n    </tr>\n    <tr>\n      <th>13</th>\n      <td>0.000400</td>\n      <td>4.903349e-04</td>\n      <td>0.000000</td>\n      <td>0.000000</td>\n      <td>5</td>\n      <td>0.5</td>\n      <td>{'alpha': 5, 'l1_ratio': 0.5}</td>\n      <td>-27.793488</td>\n      <td>-18.602269</td>\n      <td>-27.107849</td>\n      <td>-23.945227</td>\n      <td>-18.064635</td>\n      <td>-23.102694</td>\n      <td>4.108297</td>\n      <td>14</td>\n    </tr>\n    <tr>\n      <th>14</th>\n      <td>0.000798</td>\n      <td>3.989018e-04</td>\n      <td>0.000000</td>\n      <td>0.000000</td>\n      <td>5</td>\n      <td>0.7</td>\n      <td>{'alpha': 5, 'l1_ratio': 0.7}</td>\n      <td>-29.655510</td>\n      <td>-21.085059</td>\n      <td>-29.629478</td>\n      <td>-26.724595</td>\n      <td>-20.223654</td>\n      <td>-25.463659</td>\n      <td>4.077877</td>\n      <td>16</td>\n    </tr>\n    <tr>\n      <th>15</th>\n      <td>0.000798</td>\n      <td>3.989958e-04</td>\n      <td>0.000000</td>\n      <td>0.000000</td>\n      <td>5</td>\n      <td>0.95</td>\n      <td>{'alpha': 5, 'l1_ratio': 0.95}</td>\n      <td>-31.130307</td>\n      <td>-22.549433</td>\n      <td>-31.155204</td>\n      <td>-27.963447</td>\n      <td>-21.698192</td>\n      <td>-26.899317</td>\n      <td>4.077240</td>\n      <td>17</td>\n    </tr>\n    <tr>\n      <th>16</th>\n      <td>0.000997</td>\n      <td>3.994063e-06</td>\n      <td>0.000000</td>\n      <td>0.000000</td>\n      <td>5</td>\n      <td>0.99</td>\n      <td>{'alpha': 5, 'l1_ratio': 0.99}</td>\n      <td>-31.130307</td>\n      <td>-22.549433</td>\n      <td>-31.155204</td>\n      <td>-27.963447</td>\n      <td>-21.698192</td>\n      <td>-26.899317</td>\n      <td>4.077240</td>\n      <td>17</td>\n    </tr>\n    <tr>\n      <th>17</th>\n      <td>0.000997</td>\n      <td>7.629395e-07</td>\n      <td>0.000000</td>\n      <td>0.000000</td>\n      <td>5</td>\n      <td>1</td>\n      <td>{'alpha': 5, 'l1_ratio': 1}</td>\n      <td>-31.130307</td>\n      <td>-22.549433</td>\n      <td>-31.155204</td>\n      <td>-27.963447</td>\n      <td>-21.698192</td>\n      <td>-26.899317</td>\n      <td>4.077240</td>\n      <td>17</td>\n    </tr>\n    <tr>\n      <th>18</th>\n      <td>0.000971</td>\n      <td>5.287705e-05</td>\n      <td>0.000000</td>\n      <td>0.000000</td>\n      <td>10</td>\n      <td>0.1</td>\n      <td>{'alpha': 10, 'l1_ratio': 0.1}</td>\n      <td>-27.385346</td>\n      <td>-19.159534</td>\n      <td>-27.635464</td>\n      <td>-24.154104</td>\n      <td>-18.968161</td>\n      <td>-23.460522</td>\n      <td>3.794608</td>\n      <td>15</td>\n    </tr>\n    <tr>\n      <th>19</th>\n      <td>0.001002</td>\n      <td>9.769461e-06</td>\n      <td>0.000000</td>\n      <td>0.000000</td>\n      <td>10</td>\n      <td>0.5</td>\n      <td>{'alpha': 10, 'l1_ratio': 0.5}</td>\n      <td>-31.130307</td>\n      <td>-22.549433</td>\n      <td>-31.155204</td>\n      <td>-27.963447</td>\n      <td>-21.698192</td>\n      <td>-26.899317</td>\n      <td>4.077240</td>\n      <td>17</td>\n    </tr>\n    <tr>\n      <th>20</th>\n      <td>0.000999</td>\n      <td>2.623038e-06</td>\n      <td>0.000000</td>\n      <td>0.000000</td>\n      <td>10</td>\n      <td>0.7</td>\n      <td>{'alpha': 10, 'l1_ratio': 0.7}</td>\n      <td>-31.130307</td>\n      <td>-22.549433</td>\n      <td>-31.155204</td>\n      <td>-27.963447</td>\n      <td>-21.698192</td>\n      <td>-26.899317</td>\n      <td>4.077240</td>\n      <td>17</td>\n    </tr>\n    <tr>\n      <th>21</th>\n      <td>0.000969</td>\n      <td>7.134217e-05</td>\n      <td>0.000000</td>\n      <td>0.000000</td>\n      <td>10</td>\n      <td>0.95</td>\n      <td>{'alpha': 10, 'l1_ratio': 0.95}</td>\n      <td>-31.130307</td>\n      <td>-22.549433</td>\n      <td>-31.155204</td>\n      <td>-27.963447</td>\n      <td>-21.698192</td>\n      <td>-26.899317</td>\n      <td>4.077240</td>\n      <td>17</td>\n    </tr>\n    <tr>\n      <th>22</th>\n      <td>0.000993</td>\n      <td>1.165318e-05</td>\n      <td>0.000000</td>\n      <td>0.000000</td>\n      <td>10</td>\n      <td>0.99</td>\n      <td>{'alpha': 10, 'l1_ratio': 0.99}</td>\n      <td>-31.130307</td>\n      <td>-22.549433</td>\n      <td>-31.155204</td>\n      <td>-27.963447</td>\n      <td>-21.698192</td>\n      <td>-26.899317</td>\n      <td>4.077240</td>\n      <td>17</td>\n    </tr>\n    <tr>\n      <th>23</th>\n      <td>0.001003</td>\n      <td>1.270536e-05</td>\n      <td>0.000000</td>\n      <td>0.000000</td>\n      <td>10</td>\n      <td>1</td>\n      <td>{'alpha': 10, 'l1_ratio': 1}</td>\n      <td>-31.130307</td>\n      <td>-22.549433</td>\n      <td>-31.155204</td>\n      <td>-27.963447</td>\n      <td>-21.698192</td>\n      <td>-26.899317</td>\n      <td>4.077240</td>\n      <td>17</td>\n    </tr>\n    <tr>\n      <th>24</th>\n      <td>0.000998</td>\n      <td>3.027071e-06</td>\n      <td>0.000000</td>\n      <td>0.000000</td>\n      <td>50</td>\n      <td>0.1</td>\n      <td>{'alpha': 50, 'l1_ratio': 0.1}</td>\n      <td>-31.130307</td>\n      <td>-22.549433</td>\n      <td>-31.155204</td>\n      <td>-27.963447</td>\n      <td>-21.698192</td>\n      <td>-26.899317</td>\n      <td>4.077240</td>\n      <td>17</td>\n    </tr>\n    <tr>\n      <th>25</th>\n      <td>0.000957</td>\n      <td>9.245264e-05</td>\n      <td>0.000000</td>\n      <td>0.000000</td>\n      <td>50</td>\n      <td>0.5</td>\n      <td>{'alpha': 50, 'l1_ratio': 0.5}</td>\n      <td>-31.130307</td>\n      <td>-22.549433</td>\n      <td>-31.155204</td>\n      <td>-27.963447</td>\n      <td>-21.698192</td>\n      <td>-26.899317</td>\n      <td>4.077240</td>\n      <td>17</td>\n    </tr>\n    <tr>\n      <th>26</th>\n      <td>0.000998</td>\n      <td>3.101275e-06</td>\n      <td>0.000000</td>\n      <td>0.000000</td>\n      <td>50</td>\n      <td>0.7</td>\n      <td>{'alpha': 50, 'l1_ratio': 0.7}</td>\n      <td>-31.130307</td>\n      <td>-22.549433</td>\n      <td>-31.155204</td>\n      <td>-27.963447</td>\n      <td>-21.698192</td>\n      <td>-26.899317</td>\n      <td>4.077240</td>\n      <td>17</td>\n    </tr>\n    <tr>\n      <th>27</th>\n      <td>0.000952</td>\n      <td>9.019170e-05</td>\n      <td>0.000000</td>\n      <td>0.000000</td>\n      <td>50</td>\n      <td>0.95</td>\n      <td>{'alpha': 50, 'l1_ratio': 0.95}</td>\n      <td>-31.130307</td>\n      <td>-22.549433</td>\n      <td>-31.155204</td>\n      <td>-27.963447</td>\n      <td>-21.698192</td>\n      <td>-26.899317</td>\n      <td>4.077240</td>\n      <td>17</td>\n    </tr>\n    <tr>\n      <th>28</th>\n      <td>0.000998</td>\n      <td>1.614219e-06</td>\n      <td>0.000000</td>\n      <td>0.000000</td>\n      <td>50</td>\n      <td>0.99</td>\n      <td>{'alpha': 50, 'l1_ratio': 0.99}</td>\n      <td>-31.130307</td>\n      <td>-22.549433</td>\n      <td>-31.155204</td>\n      <td>-27.963447</td>\n      <td>-21.698192</td>\n      <td>-26.899317</td>\n      <td>4.077240</td>\n      <td>17</td>\n    </tr>\n    <tr>\n      <th>29</th>\n      <td>0.000997</td>\n      <td>8.971638e-07</td>\n      <td>0.000000</td>\n      <td>0.000000</td>\n      <td>50</td>\n      <td>1</td>\n      <td>{'alpha': 50, 'l1_ratio': 1}</td>\n      <td>-31.130307</td>\n      <td>-22.549433</td>\n      <td>-31.155204</td>\n      <td>-27.963447</td>\n      <td>-21.698192</td>\n      <td>-26.899317</td>\n      <td>4.077240</td>\n      <td>17</td>\n    </tr>\n    <tr>\n      <th>30</th>\n      <td>0.001004</td>\n      <td>1.051315e-05</td>\n      <td>0.000000</td>\n      <td>0.000000</td>\n      <td>100</td>\n      <td>0.1</td>\n      <td>{'alpha': 100, 'l1_ratio': 0.1}</td>\n      <td>-31.130307</td>\n      <td>-22.549433</td>\n      <td>-31.155204</td>\n      <td>-27.963447</td>\n      <td>-21.698192</td>\n      <td>-26.899317</td>\n      <td>4.077240</td>\n      <td>17</td>\n    </tr>\n    <tr>\n      <th>31</th>\n      <td>0.000966</td>\n      <td>7.850793e-05</td>\n      <td>0.000000</td>\n      <td>0.000000</td>\n      <td>100</td>\n      <td>0.5</td>\n      <td>{'alpha': 100, 'l1_ratio': 0.5}</td>\n      <td>-31.130307</td>\n      <td>-22.549433</td>\n      <td>-31.155204</td>\n      <td>-27.963447</td>\n      <td>-21.698192</td>\n      <td>-26.899317</td>\n      <td>4.077240</td>\n      <td>17</td>\n    </tr>\n    <tr>\n      <th>32</th>\n      <td>0.000997</td>\n      <td>6.442421e-06</td>\n      <td>0.000000</td>\n      <td>0.000000</td>\n      <td>100</td>\n      <td>0.7</td>\n      <td>{'alpha': 100, 'l1_ratio': 0.7}</td>\n      <td>-31.130307</td>\n      <td>-22.549433</td>\n      <td>-31.155204</td>\n      <td>-27.963447</td>\n      <td>-21.698192</td>\n      <td>-26.899317</td>\n      <td>4.077240</td>\n      <td>17</td>\n    </tr>\n    <tr>\n      <th>33</th>\n      <td>0.000969</td>\n      <td>6.969732e-05</td>\n      <td>0.000000</td>\n      <td>0.000000</td>\n      <td>100</td>\n      <td>0.95</td>\n      <td>{'alpha': 100, 'l1_ratio': 0.95}</td>\n      <td>-31.130307</td>\n      <td>-22.549433</td>\n      <td>-31.155204</td>\n      <td>-27.963447</td>\n      <td>-21.698192</td>\n      <td>-26.899317</td>\n      <td>4.077240</td>\n      <td>17</td>\n    </tr>\n    <tr>\n      <th>34</th>\n      <td>0.000997</td>\n      <td>2.140994e-06</td>\n      <td>0.000000</td>\n      <td>0.000000</td>\n      <td>100</td>\n      <td>0.99</td>\n      <td>{'alpha': 100, 'l1_ratio': 0.99}</td>\n      <td>-31.130307</td>\n      <td>-22.549433</td>\n      <td>-31.155204</td>\n      <td>-27.963447</td>\n      <td>-21.698192</td>\n      <td>-26.899317</td>\n      <td>4.077240</td>\n      <td>17</td>\n    </tr>\n    <tr>\n      <th>35</th>\n      <td>0.001003</td>\n      <td>9.020418e-06</td>\n      <td>0.000000</td>\n      <td>0.000000</td>\n      <td>100</td>\n      <td>1</td>\n      <td>{'alpha': 100, 'l1_ratio': 1}</td>\n      <td>-31.130307</td>\n      <td>-22.549433</td>\n      <td>-31.155204</td>\n      <td>-27.963447</td>\n      <td>-21.698192</td>\n      <td>-26.899317</td>\n      <td>4.077240</td>\n      <td>17</td>\n    </tr>\n  </tbody>\n</table>\n</div>"
     },
     "execution_count": 337,
     "metadata": {},
     "output_type": "execute_result"
    }
   ],
   "source": [
    "pd.DataFrame(model_grid.cv_results_)"
   ],
   "metadata": {
    "collapsed": false,
    "pycharm": {
     "name": "#%%\n"
    }
   }
  },
  {
   "cell_type": "markdown",
   "source": [
    "* When you satisfy with the result"
   ],
   "metadata": {
    "collapsed": false
   }
  },
  {
   "cell_type": "code",
   "execution_count": 338,
   "outputs": [],
   "source": [
    "grid_predict_model = model_grid.predict(X_test)"
   ],
   "metadata": {
    "collapsed": false,
    "pycharm": {
     "name": "#%%\n"
    }
   }
  },
  {
   "cell_type": "code",
   "execution_count": 339,
   "outputs": [],
   "source": [
    "from sklearn.metrics import mean_squared_error"
   ],
   "metadata": {
    "collapsed": false,
    "pycharm": {
     "name": "#%%\n"
    }
   }
  },
  {
   "cell_type": "code",
   "execution_count": 340,
   "outputs": [
    {
     "data": {
      "text/plain": "2.387342642087474"
     },
     "execution_count": 340,
     "metadata": {},
     "output_type": "execute_result"
    }
   ],
   "source": [
    "mean_squared_error(y_true=y_test, y_pred=grid_predict_model)"
   ],
   "metadata": {
    "collapsed": false,
    "pycharm": {
     "name": "#%%\n"
    }
   }
  },
  {
   "cell_type": "code",
   "execution_count": null,
   "outputs": [],
   "source": [],
   "metadata": {
    "collapsed": false,
    "pycharm": {
     "name": "#%%\n"
    }
   }
  }
 ],
 "metadata": {
  "kernelspec": {
   "display_name": "Python 3",
   "language": "python",
   "name": "python3"
  },
  "language_info": {
   "codemirror_mode": {
    "name": "ipython",
    "version": 2
   },
   "file_extension": ".py",
   "mimetype": "text/x-python",
   "name": "python",
   "nbconvert_exporter": "python",
   "pygments_lexer": "ipython2",
   "version": "2.7.6"
  }
 },
 "nbformat": 4,
 "nbformat_minor": 0
}