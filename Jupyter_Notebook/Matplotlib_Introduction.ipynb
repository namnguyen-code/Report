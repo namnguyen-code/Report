{
 "cells": [
  {
   "cell_type": "markdown",
   "metadata": {
    "collapsed": true,
    "pycharm": {
     "name": "#%% md\n"
    }
   },
   "source": [
    "# Matplotlib\n",
    "* Visualizing data is crucial to quickly understanding trends and relationships in your dataset\n",
    "* Matplotlib is one of the most popular libraries for plotting with Python\n",
    "* Matplotlib is known as the \"Grandfather\" of plotting and visualization libraries for Python\n",
    "* Many other visualization libraries are built directly off of Matplotlib (e.g seaborn and pandas built-in visualization)\n",
    "* Matplotlib is heavily inspired by the plotting functions of the MatLab programming language\n",
    "* It allows for the  creation of almost any plot type and heavy customization\n",
    "* This ability to heavily customize a plot comes at a trade-off for beginners, since it can be confusing to learn the Matplotlib syntax at first\n",
    "* This is mainly due to the fact that there are actually two separate approaches to creating plots, functional based methods and OOP based methods call"
   ]
  },
  {
   "cell_type": "markdown",
   "source": [
    "* This Matplotlib section seeks to clear up any confusion by clearly separating out these two approaches\n",
    "    * Matplotlib Basics\n",
    "        * Functional Method\n",
    "    * Matplotlib Figures and Subplots\n",
    "        * OOP Method"
   ],
   "metadata": {
    "collapsed": false,
    "pycharm": {
     "name": "#%% md\n"
    }
   }
  },
  {
   "cell_type": "markdown",
   "source": [
    "* Topic Outline:\n",
    "    * Matplotlib Basics and Functions\n",
    "    * Matplotlib Figures\n",
    "    * Matplotlib Subplots\n",
    "    * Matplotlib Styling\n",
    "    * Exercise\n",
    "\n"
   ],
   "metadata": {
    "collapsed": false,
    "pycharm": {
     "name": "#%% md\n"
    }
   }
  },
  {
   "cell_type": "markdown",
   "source": [
    "* Specialized plot types such as histograms won't be covered with matplotlib, since we will later learn how to use seaborn to easily create statistical plots\n",
    "* It is important to learn matplotlib first because seaborn builds directly off of Matplotlib\n",
    "\n"
   ],
   "metadata": {
    "collapsed": false,
    "pycharm": {
     "name": "#%% md\n"
    }
   }
  },
  {
   "cell_type": "markdown",
   "source": [
    "* Throughout this section we will be referencing the excellent Matplotlib online documentation:\n",
    "    * https://matplotlib.org/\n",
    "* As well as the gallery of example plots and codes (<i> very useful</i>)\n",
    "    * https://matplotlib.org/2.0.2/examples/lines_bars_and_markers/barh_demo.html"
   ],
   "metadata": {
    "collapsed": false,
    "pycharm": {
     "name": "#%% md\n"
    }
   }
  },
  {
   "cell_type": "markdown",
   "source": [
    "* Two main goals with Matplotlib:\n",
    "    * Be able to plot out a functional relationship:\n",
    "        * y = 2x\n",
    "    * Be able to plot out a relationship between raw data points:\n",
    "        * x = [1,2,3,4]\n",
    "        * y = [2,4,6,8]\n"
   ],
   "metadata": {
    "collapsed": false,
    "pycharm": {
     "name": "#%% md\n"
    }
   }
  },
  {
   "cell_type": "code",
   "execution_count": null,
   "outputs": [],
   "source": [],
   "metadata": {
    "collapsed": false,
    "pycharm": {
     "name": "#%%\n"
    }
   }
  }
 ],
 "metadata": {
  "kernelspec": {
   "name": "pycharm-bbcd271a",
   "language": "python",
   "display_name": "PyCharm (Numpy)"
  },
  "language_info": {
   "codemirror_mode": {
    "name": "ipython",
    "version": 2
   },
   "file_extension": ".py",
   "mimetype": "text/x-python",
   "name": "python",
   "nbconvert_exporter": "python",
   "pygments_lexer": "ipython2",
   "version": "2.7.6"
  }
 },
 "nbformat": 4,
 "nbformat_minor": 0
}