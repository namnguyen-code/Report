{
 "cells": [
  {
   "cell_type": "markdown",
   "source": [
    "# Overiew and introduction\n",
    "* Now that we've spent some time cleaning and working with the Ames Data Set, we're ready to let you test your new Regression skills on it to create a house sale price prediction model\n",
    "* However, there are two more general topics we want to learn before we jump to the project\n",
    "* Section Overview\n",
    "    * Cross Validation in Detial\n",
    "        * Train | Test Split\n",
    "        * Train | Validation | Test Split\n",
    "        * Scikit-Learn cross_val_score\n",
    "        * Scikit-Learn cross_validate\n",
    "    * Grid Search\n",
    "    * Linear Regression Project Exercise\n",
    "* We've already discussed models with built-in cross validation (e.g. RidgeCV)\n",
    "* We will expand on this by exploring Scikit-Learn's general tools for utilizing cross-validation for any model\n",
    "* This will also allow us to later perform grid searches for the optimal combination of multiple hyperparameters.\n",
    "* We'll begin by reviewing the most basic cross validation process we know so far (Train|Test split) and then slowly build up to the full k-fold cross validation"
   ],
   "metadata": {
    "collapsed": false
   }
  },
  {
   "cell_type": "markdown",
   "source": [
    "# Cross Validation - Train | Test Split\n",
    "* Begin with the data set\n",
    "* Split into two sets Train and Test (Typically 70/30)\n",
    "* Train the model then evaluate error on Test\n",
    "* We \"allow\" ourselves model adjustments based on the Error or performance from the test set\n",
    "* Let's briefly review this process!\n",
    "* We'll later expand on it until we reach full k-fold cross validation"
   ],
   "metadata": {
    "collapsed": false
   }
  },
  {
   "cell_type": "markdown",
   "source": [
    "---\n",
    "### Import environment"
   ],
   "metadata": {
    "collapsed": false
   }
  },
  {
   "cell_type": "code",
   "execution_count": 2,
   "metadata": {
    "collapsed": true
   },
   "outputs": [],
   "source": [
    "import numpy as np\n",
    "import pandas as pd\n",
    "import matplotlib as mpl\n",
    "import matplotlib.pyplot as plt\n",
    "import seaborn as sns"
   ]
  },
  {
   "cell_type": "code",
   "execution_count": 3,
   "outputs": [],
   "source": [
    "mpl.rcParams.update({\"figure.facecolor\": \"white\",\n",
    "                     \"figure.figsize\": [16,11]})"
   ],
   "metadata": {
    "collapsed": false,
    "pycharm": {
     "name": "#%%\n"
    }
   }
  },
  {
   "cell_type": "code",
   "execution_count": 4,
   "outputs": [],
   "source": [
    "df = pd.read_csv(r\"..\\Course-2021\\DATA\\Advertising.csv\")"
   ],
   "metadata": {
    "collapsed": false,
    "pycharm": {
     "name": "#%%\n"
    }
   }
  },
  {
   "cell_type": "code",
   "execution_count": 5,
   "outputs": [
    {
     "data": {
      "text/plain": "      TV  radio  newspaper  sales\n0  230.1   37.8       69.2   22.1\n1   44.5   39.3       45.1   10.4\n2   17.2   45.9       69.3    9.3\n3  151.5   41.3       58.5   18.5\n4  180.8   10.8       58.4   12.9",
      "text/html": "<div>\n<style scoped>\n    .dataframe tbody tr th:only-of-type {\n        vertical-align: middle;\n    }\n\n    .dataframe tbody tr th {\n        vertical-align: top;\n    }\n\n    .dataframe thead th {\n        text-align: right;\n    }\n</style>\n<table border=\"1\" class=\"dataframe\">\n  <thead>\n    <tr style=\"text-align: right;\">\n      <th></th>\n      <th>TV</th>\n      <th>radio</th>\n      <th>newspaper</th>\n      <th>sales</th>\n    </tr>\n  </thead>\n  <tbody>\n    <tr>\n      <th>0</th>\n      <td>230.1</td>\n      <td>37.8</td>\n      <td>69.2</td>\n      <td>22.1</td>\n    </tr>\n    <tr>\n      <th>1</th>\n      <td>44.5</td>\n      <td>39.3</td>\n      <td>45.1</td>\n      <td>10.4</td>\n    </tr>\n    <tr>\n      <th>2</th>\n      <td>17.2</td>\n      <td>45.9</td>\n      <td>69.3</td>\n      <td>9.3</td>\n    </tr>\n    <tr>\n      <th>3</th>\n      <td>151.5</td>\n      <td>41.3</td>\n      <td>58.5</td>\n      <td>18.5</td>\n    </tr>\n    <tr>\n      <th>4</th>\n      <td>180.8</td>\n      <td>10.8</td>\n      <td>58.4</td>\n      <td>12.9</td>\n    </tr>\n  </tbody>\n</table>\n</div>"
     },
     "execution_count": 5,
     "metadata": {},
     "output_type": "execute_result"
    }
   ],
   "source": [
    "df.head()"
   ],
   "metadata": {
    "collapsed": false,
    "pycharm": {
     "name": "#%%\n"
    }
   }
  },
  {
   "cell_type": "markdown",
   "source": [
    "### Train | Test Split Procedure\n",
    "0. Clean and adjust data as necessary for X and y\n",
    "1. Split Data in Train/Test for both X and y\n",
    "2. Fit/Train Scaler on Training X Data\n",
    "3. Scale X Test Data\n",
    "4. Create Model\n",
    "5. Fit/Train Model on X Train Data\n",
    "6. Evaluate Model on X Test Data (by creating predictions and comparing to Y_test)\n",
    "7. Adjust Parameters as Necessary and repeat steps 5 and 6"
   ],
   "metadata": {
    "collapsed": false
   }
  },
  {
   "cell_type": "code",
   "execution_count": 6,
   "outputs": [],
   "source": [
    "X = df.drop(\"sales\", axis=1)"
   ],
   "metadata": {
    "collapsed": false,
    "pycharm": {
     "name": "#%%\n"
    }
   }
  },
  {
   "cell_type": "code",
   "execution_count": 7,
   "outputs": [],
   "source": [
    "y = df['sales']"
   ],
   "metadata": {
    "collapsed": false,
    "pycharm": {
     "name": "#%%\n"
    }
   }
  },
  {
   "cell_type": "code",
   "execution_count": 8,
   "outputs": [],
   "source": [
    "from sklearn.model_selection import train_test_split"
   ],
   "metadata": {
    "collapsed": false,
    "pycharm": {
     "name": "#%%\n"
    }
   }
  },
  {
   "cell_type": "code",
   "execution_count": 9,
   "outputs": [],
   "source": [
    "X_train, X_test, y_train, y_test = train_test_split(X, y, test_size=0.3, random_state=101)"
   ],
   "metadata": {
    "collapsed": false,
    "pycharm": {
     "name": "#%%\n"
    }
   }
  },
  {
   "cell_type": "markdown",
   "source": [
    "### Scale the data"
   ],
   "metadata": {
    "collapsed": false
   }
  },
  {
   "cell_type": "code",
   "execution_count": 10,
   "outputs": [],
   "source": [
    "from sklearn.preprocessing import StandardScaler"
   ],
   "metadata": {
    "collapsed": false,
    "pycharm": {
     "name": "#%%\n"
    }
   }
  },
  {
   "cell_type": "code",
   "execution_count": 11,
   "outputs": [],
   "source": [
    "scaler = StandardScaler()"
   ],
   "metadata": {
    "collapsed": false,
    "pycharm": {
     "name": "#%%\n"
    }
   }
  },
  {
   "cell_type": "code",
   "execution_count": 12,
   "outputs": [
    {
     "data": {
      "text/plain": "StandardScaler()"
     },
     "execution_count": 12,
     "metadata": {},
     "output_type": "execute_result"
    }
   ],
   "source": [
    "scaler.fit(X_train)"
   ],
   "metadata": {
    "collapsed": false,
    "pycharm": {
     "name": "#%%\n"
    }
   }
  },
  {
   "cell_type": "code",
   "execution_count": 13,
   "outputs": [],
   "source": [
    "X_train = scaler.transform(X_train)"
   ],
   "metadata": {
    "collapsed": false,
    "pycharm": {
     "name": "#%%\n"
    }
   }
  },
  {
   "cell_type": "code",
   "execution_count": 14,
   "outputs": [],
   "source": [
    "X_test = scaler.transform(X_test)"
   ],
   "metadata": {
    "collapsed": false,
    "pycharm": {
     "name": "#%%\n"
    }
   }
  },
  {
   "cell_type": "code",
   "execution_count": 15,
   "outputs": [],
   "source": [
    "from sklearn.linear_model import Ridge"
   ],
   "metadata": {
    "collapsed": false,
    "pycharm": {
     "name": "#%%\n"
    }
   }
  },
  {
   "cell_type": "code",
   "execution_count": 16,
   "outputs": [],
   "source": [
    "model = Ridge(alpha=100)"
   ],
   "metadata": {
    "collapsed": false,
    "pycharm": {
     "name": "#%%\n"
    }
   }
  },
  {
   "cell_type": "code",
   "execution_count": 17,
   "outputs": [
    {
     "data": {
      "text/plain": "Ridge(alpha=100)"
     },
     "execution_count": 17,
     "metadata": {},
     "output_type": "execute_result"
    }
   ],
   "source": [
    "model.fit(X_train, y_train)"
   ],
   "metadata": {
    "collapsed": false,
    "pycharm": {
     "name": "#%%\n"
    }
   }
  },
  {
   "cell_type": "code",
   "execution_count": 18,
   "outputs": [],
   "source": [
    "y_pre = model.predict(X_test)"
   ],
   "metadata": {
    "collapsed": false,
    "pycharm": {
     "name": "#%%\n"
    }
   }
  },
  {
   "cell_type": "code",
   "execution_count": 19,
   "outputs": [],
   "source": [
    "from sklearn.metrics import mean_squared_error"
   ],
   "metadata": {
    "collapsed": false,
    "pycharm": {
     "name": "#%%\n"
    }
   }
  },
  {
   "cell_type": "code",
   "execution_count": 20,
   "outputs": [
    {
     "data": {
      "text/plain": "7.341775789034128"
     },
     "execution_count": 20,
     "metadata": {},
     "output_type": "execute_result"
    }
   ],
   "source": [
    "mean_squared_error(y_test, y_pre)"
   ],
   "metadata": {
    "collapsed": false,
    "pycharm": {
     "name": "#%%\n"
    }
   }
  },
  {
   "cell_type": "markdown",
   "source": [
    "* Adjust your hyper parameter based off your test set performance"
   ],
   "metadata": {
    "collapsed": false
   }
  },
  {
   "cell_type": "code",
   "execution_count": 21,
   "outputs": [],
   "source": [
    "model_two = Ridge(alpha=1)"
   ],
   "metadata": {
    "collapsed": false,
    "pycharm": {
     "name": "#%%\n"
    }
   }
  },
  {
   "cell_type": "code",
   "execution_count": 22,
   "outputs": [
    {
     "data": {
      "text/plain": "Ridge(alpha=1)"
     },
     "execution_count": 22,
     "metadata": {},
     "output_type": "execute_result"
    }
   ],
   "source": [
    "model_two.fit(X_train,y_train)"
   ],
   "metadata": {
    "collapsed": false,
    "pycharm": {
     "name": "#%%\n"
    }
   }
  },
  {
   "cell_type": "code",
   "execution_count": 23,
   "outputs": [],
   "source": [
    "y_pre = model_two.predict(X_test)"
   ],
   "metadata": {
    "collapsed": false,
    "pycharm": {
     "name": "#%%\n"
    }
   }
  },
  {
   "cell_type": "code",
   "execution_count": 24,
   "outputs": [
    {
     "data": {
      "text/plain": "2.3190215794287514"
     },
     "execution_count": 24,
     "metadata": {},
     "output_type": "execute_result"
    }
   ],
   "source": [
    "mean_squared_error(y_test, y_pre)"
   ],
   "metadata": {
    "collapsed": false,
    "pycharm": {
     "name": "#%%\n"
    }
   }
  },
  {
   "cell_type": "markdown",
   "source": [
    "* The advantages and disadvantages of a simple trained test play?\n",
    "    * Advantages\n",
    "        * Very simple to understand what doing in here\n",
    "    * Disadvantages\n",
    "        * Quite tedious (Could run the for loop)\n",
    "        * The mean squared error could not be most fair evaluation or report of this performance metric (Because is not the first time the model training) (The alpha is changed by the X_test) => Not the fair model"
   ],
   "metadata": {
    "collapsed": false
   }
  },
  {
   "cell_type": "markdown",
   "source": [
    "# Cross Validation - Train | Validation | Test Split\n",
    "* We just saw that Train | Test split method has a disadvantage of not having a portion of data that can report a performance metric on truly \"unseen\" data.\n",
    "* While adjusting hyper parameters on test  data is a fair technique and not typically referred to as \"data leakage\", it is a potential issue in regards to reporting.\n",
    "* If we want a truly fair and final set of performance metrics, we should get these metrics from a **final** test set that we do not allow ourselves to adjust on\n",
    "* Let's quickly review this process in theory and application!\n",
    "* Begin with the normal data set\n",
    "* Split into: Train, Validation, and Test\n",
    "* The Validation should have a great percentage in the case of less value of data set\n",
    "* Set aside Test set for final metric\n",
    "* Fit the model on Train set\n",
    "* Evaluate performance on validation set (Get some error)\n",
    "* Adjust hyperparameters as needed\n",
    "* Repeat the process as necessary (train, validate, and adjust)\n",
    "* When satisfy with it, perform final evaluation on Test set\n",
    "* In the Final evaluation, do not adjust! report this as final metric!\n",
    "* Recall the entire reason to not adjust after the final test data set is to get the fairest evaluation of the model\n",
    "* The model was not fitted to the final test data **and** the model hyperparameters were not adjusted based off final test data\n",
    "* This is truly never seen before data\n",
    "* To achieve this in Python with Scikit-Learn we simply perform the **train_test_split()** function call twice\n",
    "    * Once to split off larger training set\n",
    "    * Second time to split remaining data into a validation set and test set"
   ],
   "metadata": {
    "collapsed": false
   }
  },
  {
   "cell_type": "markdown",
   "source": [
    "### TRain | Validation | Test Split Procedure\n",
    "* This often also called a \"hold-out\" set, since you should not adjust parameters based on the final test set, but instead use it **only** for reporting final expected perfomance\n",
    "\n",
    "0. Clean and adjust data as necessary for X and y\n",
    "1. Split Data in Train/Validation/Test for both X and y\n",
    "2. Fit/Train Scaler on Training X Data\n",
    "3. Scale X Eval Data\n",
    "4. Create model\n",
    "5. Fit/train model on X train data\n",
    "6. Evaluate Model on X Evaluation Data (by creating predictions and comparing to Y_eval)\n",
    "7. Adjust parameters as necessary and repeat steps 5 and 6\n",
    "8. Get final metrics on Test set (not allowed to go back and adjust after this!)"
   ],
   "metadata": {
    "collapsed": false
   }
  },
  {
   "cell_type": "code",
   "execution_count": 25,
   "outputs": [],
   "source": [
    "X = df.drop('sales', axis=1)"
   ],
   "metadata": {
    "collapsed": false,
    "pycharm": {
     "name": "#%%\n"
    }
   }
  },
  {
   "cell_type": "code",
   "execution_count": 26,
   "outputs": [],
   "source": [
    "y = df[\"sales\"]"
   ],
   "metadata": {
    "collapsed": false,
    "pycharm": {
     "name": "#%%\n"
    }
   }
  },
  {
   "cell_type": "code",
   "execution_count": 27,
   "outputs": [],
   "source": [
    "from sklearn.model_selection import train_test_split"
   ],
   "metadata": {
    "collapsed": false,
    "pycharm": {
     "name": "#%%\n"
    }
   }
  },
  {
   "cell_type": "markdown",
   "source": [
    "* First split:` X_train, X_other, y_train, y_other = train_test_split(X, y, test_size=0.3, random_state=101)`\n"
   ],
   "metadata": {
    "collapsed": false
   }
  },
  {
   "cell_type": "code",
   "execution_count": 28,
   "outputs": [],
   "source": [
    "X_train, X_other, y_train, y_other = train_test_split(X, y, test_size=0.3, random_state=101)"
   ],
   "metadata": {
    "collapsed": false,
    "pycharm": {
     "name": "#%%\n"
    }
   }
  },
  {
   "cell_type": "markdown",
   "source": [
    "* Second split: `X_train, X_test, y_train, y_test = train_test_split(X, y, test_size=0.3, random_state=101)`\n",
    "* `test_size = 0.5` (50% of 30% other ---> test = 15% of all data)"
   ],
   "metadata": {
    "collapsed": false
   }
  },
  {
   "cell_type": "code",
   "execution_count": 29,
   "outputs": [],
   "source": [
    "X_eval, X_test, y_eval, y_test = train_test_split(X_other, y_other, test_size=0.5, random_state=101)"
   ],
   "metadata": {
    "collapsed": false,
    "pycharm": {
     "name": "#%%\n"
    }
   }
  },
  {
   "cell_type": "code",
   "execution_count": 30,
   "outputs": [
    {
     "data": {
      "text/plain": "200"
     },
     "execution_count": 30,
     "metadata": {},
     "output_type": "execute_result"
    }
   ],
   "source": [
    "len(df)"
   ],
   "metadata": {
    "collapsed": false,
    "pycharm": {
     "name": "#%%\n"
    }
   }
  },
  {
   "cell_type": "code",
   "execution_count": 31,
   "outputs": [
    {
     "data": {
      "text/plain": "140"
     },
     "execution_count": 31,
     "metadata": {},
     "output_type": "execute_result"
    }
   ],
   "source": [
    "len(X_train)"
   ],
   "metadata": {
    "collapsed": false,
    "pycharm": {
     "name": "#%%\n"
    }
   }
  },
  {
   "cell_type": "code",
   "execution_count": 32,
   "outputs": [
    {
     "data": {
      "text/plain": "30"
     },
     "execution_count": 32,
     "metadata": {},
     "output_type": "execute_result"
    }
   ],
   "source": [
    "len(X_eval)"
   ],
   "metadata": {
    "collapsed": false,
    "pycharm": {
     "name": "#%%\n"
    }
   }
  },
  {
   "cell_type": "code",
   "execution_count": 33,
   "outputs": [
    {
     "data": {
      "text/plain": "30"
     },
     "execution_count": 33,
     "metadata": {},
     "output_type": "execute_result"
    }
   ],
   "source": [
    "len(X_test)"
   ],
   "metadata": {
    "collapsed": false,
    "pycharm": {
     "name": "#%%\n"
    }
   }
  },
  {
   "cell_type": "code",
   "execution_count": 34,
   "outputs": [],
   "source": [
    "from sklearn.preprocessing import StandardScaler"
   ],
   "metadata": {
    "collapsed": false,
    "pycharm": {
     "name": "#%%\n"
    }
   }
  },
  {
   "cell_type": "markdown",
   "source": [
    "* The model is trained in validate data"
   ],
   "metadata": {
    "collapsed": false
   }
  },
  {
   "cell_type": "code",
   "execution_count": 35,
   "outputs": [],
   "source": [
    "scaler = StandardScaler()"
   ],
   "metadata": {
    "collapsed": false,
    "pycharm": {
     "name": "#%%\n"
    }
   }
  },
  {
   "cell_type": "code",
   "execution_count": 36,
   "outputs": [
    {
     "data": {
      "text/plain": "StandardScaler()"
     },
     "execution_count": 36,
     "metadata": {},
     "output_type": "execute_result"
    }
   ],
   "source": [
    "scaler.fit(X_train)"
   ],
   "metadata": {
    "collapsed": false,
    "pycharm": {
     "name": "#%%\n"
    }
   }
  },
  {
   "cell_type": "code",
   "execution_count": 37,
   "outputs": [],
   "source": [
    "X_train = scaler.transform(X_train)"
   ],
   "metadata": {
    "collapsed": false,
    "pycharm": {
     "name": "#%%\n"
    }
   }
  },
  {
   "cell_type": "code",
   "execution_count": 38,
   "outputs": [],
   "source": [
    "X_test = scaler.transform(X_test)"
   ],
   "metadata": {
    "collapsed": false,
    "pycharm": {
     "name": "#%%\n"
    }
   }
  },
  {
   "cell_type": "code",
   "execution_count": 39,
   "outputs": [],
   "source": [
    "X_eval = scaler.transform(X_eval)"
   ],
   "metadata": {
    "collapsed": false,
    "pycharm": {
     "name": "#%%\n"
    }
   }
  },
  {
   "cell_type": "code",
   "execution_count": 40,
   "outputs": [],
   "source": [
    "from sklearn.linear_model import Ridge"
   ],
   "metadata": {
    "collapsed": false,
    "pycharm": {
     "name": "#%%\n"
    }
   }
  },
  {
   "cell_type": "code",
   "execution_count": 41,
   "outputs": [],
   "source": [
    "model_one = Ridge(alpha=100)"
   ],
   "metadata": {
    "collapsed": false,
    "pycharm": {
     "name": "#%%\n"
    }
   }
  },
  {
   "cell_type": "code",
   "execution_count": 42,
   "outputs": [
    {
     "data": {
      "text/plain": "Ridge(alpha=100)"
     },
     "execution_count": 42,
     "metadata": {},
     "output_type": "execute_result"
    }
   ],
   "source": [
    "model_one.fit(X_train, y_train)"
   ],
   "metadata": {
    "collapsed": false,
    "pycharm": {
     "name": "#%%\n"
    }
   }
  },
  {
   "cell_type": "code",
   "execution_count": 43,
   "outputs": [],
   "source": [
    "y_eval_pred = model_one.predict(X_eval)"
   ],
   "metadata": {
    "collapsed": false,
    "pycharm": {
     "name": "#%%\n"
    }
   }
  },
  {
   "cell_type": "code",
   "execution_count": 44,
   "outputs": [],
   "source": [
    "from sklearn.metrics import mean_squared_error"
   ],
   "metadata": {
    "collapsed": false,
    "pycharm": {
     "name": "#%%\n"
    }
   }
  },
  {
   "cell_type": "code",
   "execution_count": 45,
   "outputs": [
    {
     "data": {
      "text/plain": "7.320101458823869"
     },
     "execution_count": 45,
     "metadata": {},
     "output_type": "execute_result"
    }
   ],
   "source": [
    "mean_squared_error(y_eval, y_eval_pred)"
   ],
   "metadata": {
    "collapsed": false,
    "pycharm": {
     "name": "#%%\n"
    }
   }
  },
  {
   "cell_type": "code",
   "execution_count": 46,
   "outputs": [],
   "source": [
    "model_two = Ridge(alpha=1)"
   ],
   "metadata": {
    "collapsed": false,
    "pycharm": {
     "name": "#%%\n"
    }
   }
  },
  {
   "cell_type": "code",
   "execution_count": 47,
   "outputs": [
    {
     "data": {
      "text/plain": "Ridge(alpha=1)"
     },
     "execution_count": 47,
     "metadata": {},
     "output_type": "execute_result"
    }
   ],
   "source": [
    "model_two.fit(X_train, y_train)"
   ],
   "metadata": {
    "collapsed": false,
    "pycharm": {
     "name": "#%%\n"
    }
   }
  },
  {
   "cell_type": "code",
   "execution_count": 48,
   "outputs": [],
   "source": [
    "new_pre_eval = model_two.predict(X_eval)"
   ],
   "metadata": {
    "collapsed": false,
    "pycharm": {
     "name": "#%%\n"
    }
   }
  },
  {
   "cell_type": "code",
   "execution_count": 49,
   "outputs": [
    {
     "data": {
      "text/plain": "2.3837830750569853"
     },
     "execution_count": 49,
     "metadata": {},
     "output_type": "execute_result"
    }
   ],
   "source": [
    "mean_squared_error(y_eval, new_pre_eval)"
   ],
   "metadata": {
    "collapsed": false,
    "pycharm": {
     "name": "#%%\n"
    }
   }
  },
  {
   "cell_type": "markdown",
   "source": [
    "* In this case the cross validation model still not fair model! Still depend on the change of data (X_eval)\n",
    "* But put the test set to make it become the fair model\n",
    "* Final model choose: `model_two`"
   ],
   "metadata": {
    "collapsed": false
   }
  },
  {
   "cell_type": "code",
   "execution_count": 50,
   "outputs": [],
   "source": [
    "y_final_test_pred = model_two.predict(X_test)"
   ],
   "metadata": {
    "collapsed": false,
    "pycharm": {
     "name": "#%%\n"
    }
   }
  },
  {
   "cell_type": "markdown",
   "source": [
    "* A fair test set - the same percentage as the validation test"
   ],
   "metadata": {
    "collapsed": false
   }
  },
  {
   "cell_type": "code",
   "execution_count": 51,
   "outputs": [
    {
     "data": {
      "text/plain": "2.254260083800517"
     },
     "execution_count": 51,
     "metadata": {},
     "output_type": "execute_result"
    }
   ],
   "source": [
    "mean_squared_error(y_test, y_final_test_pred)"
   ],
   "metadata": {
    "collapsed": false,
    "pycharm": {
     "name": "#%%\n"
    }
   }
  },
  {
   "cell_type": "markdown",
   "source": [
    "What we are actually going to deploy to the real world is going to be a model that is fit and trained to the entire dataset, just X and Y.\n",
    "If you are going to train to everything you want to be able to then fairly evaluate the model on any subset of that same data it was trained on, which is why you now have this final test metric report right before you go retrain everything"
   ],
   "metadata": {
    "collapsed": false
   }
  },
  {
   "cell_type": "markdown",
   "source": [
    "# Cross Validation - using the cross_val_score function\n",
    "* Acquire the cross-validation to any machine learning model\n",
    "* Start with entire data set\n",
    "* Split data training data and test data\n",
    "* Remove Test data for final evaluation\n",
    "* Choose K-Fold Split Value for Training data\n",
    "* Recall larger K means more computation\n",
    "* The largest possible here is a single leave one out policy where you actually perform it as many as you have\n",
    "* Choose K-Fold Split Value for Training data\n",
    "* Here k = 5\n",
    "* Train on k-1 folds (4 folds) and validate on 1 fold\n",
    "* Obtain the first combination error metric for this fold\n",
    "* Repeat for another combination\n",
    "* Continue for all fold combinations\n",
    "* The advantage for cross-validation is you were able to evaluate your model as it was trained on all portions of the data at some point in time and validated on all portions of the data at some point in time\n",
    "* Use mean (or average) error for parameter adjustment\n",
    "* One you satisfy with this error, get final metrics from final test set\n",
    "* The **cross_val_score** function uses a model and training set (along  with a K and chosen metric) to perform all of this for us automatically!\n",
    "* This allows for K-Fold cross validation to be performed on any model"
   ],
   "metadata": {
    "collapsed": false
   }
  },
  {
   "cell_type": "code",
   "execution_count": 52,
   "outputs": [
    {
     "data": {
      "text/plain": "<PIL.PngImagePlugin.PngImageFile image mode=RGBA size=885x613 at 0x2DC32E8C6D0>",
      "image/png": "[encoded data removed]"
     },
     "execution_count": 52,
     "metadata": {},
     "output_type": "execute_result"
    }
   ],
   "source": [
    "from PIL import Image\n",
    "Image.open(r\"D:\\Data Science\\Course-2021\\10-Cross-Val-and-LinReg-Project\\grid_search_cross_validation.png\")"
   ],
   "metadata": {
    "collapsed": false,
    "pycharm": {
     "name": "#%%\n"
    }
   }
  },
  {
   "cell_type": "markdown",
   "source": [],
   "metadata": {
    "collapsed": false
   }
  },
  {
   "cell_type": "code",
   "execution_count": 53,
   "outputs": [],
   "source": [
    "X = df.drop(\"sales\", axis=1)"
   ],
   "metadata": {
    "collapsed": false,
    "pycharm": {
     "name": "#%%\n"
    }
   }
  },
  {
   "cell_type": "code",
   "execution_count": 54,
   "outputs": [],
   "source": [
    "y = df[\"sales\"]"
   ],
   "metadata": {
    "collapsed": false,
    "pycharm": {
     "name": "#%%\n"
    }
   }
  },
  {
   "cell_type": "code",
   "execution_count": 55,
   "outputs": [],
   "source": [
    "from sklearn.model_selection import  train_test_split"
   ],
   "metadata": {
    "collapsed": false,
    "pycharm": {
     "name": "#%%\n"
    }
   }
  },
  {
   "cell_type": "code",
   "execution_count": 56,
   "outputs": [],
   "source": [
    "X_train, X_test, y_train, y_test = train_test_split(X, y, test_size=0.3, random_state=101)"
   ],
   "metadata": {
    "collapsed": false,
    "pycharm": {
     "name": "#%%\n"
    }
   }
  },
  {
   "cell_type": "code",
   "execution_count": 57,
   "outputs": [],
   "source": [
    "from sklearn.preprocessing import StandardScaler"
   ],
   "metadata": {
    "collapsed": false,
    "pycharm": {
     "name": "#%%\n"
    }
   }
  },
  {
   "cell_type": "code",
   "execution_count": 58,
   "outputs": [],
   "source": [
    "scaler = StandardScaler()"
   ],
   "metadata": {
    "collapsed": false,
    "pycharm": {
     "name": "#%%\n"
    }
   }
  },
  {
   "cell_type": "code",
   "execution_count": 59,
   "outputs": [
    {
     "data": {
      "text/plain": "StandardScaler()"
     },
     "execution_count": 59,
     "metadata": {},
     "output_type": "execute_result"
    }
   ],
   "source": [
    "scaler.fit(X_train)"
   ],
   "metadata": {
    "collapsed": false,
    "pycharm": {
     "name": "#%%\n"
    }
   }
  },
  {
   "cell_type": "code",
   "execution_count": 60,
   "outputs": [],
   "source": [
    "X_train = scaler.transform(X_train)"
   ],
   "metadata": {
    "collapsed": false,
    "pycharm": {
     "name": "#%%\n"
    }
   }
  },
  {
   "cell_type": "code",
   "execution_count": 61,
   "outputs": [],
   "source": [
    "X_test = scaler.transform(X_test)"
   ],
   "metadata": {
    "collapsed": false,
    "pycharm": {
     "name": "#%%\n"
    }
   }
  },
  {
   "cell_type": "code",
   "execution_count": 62,
   "outputs": [],
   "source": [
    "model = Ridge(alpha=100)"
   ],
   "metadata": {
    "collapsed": false,
    "pycharm": {
     "name": "#%%\n"
    }
   }
  },
  {
   "cell_type": "code",
   "execution_count": 63,
   "outputs": [],
   "source": [
    "from sklearn.model_selection import cross_val_score"
   ],
   "metadata": {
    "collapsed": false,
    "pycharm": {
     "name": "#%%\n"
    }
   }
  },
  {
   "cell_type": "markdown",
   "source": [
    "* `estimator` is internal word for machine learning model because it's estimating some output\n",
    "* X, y are going to be X train and y train\n",
    "* `scoring` is just a error that is reported back\n",
    "* link: `https://scikit-learn.org/stable/modules/model_evaluation.html` show all the available scoring\n",
    "* `cv` is the fold value"
   ],
   "metadata": {
    "collapsed": false
   }
  },
  {
   "cell_type": "code",
   "execution_count": 64,
   "outputs": [],
   "source": [
    "scores = cross_val_score(model, X_train, y_train, scoring=\"neg_mean_squared_error\",\n",
    "                         cv=5)"
   ],
   "metadata": {
    "collapsed": false,
    "pycharm": {
     "name": "#%%\n"
    }
   }
  },
  {
   "cell_type": "markdown",
   "source": [
    "* `neg_mean_squared_error` higher is better"
   ],
   "metadata": {
    "collapsed": false
   }
  },
  {
   "cell_type": "code",
   "execution_count": 65,
   "outputs": [
    {
     "data": {
      "text/plain": "array([ -9.32552967,  -4.9449624 , -11.39665242,  -7.0242106 ,\n        -8.38562723])"
     },
     "execution_count": 65,
     "metadata": {},
     "output_type": "execute_result"
    }
   ],
   "source": [
    "scores"
   ],
   "metadata": {
    "collapsed": false,
    "pycharm": {
     "name": "#%%\n"
    }
   }
  },
  {
   "cell_type": "code",
   "execution_count": 66,
   "outputs": [
    {
     "data": {
      "text/plain": "8.215396464543607"
     },
     "execution_count": 66,
     "metadata": {},
     "output_type": "execute_result"
    }
   ],
   "source": [
    "abs(scores.mean())"
   ],
   "metadata": {
    "collapsed": false,
    "pycharm": {
     "name": "#%%\n"
    }
   }
  },
  {
   "cell_type": "markdown",
   "source": [
    "* Run another model with alpha = 1"
   ],
   "metadata": {
    "collapsed": false
   }
  },
  {
   "cell_type": "code",
   "execution_count": 67,
   "outputs": [],
   "source": [
    "model = Ridge(alpha=1)"
   ],
   "metadata": {
    "collapsed": false,
    "pycharm": {
     "name": "#%%\n"
    }
   }
  },
  {
   "cell_type": "code",
   "execution_count": 68,
   "outputs": [],
   "source": [
    "scores = cross_val_score(model, X_train, y_train, scoring=\"neg_mean_squared_error\", cv=5)"
   ],
   "metadata": {
    "collapsed": false,
    "pycharm": {
     "name": "#%%\n"
    }
   }
  },
  {
   "cell_type": "markdown",
   "source": [
    "* The return the list of scores for each fold"
   ],
   "metadata": {
    "collapsed": false
   }
  },
  {
   "cell_type": "code",
   "execution_count": 69,
   "outputs": [
    {
     "data": {
      "text/plain": "array([-3.15513238, -1.58086982, -5.40455562, -2.21654481, -4.36709384])"
     },
     "execution_count": 69,
     "metadata": {},
     "output_type": "execute_result"
    }
   ],
   "source": [
    "scores"
   ],
   "metadata": {
    "collapsed": false,
    "pycharm": {
     "name": "#%%\n"
    }
   }
  },
  {
   "cell_type": "markdown",
   "source": [
    "* It's better than alpha = 100"
   ],
   "metadata": {
    "collapsed": false
   }
  },
  {
   "cell_type": "markdown",
   "source": [
    "* Assume that you are satisfied with the evaluation of score"
   ],
   "metadata": {
    "collapsed": false
   }
  },
  {
   "cell_type": "code",
   "execution_count": 70,
   "outputs": [
    {
     "data": {
      "text/plain": "3.344839296530695"
     },
     "execution_count": 70,
     "metadata": {},
     "output_type": "execute_result"
    }
   ],
   "source": [
    "abs(scores.mean())"
   ],
   "metadata": {
    "collapsed": false,
    "pycharm": {
     "name": "#%%\n"
    }
   }
  },
  {
   "cell_type": "markdown",
   "source": [
    "* The model above is only fit within **cross validation** score in order to produce these `scores` back out\n",
    "* We need to do is fit the model on all the training data again to perform that final\n",
    "* You need to fit again to do the sort of prediction on some final test set"
   ],
   "metadata": {
    "collapsed": false
   }
  },
  {
   "cell_type": "code",
   "execution_count": 71,
   "outputs": [
    {
     "data": {
      "text/plain": "Ridge(alpha=1)"
     },
     "execution_count": 71,
     "metadata": {},
     "output_type": "execute_result"
    }
   ],
   "source": [
    "model.fit(X_train, y_train)"
   ],
   "metadata": {
    "collapsed": false,
    "pycharm": {
     "name": "#%%\n"
    }
   }
  },
  {
   "cell_type": "markdown",
   "source": [
    "* Test on final data"
   ],
   "metadata": {
    "collapsed": false
   }
  },
  {
   "cell_type": "code",
   "execution_count": 72,
   "outputs": [],
   "source": [
    "y_final_test_pred = model.predict(X_test)"
   ],
   "metadata": {
    "collapsed": false,
    "pycharm": {
     "name": "#%%\n"
    }
   }
  },
  {
   "cell_type": "code",
   "execution_count": 73,
   "outputs": [
    {
     "data": {
      "text/plain": "2.3190215794287514"
     },
     "execution_count": 73,
     "metadata": {},
     "output_type": "execute_result"
    }
   ],
   "source": [
    "mean_squared_error(y_test, y_final_test_pred)"
   ],
   "metadata": {
    "collapsed": false,
    "pycharm": {
     "name": "#%%\n"
    }
   }
  },
  {
   "cell_type": "markdown",
   "source": [
    "# Cross validation - using the cross_validate function\n",
    "* The \"cross_validate\" function allows us to view multiple performance metrics from cross validation on a model and explore how much time fitting and testing took\n",
    "* The only tradeoff with cross validation is just more computational time\n",
    "* Let's quickly review how to use this function call!"
   ],
   "metadata": {
    "collapsed": false
   }
  },
  {
   "cell_type": "code",
   "execution_count": 74,
   "outputs": [],
   "source": [
    "## CREATE X AND Y\n",
    "X = df.drop(\"sales\", axis=1)\n",
    "y = df[\"sales\"]\n",
    "\n",
    "# TRAIN TEST SPLIT\n",
    "from sklearn.model_selection import train_test_split\n",
    "X_train, X_test, y_train, y_test = train_test_split(X, y, test_size=0.3, random_state=101)\n",
    "\n",
    "# SCALE data\n",
    "from sklearn.preprocessing import StandardScaler\n",
    "scaler = StandardScaler()\n",
    "scaler.fit(X_train)\n",
    "X_train = scaler.transform(X_train)\n",
    "X_test = scaler.transform(X_test)"
   ],
   "metadata": {
    "collapsed": false,
    "pycharm": {
     "name": "#%%\n"
    }
   }
  },
  {
   "cell_type": "code",
   "execution_count": 75,
   "outputs": [],
   "source": [
    "from sklearn.model_selection import cross_validate"
   ],
   "metadata": {
    "collapsed": false,
    "pycharm": {
     "name": "#%%\n"
    }
   }
  },
  {
   "cell_type": "code",
   "execution_count": 76,
   "outputs": [],
   "source": [
    "model = Ridge(alpha=100)"
   ],
   "metadata": {
    "collapsed": false,
    "pycharm": {
     "name": "#%%\n"
    }
   }
  },
  {
   "cell_type": "markdown",
   "source": [
    "* Using the `cross_validate` to check if cross validation is reasonable or not\n",
    "* Checking the for the available scoring: https://scikit-lear.org/stable/modules/model_evaluation.html\n",
    "* We are doing the `regression` task"
   ],
   "metadata": {
    "collapsed": false
   }
  },
  {
   "cell_type": "code",
   "execution_count": 77,
   "outputs": [],
   "source": [
    "scores = cross_validate(model, X_train, y_train,\n",
    "                        scoring=[\"neg_mean_absolute_error\", \"neg_mean_squared_error\"], cv=10)"
   ],
   "metadata": {
    "collapsed": false,
    "pycharm": {
     "name": "#%%\n"
    }
   }
  },
  {
   "cell_type": "code",
   "execution_count": 78,
   "outputs": [
    {
     "data": {
      "text/plain": "{'fit_time': array([0.00099802, 0.        , 0.0009985 , 0.        , 0.00082588,\n        0.00099421, 0.00099683, 0.00099754, 0.00099754, 0.0009973 ]),\n 'score_time': array([0.        , 0.00099707, 0.        , 0.00125909, 0.        ,\n        0.        , 0.        , 0.        , 0.        , 0.        ]),\n 'test_neg_mean_absolute_error': array([-1.8102116 , -2.54195751, -1.46959386, -1.86276886, -2.52069737,\n        -2.45999491, -1.45197069, -2.37739501, -2.44334397, -1.89979708]),\n 'test_neg_mean_squared_error': array([ -6.06067062, -10.62703078,  -3.99342608,  -5.00949402,\n         -9.14179955, -13.08625636,  -3.83940454,  -9.05878567,\n         -9.05545685,  -5.77888211])}"
     },
     "execution_count": 78,
     "metadata": {},
     "output_type": "execute_result"
    }
   ],
   "source": [
    "scores"
   ],
   "metadata": {
    "collapsed": false,
    "pycharm": {
     "name": "#%%\n"
    }
   }
  },
  {
   "cell_type": "markdown",
   "source": [
    "* Transfer it into the DataFrame to display more clear"
   ],
   "metadata": {
    "collapsed": false
   }
  },
  {
   "cell_type": "code",
   "execution_count": 79,
   "outputs": [],
   "source": [
    "scores =pd.DataFrame(scores)"
   ],
   "metadata": {
    "collapsed": false,
    "pycharm": {
     "name": "#%%\n"
    }
   }
  },
  {
   "cell_type": "code",
   "execution_count": 80,
   "outputs": [
    {
     "data": {
      "text/plain": "   fit_time  score_time  test_neg_mean_absolute_error  \\\n0  0.000998    0.000000                     -1.810212   \n1  0.000000    0.000997                     -2.541958   \n2  0.000998    0.000000                     -1.469594   \n3  0.000000    0.001259                     -1.862769   \n4  0.000826    0.000000                     -2.520697   \n5  0.000994    0.000000                     -2.459995   \n6  0.000997    0.000000                     -1.451971   \n7  0.000998    0.000000                     -2.377395   \n8  0.000998    0.000000                     -2.443344   \n9  0.000997    0.000000                     -1.899797   \n\n   test_neg_mean_squared_error  \n0                    -6.060671  \n1                   -10.627031  \n2                    -3.993426  \n3                    -5.009494  \n4                    -9.141800  \n5                   -13.086256  \n6                    -3.839405  \n7                    -9.058786  \n8                    -9.055457  \n9                    -5.778882  ",
      "text/html": "<div>\n<style scoped>\n    .dataframe tbody tr th:only-of-type {\n        vertical-align: middle;\n    }\n\n    .dataframe tbody tr th {\n        vertical-align: top;\n    }\n\n    .dataframe thead th {\n        text-align: right;\n    }\n</style>\n<table border=\"1\" class=\"dataframe\">\n  <thead>\n    <tr style=\"text-align: right;\">\n      <th></th>\n      <th>fit_time</th>\n      <th>score_time</th>\n      <th>test_neg_mean_absolute_error</th>\n      <th>test_neg_mean_squared_error</th>\n    </tr>\n  </thead>\n  <tbody>\n    <tr>\n      <th>0</th>\n      <td>0.000998</td>\n      <td>0.000000</td>\n      <td>-1.810212</td>\n      <td>-6.060671</td>\n    </tr>\n    <tr>\n      <th>1</th>\n      <td>0.000000</td>\n      <td>0.000997</td>\n      <td>-2.541958</td>\n      <td>-10.627031</td>\n    </tr>\n    <tr>\n      <th>2</th>\n      <td>0.000998</td>\n      <td>0.000000</td>\n      <td>-1.469594</td>\n      <td>-3.993426</td>\n    </tr>\n    <tr>\n      <th>3</th>\n      <td>0.000000</td>\n      <td>0.001259</td>\n      <td>-1.862769</td>\n      <td>-5.009494</td>\n    </tr>\n    <tr>\n      <th>4</th>\n      <td>0.000826</td>\n      <td>0.000000</td>\n      <td>-2.520697</td>\n      <td>-9.141800</td>\n    </tr>\n    <tr>\n      <th>5</th>\n      <td>0.000994</td>\n      <td>0.000000</td>\n      <td>-2.459995</td>\n      <td>-13.086256</td>\n    </tr>\n    <tr>\n      <th>6</th>\n      <td>0.000997</td>\n      <td>0.000000</td>\n      <td>-1.451971</td>\n      <td>-3.839405</td>\n    </tr>\n    <tr>\n      <th>7</th>\n      <td>0.000998</td>\n      <td>0.000000</td>\n      <td>-2.377395</td>\n      <td>-9.058786</td>\n    </tr>\n    <tr>\n      <th>8</th>\n      <td>0.000998</td>\n      <td>0.000000</td>\n      <td>-2.443344</td>\n      <td>-9.055457</td>\n    </tr>\n    <tr>\n      <th>9</th>\n      <td>0.000997</td>\n      <td>0.000000</td>\n      <td>-1.899797</td>\n      <td>-5.778882</td>\n    </tr>\n  </tbody>\n</table>\n</div>"
     },
     "execution_count": 80,
     "metadata": {},
     "output_type": "execute_result"
    }
   ],
   "source": [
    "scores"
   ],
   "metadata": {
    "collapsed": false,
    "pycharm": {
     "name": "#%%\n"
    }
   }
  },
  {
   "cell_type": "code",
   "execution_count": 81,
   "outputs": [
    {
     "data": {
      "text/plain": "fit_time                        0.000781\nscore_time                      0.000226\ntest_neg_mean_absolute_error   -2.083773\ntest_neg_mean_squared_error    -7.565121\ndtype: float64"
     },
     "execution_count": 81,
     "metadata": {},
     "output_type": "execute_result"
    }
   ],
   "source": [
    "scores.mean()"
   ],
   "metadata": {
    "collapsed": false,
    "pycharm": {
     "name": "#%%\n"
    }
   }
  },
  {
   "cell_type": "code",
   "execution_count": 82,
   "outputs": [],
   "source": [
    "model = Ridge(alpha=1)"
   ],
   "metadata": {
    "collapsed": false,
    "pycharm": {
     "name": "#%%\n"
    }
   }
  },
  {
   "cell_type": "code",
   "execution_count": 83,
   "outputs": [],
   "source": [
    "scores = cross_validate(model, X_train, y_train,\n",
    "                        scoring=[\"neg_mean_absolute_error\", \"neg_mean_squared_error\"], cv=10)"
   ],
   "metadata": {
    "collapsed": false,
    "pycharm": {
     "name": "#%%\n"
    }
   }
  },
  {
   "cell_type": "code",
   "execution_count": 84,
   "outputs": [],
   "source": [
    "scores = pd.DataFrame(scores)"
   ],
   "metadata": {
    "collapsed": false,
    "pycharm": {
     "name": "#%%\n"
    }
   }
  },
  {
   "cell_type": "code",
   "execution_count": 85,
   "outputs": [
    {
     "data": {
      "text/plain": "   fit_time  score_time  test_neg_mean_absolute_error  \\\n0  0.000993    0.000998                     -1.457174   \n1  0.000997    0.000000                     -1.555308   \n2  0.000997    0.000000                     -1.238770   \n3  0.000998    0.000000                     -0.768938   \n4  0.000998    0.000000                     -1.434489   \n5  0.000000    0.000000                     -1.494316   \n6  0.000997    0.000000                     -1.081362   \n7  0.000997    0.000000                     -1.250011   \n8  0.000000    0.000000                     -1.580971   \n9  0.000000    0.000998                     -1.223326   \n\n   test_neg_mean_squared_error  \n0                    -2.962508  \n1                    -3.057378  \n2                    -2.173740  \n3                    -0.833034  \n4                    -3.464018  \n5                    -8.232647  \n6                    -1.905864  \n7                    -2.765048  \n8                    -4.989505  \n9                    -2.846438  ",
      "text/html": "<div>\n<style scoped>\n    .dataframe tbody tr th:only-of-type {\n        vertical-align: middle;\n    }\n\n    .dataframe tbody tr th {\n        vertical-align: top;\n    }\n\n    .dataframe thead th {\n        text-align: right;\n    }\n</style>\n<table border=\"1\" class=\"dataframe\">\n  <thead>\n    <tr style=\"text-align: right;\">\n      <th></th>\n      <th>fit_time</th>\n      <th>score_time</th>\n      <th>test_neg_mean_absolute_error</th>\n      <th>test_neg_mean_squared_error</th>\n    </tr>\n  </thead>\n  <tbody>\n    <tr>\n      <th>0</th>\n      <td>0.000993</td>\n      <td>0.000998</td>\n      <td>-1.457174</td>\n      <td>-2.962508</td>\n    </tr>\n    <tr>\n      <th>1</th>\n      <td>0.000997</td>\n      <td>0.000000</td>\n      <td>-1.555308</td>\n      <td>-3.057378</td>\n    </tr>\n    <tr>\n      <th>2</th>\n      <td>0.000997</td>\n      <td>0.000000</td>\n      <td>-1.238770</td>\n      <td>-2.173740</td>\n    </tr>\n    <tr>\n      <th>3</th>\n      <td>0.000998</td>\n      <td>0.000000</td>\n      <td>-0.768938</td>\n      <td>-0.833034</td>\n    </tr>\n    <tr>\n      <th>4</th>\n      <td>0.000998</td>\n      <td>0.000000</td>\n      <td>-1.434489</td>\n      <td>-3.464018</td>\n    </tr>\n    <tr>\n      <th>5</th>\n      <td>0.000000</td>\n      <td>0.000000</td>\n      <td>-1.494316</td>\n      <td>-8.232647</td>\n    </tr>\n    <tr>\n      <th>6</th>\n      <td>0.000997</td>\n      <td>0.000000</td>\n      <td>-1.081362</td>\n      <td>-1.905864</td>\n    </tr>\n    <tr>\n      <th>7</th>\n      <td>0.000997</td>\n      <td>0.000000</td>\n      <td>-1.250011</td>\n      <td>-2.765048</td>\n    </tr>\n    <tr>\n      <th>8</th>\n      <td>0.000000</td>\n      <td>0.000000</td>\n      <td>-1.580971</td>\n      <td>-4.989505</td>\n    </tr>\n    <tr>\n      <th>9</th>\n      <td>0.000000</td>\n      <td>0.000998</td>\n      <td>-1.223326</td>\n      <td>-2.846438</td>\n    </tr>\n  </tbody>\n</table>\n</div>"
     },
     "execution_count": 85,
     "metadata": {},
     "output_type": "execute_result"
    }
   ],
   "source": [
    "scores"
   ],
   "metadata": {
    "collapsed": false,
    "pycharm": {
     "name": "#%%\n"
    }
   }
  },
  {
   "cell_type": "markdown",
   "source": [
    "* Check out the mean to decide how well the data performance"
   ],
   "metadata": {
    "collapsed": false
   }
  },
  {
   "cell_type": "code",
   "execution_count": 86,
   "outputs": [
    {
     "data": {
      "text/plain": "fit_time                        0.000698\nscore_time                      0.000200\ntest_neg_mean_absolute_error   -1.308467\ntest_neg_mean_squared_error    -3.323018\ndtype: float64"
     },
     "execution_count": 86,
     "metadata": {},
     "output_type": "execute_result"
    }
   ],
   "source": [
    "scores.mean()"
   ],
   "metadata": {
    "collapsed": false,
    "pycharm": {
     "name": "#%%\n"
    }
   }
  },
  {
   "cell_type": "code",
   "execution_count": 87,
   "outputs": [
    {
     "data": {
      "text/plain": "Ridge(alpha=1)"
     },
     "execution_count": 87,
     "metadata": {},
     "output_type": "execute_result"
    }
   ],
   "source": [
    "model.fit(X_train, y_train)"
   ],
   "metadata": {
    "collapsed": false,
    "pycharm": {
     "name": "#%%\n"
    }
   }
  },
  {
   "cell_type": "code",
   "execution_count": 88,
   "outputs": [],
   "source": [
    "y_final_test_pred = model.predict(X_test)"
   ],
   "metadata": {
    "collapsed": false,
    "pycharm": {
     "name": "#%%\n"
    }
   }
  },
  {
   "cell_type": "code",
   "execution_count": 89,
   "outputs": [
    {
     "data": {
      "text/plain": "2.3190215794287514"
     },
     "execution_count": 89,
     "metadata": {},
     "output_type": "execute_result"
    }
   ],
   "source": [
    "mean_squared_error(y_test, y_final_test_pred)"
   ],
   "metadata": {
    "collapsed": false,
    "pycharm": {
     "name": "#%%\n"
    }
   }
  },
  {
   "cell_type": "markdown",
   "source": [
    "# Grid Search\n",
    "* Often more complex models have multiple adjustable hyper parameters\n",
    "* A grid search is a way of training and validating a model on every possible combination of multiple hyper parameter options\n",
    "* Scikit-Learn includes a **GridSearchCV** class capable of testing a dictionary of multiple hyperparameter options through cross-validation\n",
    "* This allows for both cross-validation and a grid search to be performed in a generalized way for any model"
   ],
   "metadata": {
    "collapsed": false
   }
  },
  {
   "cell_type": "markdown",
   "source": [],
   "metadata": {
    "collapsed": false
   }
  },
  {
   "cell_type": "code",
   "execution_count": 90,
   "outputs": [],
   "source": [
    "df = pd.read_csv(\"..\\Course-2021\\DATA\\Advertising.csv\")"
   ],
   "metadata": {
    "collapsed": false,
    "pycharm": {
     "name": "#%%\n"
    }
   }
  },
  {
   "cell_type": "code",
   "execution_count": 91,
   "outputs": [],
   "source": [
    "## CREATE X AND Y\n",
    "X = df.drop(\"sales\", axis=1)\n",
    "y = df[\"sales\"]\n",
    "\n",
    "# TRAIN TEST SPLIT\n",
    "from sklearn.model_selection import train_test_split\n",
    "X_train, X_test, y_train, y_test = train_test_split(X, y, test_size=0.3, random_state=101)\n",
    "\n",
    "# SCALE data\n",
    "from sklearn.preprocessing import StandardScaler\n",
    "scaler = StandardScaler()\n",
    "scaler.fit(X_train)\n",
    "X_train = scaler.transform(X_train)\n",
    "X_test = scaler.transform(X_test)"
   ],
   "metadata": {
    "collapsed": false,
    "pycharm": {
     "name": "#%%\n"
    }
   }
  },
  {
   "cell_type": "markdown",
   "source": [
    "* Let's imagine we're using a model that actually has two or more hyper parameters to adjust\n",
    "* What we could do is test every single combination of those two hyper parameters that we define\n",
    "* Let's explore the model that have multiple hyperparameters\n",
    "* Use the Elastic model to figure out how much we should use of regression, essentially how much the use of the squared penalty term versus the absolute value penalty term"
   ],
   "metadata": {
    "collapsed": false
   }
  },
  {
   "cell_type": "code",
   "execution_count": 92,
   "outputs": [],
   "source": [
    "from sklearn.linear_model import ElasticNet"
   ],
   "metadata": {
    "collapsed": false,
    "pycharm": {
     "name": "#%%\n"
    }
   }
  },
  {
   "cell_type": "code",
   "execution_count": 93,
   "outputs": [
    {
     "name": "stdout",
     "output_type": "stream",
     "text": [
      "Help on class ElasticNet in module sklearn.linear_model._coordinate_descent:\n",
      "\n",
      "class ElasticNet(sklearn.base.MultiOutputMixin, sklearn.base.RegressorMixin, sklearn.linear_model._base.LinearModel)\n",
      " |  ElasticNet(alpha=1.0, *, l1_ratio=0.5, fit_intercept=True, normalize='deprecated', precompute=False, max_iter=1000, copy_X=True, tol=0.0001, warm_start=False, positive=False, random_state=None, selection='cyclic')\n",
      " |  \n",
      " |  Linear regression with combined L1 and L2 priors as regularizer.\n",
      " |  \n",
      " |  Minimizes the objective function::\n",
      " |  \n",
      " |          1 / (2 * n_samples) * ||y - Xw||^2_2\n",
      " |          + alpha * l1_ratio * ||w||_1\n",
      " |          + 0.5 * alpha * (1 - l1_ratio) * ||w||^2_2\n",
      " |  \n",
      " |  If you are interested in controlling the L1 and L2 penalty\n",
      " |  separately, keep in mind that this is equivalent to::\n",
      " |  \n",
      " |          a * ||w||_1 + 0.5 * b * ||w||_2^2\n",
      " |  \n",
      " |  where::\n",
      " |  \n",
      " |          alpha = a + b and l1_ratio = a / (a + b)\n",
      " |  \n",
      " |  The parameter l1_ratio corresponds to alpha in the glmnet R package while\n",
      " |  alpha corresponds to the lambda parameter in glmnet. Specifically, l1_ratio\n",
      " |  = 1 is the lasso penalty. Currently, l1_ratio <= 0.01 is not reliable,\n",
      " |  unless you supply your own sequence of alpha.\n",
      " |  \n",
      " |  Read more in the :ref:`User Guide <elastic_net>`.\n",
      " |  \n",
      " |  Parameters\n",
      " |  ----------\n",
      " |  alpha : float, default=1.0\n",
      " |      Constant that multiplies the penalty terms. Defaults to 1.0.\n",
      " |      See the notes for the exact mathematical meaning of this\n",
      " |      parameter. ``alpha = 0`` is equivalent to an ordinary least square,\n",
      " |      solved by the :class:`LinearRegression` object. For numerical\n",
      " |      reasons, using ``alpha = 0`` with the ``Lasso`` object is not advised.\n",
      " |      Given this, you should use the :class:`LinearRegression` object.\n",
      " |  \n",
      " |  l1_ratio : float, default=0.5\n",
      " |      The ElasticNet mixing parameter, with ``0 <= l1_ratio <= 1``. For\n",
      " |      ``l1_ratio = 0`` the penalty is an L2 penalty. ``For l1_ratio = 1`` it\n",
      " |      is an L1 penalty.  For ``0 < l1_ratio < 1``, the penalty is a\n",
      " |      combination of L1 and L2.\n",
      " |  \n",
      " |  fit_intercept : bool, default=True\n",
      " |      Whether the intercept should be estimated or not. If ``False``, the\n",
      " |      data is assumed to be already centered.\n",
      " |  \n",
      " |  normalize : bool, default=False\n",
      " |      This parameter is ignored when ``fit_intercept`` is set to False.\n",
      " |      If True, the regressors X will be normalized before regression by\n",
      " |      subtracting the mean and dividing by the l2-norm.\n",
      " |      If you wish to standardize, please use\n",
      " |      :class:`~sklearn.preprocessing.StandardScaler` before calling ``fit``\n",
      " |      on an estimator with ``normalize=False``.\n",
      " |  \n",
      " |      .. deprecated:: 1.0\n",
      " |          ``normalize`` was deprecated in version 1.0 and will be removed in\n",
      " |          1.2.\n",
      " |  \n",
      " |  precompute : bool or array-like of shape (n_features, n_features),                 default=False\n",
      " |      Whether to use a precomputed Gram matrix to speed up\n",
      " |      calculations. The Gram matrix can also be passed as argument.\n",
      " |      For sparse input this option is always ``False`` to preserve sparsity.\n",
      " |  \n",
      " |  max_iter : int, default=1000\n",
      " |      The maximum number of iterations.\n",
      " |  \n",
      " |  copy_X : bool, default=True\n",
      " |      If ``True``, X will be copied; else, it may be overwritten.\n",
      " |  \n",
      " |  tol : float, default=1e-4\n",
      " |      The tolerance for the optimization: if the updates are\n",
      " |      smaller than ``tol``, the optimization code checks the\n",
      " |      dual gap for optimality and continues until it is smaller\n",
      " |      than ``tol``.\n",
      " |  \n",
      " |  warm_start : bool, default=False\n",
      " |      When set to ``True``, reuse the solution of the previous call to fit as\n",
      " |      initialization, otherwise, just erase the previous solution.\n",
      " |      See :term:`the Glossary <warm_start>`.\n",
      " |  \n",
      " |  positive : bool, default=False\n",
      " |      When set to ``True``, forces the coefficients to be positive.\n",
      " |  \n",
      " |  random_state : int, RandomState instance, default=None\n",
      " |      The seed of the pseudo random number generator that selects a random\n",
      " |      feature to update. Used when ``selection`` == 'random'.\n",
      " |      Pass an int for reproducible output across multiple function calls.\n",
      " |      See :term:`Glossary <random_state>`.\n",
      " |  \n",
      " |  selection : {'cyclic', 'random'}, default='cyclic'\n",
      " |      If set to 'random', a random coefficient is updated every iteration\n",
      " |      rather than looping over features sequentially by default. This\n",
      " |      (setting to 'random') often leads to significantly faster convergence\n",
      " |      especially when tol is higher than 1e-4.\n",
      " |  \n",
      " |  Attributes\n",
      " |  ----------\n",
      " |  coef_ : ndarray of shape (n_features,) or (n_targets, n_features)\n",
      " |      Parameter vector (w in the cost function formula).\n",
      " |  \n",
      " |  sparse_coef_ : sparse matrix of shape (n_features,) or             (n_targets, n_features)\n",
      " |      Sparse representation of the `coef_`.\n",
      " |  \n",
      " |  intercept_ : float or ndarray of shape (n_targets,)\n",
      " |      Independent term in decision function.\n",
      " |  \n",
      " |  n_iter_ : list of int\n",
      " |      Number of iterations run by the coordinate descent solver to reach\n",
      " |      the specified tolerance.\n",
      " |  \n",
      " |  dual_gap_ : float or ndarray of shape (n_targets,)\n",
      " |      Given param alpha, the dual gaps at the end of the optimization,\n",
      " |      same shape as each observation of y.\n",
      " |  \n",
      " |  n_features_in_ : int\n",
      " |      Number of features seen during :term:`fit`.\n",
      " |  \n",
      " |      .. versionadded:: 0.24\n",
      " |  \n",
      " |  feature_names_in_ : ndarray of shape (`n_features_in_`,)\n",
      " |      Names of features seen during :term:`fit`. Defined only when `X`\n",
      " |      has feature names that are all strings.\n",
      " |  \n",
      " |      .. versionadded:: 1.0\n",
      " |  \n",
      " |  See Also\n",
      " |  --------\n",
      " |  ElasticNetCV : Elastic net model with best model selection by\n",
      " |      cross-validation.\n",
      " |  SGDRegressor : Implements elastic net regression with incremental training.\n",
      " |  SGDClassifier : Implements logistic regression with elastic net penalty\n",
      " |      (``SGDClassifier(loss=\"log\", penalty=\"elasticnet\")``).\n",
      " |  \n",
      " |  Notes\n",
      " |  -----\n",
      " |  To avoid unnecessary memory duplication the X argument of the fit method\n",
      " |  should be directly passed as a Fortran-contiguous numpy array.\n",
      " |  \n",
      " |  Examples\n",
      " |  --------\n",
      " |  >>> from sklearn.linear_model import ElasticNet\n",
      " |  >>> from sklearn.datasets import make_regression\n",
      " |  \n",
      " |  >>> X, y = make_regression(n_features=2, random_state=0)\n",
      " |  >>> regr = ElasticNet(random_state=0)\n",
      " |  >>> regr.fit(X, y)\n",
      " |  ElasticNet(random_state=0)\n",
      " |  >>> print(regr.coef_)\n",
      " |  [18.83816048 64.55968825]\n",
      " |  >>> print(regr.intercept_)\n",
      " |  1.451...\n",
      " |  >>> print(regr.predict([[0, 0]]))\n",
      " |  [1.451...]\n",
      " |  \n",
      " |  Method resolution order:\n",
      " |      ElasticNet\n",
      " |      sklearn.base.MultiOutputMixin\n",
      " |      sklearn.base.RegressorMixin\n",
      " |      sklearn.linear_model._base.LinearModel\n",
      " |      sklearn.base.BaseEstimator\n",
      " |      builtins.object\n",
      " |  \n",
      " |  Methods defined here:\n",
      " |  \n",
      " |  __init__(self, alpha=1.0, *, l1_ratio=0.5, fit_intercept=True, normalize='deprecated', precompute=False, max_iter=1000, copy_X=True, tol=0.0001, warm_start=False, positive=False, random_state=None, selection='cyclic')\n",
      " |      Initialize self.  See help(type(self)) for accurate signature.\n",
      " |  \n",
      " |  fit(self, X, y, sample_weight=None, check_input=True)\n",
      " |      Fit model with coordinate descent.\n",
      " |      \n",
      " |      Parameters\n",
      " |      ----------\n",
      " |      X : {ndarray, sparse matrix} of (n_samples, n_features)\n",
      " |          Data.\n",
      " |      \n",
      " |      y : {ndarray, sparse matrix} of shape (n_samples,) or             (n_samples, n_targets)\n",
      " |          Target. Will be cast to X's dtype if necessary.\n",
      " |      \n",
      " |      sample_weight : float or array-like of shape (n_samples,), default=None\n",
      " |          Sample weights. Internally, the `sample_weight` vector will be\n",
      " |          rescaled to sum to `n_samples`.\n",
      " |      \n",
      " |          .. versionadded:: 0.23\n",
      " |      \n",
      " |      check_input : bool, default=True\n",
      " |          Allow to bypass several input checking.\n",
      " |          Don't use this parameter unless you know what you do.\n",
      " |      \n",
      " |      Returns\n",
      " |      -------\n",
      " |      self : object\n",
      " |          Fitted estimator.\n",
      " |      \n",
      " |      Notes\n",
      " |      -----\n",
      " |      Coordinate descent is an algorithm that considers each column of\n",
      " |      data at a time hence it will automatically convert the X input\n",
      " |      as a Fortran-contiguous numpy array if necessary.\n",
      " |      \n",
      " |      To avoid memory re-allocation it is advised to allocate the\n",
      " |      initial data in memory directly using that format.\n",
      " |  \n",
      " |  ----------------------------------------------------------------------\n",
      " |  Static methods defined here:\n",
      " |  \n",
      " |  path = enet_path(X, y, *, l1_ratio=0.5, eps=0.001, n_alphas=100, alphas=None, precompute='auto', Xy=None, copy_X=True, coef_init=None, verbose=False, return_n_iter=False, positive=False, check_input=True, **params)\n",
      " |      Compute elastic net path with coordinate descent.\n",
      " |      \n",
      " |      The elastic net optimization function varies for mono and multi-outputs.\n",
      " |      \n",
      " |      For mono-output tasks it is::\n",
      " |      \n",
      " |          1 / (2 * n_samples) * ||y - Xw||^2_2\n",
      " |          + alpha * l1_ratio * ||w||_1\n",
      " |          + 0.5 * alpha * (1 - l1_ratio) * ||w||^2_2\n",
      " |      \n",
      " |      For multi-output tasks it is::\n",
      " |      \n",
      " |          (1 / (2 * n_samples)) * ||Y - XW||_Fro^2\n",
      " |          + alpha * l1_ratio * ||W||_21\n",
      " |          + 0.5 * alpha * (1 - l1_ratio) * ||W||_Fro^2\n",
      " |      \n",
      " |      Where::\n",
      " |      \n",
      " |          ||W||_21 = \\sum_i \\sqrt{\\sum_j w_{ij}^2}\n",
      " |      \n",
      " |      i.e. the sum of norm of each row.\n",
      " |      \n",
      " |      Read more in the :ref:`User Guide <elastic_net>`.\n",
      " |      \n",
      " |      Parameters\n",
      " |      ----------\n",
      " |      X : {array-like, sparse matrix} of shape (n_samples, n_features)\n",
      " |          Training data. Pass directly as Fortran-contiguous data to avoid\n",
      " |          unnecessary memory duplication. If ``y`` is mono-output then ``X``\n",
      " |          can be sparse.\n",
      " |      \n",
      " |      y : {array-like, sparse matrix} of shape (n_samples,) or         (n_samples, n_targets)\n",
      " |          Target values.\n",
      " |      \n",
      " |      l1_ratio : float, default=0.5\n",
      " |          Number between 0 and 1 passed to elastic net (scaling between\n",
      " |          l1 and l2 penalties). ``l1_ratio=1`` corresponds to the Lasso.\n",
      " |      \n",
      " |      eps : float, default=1e-3\n",
      " |          Length of the path. ``eps=1e-3`` means that\n",
      " |          ``alpha_min / alpha_max = 1e-3``.\n",
      " |      \n",
      " |      n_alphas : int, default=100\n",
      " |          Number of alphas along the regularization path.\n",
      " |      \n",
      " |      alphas : ndarray, default=None\n",
      " |          List of alphas where to compute the models.\n",
      " |          If None alphas are set automatically.\n",
      " |      \n",
      " |      precompute : 'auto', bool or array-like of shape             (n_features, n_features), default='auto'\n",
      " |          Whether to use a precomputed Gram matrix to speed up\n",
      " |          calculations. If set to ``'auto'`` let us decide. The Gram\n",
      " |          matrix can also be passed as argument.\n",
      " |      \n",
      " |      Xy : array-like of shape (n_features,) or (n_features, n_targets),         default=None\n",
      " |          Xy = np.dot(X.T, y) that can be precomputed. It is useful\n",
      " |          only when the Gram matrix is precomputed.\n",
      " |      \n",
      " |      copy_X : bool, default=True\n",
      " |          If ``True``, X will be copied; else, it may be overwritten.\n",
      " |      \n",
      " |      coef_init : ndarray of shape (n_features, ), default=None\n",
      " |          The initial values of the coefficients.\n",
      " |      \n",
      " |      verbose : bool or int, default=False\n",
      " |          Amount of verbosity.\n",
      " |      \n",
      " |      return_n_iter : bool, default=False\n",
      " |          Whether to return the number of iterations or not.\n",
      " |      \n",
      " |      positive : bool, default=False\n",
      " |          If set to True, forces coefficients to be positive.\n",
      " |          (Only allowed when ``y.ndim == 1``).\n",
      " |      \n",
      " |      check_input : bool, default=True\n",
      " |          If set to False, the input validation checks are skipped (including the\n",
      " |          Gram matrix when provided). It is assumed that they are handled\n",
      " |          by the caller.\n",
      " |      \n",
      " |      **params : kwargs\n",
      " |          Keyword arguments passed to the coordinate descent solver.\n",
      " |      \n",
      " |      Returns\n",
      " |      -------\n",
      " |      alphas : ndarray of shape (n_alphas,)\n",
      " |          The alphas along the path where models are computed.\n",
      " |      \n",
      " |      coefs : ndarray of shape (n_features, n_alphas) or             (n_targets, n_features, n_alphas)\n",
      " |          Coefficients along the path.\n",
      " |      \n",
      " |      dual_gaps : ndarray of shape (n_alphas,)\n",
      " |          The dual gaps at the end of the optimization for each alpha.\n",
      " |      \n",
      " |      n_iters : list of int\n",
      " |          The number of iterations taken by the coordinate descent optimizer to\n",
      " |          reach the specified tolerance for each alpha.\n",
      " |          (Is returned when ``return_n_iter`` is set to True).\n",
      " |      \n",
      " |      See Also\n",
      " |      --------\n",
      " |      MultiTaskElasticNet : Multi-task ElasticNet model trained with L1/L2 mixed-norm     as regularizer.\n",
      " |      MultiTaskElasticNetCV : Multi-task L1/L2 ElasticNet with built-in cross-validation.\n",
      " |      ElasticNet : Linear regression with combined L1 and L2 priors as regularizer.\n",
      " |      ElasticNetCV : Elastic Net model with iterative fitting along a regularization path.\n",
      " |      \n",
      " |      Notes\n",
      " |      -----\n",
      " |      For an example, see\n",
      " |      :ref:`examples/linear_model/plot_lasso_coordinate_descent_path.py\n",
      " |      <sphx_glr_auto_examples_linear_model_plot_lasso_coordinate_descent_path.py>`.\n",
      " |  \n",
      " |  ----------------------------------------------------------------------\n",
      " |  Readonly properties defined here:\n",
      " |  \n",
      " |  sparse_coef_\n",
      " |      Sparse representation of the fitted `coef_`.\n",
      " |  \n",
      " |  ----------------------------------------------------------------------\n",
      " |  Data and other attributes defined here:\n",
      " |  \n",
      " |  __abstractmethods__ = frozenset()\n",
      " |  \n",
      " |  ----------------------------------------------------------------------\n",
      " |  Data descriptors inherited from sklearn.base.MultiOutputMixin:\n",
      " |  \n",
      " |  __dict__\n",
      " |      dictionary for instance variables (if defined)\n",
      " |  \n",
      " |  __weakref__\n",
      " |      list of weak references to the object (if defined)\n",
      " |  \n",
      " |  ----------------------------------------------------------------------\n",
      " |  Methods inherited from sklearn.base.RegressorMixin:\n",
      " |  \n",
      " |  score(self, X, y, sample_weight=None)\n",
      " |      Return the coefficient of determination of the prediction.\n",
      " |      \n",
      " |      The coefficient of determination :math:`R^2` is defined as\n",
      " |      :math:`(1 - \\frac{u}{v})`, where :math:`u` is the residual\n",
      " |      sum of squares ``((y_true - y_pred)** 2).sum()`` and :math:`v`\n",
      " |      is the total sum of squares ``((y_true - y_true.mean()) ** 2).sum()``.\n",
      " |      The best possible score is 1.0 and it can be negative (because the\n",
      " |      model can be arbitrarily worse). A constant model that always predicts\n",
      " |      the expected value of `y`, disregarding the input features, would get\n",
      " |      a :math:`R^2` score of 0.0.\n",
      " |      \n",
      " |      Parameters\n",
      " |      ----------\n",
      " |      X : array-like of shape (n_samples, n_features)\n",
      " |          Test samples. For some estimators this may be a precomputed\n",
      " |          kernel matrix or a list of generic objects instead with shape\n",
      " |          ``(n_samples, n_samples_fitted)``, where ``n_samples_fitted``\n",
      " |          is the number of samples used in the fitting for the estimator.\n",
      " |      \n",
      " |      y : array-like of shape (n_samples,) or (n_samples, n_outputs)\n",
      " |          True values for `X`.\n",
      " |      \n",
      " |      sample_weight : array-like of shape (n_samples,), default=None\n",
      " |          Sample weights.\n",
      " |      \n",
      " |      Returns\n",
      " |      -------\n",
      " |      score : float\n",
      " |          :math:`R^2` of ``self.predict(X)`` wrt. `y`.\n",
      " |      \n",
      " |      Notes\n",
      " |      -----\n",
      " |      The :math:`R^2` score used when calling ``score`` on a regressor uses\n",
      " |      ``multioutput='uniform_average'`` from version 0.23 to keep consistent\n",
      " |      with default value of :func:`~sklearn.metrics.r2_score`.\n",
      " |      This influences the ``score`` method of all the multioutput\n",
      " |      regressors (except for\n",
      " |      :class:`~sklearn.multioutput.MultiOutputRegressor`).\n",
      " |  \n",
      " |  ----------------------------------------------------------------------\n",
      " |  Methods inherited from sklearn.linear_model._base.LinearModel:\n",
      " |  \n",
      " |  predict(self, X)\n",
      " |      Predict using the linear model.\n",
      " |      \n",
      " |      Parameters\n",
      " |      ----------\n",
      " |      X : array-like or sparse matrix, shape (n_samples, n_features)\n",
      " |          Samples.\n",
      " |      \n",
      " |      Returns\n",
      " |      -------\n",
      " |      C : array, shape (n_samples,)\n",
      " |          Returns predicted values.\n",
      " |  \n",
      " |  ----------------------------------------------------------------------\n",
      " |  Methods inherited from sklearn.base.BaseEstimator:\n",
      " |  \n",
      " |  __getstate__(self)\n",
      " |  \n",
      " |  __repr__(self, N_CHAR_MAX=700)\n",
      " |      Return repr(self).\n",
      " |  \n",
      " |  __setstate__(self, state)\n",
      " |  \n",
      " |  get_params(self, deep=True)\n",
      " |      Get parameters for this estimator.\n",
      " |      \n",
      " |      Parameters\n",
      " |      ----------\n",
      " |      deep : bool, default=True\n",
      " |          If True, will return the parameters for this estimator and\n",
      " |          contained subobjects that are estimators.\n",
      " |      \n",
      " |      Returns\n",
      " |      -------\n",
      " |      params : dict\n",
      " |          Parameter names mapped to their values.\n",
      " |  \n",
      " |  set_params(self, **params)\n",
      " |      Set the parameters of this estimator.\n",
      " |      \n",
      " |      The method works on simple estimators as well as on nested objects\n",
      " |      (such as :class:`~sklearn.pipeline.Pipeline`). The latter have\n",
      " |      parameters of the form ``<component>__<parameter>`` so that it's\n",
      " |      possible to update each component of a nested object.\n",
      " |      \n",
      " |      Parameters\n",
      " |      ----------\n",
      " |      **params : dict\n",
      " |          Estimator parameters.\n",
      " |      \n",
      " |      Returns\n",
      " |      -------\n",
      " |      self : estimator instance\n",
      " |          Estimator instance.\n",
      "\n"
     ]
    }
   ],
   "source": [
    "help(ElasticNet)"
   ],
   "metadata": {
    "collapsed": false,
    "pycharm": {
     "name": "#%%\n"
    }
   }
  },
  {
   "cell_type": "markdown",
   "source": [
    "* Find out the optimal L1 value\n",
    "* Don't want to run a for loop that constantly checks through every single combination\n",
    "* Luckily for us, there is a grid search CV class, which does all that work for us behind the scences"
   ],
   "metadata": {
    "collapsed": false
   }
  },
  {
   "cell_type": "code",
   "execution_count": 94,
   "outputs": [],
   "source": [
    "base_elastic_net_model = ElasticNet()"
   ],
   "metadata": {
    "collapsed": false,
    "pycharm": {
     "name": "#%%\n"
    }
   }
  },
  {
   "cell_type": "markdown",
   "source": [
    "* The key should match exactly the spell inside the ElasticNet\n",
    "* Check the documentation for the good of `alpha` and `l1_ratio` for hyper parameter\n",
    "* **Keep in mind, every combination in the `param_grid` will run** (0.1 with all the l1_ratio)"
   ],
   "metadata": {
    "collapsed": false
   }
  },
  {
   "cell_type": "code",
   "execution_count": 95,
   "outputs": [],
   "source": [
    "param_grid = {'alpha': [0.1, 1, 5, 10, 50, 100],\n",
    "              'l1_ratio': [.1,.5,.7,.95,.99,1]}"
   ],
   "metadata": {
    "collapsed": false,
    "pycharm": {
     "name": "#%%\n"
    }
   }
  },
  {
   "cell_type": "markdown",
   "source": [
    "* Grid research"
   ],
   "metadata": {
    "collapsed": false
   }
  },
  {
   "cell_type": "code",
   "execution_count": 96,
   "outputs": [],
   "source": [
    "from sklearn.model_selection import GridSearchCV"
   ],
   "metadata": {
    "collapsed": false,
    "pycharm": {
     "name": "#%%\n"
    }
   }
  },
  {
   "cell_type": "markdown",
   "source": [
    "`verbose` is just how much messaging or string output do you want to see during training? The higher the number, the more information it's going to play back to you"
   ],
   "metadata": {
    "collapsed": false
   }
  },
  {
   "cell_type": "code",
   "execution_count": 102,
   "outputs": [],
   "source": [
    "grid_model = GridSearchCV(estimator=base_elastic_net_model, param_grid=param_grid,\n",
    "                          scoring=\"neg_mean_squared_error\",\n",
    "                          cv=5,\n",
    "                          verbose=2)"
   ],
   "metadata": {
    "collapsed": false,
    "pycharm": {
     "name": "#%%\n"
    }
   }
  },
  {
   "cell_type": "code",
   "execution_count": 103,
   "outputs": [
    {
     "name": "stdout",
     "output_type": "stream",
     "text": [
      "Fitting 5 folds for each of 36 candidates, totalling 180 fits\n",
      "[CV] END ............................alpha=0.1, l1_ratio=0.1; total time=   0.0s\n",
      "[CV] END ............................alpha=0.1, l1_ratio=0.1; total time=   0.0s\n",
      "[CV] END ............................alpha=0.1, l1_ratio=0.1; total time=   0.0s\n",
      "[CV] END ............................alpha=0.1, l1_ratio=0.1; total time=   0.0s\n",
      "[CV] END ............................alpha=0.1, l1_ratio=0.1; total time=   0.0s\n",
      "[CV] END ............................alpha=0.1, l1_ratio=0.5; total time=   0.0s\n",
      "[CV] END ............................alpha=0.1, l1_ratio=0.5; total time=   0.0s\n",
      "[CV] END ............................alpha=0.1, l1_ratio=0.5; total time=   0.0s\n",
      "[CV] END ............................alpha=0.1, l1_ratio=0.5; total time=   0.0s\n",
      "[CV] END ............................alpha=0.1, l1_ratio=0.5; total time=   0.0s\n",
      "[CV] END ............................alpha=0.1, l1_ratio=0.7; total time=   0.0s\n",
      "[CV] END ............................alpha=0.1, l1_ratio=0.7; total time=   0.0s\n",
      "[CV] END ............................alpha=0.1, l1_ratio=0.7; total time=   0.0s\n",
      "[CV] END ............................alpha=0.1, l1_ratio=0.7; total time=   0.0s\n",
      "[CV] END ............................alpha=0.1, l1_ratio=0.7; total time=   0.0s\n",
      "[CV] END ...........................alpha=0.1, l1_ratio=0.95; total time=   0.0s\n",
      "[CV] END ...........................alpha=0.1, l1_ratio=0.95; total time=   0.0s\n",
      "[CV] END ...........................alpha=0.1, l1_ratio=0.95; total time=   0.0s\n",
      "[CV] END ...........................alpha=0.1, l1_ratio=0.95; total time=   0.0s\n",
      "[CV] END ...........................alpha=0.1, l1_ratio=0.95; total time=   0.0s\n",
      "[CV] END ...........................alpha=0.1, l1_ratio=0.99; total time=   0.0s\n",
      "[CV] END ...........................alpha=0.1, l1_ratio=0.99; total time=   0.0s\n",
      "[CV] END ...........................alpha=0.1, l1_ratio=0.99; total time=   0.0s\n",
      "[CV] END ...........................alpha=0.1, l1_ratio=0.99; total time=   0.0s\n",
      "[CV] END ...........................alpha=0.1, l1_ratio=0.99; total time=   0.0s\n",
      "[CV] END ..............................alpha=0.1, l1_ratio=1; total time=   0.0s\n",
      "[CV] END ..............................alpha=0.1, l1_ratio=1; total time=   0.0s\n",
      "[CV] END ..............................alpha=0.1, l1_ratio=1; total time=   0.0s\n",
      "[CV] END ..............................alpha=0.1, l1_ratio=1; total time=   0.0s\n",
      "[CV] END ..............................alpha=0.1, l1_ratio=1; total time=   0.0s\n",
      "[CV] END ..............................alpha=1, l1_ratio=0.1; total time=   0.0s\n",
      "[CV] END ..............................alpha=1, l1_ratio=0.1; total time=   0.0s\n",
      "[CV] END ..............................alpha=1, l1_ratio=0.1; total time=   0.0s\n",
      "[CV] END ..............................alpha=1, l1_ratio=0.1; total time=   0.0s\n",
      "[CV] END ..............................alpha=1, l1_ratio=0.1; total time=   0.0s\n",
      "[CV] END ..............................alpha=1, l1_ratio=0.5; total time=   0.0s\n",
      "[CV] END ..............................alpha=1, l1_ratio=0.5; total time=   0.0s\n",
      "[CV] END ..............................alpha=1, l1_ratio=0.5; total time=   0.0s\n",
      "[CV] END ..............................alpha=1, l1_ratio=0.5; total time=   0.0s\n",
      "[CV] END ..............................alpha=1, l1_ratio=0.5; total time=   0.0s\n",
      "[CV] END ..............................alpha=1, l1_ratio=0.7; total time=   0.0s\n",
      "[CV] END ..............................alpha=1, l1_ratio=0.7; total time=   0.0s\n",
      "[CV] END ..............................alpha=1, l1_ratio=0.7; total time=   0.0s\n",
      "[CV] END ..............................alpha=1, l1_ratio=0.7; total time=   0.0s\n",
      "[CV] END ..............................alpha=1, l1_ratio=0.7; total time=   0.0s\n",
      "[CV] END .............................alpha=1, l1_ratio=0.95; total time=   0.0s\n",
      "[CV] END .............................alpha=1, l1_ratio=0.95; total time=   0.0s\n",
      "[CV] END .............................alpha=1, l1_ratio=0.95; total time=   0.0s\n",
      "[CV] END .............................alpha=1, l1_ratio=0.95; total time=   0.0s\n",
      "[CV] END .............................alpha=1, l1_ratio=0.95; total time=   0.0s\n",
      "[CV] END .............................alpha=1, l1_ratio=0.99; total time=   0.0s\n",
      "[CV] END .............................alpha=1, l1_ratio=0.99; total time=   0.0s\n",
      "[CV] END .............................alpha=1, l1_ratio=0.99; total time=   0.0s\n",
      "[CV] END .............................alpha=1, l1_ratio=0.99; total time=   0.0s\n",
      "[CV] END .............................alpha=1, l1_ratio=0.99; total time=   0.0s\n",
      "[CV] END ................................alpha=1, l1_ratio=1; total time=   0.0s\n",
      "[CV] END ................................alpha=1, l1_ratio=1; total time=   0.0s\n",
      "[CV] END ................................alpha=1, l1_ratio=1; total time=   0.0s\n",
      "[CV] END ................................alpha=1, l1_ratio=1; total time=   0.0s\n",
      "[CV] END ................................alpha=1, l1_ratio=1; total time=   0.0s\n",
      "[CV] END ..............................alpha=5, l1_ratio=0.1; total time=   0.0s\n",
      "[CV] END ..............................alpha=5, l1_ratio=0.1; total time=   0.0s\n",
      "[CV] END ..............................alpha=5, l1_ratio=0.1; total time=   0.0s\n",
      "[CV] END ..............................alpha=5, l1_ratio=0.1; total time=   0.0s\n",
      "[CV] END ..............................alpha=5, l1_ratio=0.1; total time=   0.0s\n",
      "[CV] END ..............................alpha=5, l1_ratio=0.5; total time=   0.0s\n",
      "[CV] END ..............................alpha=5, l1_ratio=0.5; total time=   0.0s\n",
      "[CV] END ..............................alpha=5, l1_ratio=0.5; total time=   0.0s\n",
      "[CV] END ..............................alpha=5, l1_ratio=0.5; total time=   0.0s\n",
      "[CV] END ..............................alpha=5, l1_ratio=0.5; total time=   0.0s\n",
      "[CV] END ..............................alpha=5, l1_ratio=0.7; total time=   0.0s\n",
      "[CV] END ..............................alpha=5, l1_ratio=0.7; total time=   0.0s\n",
      "[CV] END ..............................alpha=5, l1_ratio=0.7; total time=   0.0s\n",
      "[CV] END ..............................alpha=5, l1_ratio=0.7; total time=   0.0s\n",
      "[CV] END ..............................alpha=5, l1_ratio=0.7; total time=   0.0s\n",
      "[CV] END .............................alpha=5, l1_ratio=0.95; total time=   0.0s\n",
      "[CV] END .............................alpha=5, l1_ratio=0.95; total time=   0.0s\n",
      "[CV] END .............................alpha=5, l1_ratio=0.95; total time=   0.0s\n",
      "[CV] END .............................alpha=5, l1_ratio=0.95; total time=   0.0s\n",
      "[CV] END .............................alpha=5, l1_ratio=0.95; total time=   0.0s\n",
      "[CV] END .............................alpha=5, l1_ratio=0.99; total time=   0.0s\n",
      "[CV] END .............................alpha=5, l1_ratio=0.99; total time=   0.0s\n",
      "[CV] END .............................alpha=5, l1_ratio=0.99; total time=   0.0s\n",
      "[CV] END .............................alpha=5, l1_ratio=0.99; total time=   0.0s\n",
      "[CV] END .............................alpha=5, l1_ratio=0.99; total time=   0.0s\n",
      "[CV] END ................................alpha=5, l1_ratio=1; total time=   0.0s\n",
      "[CV] END ................................alpha=5, l1_ratio=1; total time=   0.0s\n",
      "[CV] END ................................alpha=5, l1_ratio=1; total time=   0.0s\n",
      "[CV] END ................................alpha=5, l1_ratio=1; total time=   0.0s\n",
      "[CV] END ................................alpha=5, l1_ratio=1; total time=   0.0s\n",
      "[CV] END .............................alpha=10, l1_ratio=0.1; total time=   0.0s\n",
      "[CV] END .............................alpha=10, l1_ratio=0.1; total time=   0.0s\n",
      "[CV] END .............................alpha=10, l1_ratio=0.1; total time=   0.0s\n",
      "[CV] END .............................alpha=10, l1_ratio=0.1; total time=   0.0s\n",
      "[CV] END .............................alpha=10, l1_ratio=0.1; total time=   0.0s\n",
      "[CV] END .............................alpha=10, l1_ratio=0.5; total time=   0.0s\n",
      "[CV] END .............................alpha=10, l1_ratio=0.5; total time=   0.0s\n",
      "[CV] END .............................alpha=10, l1_ratio=0.5; total time=   0.0s\n",
      "[CV] END .............................alpha=10, l1_ratio=0.5; total time=   0.0s\n",
      "[CV] END .............................alpha=10, l1_ratio=0.5; total time=   0.0s\n",
      "[CV] END .............................alpha=10, l1_ratio=0.7; total time=   0.0s\n",
      "[CV] END .............................alpha=10, l1_ratio=0.7; total time=   0.0s\n",
      "[CV] END .............................alpha=10, l1_ratio=0.7; total time=   0.0s\n",
      "[CV] END .............................alpha=10, l1_ratio=0.7; total time=   0.0s\n",
      "[CV] END .............................alpha=10, l1_ratio=0.7; total time=   0.0s\n",
      "[CV] END ............................alpha=10, l1_ratio=0.95; total time=   0.0s\n",
      "[CV] END ............................alpha=10, l1_ratio=0.95; total time=   0.0s\n",
      "[CV] END ............................alpha=10, l1_ratio=0.95; total time=   0.0s\n",
      "[CV] END ............................alpha=10, l1_ratio=0.95; total time=   0.0s\n",
      "[CV] END ............................alpha=10, l1_ratio=0.95; total time=   0.0s\n",
      "[CV] END ............................alpha=10, l1_ratio=0.99; total time=   0.0s\n",
      "[CV] END ............................alpha=10, l1_ratio=0.99; total time=   0.0s\n",
      "[CV] END ............................alpha=10, l1_ratio=0.99; total time=   0.0s\n",
      "[CV] END ............................alpha=10, l1_ratio=0.99; total time=   0.0s\n",
      "[CV] END ............................alpha=10, l1_ratio=0.99; total time=   0.0s\n",
      "[CV] END ...............................alpha=10, l1_ratio=1; total time=   0.0s\n",
      "[CV] END ...............................alpha=10, l1_ratio=1; total time=   0.0s\n",
      "[CV] END ...............................alpha=10, l1_ratio=1; total time=   0.0s\n",
      "[CV] END ...............................alpha=10, l1_ratio=1; total time=   0.0s\n",
      "[CV] END ...............................alpha=10, l1_ratio=1; total time=   0.0s\n",
      "[CV] END .............................alpha=50, l1_ratio=0.1; total time=   0.0s\n",
      "[CV] END .............................alpha=50, l1_ratio=0.1; total time=   0.0s\n",
      "[CV] END .............................alpha=50, l1_ratio=0.1; total time=   0.0s\n",
      "[CV] END .............................alpha=50, l1_ratio=0.1; total time=   0.0s\n",
      "[CV] END .............................alpha=50, l1_ratio=0.1; total time=   0.0s\n",
      "[CV] END .............................alpha=50, l1_ratio=0.5; total time=   0.0s\n",
      "[CV] END .............................alpha=50, l1_ratio=0.5; total time=   0.0s\n",
      "[CV] END .............................alpha=50, l1_ratio=0.5; total time=   0.0s\n",
      "[CV] END .............................alpha=50, l1_ratio=0.5; total time=   0.0s\n",
      "[CV] END .............................alpha=50, l1_ratio=0.5; total time=   0.0s\n",
      "[CV] END .............................alpha=50, l1_ratio=0.7; total time=   0.0s\n",
      "[CV] END .............................alpha=50, l1_ratio=0.7; total time=   0.0s\n",
      "[CV] END .............................alpha=50, l1_ratio=0.7; total time=   0.0s\n",
      "[CV] END .............................alpha=50, l1_ratio=0.7; total time=   0.0s\n",
      "[CV] END .............................alpha=50, l1_ratio=0.7; total time=   0.0s\n",
      "[CV] END ............................alpha=50, l1_ratio=0.95; total time=   0.0s\n",
      "[CV] END ............................alpha=50, l1_ratio=0.95; total time=   0.0s\n",
      "[CV] END ............................alpha=50, l1_ratio=0.95; total time=   0.0s\n",
      "[CV] END ............................alpha=50, l1_ratio=0.95; total time=   0.0s\n",
      "[CV] END ............................alpha=50, l1_ratio=0.95; total time=   0.0s\n",
      "[CV] END ............................alpha=50, l1_ratio=0.99; total time=   0.0s\n",
      "[CV] END ............................alpha=50, l1_ratio=0.99; total time=   0.0s\n",
      "[CV] END ............................alpha=50, l1_ratio=0.99; total time=   0.0s\n",
      "[CV] END ............................alpha=50, l1_ratio=0.99; total time=   0.0s\n",
      "[CV] END ............................alpha=50, l1_ratio=0.99; total time=   0.0s\n",
      "[CV] END ...............................alpha=50, l1_ratio=1; total time=   0.0s\n",
      "[CV] END ...............................alpha=50, l1_ratio=1; total time=   0.0s\n",
      "[CV] END ...............................alpha=50, l1_ratio=1; total time=   0.0s\n",
      "[CV] END ...............................alpha=50, l1_ratio=1; total time=   0.0s\n",
      "[CV] END ...............................alpha=50, l1_ratio=1; total time=   0.0s\n",
      "[CV] END ............................alpha=100, l1_ratio=0.1; total time=   0.0s\n",
      "[CV] END ............................alpha=100, l1_ratio=0.1; total time=   0.0s\n",
      "[CV] END ............................alpha=100, l1_ratio=0.1; total time=   0.0s\n",
      "[CV] END ............................alpha=100, l1_ratio=0.1; total time=   0.0s\n",
      "[CV] END ............................alpha=100, l1_ratio=0.1; total time=   0.0s\n",
      "[CV] END ............................alpha=100, l1_ratio=0.5; total time=   0.0s\n",
      "[CV] END ............................alpha=100, l1_ratio=0.5; total time=   0.0s\n",
      "[CV] END ............................alpha=100, l1_ratio=0.5; total time=   0.0s\n",
      "[CV] END ............................alpha=100, l1_ratio=0.5; total time=   0.0s\n",
      "[CV] END ............................alpha=100, l1_ratio=0.5; total time=   0.0s\n",
      "[CV] END ............................alpha=100, l1_ratio=0.7; total time=   0.0s\n",
      "[CV] END ............................alpha=100, l1_ratio=0.7; total time=   0.0s\n",
      "[CV] END ............................alpha=100, l1_ratio=0.7; total time=   0.0s\n",
      "[CV] END ............................alpha=100, l1_ratio=0.7; total time=   0.0s\n",
      "[CV] END ............................alpha=100, l1_ratio=0.7; total time=   0.0s\n",
      "[CV] END ...........................alpha=100, l1_ratio=0.95; total time=   0.0s\n",
      "[CV] END ...........................alpha=100, l1_ratio=0.95; total time=   0.0s\n",
      "[CV] END ...........................alpha=100, l1_ratio=0.95; total time=   0.0s\n",
      "[CV] END ...........................alpha=100, l1_ratio=0.95; total time=   0.0s\n",
      "[CV] END ...........................alpha=100, l1_ratio=0.95; total time=   0.0s\n",
      "[CV] END ...........................alpha=100, l1_ratio=0.99; total time=   0.0s\n",
      "[CV] END ...........................alpha=100, l1_ratio=0.99; total time=   0.0s\n",
      "[CV] END ...........................alpha=100, l1_ratio=0.99; total time=   0.0s\n",
      "[CV] END ...........................alpha=100, l1_ratio=0.99; total time=   0.0s\n",
      "[CV] END ...........................alpha=100, l1_ratio=0.99; total time=   0.0s\n",
      "[CV] END ..............................alpha=100, l1_ratio=1; total time=   0.0s\n",
      "[CV] END ..............................alpha=100, l1_ratio=1; total time=   0.0s\n",
      "[CV] END ..............................alpha=100, l1_ratio=1; total time=   0.0s\n",
      "[CV] END ..............................alpha=100, l1_ratio=1; total time=   0.0s\n",
      "[CV] END ..............................alpha=100, l1_ratio=1; total time=   0.0s\n"
     ]
    },
    {
     "data": {
      "text/plain": "GridSearchCV(cv=5, estimator=ElasticNet(),\n             param_grid={'alpha': [0.1, 1, 5, 10, 50, 100],\n                         'l1_ratio': [0.1, 0.5, 0.7, 0.95, 0.99, 1]},\n             scoring='neg_mean_squared_error', verbose=2)"
     },
     "execution_count": 103,
     "metadata": {},
     "output_type": "execute_result"
    }
   ],
   "source": [
    "grid_model.fit(X_train, y_train)"
   ],
   "metadata": {
    "collapsed": false,
    "pycharm": {
     "name": "#%%\n"
    }
   }
  },
  {
   "cell_type": "code",
   "execution_count": 104,
   "outputs": [
    {
     "data": {
      "text/plain": "ElasticNet(alpha=0.1, l1_ratio=1)"
     },
     "execution_count": 104,
     "metadata": {},
     "output_type": "execute_result"
    }
   ],
   "source": [
    "grid_model.best_estimator_"
   ],
   "metadata": {
    "collapsed": false,
    "pycharm": {
     "name": "#%%\n"
    }
   }
  },
  {
   "cell_type": "code",
   "execution_count": 105,
   "outputs": [
    {
     "data": {
      "text/plain": "{'alpha': 0.1, 'l1_ratio': 1}"
     },
     "execution_count": 105,
     "metadata": {},
     "output_type": "execute_result"
    }
   ],
   "source": [
    "grid_model.best_params_"
   ],
   "metadata": {
    "collapsed": false,
    "pycharm": {
     "name": "#%%\n"
    }
   }
  },
  {
   "cell_type": "markdown",
   "source": [
    "* Check for other estimator (not only the best estimator)"
   ],
   "metadata": {
    "collapsed": false
   }
  },
  {
   "cell_type": "code",
   "execution_count": 106,
   "outputs": [
    {
     "data": {
      "text/plain": "    mean_fit_time  std_fit_time  mean_score_time  std_score_time param_alpha  \\\n0        0.000660  5.505546e-04         0.000199        0.000399         0.1   \n1        0.000999  3.436537e-06         0.000000        0.000000         0.1   \n2        0.000398  4.878205e-04         0.000399        0.000488         0.1   \n3        0.000798  3.990538e-04         0.000000        0.000000         0.1   \n4        0.000399  4.885192e-04         0.000399        0.000489         0.1   \n5        0.000798  3.988982e-04         0.000199        0.000399         0.1   \n6        0.000000  0.000000e+00         0.000598        0.000489           1   \n7        0.000755  3.860363e-04         0.000201        0.000401           1   \n8        0.000952  9.081606e-05         0.000000        0.000000           1   \n9        0.000243  3.863596e-04         0.000000        0.000000           1   \n10       0.000000  0.000000e+00         0.000144        0.000288           1   \n11       0.000798  3.989459e-04         0.000198        0.000397           1   \n12       0.000997  0.000000e+00         0.000000        0.000000           5   \n13       0.000850  2.937317e-04         0.000000        0.000000           5   \n14       0.000997  2.780415e-07         0.000000        0.000000           5   \n15       0.000848  2.979279e-04         0.000000        0.000000           5   \n16       0.000997  1.907349e-07         0.000000        0.000000           5   \n17       0.000997  2.132481e-07         0.000000        0.000000           5   \n18       0.000997  1.784161e-07         0.000000        0.000000          10   \n19       0.000997  1.907349e-07         0.000000        0.000000          10   \n20       0.000997  0.000000e+00         0.000000        0.000000          10   \n21       0.000952  8.986735e-05         0.000000        0.000000          10   \n22       0.000997  1.507891e-07         0.000000        0.000000          10   \n23       0.000964  6.535860e-05         0.000000        0.000000          10   \n24       0.000997  2.132481e-07         0.000000        0.000000          50   \n25       0.001010  2.603653e-05         0.000000        0.000000          50   \n26       0.000997  2.336015e-07         0.000000        0.000000          50   \n27       0.000766  3.062918e-04         0.000000        0.000000          50   \n28       0.000997  1.507891e-07         0.000000        0.000000          50   \n29       0.000997  1.168008e-07         0.000000        0.000000          50   \n30       0.000997  1.784161e-07         0.000000        0.000000         100   \n31       0.000953  8.819778e-05         0.000000        0.000000         100   \n32       0.000997  9.536743e-08         0.000000        0.000000         100   \n33       0.000560  4.624801e-04         0.000000        0.000000         100   \n34       0.000997  1.168008e-07         0.000000        0.000000         100   \n35       0.000199  3.989220e-04         0.000900        0.000193         100   \n\n   param_l1_ratio                            params  split0_test_score  \\\n0             0.1   {'alpha': 0.1, 'l1_ratio': 0.1}          -3.453021   \n1             0.5   {'alpha': 0.1, 'l1_ratio': 0.5}          -3.325440   \n2             0.7   {'alpha': 0.1, 'l1_ratio': 0.7}          -3.269880   \n3            0.95  {'alpha': 0.1, 'l1_ratio': 0.95}          -3.213052   \n4            0.99  {'alpha': 0.1, 'l1_ratio': 0.99}          -3.208124   \n5               1     {'alpha': 0.1, 'l1_ratio': 1}          -3.206943   \n6             0.1     {'alpha': 1, 'l1_ratio': 0.1}          -9.827475   \n7             0.5     {'alpha': 1, 'l1_ratio': 0.5}          -8.707071   \n8             0.7     {'alpha': 1, 'l1_ratio': 0.7}          -7.920870   \n9            0.95    {'alpha': 1, 'l1_ratio': 0.95}          -6.729435   \n10           0.99    {'alpha': 1, 'l1_ratio': 0.99}          -6.521344   \n11              1       {'alpha': 1, 'l1_ratio': 1}          -6.468807   \n12            0.1     {'alpha': 5, 'l1_ratio': 0.1}         -22.979265   \n13            0.5     {'alpha': 5, 'l1_ratio': 0.5}         -27.793488   \n14            0.7     {'alpha': 5, 'l1_ratio': 0.7}         -29.655510   \n15           0.95    {'alpha': 5, 'l1_ratio': 0.95}         -31.130307   \n16           0.99    {'alpha': 5, 'l1_ratio': 0.99}         -31.130307   \n17              1       {'alpha': 5, 'l1_ratio': 1}         -31.130307   \n18            0.1    {'alpha': 10, 'l1_ratio': 0.1}         -27.385346   \n19            0.5    {'alpha': 10, 'l1_ratio': 0.5}         -31.130307   \n20            0.7    {'alpha': 10, 'l1_ratio': 0.7}         -31.130307   \n21           0.95   {'alpha': 10, 'l1_ratio': 0.95}         -31.130307   \n22           0.99   {'alpha': 10, 'l1_ratio': 0.99}         -31.130307   \n23              1      {'alpha': 10, 'l1_ratio': 1}         -31.130307   \n24            0.1    {'alpha': 50, 'l1_ratio': 0.1}         -31.130307   \n25            0.5    {'alpha': 50, 'l1_ratio': 0.5}         -31.130307   \n26            0.7    {'alpha': 50, 'l1_ratio': 0.7}         -31.130307   \n27           0.95   {'alpha': 50, 'l1_ratio': 0.95}         -31.130307   \n28           0.99   {'alpha': 50, 'l1_ratio': 0.99}         -31.130307   \n29              1      {'alpha': 50, 'l1_ratio': 1}         -31.130307   \n30            0.1   {'alpha': 100, 'l1_ratio': 0.1}         -31.130307   \n31            0.5   {'alpha': 100, 'l1_ratio': 0.5}         -31.130307   \n32            0.7   {'alpha': 100, 'l1_ratio': 0.7}         -31.130307   \n33           0.95  {'alpha': 100, 'l1_ratio': 0.95}         -31.130307   \n34           0.99  {'alpha': 100, 'l1_ratio': 0.99}         -31.130307   \n35              1     {'alpha': 100, 'l1_ratio': 1}         -31.130307   \n\n    split1_test_score  split2_test_score  split3_test_score  \\\n0           -1.405190          -5.789125          -2.187302   \n1           -1.427522          -5.595610          -2.163089   \n2           -1.442432          -5.502437          -2.163950   \n3           -1.472417          -5.396258          -2.177452   \n4           -1.478489          -5.380242          -2.181097   \n5           -1.480065          -5.376257          -2.182076   \n6           -5.261525         -11.875347          -7.449195   \n7           -4.214228         -10.879261          -6.204545   \n8           -3.549562         -10.024877          -5.379553   \n9           -2.591285          -8.709842          -4.156317   \n10          -2.431385          -8.471086          -3.946327   \n11          -2.391483          -8.410171          -3.893566   \n12         -15.547104         -23.668249         -19.921063   \n13         -18.602269         -27.107849         -23.945227   \n14         -21.085059         -29.629478         -26.724595   \n15         -22.549433         -31.155204         -27.963447   \n16         -22.549433         -31.155204         -27.963447   \n17         -22.549433         -31.155204         -27.963447   \n18         -19.159534         -27.635464         -24.154104   \n19         -22.549433         -31.155204         -27.963447   \n20         -22.549433         -31.155204         -27.963447   \n21         -22.549433         -31.155204         -27.963447   \n22         -22.549433         -31.155204         -27.963447   \n23         -22.549433         -31.155204         -27.963447   \n24         -22.549433         -31.155204         -27.963447   \n25         -22.549433         -31.155204         -27.963447   \n26         -22.549433         -31.155204         -27.963447   \n27         -22.549433         -31.155204         -27.963447   \n28         -22.549433         -31.155204         -27.963447   \n29         -22.549433         -31.155204         -27.963447   \n30         -22.549433         -31.155204         -27.963447   \n31         -22.549433         -31.155204         -27.963447   \n32         -22.549433         -31.155204         -27.963447   \n33         -22.549433         -31.155204         -27.963447   \n34         -22.549433         -31.155204         -27.963447   \n35         -22.549433         -31.155204         -27.963447   \n\n    split4_test_score  mean_test_score  std_test_score  rank_test_score  \n0           -4.645576        -3.496043        1.591601                6  \n1           -4.451679        -3.392668        1.506827                5  \n2           -4.356738        -3.347088        1.462765                4  \n3           -4.241080        -3.300052        1.406248                3  \n4           -4.222968        -3.294184        1.396953                2  \n5           -4.218460        -3.292760        1.394613                1  \n6           -8.542329        -8.591174        2.222939               12  \n7           -7.173031        -7.435627        2.255532               11  \n8           -6.324836        -6.639940        2.206213               10  \n9           -5.329916        -5.503359        2.102835                9  \n10          -5.151344        -5.304297        2.079945                8  \n11          -5.105922        -5.253990        2.073832                7  \n12         -16.262737       -19.675684        3.334901               13  \n13         -18.064635       -23.102694        4.108297               14  \n14         -20.223654       -25.463659        4.077877               16  \n15         -21.698192       -26.899317        4.077240               17  \n16         -21.698192       -26.899317        4.077240               17  \n17         -21.698192       -26.899317        4.077240               17  \n18         -18.968161       -23.460522        3.794608               15  \n19         -21.698192       -26.899317        4.077240               17  \n20         -21.698192       -26.899317        4.077240               17  \n21         -21.698192       -26.899317        4.077240               17  \n22         -21.698192       -26.899317        4.077240               17  \n23         -21.698192       -26.899317        4.077240               17  \n24         -21.698192       -26.899317        4.077240               17  \n25         -21.698192       -26.899317        4.077240               17  \n26         -21.698192       -26.899317        4.077240               17  \n27         -21.698192       -26.899317        4.077240               17  \n28         -21.698192       -26.899317        4.077240               17  \n29         -21.698192       -26.899317        4.077240               17  \n30         -21.698192       -26.899317        4.077240               17  \n31         -21.698192       -26.899317        4.077240               17  \n32         -21.698192       -26.899317        4.077240               17  \n33         -21.698192       -26.899317        4.077240               17  \n34         -21.698192       -26.899317        4.077240               17  \n35         -21.698192       -26.899317        4.077240               17  ",
      "text/html": "<div>\n<style scoped>\n    .dataframe tbody tr th:only-of-type {\n        vertical-align: middle;\n    }\n\n    .dataframe tbody tr th {\n        vertical-align: top;\n    }\n\n    .dataframe thead th {\n        text-align: right;\n    }\n</style>\n<table border=\"1\" class=\"dataframe\">\n  <thead>\n    <tr style=\"text-align: right;\">\n      <th></th>\n      <th>mean_fit_time</th>\n      <th>std_fit_time</th>\n      <th>mean_score_time</th>\n      <th>std_score_time</th>\n      <th>param_alpha</th>\n      <th>param_l1_ratio</th>\n      <th>params</th>\n      <th>split0_test_score</th>\n      <th>split1_test_score</th>\n      <th>split2_test_score</th>\n      <th>split3_test_score</th>\n      <th>split4_test_score</th>\n      <th>mean_test_score</th>\n      <th>std_test_score</th>\n      <th>rank_test_score</th>\n    </tr>\n  </thead>\n  <tbody>\n    <tr>\n      <th>0</th>\n      <td>0.000660</td>\n      <td>5.505546e-04</td>\n      <td>0.000199</td>\n      <td>0.000399</td>\n      <td>0.1</td>\n      <td>0.1</td>\n      <td>{'alpha': 0.1, 'l1_ratio': 0.1}</td>\n      <td>-3.453021</td>\n      <td>-1.405190</td>\n      <td>-5.789125</td>\n      <td>-2.187302</td>\n      <td>-4.645576</td>\n      <td>-3.496043</td>\n      <td>1.591601</td>\n      <td>6</td>\n    </tr>\n    <tr>\n      <th>1</th>\n      <td>0.000999</td>\n      <td>3.436537e-06</td>\n      <td>0.000000</td>\n      <td>0.000000</td>\n      <td>0.1</td>\n      <td>0.5</td>\n      <td>{'alpha': 0.1, 'l1_ratio': 0.5}</td>\n      <td>-3.325440</td>\n      <td>-1.427522</td>\n      <td>-5.595610</td>\n      <td>-2.163089</td>\n      <td>-4.451679</td>\n      <td>-3.392668</td>\n      <td>1.506827</td>\n      <td>5</td>\n    </tr>\n    <tr>\n      <th>2</th>\n      <td>0.000398</td>\n      <td>4.878205e-04</td>\n      <td>0.000399</td>\n      <td>0.000488</td>\n      <td>0.1</td>\n      <td>0.7</td>\n      <td>{'alpha': 0.1, 'l1_ratio': 0.7}</td>\n      <td>-3.269880</td>\n      <td>-1.442432</td>\n      <td>-5.502437</td>\n      <td>-2.163950</td>\n      <td>-4.356738</td>\n      <td>-3.347088</td>\n      <td>1.462765</td>\n      <td>4</td>\n    </tr>\n    <tr>\n      <th>3</th>\n      <td>0.000798</td>\n      <td>3.990538e-04</td>\n      <td>0.000000</td>\n      <td>0.000000</td>\n      <td>0.1</td>\n      <td>0.95</td>\n      <td>{'alpha': 0.1, 'l1_ratio': 0.95}</td>\n      <td>-3.213052</td>\n      <td>-1.472417</td>\n      <td>-5.396258</td>\n      <td>-2.177452</td>\n      <td>-4.241080</td>\n      <td>-3.300052</td>\n      <td>1.406248</td>\n      <td>3</td>\n    </tr>\n    <tr>\n      <th>4</th>\n      <td>0.000399</td>\n      <td>4.885192e-04</td>\n      <td>0.000399</td>\n      <td>0.000489</td>\n      <td>0.1</td>\n      <td>0.99</td>\n      <td>{'alpha': 0.1, 'l1_ratio': 0.99}</td>\n      <td>-3.208124</td>\n      <td>-1.478489</td>\n      <td>-5.380242</td>\n      <td>-2.181097</td>\n      <td>-4.222968</td>\n      <td>-3.294184</td>\n      <td>1.396953</td>\n      <td>2</td>\n    </tr>\n    <tr>\n      <th>5</th>\n      <td>0.000798</td>\n      <td>3.988982e-04</td>\n      <td>0.000199</td>\n      <td>0.000399</td>\n      <td>0.1</td>\n      <td>1</td>\n      <td>{'alpha': 0.1, 'l1_ratio': 1}</td>\n      <td>-3.206943</td>\n      <td>-1.480065</td>\n      <td>-5.376257</td>\n      <td>-2.182076</td>\n      <td>-4.218460</td>\n      <td>-3.292760</td>\n      <td>1.394613</td>\n      <td>1</td>\n    </tr>\n    <tr>\n      <th>6</th>\n      <td>0.000000</td>\n      <td>0.000000e+00</td>\n      <td>0.000598</td>\n      <td>0.000489</td>\n      <td>1</td>\n      <td>0.1</td>\n      <td>{'alpha': 1, 'l1_ratio': 0.1}</td>\n      <td>-9.827475</td>\n      <td>-5.261525</td>\n      <td>-11.875347</td>\n      <td>-7.449195</td>\n      <td>-8.542329</td>\n      <td>-8.591174</td>\n      <td>2.222939</td>\n      <td>12</td>\n    </tr>\n    <tr>\n      <th>7</th>\n      <td>0.000755</td>\n      <td>3.860363e-04</td>\n      <td>0.000201</td>\n      <td>0.000401</td>\n      <td>1</td>\n      <td>0.5</td>\n      <td>{'alpha': 1, 'l1_ratio': 0.5}</td>\n      <td>-8.707071</td>\n      <td>-4.214228</td>\n      <td>-10.879261</td>\n      <td>-6.204545</td>\n      <td>-7.173031</td>\n      <td>-7.435627</td>\n      <td>2.255532</td>\n      <td>11</td>\n    </tr>\n    <tr>\n      <th>8</th>\n      <td>0.000952</td>\n      <td>9.081606e-05</td>\n      <td>0.000000</td>\n      <td>0.000000</td>\n      <td>1</td>\n      <td>0.7</td>\n      <td>{'alpha': 1, 'l1_ratio': 0.7}</td>\n      <td>-7.920870</td>\n      <td>-3.549562</td>\n      <td>-10.024877</td>\n      <td>-5.379553</td>\n      <td>-6.324836</td>\n      <td>-6.639940</td>\n      <td>2.206213</td>\n      <td>10</td>\n    </tr>\n    <tr>\n      <th>9</th>\n      <td>0.000243</td>\n      <td>3.863596e-04</td>\n      <td>0.000000</td>\n      <td>0.000000</td>\n      <td>1</td>\n      <td>0.95</td>\n      <td>{'alpha': 1, 'l1_ratio': 0.95}</td>\n      <td>-6.729435</td>\n      <td>-2.591285</td>\n      <td>-8.709842</td>\n      <td>-4.156317</td>\n      <td>-5.329916</td>\n      <td>-5.503359</td>\n      <td>2.102835</td>\n      <td>9</td>\n    </tr>\n    <tr>\n      <th>10</th>\n      <td>0.000000</td>\n      <td>0.000000e+00</td>\n      <td>0.000144</td>\n      <td>0.000288</td>\n      <td>1</td>\n      <td>0.99</td>\n      <td>{'alpha': 1, 'l1_ratio': 0.99}</td>\n      <td>-6.521344</td>\n      <td>-2.431385</td>\n      <td>-8.471086</td>\n      <td>-3.946327</td>\n      <td>-5.151344</td>\n      <td>-5.304297</td>\n      <td>2.079945</td>\n      <td>8</td>\n    </tr>\n    <tr>\n      <th>11</th>\n      <td>0.000798</td>\n      <td>3.989459e-04</td>\n      <td>0.000198</td>\n      <td>0.000397</td>\n      <td>1</td>\n      <td>1</td>\n      <td>{'alpha': 1, 'l1_ratio': 1}</td>\n      <td>-6.468807</td>\n      <td>-2.391483</td>\n      <td>-8.410171</td>\n      <td>-3.893566</td>\n      <td>-5.105922</td>\n      <td>-5.253990</td>\n      <td>2.073832</td>\n      <td>7</td>\n    </tr>\n    <tr>\n      <th>12</th>\n      <td>0.000997</td>\n      <td>0.000000e+00</td>\n      <td>0.000000</td>\n      <td>0.000000</td>\n      <td>5</td>\n      <td>0.1</td>\n      <td>{'alpha': 5, 'l1_ratio': 0.1}</td>\n      <td>-22.979265</td>\n      <td>-15.547104</td>\n      <td>-23.668249</td>\n      <td>-19.921063</td>\n      <td>-16.262737</td>\n      <td>-19.675684</td>\n      <td>3.334901</td>\n      <td>13</td>\n    </tr>\n    <tr>\n      <th>13</th>\n      <td>0.000850</td>\n      <td>2.937317e-04</td>\n      <td>0.000000</td>\n      <td>0.000000</td>\n      <td>5</td>\n      <td>0.5</td>\n      <td>{'alpha': 5, 'l1_ratio': 0.5}</td>\n      <td>-27.793488</td>\n      <td>-18.602269</td>\n      <td>-27.107849</td>\n      <td>-23.945227</td>\n      <td>-18.064635</td>\n      <td>-23.102694</td>\n      <td>4.108297</td>\n      <td>14</td>\n    </tr>\n    <tr>\n      <th>14</th>\n      <td>0.000997</td>\n      <td>2.780415e-07</td>\n      <td>0.000000</td>\n      <td>0.000000</td>\n      <td>5</td>\n      <td>0.7</td>\n      <td>{'alpha': 5, 'l1_ratio': 0.7}</td>\n      <td>-29.655510</td>\n      <td>-21.085059</td>\n      <td>-29.629478</td>\n      <td>-26.724595</td>\n      <td>-20.223654</td>\n      <td>-25.463659</td>\n      <td>4.077877</td>\n      <td>16</td>\n    </tr>\n    <tr>\n      <th>15</th>\n      <td>0.000848</td>\n      <td>2.979279e-04</td>\n      <td>0.000000</td>\n      <td>0.000000</td>\n      <td>5</td>\n      <td>0.95</td>\n      <td>{'alpha': 5, 'l1_ratio': 0.95}</td>\n      <td>-31.130307</td>\n      <td>-22.549433</td>\n      <td>-31.155204</td>\n      <td>-27.963447</td>\n      <td>-21.698192</td>\n      <td>-26.899317</td>\n      <td>4.077240</td>\n      <td>17</td>\n    </tr>\n    <tr>\n      <th>16</th>\n      <td>0.000997</td>\n      <td>1.907349e-07</td>\n      <td>0.000000</td>\n      <td>0.000000</td>\n      <td>5</td>\n      <td>0.99</td>\n      <td>{'alpha': 5, 'l1_ratio': 0.99}</td>\n      <td>-31.130307</td>\n      <td>-22.549433</td>\n      <td>-31.155204</td>\n      <td>-27.963447</td>\n      <td>-21.698192</td>\n      <td>-26.899317</td>\n      <td>4.077240</td>\n      <td>17</td>\n    </tr>\n    <tr>\n      <th>17</th>\n      <td>0.000997</td>\n      <td>2.132481e-07</td>\n      <td>0.000000</td>\n      <td>0.000000</td>\n      <td>5</td>\n      <td>1</td>\n      <td>{'alpha': 5, 'l1_ratio': 1}</td>\n      <td>-31.130307</td>\n      <td>-22.549433</td>\n      <td>-31.155204</td>\n      <td>-27.963447</td>\n      <td>-21.698192</td>\n      <td>-26.899317</td>\n      <td>4.077240</td>\n      <td>17</td>\n    </tr>\n    <tr>\n      <th>18</th>\n      <td>0.000997</td>\n      <td>1.784161e-07</td>\n      <td>0.000000</td>\n      <td>0.000000</td>\n      <td>10</td>\n      <td>0.1</td>\n      <td>{'alpha': 10, 'l1_ratio': 0.1}</td>\n      <td>-27.385346</td>\n      <td>-19.159534</td>\n      <td>-27.635464</td>\n      <td>-24.154104</td>\n      <td>-18.968161</td>\n      <td>-23.460522</td>\n      <td>3.794608</td>\n      <td>15</td>\n    </tr>\n    <tr>\n      <th>19</th>\n      <td>0.000997</td>\n      <td>1.907349e-07</td>\n      <td>0.000000</td>\n      <td>0.000000</td>\n      <td>10</td>\n      <td>0.5</td>\n      <td>{'alpha': 10, 'l1_ratio': 0.5}</td>\n      <td>-31.130307</td>\n      <td>-22.549433</td>\n      <td>-31.155204</td>\n      <td>-27.963447</td>\n      <td>-21.698192</td>\n      <td>-26.899317</td>\n      <td>4.077240</td>\n      <td>17</td>\n    </tr>\n    <tr>\n      <th>20</th>\n      <td>0.000997</td>\n      <td>0.000000e+00</td>\n      <td>0.000000</td>\n      <td>0.000000</td>\n      <td>10</td>\n      <td>0.7</td>\n      <td>{'alpha': 10, 'l1_ratio': 0.7}</td>\n      <td>-31.130307</td>\n      <td>-22.549433</td>\n      <td>-31.155204</td>\n      <td>-27.963447</td>\n      <td>-21.698192</td>\n      <td>-26.899317</td>\n      <td>4.077240</td>\n      <td>17</td>\n    </tr>\n    <tr>\n      <th>21</th>\n      <td>0.000952</td>\n      <td>8.986735e-05</td>\n      <td>0.000000</td>\n      <td>0.000000</td>\n      <td>10</td>\n      <td>0.95</td>\n      <td>{'alpha': 10, 'l1_ratio': 0.95}</td>\n      <td>-31.130307</td>\n      <td>-22.549433</td>\n      <td>-31.155204</td>\n      <td>-27.963447</td>\n      <td>-21.698192</td>\n      <td>-26.899317</td>\n      <td>4.077240</td>\n      <td>17</td>\n    </tr>\n    <tr>\n      <th>22</th>\n      <td>0.000997</td>\n      <td>1.507891e-07</td>\n      <td>0.000000</td>\n      <td>0.000000</td>\n      <td>10</td>\n      <td>0.99</td>\n      <td>{'alpha': 10, 'l1_ratio': 0.99}</td>\n      <td>-31.130307</td>\n      <td>-22.549433</td>\n      <td>-31.155204</td>\n      <td>-27.963447</td>\n      <td>-21.698192</td>\n      <td>-26.899317</td>\n      <td>4.077240</td>\n      <td>17</td>\n    </tr>\n    <tr>\n      <th>23</th>\n      <td>0.000964</td>\n      <td>6.535860e-05</td>\n      <td>0.000000</td>\n      <td>0.000000</td>\n      <td>10</td>\n      <td>1</td>\n      <td>{'alpha': 10, 'l1_ratio': 1}</td>\n      <td>-31.130307</td>\n      <td>-22.549433</td>\n      <td>-31.155204</td>\n      <td>-27.963447</td>\n      <td>-21.698192</td>\n      <td>-26.899317</td>\n      <td>4.077240</td>\n      <td>17</td>\n    </tr>\n    <tr>\n      <th>24</th>\n      <td>0.000997</td>\n      <td>2.132481e-07</td>\n      <td>0.000000</td>\n      <td>0.000000</td>\n      <td>50</td>\n      <td>0.1</td>\n      <td>{'alpha': 50, 'l1_ratio': 0.1}</td>\n      <td>-31.130307</td>\n      <td>-22.549433</td>\n      <td>-31.155204</td>\n      <td>-27.963447</td>\n      <td>-21.698192</td>\n      <td>-26.899317</td>\n      <td>4.077240</td>\n      <td>17</td>\n    </tr>\n    <tr>\n      <th>25</th>\n      <td>0.001010</td>\n      <td>2.603653e-05</td>\n      <td>0.000000</td>\n      <td>0.000000</td>\n      <td>50</td>\n      <td>0.5</td>\n      <td>{'alpha': 50, 'l1_ratio': 0.5}</td>\n      <td>-31.130307</td>\n      <td>-22.549433</td>\n      <td>-31.155204</td>\n      <td>-27.963447</td>\n      <td>-21.698192</td>\n      <td>-26.899317</td>\n      <td>4.077240</td>\n      <td>17</td>\n    </tr>\n    <tr>\n      <th>26</th>\n      <td>0.000997</td>\n      <td>2.336015e-07</td>\n      <td>0.000000</td>\n      <td>0.000000</td>\n      <td>50</td>\n      <td>0.7</td>\n      <td>{'alpha': 50, 'l1_ratio': 0.7}</td>\n      <td>-31.130307</td>\n      <td>-22.549433</td>\n      <td>-31.155204</td>\n      <td>-27.963447</td>\n      <td>-21.698192</td>\n      <td>-26.899317</td>\n      <td>4.077240</td>\n      <td>17</td>\n    </tr>\n    <tr>\n      <th>27</th>\n      <td>0.000766</td>\n      <td>3.062918e-04</td>\n      <td>0.000000</td>\n      <td>0.000000</td>\n      <td>50</td>\n      <td>0.95</td>\n      <td>{'alpha': 50, 'l1_ratio': 0.95}</td>\n      <td>-31.130307</td>\n      <td>-22.549433</td>\n      <td>-31.155204</td>\n      <td>-27.963447</td>\n      <td>-21.698192</td>\n      <td>-26.899317</td>\n      <td>4.077240</td>\n      <td>17</td>\n    </tr>\n    <tr>\n      <th>28</th>\n      <td>0.000997</td>\n      <td>1.507891e-07</td>\n      <td>0.000000</td>\n      <td>0.000000</td>\n      <td>50</td>\n      <td>0.99</td>\n      <td>{'alpha': 50, 'l1_ratio': 0.99}</td>\n      <td>-31.130307</td>\n      <td>-22.549433</td>\n      <td>-31.155204</td>\n      <td>-27.963447</td>\n      <td>-21.698192</td>\n      <td>-26.899317</td>\n      <td>4.077240</td>\n      <td>17</td>\n    </tr>\n    <tr>\n      <th>29</th>\n      <td>0.000997</td>\n      <td>1.168008e-07</td>\n      <td>0.000000</td>\n      <td>0.000000</td>\n      <td>50</td>\n      <td>1</td>\n      <td>{'alpha': 50, 'l1_ratio': 1}</td>\n      <td>-31.130307</td>\n      <td>-22.549433</td>\n      <td>-31.155204</td>\n      <td>-27.963447</td>\n      <td>-21.698192</td>\n      <td>-26.899317</td>\n      <td>4.077240</td>\n      <td>17</td>\n    </tr>\n    <tr>\n      <th>30</th>\n      <td>0.000997</td>\n      <td>1.784161e-07</td>\n      <td>0.000000</td>\n      <td>0.000000</td>\n      <td>100</td>\n      <td>0.1</td>\n      <td>{'alpha': 100, 'l1_ratio': 0.1}</td>\n      <td>-31.130307</td>\n      <td>-22.549433</td>\n      <td>-31.155204</td>\n      <td>-27.963447</td>\n      <td>-21.698192</td>\n      <td>-26.899317</td>\n      <td>4.077240</td>\n      <td>17</td>\n    </tr>\n    <tr>\n      <th>31</th>\n      <td>0.000953</td>\n      <td>8.819778e-05</td>\n      <td>0.000000</td>\n      <td>0.000000</td>\n      <td>100</td>\n      <td>0.5</td>\n      <td>{'alpha': 100, 'l1_ratio': 0.5}</td>\n      <td>-31.130307</td>\n      <td>-22.549433</td>\n      <td>-31.155204</td>\n      <td>-27.963447</td>\n      <td>-21.698192</td>\n      <td>-26.899317</td>\n      <td>4.077240</td>\n      <td>17</td>\n    </tr>\n    <tr>\n      <th>32</th>\n      <td>0.000997</td>\n      <td>9.536743e-08</td>\n      <td>0.000000</td>\n      <td>0.000000</td>\n      <td>100</td>\n      <td>0.7</td>\n      <td>{'alpha': 100, 'l1_ratio': 0.7}</td>\n      <td>-31.130307</td>\n      <td>-22.549433</td>\n      <td>-31.155204</td>\n      <td>-27.963447</td>\n      <td>-21.698192</td>\n      <td>-26.899317</td>\n      <td>4.077240</td>\n      <td>17</td>\n    </tr>\n    <tr>\n      <th>33</th>\n      <td>0.000560</td>\n      <td>4.624801e-04</td>\n      <td>0.000000</td>\n      <td>0.000000</td>\n      <td>100</td>\n      <td>0.95</td>\n      <td>{'alpha': 100, 'l1_ratio': 0.95}</td>\n      <td>-31.130307</td>\n      <td>-22.549433</td>\n      <td>-31.155204</td>\n      <td>-27.963447</td>\n      <td>-21.698192</td>\n      <td>-26.899317</td>\n      <td>4.077240</td>\n      <td>17</td>\n    </tr>\n    <tr>\n      <th>34</th>\n      <td>0.000997</td>\n      <td>1.168008e-07</td>\n      <td>0.000000</td>\n      <td>0.000000</td>\n      <td>100</td>\n      <td>0.99</td>\n      <td>{'alpha': 100, 'l1_ratio': 0.99}</td>\n      <td>-31.130307</td>\n      <td>-22.549433</td>\n      <td>-31.155204</td>\n      <td>-27.963447</td>\n      <td>-21.698192</td>\n      <td>-26.899317</td>\n      <td>4.077240</td>\n      <td>17</td>\n    </tr>\n    <tr>\n      <th>35</th>\n      <td>0.000199</td>\n      <td>3.989220e-04</td>\n      <td>0.000900</td>\n      <td>0.000193</td>\n      <td>100</td>\n      <td>1</td>\n      <td>{'alpha': 100, 'l1_ratio': 1}</td>\n      <td>-31.130307</td>\n      <td>-22.549433</td>\n      <td>-31.155204</td>\n      <td>-27.963447</td>\n      <td>-21.698192</td>\n      <td>-26.899317</td>\n      <td>4.077240</td>\n      <td>17</td>\n    </tr>\n  </tbody>\n</table>\n</div>"
     },
     "execution_count": 106,
     "metadata": {},
     "output_type": "execute_result"
    }
   ],
   "source": [
    "pd.DataFrame(grid_model.cv_results_)"
   ],
   "metadata": {
    "collapsed": false,
    "pycharm": {
     "name": "#%%\n"
    }
   }
  },
  {
   "cell_type": "markdown",
   "source": [
    "* When you satisfy with the result "
   ],
   "metadata": {
    "collapsed": false
   }
  },
  {
   "cell_type": "code",
   "execution_count": 107,
   "outputs": [],
   "source": [
    "y_pred = grid_model.predict(X_test)"
   ],
   "metadata": {
    "collapsed": false,
    "pycharm": {
     "name": "#%%\n"
    }
   }
  },
  {
   "cell_type": "code",
   "execution_count": 108,
   "outputs": [],
   "source": [
    "from sklearn.metrics import mean_squared_error"
   ],
   "metadata": {
    "collapsed": false,
    "pycharm": {
     "name": "#%%\n"
    }
   }
  },
  {
   "cell_type": "code",
   "execution_count": 109,
   "outputs": [
    {
     "data": {
      "text/plain": "2.387342642087474"
     },
     "execution_count": 109,
     "metadata": {},
     "output_type": "execute_result"
    }
   ],
   "source": [
    "mean_squared_error(y_test, y_pred)"
   ],
   "metadata": {
    "collapsed": false,
    "pycharm": {
     "name": "#%%\n"
    }
   }
  },
  {
   "cell_type": "code",
   "execution_count": null,
   "outputs": [],
   "source": [],
   "metadata": {
    "collapsed": false,
    "pycharm": {
     "name": "#%%\n"
    }
   }
  }
 ],
 "metadata": {
  "kernelspec": {
   "display_name": "Python 3",
   "language": "python",
   "name": "python3"
  },
  "language_info": {
   "codemirror_mode": {
    "name": "ipython",
    "version": 2
   },
   "file_extension": ".py",
   "mimetype": "text/x-python",
   "name": "python",
   "nbconvert_exporter": "python",
   "pygments_lexer": "ipython2",
   "version": "2.7.6"
  }
 },
 "nbformat": 4,
 "nbformat_minor": 0
}