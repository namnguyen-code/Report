{
 "cells": [
  {
   "cell_type": "markdown",
   "metadata": {
    "collapsed": true,
    "pycharm": {
     "name": "#%% md\n"
    }
   },
   "source": [
    "# Missing data\n",
    "* Real world data will often be missing data for a variety of reasons\n",
    "* Many machine learning models and statistical methods can not work with missing data points, in which case we need to decide what to do with the missing data\n",
    "* When reading in missing values, pandas will display them as <b>NaN</b> (not a number) value\n",
    "* There are also newer specialized null pandas values such as <b>pd.NaT</b> (not a timestamp) to imply the value missing should be a timestamp."
   ]
  },
  {
   "cell_type": "markdown",
   "source": [
    "* Options for Missing Data\n",
    "    * Keep it\n",
    "    * Remove it\n",
    "    * Replace it\n",
    "* <i> Note, there is never 100% correct approach that applies to all circumstances, it all depends on the exact situation you encounter!\n"
   ],
   "metadata": {
    "collapsed": false,
    "pycharm": {
     "name": "#%% md\n"
    }
   }
  },
  {
   "cell_type": "markdown",
   "source": [
    "# Keeping the missing data\n",
    "* Keeping the missing data\n",
    "    * PROS:\n",
    "        * Easiest to do\n",
    "        * Does not manipulate or change the true data\n",
    "    * CONS:\n",
    "        * Many methods do not support Nan\n",
    "        * Often there are reasonable guesses for filling in that missing data"
   ],
   "metadata": {
    "collapsed": false,
    "pycharm": {
     "name": "#%% md\n"
    }
   }
  },
  {
   "cell_type": "markdown",
   "source": [
    "# Dropping or Removing the missing data\n",
    "* Dropping or Removing the missing data\n",
    "    * PROS:\n",
    "        * Easy to do\n",
    "        * Can be based on rules (could drop missing column with 2 values)\n",
    "    * CONS:\n",
    "        * Potential to lose a lot of data or useful information\n",
    "        * Limits trained models for future data\n",
    "* Dropping a row\n",
    "  * Makes sense when a lot of info is missing\n",
    "  * Clearly this data point as a row should probably be dropped\n",
    "  * Often a good idea to calculate a percentage of what data is dropped\n",
    "* Dropping a Column\n",
    "  * Good choice if every row is missing that particular feature\n",
    "  <table class=\"center\">\n",
    "<tr>\n",
    "<th>Labeled Index</th>\n",
    "<th>Year</th>\n",
    "<th>Pop</th>\n",
    "<th>GDP</th>\n",
    "<th>Area</th>\n",
    "</tr>\n",
    "\n",
    "<tr>\n",
    "<th>USA</th>\n",
    "<th>1776</th>\n",
    "<th>NAN</th>\n",
    "<th>NAN</th>\n",
    "<th>NAN</th>\n",
    "</tr>\n",
    "\n",
    "<tr>\n",
    "<th>CANADA</th>\n",
    "<th>1867</th>\n",
    "<th>38</th>\n",
    "<th>1.7</th>\n",
    "<th>3.86</th>\n",
    "</tr>\n",
    "\n",
    "<tr>\n",
    "<th>MEXICO</th>\n",
    "<th>1821</th>\n",
    "<th>1.7</th>\n",
    "<th>1.22</th>\n",
    "<th>0.76</th>\n",
    "</table>\n"
   ],
   "metadata": {
    "collapsed": false,
    "pycharm": {
     "name": "#%% md\n"
    }
   }
  },
  {
   "cell_type": "markdown",
   "source": [
    "# Filling in the missing data\n",
    "* Filling in the missing data\n",
    "    * PROS:\n",
    "        * Potential to save a lot of data for use in training a model\n",
    "    * CONS\n",
    "        * Hardest to do and somewhat arbitrary\n",
    "        * Potential to lead to false conclusions (be careful with the reasoning you're using on filling in that missing data)\n"
   ],
   "metadata": {
    "collapsed": false,
    "pycharm": {
     "name": "#%% md\n"
    }
   }
  },
  {
   "cell_type": "markdown",
   "source": [
    "* Filling in missing data\n",
    "    * Fill with same value\n",
    "        * Good choice if NaN was a placeholder\n",
    "        * Here NAN can be filled in with Zero\n",
    "\n",
    "<table class=\"center\">\n",
    "<tr>\n",
    "<th>Labeled Index</th>\n",
    "<th>Year</th>\n",
    "<th>Pop</th>\n",
    "<th>GDP</th>\n",
    "<th>Carriers</th>\n",
    "</tr>\n",
    "\n",
    "<tr>\n",
    "<th>USA</th>\n",
    "<th>1776</th>\n",
    "<th>328</th>\n",
    "<th>20.5</th>\n",
    "<th>11</th>\n",
    "</tr>\n",
    "\n",
    "<tr>\n",
    "<th>CANADA</th>\n",
    "<th>1867</th>\n",
    "<th>38</th>\n",
    "<th>1.7</th>\n",
    "<th>Nan</th>\n",
    "</tr>\n",
    "\n",
    "<tr>\n",
    "<th>MEXICO</th>\n",
    "<th>1821</th>\n",
    "<th>1.7</th>\n",
    "<th>1.22</th>\n",
    "<th>Nan</th>\n",
    "</table>"
   ],
   "metadata": {
    "collapsed": false,
    "pycharm": {
     "name": "#%% md\n"
    }
   }
  },
  {
   "cell_type": "markdown",
   "source": [
    "* Filling in missing data\n",
    "    * Fill with interpolated or estimated value\n",
    "        * Much harder and requires reasonable assumptions\n",
    "<table class=\"center\">\n",
    "<tr>\n",
    "<th>Labeled Index</th>\n",
    "<th>Year</th>\n",
    "<th>Pop</th>\n",
    "<th>GDP</th>\n",
    "<th>Percent</th>\n",
    "</tr>\n",
    "\n",
    "<tr>\n",
    "<th>USA</th>\n",
    "<th>1776</th>\n",
    "<th>328</th>\n",
    "<th>20.5</th>\n",
    "<th>75%</th>\n",
    "</tr>\n",
    "\n",
    "<tr>\n",
    "<th>CANADA</th>\n",
    "<th>1867</th>\n",
    "<th>38</th>\n",
    "<th>1.7</th>\n",
    "<th>Nan</th>\n",
    "</tr>\n",
    "\n",
    "<tr>\n",
    "<th>MEXICO</th>\n",
    "<th>1821</th>\n",
    "<th>1.7</th>\n",
    "<th>1.22</th>\n",
    "<th>25%</th>\n",
    "</table>"
   ],
   "metadata": {
    "collapsed": false,
    "pycharm": {
     "name": "#%% md\n"
    }
   }
  },
  {
   "cell_type": "markdown",
   "source": [
    "* Let's explore the code syntax in pandas for dealing with missing values\n",
    "* Later on in the course we will have a deeper disscussion on trying to decide between keep, remove, and replace options\n"
   ],
   "metadata": {
    "collapsed": false,
    "pycharm": {
     "name": "#%% md\n"
    }
   }
  },
  {
   "cell_type": "code",
   "execution_count": 2,
   "outputs": [],
   "source": [
    "import numpy as np\n",
    "import pandas as pd"
   ],
   "metadata": {
    "collapsed": false,
    "pycharm": {
     "name": "#%%\n"
    }
   }
  },
  {
   "cell_type": "code",
   "execution_count": 3,
   "outputs": [
    {
     "data": {
      "text/plain": "nan"
     },
     "execution_count": 3,
     "metadata": {},
     "output_type": "execute_result"
    }
   ],
   "source": [
    "# old version of notebook\n",
    "np.nan"
   ],
   "metadata": {
    "collapsed": false,
    "pycharm": {
     "name": "#%%\n"
    }
   }
  },
  {
   "cell_type": "code",
   "execution_count": 4,
   "outputs": [
    {
     "data": {
      "text/plain": "<NA>"
     },
     "execution_count": 4,
     "metadata": {},
     "output_type": "execute_result"
    }
   ],
   "source": [
    "# new version of notebook\n",
    "# future to show the missing data\n",
    "pd.NA"
   ],
   "metadata": {
    "collapsed": false,
    "pycharm": {
     "name": "#%%\n"
    }
   }
  },
  {
   "cell_type": "code",
   "execution_count": 5,
   "outputs": [
    {
     "data": {
      "text/plain": "NaT"
     },
     "execution_count": 5,
     "metadata": {},
     "output_type": "execute_result"
    }
   ],
   "source": [
    "# timestamp\n",
    "pd.NaT\n"
   ],
   "metadata": {
    "collapsed": false,
    "pycharm": {
     "name": "#%%\n"
    }
   }
  },
  {
   "cell_type": "code",
   "execution_count": 6,
   "outputs": [
    {
     "data": {
      "text/plain": "False"
     },
     "execution_count": 6,
     "metadata": {},
     "output_type": "execute_result"
    }
   ],
   "source": [
    "# the two missing values could not be sure equal\n",
    "np.nan == np.nan # False"
   ],
   "metadata": {
    "collapsed": false,
    "pycharm": {
     "name": "#%%\n"
    }
   }
  },
  {
   "cell_type": "code",
   "execution_count": 7,
   "outputs": [
    {
     "data": {
      "text/plain": "True"
     },
     "execution_count": 7,
     "metadata": {},
     "output_type": "execute_result"
    }
   ],
   "source": [
    "np.nan is np.nan"
   ],
   "metadata": {
    "collapsed": false,
    "pycharm": {
     "name": "#%%\n"
    }
   }
  },
  {
   "cell_type": "code",
   "execution_count": 8,
   "outputs": [],
   "source": [
    "myvar = np.nan"
   ],
   "metadata": {
    "collapsed": false,
    "pycharm": {
     "name": "#%%\n"
    }
   }
  },
  {
   "cell_type": "code",
   "execution_count": 9,
   "outputs": [
    {
     "data": {
      "text/plain": "True"
     },
     "execution_count": 9,
     "metadata": {},
     "output_type": "execute_result"
    }
   ],
   "source": [
    "# use 'is'\n",
    "# don't use the (==)\n",
    "myvar is np.nan"
   ],
   "metadata": {
    "collapsed": false,
    "pycharm": {
     "name": "#%%\n"
    }
   }
  },
  {
   "cell_type": "code",
   "execution_count": 10,
   "outputs": [],
   "source": [
    "df = pd.read_csv('C:\\\\Users\\\\admin\\\\Desktop\\\\Data Science\\\\Course-2021\\\\03-Pandas\\\\movie_scores.csv')"
   ],
   "metadata": {
    "collapsed": false,
    "pycharm": {
     "name": "#%%\n"
    }
   }
  },
  {
   "cell_type": "code",
   "execution_count": 11,
   "outputs": [
    {
     "data": {
      "text/plain": "  first_name last_name   age  sex  pre_movie_score  post_movie_score\n0        Tom     Hanks  63.0    m              8.0              10.0\n1        NaN       NaN   NaN  NaN              NaN               NaN\n2       Hugh   Jackman  51.0    m              NaN               NaN\n3      Oprah   Winfrey  66.0    f              6.0               8.0\n4       Emma     Stone  31.0    f              7.0               9.0",
      "text/html": "<div>\n<style scoped>\n    .dataframe tbody tr th:only-of-type {\n        vertical-align: middle;\n    }\n\n    .dataframe tbody tr th {\n        vertical-align: top;\n    }\n\n    .dataframe thead th {\n        text-align: right;\n    }\n</style>\n<table border=\"1\" class=\"dataframe\">\n  <thead>\n    <tr style=\"text-align: right;\">\n      <th></th>\n      <th>first_name</th>\n      <th>last_name</th>\n      <th>age</th>\n      <th>sex</th>\n      <th>pre_movie_score</th>\n      <th>post_movie_score</th>\n    </tr>\n  </thead>\n  <tbody>\n    <tr>\n      <th>0</th>\n      <td>Tom</td>\n      <td>Hanks</td>\n      <td>63.0</td>\n      <td>m</td>\n      <td>8.0</td>\n      <td>10.0</td>\n    </tr>\n    <tr>\n      <th>1</th>\n      <td>NaN</td>\n      <td>NaN</td>\n      <td>NaN</td>\n      <td>NaN</td>\n      <td>NaN</td>\n      <td>NaN</td>\n    </tr>\n    <tr>\n      <th>2</th>\n      <td>Hugh</td>\n      <td>Jackman</td>\n      <td>51.0</td>\n      <td>m</td>\n      <td>NaN</td>\n      <td>NaN</td>\n    </tr>\n    <tr>\n      <th>3</th>\n      <td>Oprah</td>\n      <td>Winfrey</td>\n      <td>66.0</td>\n      <td>f</td>\n      <td>6.0</td>\n      <td>8.0</td>\n    </tr>\n    <tr>\n      <th>4</th>\n      <td>Emma</td>\n      <td>Stone</td>\n      <td>31.0</td>\n      <td>f</td>\n      <td>7.0</td>\n      <td>9.0</td>\n    </tr>\n  </tbody>\n</table>\n</div>"
     },
     "execution_count": 11,
     "metadata": {},
     "output_type": "execute_result"
    }
   ],
   "source": [
    "df"
   ],
   "metadata": {
    "collapsed": false,
    "pycharm": {
     "name": "#%%\n"
    }
   }
  },
  {
   "cell_type": "code",
   "execution_count": 12,
   "outputs": [
    {
     "data": {
      "text/plain": "   first_name  last_name    age    sex  pre_movie_score  post_movie_score\n0       False      False  False  False            False             False\n1        True       True   True   True             True              True\n2       False      False  False  False             True              True\n3       False      False  False  False            False             False\n4       False      False  False  False            False             False",
      "text/html": "<div>\n<style scoped>\n    .dataframe tbody tr th:only-of-type {\n        vertical-align: middle;\n    }\n\n    .dataframe tbody tr th {\n        vertical-align: top;\n    }\n\n    .dataframe thead th {\n        text-align: right;\n    }\n</style>\n<table border=\"1\" class=\"dataframe\">\n  <thead>\n    <tr style=\"text-align: right;\">\n      <th></th>\n      <th>first_name</th>\n      <th>last_name</th>\n      <th>age</th>\n      <th>sex</th>\n      <th>pre_movie_score</th>\n      <th>post_movie_score</th>\n    </tr>\n  </thead>\n  <tbody>\n    <tr>\n      <th>0</th>\n      <td>False</td>\n      <td>False</td>\n      <td>False</td>\n      <td>False</td>\n      <td>False</td>\n      <td>False</td>\n    </tr>\n    <tr>\n      <th>1</th>\n      <td>True</td>\n      <td>True</td>\n      <td>True</td>\n      <td>True</td>\n      <td>True</td>\n      <td>True</td>\n    </tr>\n    <tr>\n      <th>2</th>\n      <td>False</td>\n      <td>False</td>\n      <td>False</td>\n      <td>False</td>\n      <td>True</td>\n      <td>True</td>\n    </tr>\n    <tr>\n      <th>3</th>\n      <td>False</td>\n      <td>False</td>\n      <td>False</td>\n      <td>False</td>\n      <td>False</td>\n      <td>False</td>\n    </tr>\n    <tr>\n      <th>4</th>\n      <td>False</td>\n      <td>False</td>\n      <td>False</td>\n      <td>False</td>\n      <td>False</td>\n      <td>False</td>\n    </tr>\n  </tbody>\n</table>\n</div>"
     },
     "execution_count": 12,
     "metadata": {},
     "output_type": "execute_result"
    }
   ],
   "source": [
    "# return a boolean if you have a null value\n",
    "# True is null value\n",
    "df.isnull()"
   ],
   "metadata": {
    "collapsed": false,
    "pycharm": {
     "name": "#%%\n"
    }
   }
  },
  {
   "cell_type": "code",
   "execution_count": 13,
   "outputs": [
    {
     "data": {
      "text/plain": "   first_name  last_name    age    sex  pre_movie_score  post_movie_score\n0        True       True   True   True             True              True\n1       False      False  False  False            False             False\n2        True       True   True   True            False             False\n3        True       True   True   True             True              True\n4        True       True   True   True             True              True",
      "text/html": "<div>\n<style scoped>\n    .dataframe tbody tr th:only-of-type {\n        vertical-align: middle;\n    }\n\n    .dataframe tbody tr th {\n        vertical-align: top;\n    }\n\n    .dataframe thead th {\n        text-align: right;\n    }\n</style>\n<table border=\"1\" class=\"dataframe\">\n  <thead>\n    <tr style=\"text-align: right;\">\n      <th></th>\n      <th>first_name</th>\n      <th>last_name</th>\n      <th>age</th>\n      <th>sex</th>\n      <th>pre_movie_score</th>\n      <th>post_movie_score</th>\n    </tr>\n  </thead>\n  <tbody>\n    <tr>\n      <th>0</th>\n      <td>True</td>\n      <td>True</td>\n      <td>True</td>\n      <td>True</td>\n      <td>True</td>\n      <td>True</td>\n    </tr>\n    <tr>\n      <th>1</th>\n      <td>False</td>\n      <td>False</td>\n      <td>False</td>\n      <td>False</td>\n      <td>False</td>\n      <td>False</td>\n    </tr>\n    <tr>\n      <th>2</th>\n      <td>True</td>\n      <td>True</td>\n      <td>True</td>\n      <td>True</td>\n      <td>False</td>\n      <td>False</td>\n    </tr>\n    <tr>\n      <th>3</th>\n      <td>True</td>\n      <td>True</td>\n      <td>True</td>\n      <td>True</td>\n      <td>True</td>\n      <td>True</td>\n    </tr>\n    <tr>\n      <th>4</th>\n      <td>True</td>\n      <td>True</td>\n      <td>True</td>\n      <td>True</td>\n      <td>True</td>\n      <td>True</td>\n    </tr>\n  </tbody>\n</table>\n</div>"
     },
     "execution_count": 13,
     "metadata": {},
     "output_type": "execute_result"
    }
   ],
   "source": [
    "# the opposite of 'isnull'\n",
    "# only select columns where certain features are present\n",
    "df.notnull()"
   ],
   "metadata": {
    "collapsed": false,
    "pycharm": {
     "name": "#%%\n"
    }
   }
  },
  {
   "cell_type": "code",
   "execution_count": 14,
   "outputs": [
    {
     "data": {
      "text/plain": "0     True\n1    False\n2    False\n3     True\n4     True\nName: pre_movie_score, dtype: bool"
     },
     "execution_count": 14,
     "metadata": {},
     "output_type": "execute_result"
    }
   ],
   "source": [
    "# research for not movie score value\n",
    "df['pre_movie_score'].notnull()"
   ],
   "metadata": {
    "collapsed": false,
    "pycharm": {
     "name": "#%%\n"
    }
   }
  },
  {
   "cell_type": "code",
   "execution_count": 15,
   "outputs": [
    {
     "data": {
      "text/plain": "  first_name last_name   age sex  pre_movie_score  post_movie_score\n0        Tom     Hanks  63.0   m              8.0              10.0\n3      Oprah   Winfrey  66.0   f              6.0               8.0\n4       Emma     Stone  31.0   f              7.0               9.0",
      "text/html": "<div>\n<style scoped>\n    .dataframe tbody tr th:only-of-type {\n        vertical-align: middle;\n    }\n\n    .dataframe tbody tr th {\n        vertical-align: top;\n    }\n\n    .dataframe thead th {\n        text-align: right;\n    }\n</style>\n<table border=\"1\" class=\"dataframe\">\n  <thead>\n    <tr style=\"text-align: right;\">\n      <th></th>\n      <th>first_name</th>\n      <th>last_name</th>\n      <th>age</th>\n      <th>sex</th>\n      <th>pre_movie_score</th>\n      <th>post_movie_score</th>\n    </tr>\n  </thead>\n  <tbody>\n    <tr>\n      <th>0</th>\n      <td>Tom</td>\n      <td>Hanks</td>\n      <td>63.0</td>\n      <td>m</td>\n      <td>8.0</td>\n      <td>10.0</td>\n    </tr>\n    <tr>\n      <th>3</th>\n      <td>Oprah</td>\n      <td>Winfrey</td>\n      <td>66.0</td>\n      <td>f</td>\n      <td>6.0</td>\n      <td>8.0</td>\n    </tr>\n    <tr>\n      <th>4</th>\n      <td>Emma</td>\n      <td>Stone</td>\n      <td>31.0</td>\n      <td>f</td>\n      <td>7.0</td>\n      <td>9.0</td>\n    </tr>\n  </tbody>\n</table>\n</div>"
     },
     "execution_count": 15,
     "metadata": {},
     "output_type": "execute_result"
    }
   ],
   "source": [
    "# passing to dataframe\n",
    "# only return the movie with pre_movie == True\n",
    "df[df['pre_movie_score'].notnull()]"
   ],
   "metadata": {
    "collapsed": false,
    "pycharm": {
     "name": "#%%\n"
    }
   }
  },
  {
   "cell_type": "code",
   "execution_count": 16,
   "outputs": [
    {
     "data": {
      "text/plain": "  first_name last_name   age sex  pre_movie_score  post_movie_score\n2       Hugh   Jackman  51.0   m              NaN               NaN",
      "text/html": "<div>\n<style scoped>\n    .dataframe tbody tr th:only-of-type {\n        vertical-align: middle;\n    }\n\n    .dataframe tbody tr th {\n        vertical-align: top;\n    }\n\n    .dataframe thead th {\n        text-align: right;\n    }\n</style>\n<table border=\"1\" class=\"dataframe\">\n  <thead>\n    <tr style=\"text-align: right;\">\n      <th></th>\n      <th>first_name</th>\n      <th>last_name</th>\n      <th>age</th>\n      <th>sex</th>\n      <th>pre_movie_score</th>\n      <th>post_movie_score</th>\n    </tr>\n  </thead>\n  <tbody>\n    <tr>\n      <th>2</th>\n      <td>Hugh</td>\n      <td>Jackman</td>\n      <td>51.0</td>\n      <td>m</td>\n      <td>NaN</td>\n      <td>NaN</td>\n    </tr>\n  </tbody>\n</table>\n</div>"
     },
     "execution_count": 16,
     "metadata": {},
     "output_type": "execute_result"
    }
   ],
   "source": [
    "# combine the filtering with 'isnull' and 'notnull'\n",
    "df[(df['pre_movie_score'].isnull()) & (df['first_name'].notnull())]"
   ],
   "metadata": {
    "collapsed": false,
    "pycharm": {
     "name": "#%%\n"
    }
   }
  },
  {
   "cell_type": "markdown",
   "source": [
    "# Keep data\n",
    "* Read the dataset\n",
    "* Keep any missing values"
   ],
   "metadata": {
    "collapsed": false,
    "pycharm": {
     "name": "#%% md\n"
    }
   }
  },
  {
   "cell_type": "code",
   "execution_count": 17,
   "outputs": [
    {
     "name": "stdout",
     "output_type": "stream",
     "text": [
      "Help on method dropna in module pandas.core.frame:\n",
      "\n",
      "dropna(axis: 'Axis' = 0, how: 'str' = 'any', thresh=None, subset=None, inplace: 'bool' = False) method of pandas.core.frame.DataFrame instance\n",
      "    Remove missing values.\n",
      "    \n",
      "    See the :ref:`User Guide <missing_data>` for more on which values are\n",
      "    considered missing, and how to work with missing data.\n",
      "    \n",
      "    Parameters\n",
      "    ----------\n",
      "    axis : {0 or 'index', 1 or 'columns'}, default 0\n",
      "        Determine if rows or columns which contain missing values are\n",
      "        removed.\n",
      "    \n",
      "        * 0, or 'index' : Drop rows which contain missing values.\n",
      "        * 1, or 'columns' : Drop columns which contain missing value.\n",
      "    \n",
      "        .. versionchanged:: 1.0.0\n",
      "    \n",
      "           Pass tuple or list to drop on multiple axes.\n",
      "           Only a single axis is allowed.\n",
      "    \n",
      "    how : {'any', 'all'}, default 'any'\n",
      "        Determine if row or column is removed from DataFrame, when we have\n",
      "        at least one NA or all NA.\n",
      "    \n",
      "        * 'any' : If any NA values are present, drop that row or column.\n",
      "        * 'all' : If all values are NA, drop that row or column.\n",
      "    \n",
      "    thresh : int, optional\n",
      "        Require that many non-NA values.\n",
      "    subset : array-like, optional\n",
      "        Labels along other axis to consider, e.g. if you are dropping rows\n",
      "        these would be a list of columns to include.\n",
      "    inplace : bool, default False\n",
      "        If True, do operation inplace and return None.\n",
      "    \n",
      "    Returns\n",
      "    -------\n",
      "    DataFrame or None\n",
      "        DataFrame with NA entries dropped from it or None if ``inplace=True``.\n",
      "    \n",
      "    See Also\n",
      "    --------\n",
      "    DataFrame.isna: Indicate missing values.\n",
      "    DataFrame.notna : Indicate existing (non-missing) values.\n",
      "    DataFrame.fillna : Replace missing values.\n",
      "    Series.dropna : Drop missing values.\n",
      "    Index.dropna : Drop missing indices.\n",
      "    \n",
      "    Examples\n",
      "    --------\n",
      "    >>> df = pd.DataFrame({\"name\": ['Alfred', 'Batman', 'Catwoman'],\n",
      "    ...                    \"toy\": [np.nan, 'Batmobile', 'Bullwhip'],\n",
      "    ...                    \"born\": [pd.NaT, pd.Timestamp(\"1940-04-25\"),\n",
      "    ...                             pd.NaT]})\n",
      "    >>> df\n",
      "           name        toy       born\n",
      "    0    Alfred        NaN        NaT\n",
      "    1    Batman  Batmobile 1940-04-25\n",
      "    2  Catwoman   Bullwhip        NaT\n",
      "    \n",
      "    Drop the rows where at least one element is missing.\n",
      "    \n",
      "    >>> df.dropna()\n",
      "         name        toy       born\n",
      "    1  Batman  Batmobile 1940-04-25\n",
      "    \n",
      "    Drop the columns where at least one element is missing.\n",
      "    \n",
      "    >>> df.dropna(axis='columns')\n",
      "           name\n",
      "    0    Alfred\n",
      "    1    Batman\n",
      "    2  Catwoman\n",
      "    \n",
      "    Drop the rows where all elements are missing.\n",
      "    \n",
      "    >>> df.dropna(how='all')\n",
      "           name        toy       born\n",
      "    0    Alfred        NaN        NaT\n",
      "    1    Batman  Batmobile 1940-04-25\n",
      "    2  Catwoman   Bullwhip        NaT\n",
      "    \n",
      "    Keep only the rows with at least 2 non-NA values.\n",
      "    \n",
      "    >>> df.dropna(thresh=2)\n",
      "           name        toy       born\n",
      "    1    Batman  Batmobile 1940-04-25\n",
      "    2  Catwoman   Bullwhip        NaT\n",
      "    \n",
      "    Define in which columns to look for missing values.\n",
      "    \n",
      "    >>> df.dropna(subset=['name', 'toy'])\n",
      "           name        toy       born\n",
      "    1    Batman  Batmobile 1940-04-25\n",
      "    2  Catwoman   Bullwhip        NaT\n",
      "    \n",
      "    Keep the DataFrame with valid entries in the same variable.\n",
      "    \n",
      "    >>> df.dropna(inplace=True)\n",
      "    >>> df\n",
      "         name        toy       born\n",
      "    1  Batman  Batmobile 1940-04-25\n",
      "\n"
     ]
    }
   ],
   "source": [
    "help(df.dropna)\n"
   ],
   "metadata": {
    "collapsed": false,
    "pycharm": {
     "name": "#%%\n"
    }
   }
  },
  {
   "cell_type": "code",
   "execution_count": 18,
   "outputs": [
    {
     "data": {
      "text/plain": "  first_name last_name   age sex  pre_movie_score  post_movie_score\n0        Tom     Hanks  63.0   m              8.0              10.0\n3      Oprah   Winfrey  66.0   f              6.0               8.0\n4       Emma     Stone  31.0   f              7.0               9.0",
      "text/html": "<div>\n<style scoped>\n    .dataframe tbody tr th:only-of-type {\n        vertical-align: middle;\n    }\n\n    .dataframe tbody tr th {\n        vertical-align: top;\n    }\n\n    .dataframe thead th {\n        text-align: right;\n    }\n</style>\n<table border=\"1\" class=\"dataframe\">\n  <thead>\n    <tr style=\"text-align: right;\">\n      <th></th>\n      <th>first_name</th>\n      <th>last_name</th>\n      <th>age</th>\n      <th>sex</th>\n      <th>pre_movie_score</th>\n      <th>post_movie_score</th>\n    </tr>\n  </thead>\n  <tbody>\n    <tr>\n      <th>0</th>\n      <td>Tom</td>\n      <td>Hanks</td>\n      <td>63.0</td>\n      <td>m</td>\n      <td>8.0</td>\n      <td>10.0</td>\n    </tr>\n    <tr>\n      <th>3</th>\n      <td>Oprah</td>\n      <td>Winfrey</td>\n      <td>66.0</td>\n      <td>f</td>\n      <td>6.0</td>\n      <td>8.0</td>\n    </tr>\n    <tr>\n      <th>4</th>\n      <td>Emma</td>\n      <td>Stone</td>\n      <td>31.0</td>\n      <td>f</td>\n      <td>7.0</td>\n      <td>9.0</td>\n    </tr>\n  </tbody>\n</table>\n</div>"
     },
     "execution_count": 18,
     "metadata": {},
     "output_type": "execute_result"
    }
   ],
   "source": [
    "# drop any row with missing value\n",
    "df.dropna()"
   ],
   "metadata": {
    "collapsed": false,
    "pycharm": {
     "name": "#%%\n"
    }
   }
  },
  {
   "cell_type": "code",
   "execution_count": 19,
   "outputs": [
    {
     "data": {
      "text/plain": "  first_name last_name   age sex  pre_movie_score  post_movie_score\n0        Tom     Hanks  63.0   m              8.0              10.0\n2       Hugh   Jackman  51.0   m              NaN               NaN\n3      Oprah   Winfrey  66.0   f              6.0               8.0\n4       Emma     Stone  31.0   f              7.0               9.0",
      "text/html": "<div>\n<style scoped>\n    .dataframe tbody tr th:only-of-type {\n        vertical-align: middle;\n    }\n\n    .dataframe tbody tr th {\n        vertical-align: top;\n    }\n\n    .dataframe thead th {\n        text-align: right;\n    }\n</style>\n<table border=\"1\" class=\"dataframe\">\n  <thead>\n    <tr style=\"text-align: right;\">\n      <th></th>\n      <th>first_name</th>\n      <th>last_name</th>\n      <th>age</th>\n      <th>sex</th>\n      <th>pre_movie_score</th>\n      <th>post_movie_score</th>\n    </tr>\n  </thead>\n  <tbody>\n    <tr>\n      <th>0</th>\n      <td>Tom</td>\n      <td>Hanks</td>\n      <td>63.0</td>\n      <td>m</td>\n      <td>8.0</td>\n      <td>10.0</td>\n    </tr>\n    <tr>\n      <th>2</th>\n      <td>Hugh</td>\n      <td>Jackman</td>\n      <td>51.0</td>\n      <td>m</td>\n      <td>NaN</td>\n      <td>NaN</td>\n    </tr>\n    <tr>\n      <th>3</th>\n      <td>Oprah</td>\n      <td>Winfrey</td>\n      <td>66.0</td>\n      <td>f</td>\n      <td>6.0</td>\n      <td>8.0</td>\n    </tr>\n    <tr>\n      <th>4</th>\n      <td>Emma</td>\n      <td>Stone</td>\n      <td>31.0</td>\n      <td>f</td>\n      <td>7.0</td>\n      <td>9.0</td>\n    </tr>\n  </tbody>\n</table>\n</div>"
     },
     "execution_count": 19,
     "metadata": {},
     "output_type": "execute_result"
    }
   ],
   "source": [
    "# drop the row with all missing value\n",
    "# thresh=n - drop any rows that contain null value\n",
    "# unless they have at least 'n' non-null-value\n",
    "df.dropna(thresh=1)"
   ],
   "metadata": {
    "collapsed": false,
    "pycharm": {
     "name": "#%%\n"
    }
   }
  },
  {
   "cell_type": "code",
   "execution_count": 20,
   "outputs": [
    {
     "data": {
      "text/plain": "  first_name last_name   age sex  pre_movie_score  post_movie_score\n0        Tom     Hanks  63.0   m              8.0              10.0\n3      Oprah   Winfrey  66.0   f              6.0               8.0\n4       Emma     Stone  31.0   f              7.0               9.0",
      "text/html": "<div>\n<style scoped>\n    .dataframe tbody tr th:only-of-type {\n        vertical-align: middle;\n    }\n\n    .dataframe tbody tr th {\n        vertical-align: top;\n    }\n\n    .dataframe thead th {\n        text-align: right;\n    }\n</style>\n<table border=\"1\" class=\"dataframe\">\n  <thead>\n    <tr style=\"text-align: right;\">\n      <th></th>\n      <th>first_name</th>\n      <th>last_name</th>\n      <th>age</th>\n      <th>sex</th>\n      <th>pre_movie_score</th>\n      <th>post_movie_score</th>\n    </tr>\n  </thead>\n  <tbody>\n    <tr>\n      <th>0</th>\n      <td>Tom</td>\n      <td>Hanks</td>\n      <td>63.0</td>\n      <td>m</td>\n      <td>8.0</td>\n      <td>10.0</td>\n    </tr>\n    <tr>\n      <th>3</th>\n      <td>Oprah</td>\n      <td>Winfrey</td>\n      <td>66.0</td>\n      <td>f</td>\n      <td>6.0</td>\n      <td>8.0</td>\n    </tr>\n    <tr>\n      <th>4</th>\n      <td>Emma</td>\n      <td>Stone</td>\n      <td>31.0</td>\n      <td>f</td>\n      <td>7.0</td>\n      <td>9.0</td>\n    </tr>\n  </tbody>\n</table>\n</div>"
     },
     "execution_count": 20,
     "metadata": {},
     "output_type": "execute_result"
    }
   ],
   "source": [
    "df.dropna(thresh=5)"
   ],
   "metadata": {
    "collapsed": false,
    "pycharm": {
     "name": "#%%\n"
    }
   }
  },
  {
   "cell_type": "code",
   "execution_count": 21,
   "outputs": [
    {
     "data": {
      "text/plain": "Empty DataFrame\nColumns: []\nIndex: [0, 1, 2, 3, 4]",
      "text/html": "<div>\n<style scoped>\n    .dataframe tbody tr th:only-of-type {\n        vertical-align: middle;\n    }\n\n    .dataframe tbody tr th {\n        vertical-align: top;\n    }\n\n    .dataframe thead th {\n        text-align: right;\n    }\n</style>\n<table border=\"1\" class=\"dataframe\">\n  <thead>\n    <tr style=\"text-align: right;\">\n      <th></th>\n    </tr>\n  </thead>\n  <tbody>\n    <tr>\n      <th>0</th>\n    </tr>\n    <tr>\n      <th>1</th>\n    </tr>\n    <tr>\n      <th>2</th>\n    </tr>\n    <tr>\n      <th>3</th>\n    </tr>\n    <tr>\n      <th>4</th>\n    </tr>\n  </tbody>\n</table>\n</div>"
     },
     "execution_count": 21,
     "metadata": {},
     "output_type": "execute_result"
    }
   ],
   "source": [
    "# drop any column with missing value\n",
    "# the result has dropped all the value in table\n",
    "df.dropna(axis=1)"
   ],
   "metadata": {
    "collapsed": false,
    "pycharm": {
     "name": "#%%\n"
    }
   }
  },
  {
   "cell_type": "markdown",
   "source": [
    "* When using the rows as data point and columns as feature\n",
    "=> leave default axis = 0"
   ],
   "metadata": {
    "collapsed": false,
    "pycharm": {
     "name": "#%% md\n"
    }
   }
  },
  {
   "cell_type": "code",
   "execution_count": 22,
   "outputs": [
    {
     "data": {
      "text/plain": "  first_name last_name   age sex  pre_movie_score  post_movie_score\n0        Tom     Hanks  63.0   m              8.0              10.0\n3      Oprah   Winfrey  66.0   f              6.0               8.0\n4       Emma     Stone  31.0   f              7.0               9.0",
      "text/html": "<div>\n<style scoped>\n    .dataframe tbody tr th:only-of-type {\n        vertical-align: middle;\n    }\n\n    .dataframe tbody tr th {\n        vertical-align: top;\n    }\n\n    .dataframe thead th {\n        text-align: right;\n    }\n</style>\n<table border=\"1\" class=\"dataframe\">\n  <thead>\n    <tr style=\"text-align: right;\">\n      <th></th>\n      <th>first_name</th>\n      <th>last_name</th>\n      <th>age</th>\n      <th>sex</th>\n      <th>pre_movie_score</th>\n      <th>post_movie_score</th>\n    </tr>\n  </thead>\n  <tbody>\n    <tr>\n      <th>0</th>\n      <td>Tom</td>\n      <td>Hanks</td>\n      <td>63.0</td>\n      <td>m</td>\n      <td>8.0</td>\n      <td>10.0</td>\n    </tr>\n    <tr>\n      <th>3</th>\n      <td>Oprah</td>\n      <td>Winfrey</td>\n      <td>66.0</td>\n      <td>f</td>\n      <td>6.0</td>\n      <td>8.0</td>\n    </tr>\n    <tr>\n      <th>4</th>\n      <td>Emma</td>\n      <td>Stone</td>\n      <td>31.0</td>\n      <td>f</td>\n      <td>7.0</td>\n      <td>9.0</td>\n    </tr>\n  </tbody>\n</table>\n</div>"
     },
     "execution_count": 22,
     "metadata": {},
     "output_type": "execute_result"
    }
   ],
   "source": [
    "df.dropna(axis=0)"
   ],
   "metadata": {
    "collapsed": false,
    "pycharm": {
     "name": "#%%\n"
    }
   }
  },
  {
   "cell_type": "code",
   "execution_count": 23,
   "outputs": [
    {
     "data": {
      "text/plain": "  first_name last_name   age sex  pre_movie_score  post_movie_score\n0        Tom     Hanks  63.0   m              8.0              10.0\n2       Hugh   Jackman  51.0   m              NaN               NaN\n3      Oprah   Winfrey  66.0   f              6.0               8.0\n4       Emma     Stone  31.0   f              7.0               9.0",
      "text/html": "<div>\n<style scoped>\n    .dataframe tbody tr th:only-of-type {\n        vertical-align: middle;\n    }\n\n    .dataframe tbody tr th {\n        vertical-align: top;\n    }\n\n    .dataframe thead th {\n        text-align: right;\n    }\n</style>\n<table border=\"1\" class=\"dataframe\">\n  <thead>\n    <tr style=\"text-align: right;\">\n      <th></th>\n      <th>first_name</th>\n      <th>last_name</th>\n      <th>age</th>\n      <th>sex</th>\n      <th>pre_movie_score</th>\n      <th>post_movie_score</th>\n    </tr>\n  </thead>\n  <tbody>\n    <tr>\n      <th>0</th>\n      <td>Tom</td>\n      <td>Hanks</td>\n      <td>63.0</td>\n      <td>m</td>\n      <td>8.0</td>\n      <td>10.0</td>\n    </tr>\n    <tr>\n      <th>2</th>\n      <td>Hugh</td>\n      <td>Jackman</td>\n      <td>51.0</td>\n      <td>m</td>\n      <td>NaN</td>\n      <td>NaN</td>\n    </tr>\n    <tr>\n      <th>3</th>\n      <td>Oprah</td>\n      <td>Winfrey</td>\n      <td>66.0</td>\n      <td>f</td>\n      <td>6.0</td>\n      <td>8.0</td>\n    </tr>\n    <tr>\n      <th>4</th>\n      <td>Emma</td>\n      <td>Stone</td>\n      <td>31.0</td>\n      <td>f</td>\n      <td>7.0</td>\n      <td>9.0</td>\n    </tr>\n  </tbody>\n</table>\n</div>"
     },
     "execution_count": 23,
     "metadata": {},
     "output_type": "execute_result"
    }
   ],
   "source": [
    "# drop the NaN value in specific columns\n",
    "df.dropna(subset=['last_name'])"
   ],
   "metadata": {
    "collapsed": false,
    "pycharm": {
     "name": "#%%\n"
    }
   }
  },
  {
   "cell_type": "code",
   "execution_count": 24,
   "outputs": [
    {
     "data": {
      "text/plain": "   first_name   last_name         age         sex pre_movie_score  \\\n0         Tom       Hanks        63.0           m             8.0   \n1  NEW VALUE!  NEW VALUE!  NEW VALUE!  NEW VALUE!      NEW VALUE!   \n2        Hugh     Jackman        51.0           m      NEW VALUE!   \n3       Oprah     Winfrey        66.0           f             6.0   \n4        Emma       Stone        31.0           f             7.0   \n\n  post_movie_score  \n0             10.0  \n1       NEW VALUE!  \n2       NEW VALUE!  \n3              8.0  \n4              9.0  ",
      "text/html": "<div>\n<style scoped>\n    .dataframe tbody tr th:only-of-type {\n        vertical-align: middle;\n    }\n\n    .dataframe tbody tr th {\n        vertical-align: top;\n    }\n\n    .dataframe thead th {\n        text-align: right;\n    }\n</style>\n<table border=\"1\" class=\"dataframe\">\n  <thead>\n    <tr style=\"text-align: right;\">\n      <th></th>\n      <th>first_name</th>\n      <th>last_name</th>\n      <th>age</th>\n      <th>sex</th>\n      <th>pre_movie_score</th>\n      <th>post_movie_score</th>\n    </tr>\n  </thead>\n  <tbody>\n    <tr>\n      <th>0</th>\n      <td>Tom</td>\n      <td>Hanks</td>\n      <td>63.0</td>\n      <td>m</td>\n      <td>8.0</td>\n      <td>10.0</td>\n    </tr>\n    <tr>\n      <th>1</th>\n      <td>NEW VALUE!</td>\n      <td>NEW VALUE!</td>\n      <td>NEW VALUE!</td>\n      <td>NEW VALUE!</td>\n      <td>NEW VALUE!</td>\n      <td>NEW VALUE!</td>\n    </tr>\n    <tr>\n      <th>2</th>\n      <td>Hugh</td>\n      <td>Jackman</td>\n      <td>51.0</td>\n      <td>m</td>\n      <td>NEW VALUE!</td>\n      <td>NEW VALUE!</td>\n    </tr>\n    <tr>\n      <th>3</th>\n      <td>Oprah</td>\n      <td>Winfrey</td>\n      <td>66.0</td>\n      <td>f</td>\n      <td>6.0</td>\n      <td>8.0</td>\n    </tr>\n    <tr>\n      <th>4</th>\n      <td>Emma</td>\n      <td>Stone</td>\n      <td>31.0</td>\n      <td>f</td>\n      <td>7.0</td>\n      <td>9.0</td>\n    </tr>\n  </tbody>\n</table>\n</div>"
     },
     "execution_count": 24,
     "metadata": {},
     "output_type": "execute_result"
    }
   ],
   "source": [
    "# fill in 'Nan' value\n",
    "df.fillna('NEW VALUE!')"
   ],
   "metadata": {
    "collapsed": false,
    "pycharm": {
     "name": "#%%\n"
    }
   }
  },
  {
   "cell_type": "code",
   "execution_count": 25,
   "outputs": [
    {
     "data": {
      "text/plain": "0    8.0\n1    0.0\n2    0.0\n3    6.0\n4    7.0\nName: pre_movie_score, dtype: float64"
     },
     "execution_count": 25,
     "metadata": {},
     "output_type": "execute_result"
    }
   ],
   "source": [
    "# fill 'Nan' value with specific column\n",
    "df['pre_movie_score'].fillna(0)"
   ],
   "metadata": {
    "collapsed": false,
    "pycharm": {
     "name": "#%%\n"
    }
   }
  },
  {
   "cell_type": "code",
   "execution_count": 26,
   "outputs": [
    {
     "data": {
      "text/plain": "0    8.0\n1    7.0\n2    7.0\n3    6.0\n4    7.0\nName: pre_movie_score, dtype: float64"
     },
     "execution_count": 26,
     "metadata": {},
     "output_type": "execute_result"
    }
   ],
   "source": [
    "# replace Nan with the mean value\n",
    "df['pre_movie_score'].fillna(df['pre_movie_score'].mean())"
   ],
   "metadata": {
    "collapsed": false,
    "pycharm": {
     "name": "#%%\n"
    }
   }
  },
  {
   "cell_type": "code",
   "execution_count": 27,
   "outputs": [
    {
     "name": "stderr",
     "output_type": "stream",
     "text": [
      "C:\\Users\\admin\\AppData\\Local\\Temp/ipykernel_21988/859854109.py:3: FutureWarning: Dropping of nuisance columns in DataFrame reductions (with 'numeric_only=None') is deprecated; in a future version this will raise TypeError.  Select only valid columns before calling the reduction.\n",
      "  df.fillna(df.mean())\n"
     ]
    },
    {
     "data": {
      "text/plain": "  first_name last_name    age  sex  pre_movie_score  post_movie_score\n0        Tom     Hanks  63.00    m              8.0              10.0\n1        NaN       NaN  52.75  NaN              7.0               9.0\n2       Hugh   Jackman  51.00    m              7.0               9.0\n3      Oprah   Winfrey  66.00    f              6.0               8.0\n4       Emma     Stone  31.00    f              7.0               9.0",
      "text/html": "<div>\n<style scoped>\n    .dataframe tbody tr th:only-of-type {\n        vertical-align: middle;\n    }\n\n    .dataframe tbody tr th {\n        vertical-align: top;\n    }\n\n    .dataframe thead th {\n        text-align: right;\n    }\n</style>\n<table border=\"1\" class=\"dataframe\">\n  <thead>\n    <tr style=\"text-align: right;\">\n      <th></th>\n      <th>first_name</th>\n      <th>last_name</th>\n      <th>age</th>\n      <th>sex</th>\n      <th>pre_movie_score</th>\n      <th>post_movie_score</th>\n    </tr>\n  </thead>\n  <tbody>\n    <tr>\n      <th>0</th>\n      <td>Tom</td>\n      <td>Hanks</td>\n      <td>63.00</td>\n      <td>m</td>\n      <td>8.0</td>\n      <td>10.0</td>\n    </tr>\n    <tr>\n      <th>1</th>\n      <td>NaN</td>\n      <td>NaN</td>\n      <td>52.75</td>\n      <td>NaN</td>\n      <td>7.0</td>\n      <td>9.0</td>\n    </tr>\n    <tr>\n      <th>2</th>\n      <td>Hugh</td>\n      <td>Jackman</td>\n      <td>51.00</td>\n      <td>m</td>\n      <td>7.0</td>\n      <td>9.0</td>\n    </tr>\n    <tr>\n      <th>3</th>\n      <td>Oprah</td>\n      <td>Winfrey</td>\n      <td>66.00</td>\n      <td>f</td>\n      <td>6.0</td>\n      <td>8.0</td>\n    </tr>\n    <tr>\n      <th>4</th>\n      <td>Emma</td>\n      <td>Stone</td>\n      <td>31.00</td>\n      <td>f</td>\n      <td>7.0</td>\n      <td>9.0</td>\n    </tr>\n  </tbody>\n</table>\n</div>"
     },
     "execution_count": 27,
     "metadata": {},
     "output_type": "execute_result"
    }
   ],
   "source": [
    "# fill every missing value by mean\n",
    "# however, the\n",
    "df.fillna(df.mean())"
   ],
   "metadata": {
    "collapsed": false,
    "pycharm": {
     "name": "#%%\n"
    }
   }
  },
  {
   "cell_type": "code",
   "execution_count": 28,
   "outputs": [],
   "source": [
    "# interpolation\n",
    "airline_tix = {'first':100,'business':np.nan,'economy-plus':50,'economy':30}"
   ],
   "metadata": {
    "collapsed": false,
    "pycharm": {
     "name": "#%%\n"
    }
   }
  },
  {
   "cell_type": "code",
   "execution_count": 29,
   "outputs": [],
   "source": [
    "ser = pd.Series(airline_tix)"
   ],
   "metadata": {
    "collapsed": false,
    "pycharm": {
     "name": "#%%\n"
    }
   }
  },
  {
   "cell_type": "code",
   "execution_count": 30,
   "outputs": [
    {
     "data": {
      "text/plain": "first           100.0\nbusiness          NaN\neconomy-plus     50.0\neconomy          30.0\ndtype: float64"
     },
     "execution_count": 30,
     "metadata": {},
     "output_type": "execute_result"
    }
   ],
   "source": [
    "ser"
   ],
   "metadata": {
    "collapsed": false,
    "pycharm": {
     "name": "#%%\n"
    }
   }
  },
  {
   "cell_type": "code",
   "execution_count": 31,
   "outputs": [
    {
     "data": {
      "text/plain": "first           100.0\nbusiness         75.0\neconomy-plus     50.0\neconomy          30.0\ndtype: float64"
     },
     "execution_count": 31,
     "metadata": {},
     "output_type": "execute_result"
    }
   ],
   "source": [
    "# linear interpolation\n",
    "# the divide of 2 keys value next to the Nan value\n",
    "\n",
    "ser.interpolate()\n",
    "\n"
   ],
   "metadata": {
    "collapsed": false,
    "pycharm": {
     "name": "#%%\n"
    }
   }
  },
  {
   "cell_type": "code",
   "execution_count": 31,
   "outputs": [],
   "source": [],
   "metadata": {
    "collapsed": false,
    "pycharm": {
     "name": "#%%\n"
    }
   }
  }
 ],
 "metadata": {
  "kernelspec": {
   "name": "pycharm-bbcd271a",
   "language": "python",
   "display_name": "PyCharm (Numpy)"
  },
  "language_info": {
   "codemirror_mode": {
    "name": "ipython",
    "version": 2
   },
   "file_extension": ".py",
   "mimetype": "text/x-python",
   "name": "python",
   "nbconvert_exporter": "python",
   "pygments_lexer": "ipython2",
   "version": "2.7.6"
  }
 },
 "nbformat": 4,
 "nbformat_minor": 0
}