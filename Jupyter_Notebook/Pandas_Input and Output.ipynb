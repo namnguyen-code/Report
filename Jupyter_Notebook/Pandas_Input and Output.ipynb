{
 "cells": [
  {
   "cell_type": "markdown",
   "metadata": {
    "collapsed": true,
    "pycharm": {
     "name": "#%% md\n"
    }
   },
   "source": [
    "# Data Input and Output of CSV\n",
    "\n",
    "* Pandas can read in data from a wide variety of sources and has excellent online documentation!\n",
    "* Note!\n",
    "    * You need to know the <b>exact</b> directory location and correct file name.\n",
    "    * You may need passwords or permissions for certain data inputs (e.g. a SQL database password)\n",
    "    * It almost impossible for us to help with datasets outside the course, since they could be incorrectly formatted, in the wrong location, or have a different name.\n",
    "* Video Lectures:\n",
    "    * CSV Files\n",
    "    * HTML Tables\n",
    "    * Excel Files\n",
    "    * SQL Databases"
   ]
  },
  {
   "cell_type": "code",
   "execution_count": 51,
   "outputs": [],
   "source": [
    "import pandas as pd"
   ],
   "metadata": {
    "collapsed": false,
    "pycharm": {
     "name": "#%%\n"
    }
   }
  },
  {
   "cell_type": "code",
   "execution_count": 52,
   "outputs": [
    {
     "data": {
      "text/plain": "'C:\\\\Users\\\\admin\\\\Desktop\\\\Data Science\\\\Jupyter_Notebook'"
     },
     "execution_count": 52,
     "metadata": {},
     "output_type": "execute_result"
    }
   ],
   "source": [
    "# get path of .py file\n",
    "import os\n",
    "os.getcwd()"
   ],
   "metadata": {
    "collapsed": false,
    "pycharm": {
     "name": "#%%\n"
    }
   }
  },
  {
   "cell_type": "code",
   "execution_count": 53,
   "outputs": [
    {
     "data": {
      "text/plain": "    0   1   2   3\n0   a   b   c   d\n1   0   1   2   3\n2   4   5   6   7\n3   8   9  10  11\n4  12  13  14  15",
      "text/html": "<div>\n<style scoped>\n    .dataframe tbody tr th:only-of-type {\n        vertical-align: middle;\n    }\n\n    .dataframe tbody tr th {\n        vertical-align: top;\n    }\n\n    .dataframe thead th {\n        text-align: right;\n    }\n</style>\n<table border=\"1\" class=\"dataframe\">\n  <thead>\n    <tr style=\"text-align: right;\">\n      <th></th>\n      <th>0</th>\n      <th>1</th>\n      <th>2</th>\n      <th>3</th>\n    </tr>\n  </thead>\n  <tbody>\n    <tr>\n      <th>0</th>\n      <td>a</td>\n      <td>b</td>\n      <td>c</td>\n      <td>d</td>\n    </tr>\n    <tr>\n      <th>1</th>\n      <td>0</td>\n      <td>1</td>\n      <td>2</td>\n      <td>3</td>\n    </tr>\n    <tr>\n      <th>2</th>\n      <td>4</td>\n      <td>5</td>\n      <td>6</td>\n      <td>7</td>\n    </tr>\n    <tr>\n      <th>3</th>\n      <td>8</td>\n      <td>9</td>\n      <td>10</td>\n      <td>11</td>\n    </tr>\n    <tr>\n      <th>4</th>\n      <td>12</td>\n      <td>13</td>\n      <td>14</td>\n      <td>15</td>\n    </tr>\n  </tbody>\n</table>\n</div>"
     },
     "execution_count": 53,
     "metadata": {},
     "output_type": "execute_result"
    }
   ],
   "source": [
    "# don't want first row is header\n",
    "# use header=None\n",
    "pd.read_csv(r'C:\\\\Users\\\\admin\\\\Desktop\\\\Data Science\\\\Course-2021\\\\\\03-Pandas\\\\example.csv',header=None)"
   ],
   "metadata": {
    "collapsed": false,
    "pycharm": {
     "name": "#%%\n"
    }
   }
  },
  {
   "cell_type": "code",
   "execution_count": 54,
   "outputs": [],
   "source": [
    "# Set index column\n",
    "# use the first column as index\n",
    "# read csv by pandas\n",
    "df = pd.read_csv(r'C:\\\\Users\\\\admin\\\\Desktop\\\\Data Science\\\\Course-2021\\\\\\03-Pandas\\\\example.csv', index_col=0)"
   ],
   "metadata": {
    "collapsed": false,
    "pycharm": {
     "name": "#%%\n"
    }
   }
  },
  {
   "cell_type": "code",
   "execution_count": 55,
   "outputs": [
    {
     "data": {
      "text/plain": "     b   c   d\na             \n0    1   2   3\n4    5   6   7\n8    9  10  11\n12  13  14  15",
      "text/html": "<div>\n<style scoped>\n    .dataframe tbody tr th:only-of-type {\n        vertical-align: middle;\n    }\n\n    .dataframe tbody tr th {\n        vertical-align: top;\n    }\n\n    .dataframe thead th {\n        text-align: right;\n    }\n</style>\n<table border=\"1\" class=\"dataframe\">\n  <thead>\n    <tr style=\"text-align: right;\">\n      <th></th>\n      <th>b</th>\n      <th>c</th>\n      <th>d</th>\n    </tr>\n    <tr>\n      <th>a</th>\n      <th></th>\n      <th></th>\n      <th></th>\n    </tr>\n  </thead>\n  <tbody>\n    <tr>\n      <th>0</th>\n      <td>1</td>\n      <td>2</td>\n      <td>3</td>\n    </tr>\n    <tr>\n      <th>4</th>\n      <td>5</td>\n      <td>6</td>\n      <td>7</td>\n    </tr>\n    <tr>\n      <th>8</th>\n      <td>9</td>\n      <td>10</td>\n      <td>11</td>\n    </tr>\n    <tr>\n      <th>12</th>\n      <td>13</td>\n      <td>14</td>\n      <td>15</td>\n    </tr>\n  </tbody>\n</table>\n</div>"
     },
     "execution_count": 55,
     "metadata": {},
     "output_type": "execute_result"
    }
   ],
   "source": [
    "df"
   ],
   "metadata": {
    "collapsed": false,
    "pycharm": {
     "name": "#%%\n"
    }
   }
  },
  {
   "cell_type": "code",
   "execution_count": 56,
   "outputs": [],
   "source": [
    "# save this data_frame\n",
    "# save the index use the 'index=True'\n",
    "# write by dataframe\n",
    "df.to_csv('C:\\\\Users\\\\admin\\\\Desktop\\\\newfile.csv', index=True)"
   ],
   "metadata": {
    "collapsed": false,
    "pycharm": {
     "name": "#%%\n"
    }
   }
  },
  {
   "cell_type": "code",
   "execution_count": 57,
   "outputs": [],
   "source": [
    "# don't want to save index\n",
    "df = pd.read_csv(r'C:\\\\Users\\\\admin\\\\Desktop\\\\Data Science\\\\Course-2021\\\\\\03-Pandas\\\\example.csv')\n",
    "\n",
    "df.to_csv('C:\\\\Users\\\\admin\\\\Desktop\\\\newfile.csv', index=False)"
   ],
   "metadata": {
    "collapsed": false,
    "pycharm": {
     "name": "#%%\n"
    }
   }
  },
  {
   "cell_type": "code",
   "execution_count": 58,
   "outputs": [],
   "source": [
    "new = pd.read_csv(r'C:\\\\Users\\\\admin\\\\Desktop\\\\newfile.csv')"
   ],
   "metadata": {
    "collapsed": false,
    "pycharm": {
     "name": "#%%\n"
    }
   }
  },
  {
   "cell_type": "code",
   "execution_count": 59,
   "outputs": [
    {
     "data": {
      "text/plain": "    a   b   c   d\n0   0   1   2   3\n1   4   5   6   7\n2   8   9  10  11\n3  12  13  14  15",
      "text/html": "<div>\n<style scoped>\n    .dataframe tbody tr th:only-of-type {\n        vertical-align: middle;\n    }\n\n    .dataframe tbody tr th {\n        vertical-align: top;\n    }\n\n    .dataframe thead th {\n        text-align: right;\n    }\n</style>\n<table border=\"1\" class=\"dataframe\">\n  <thead>\n    <tr style=\"text-align: right;\">\n      <th></th>\n      <th>a</th>\n      <th>b</th>\n      <th>c</th>\n      <th>d</th>\n    </tr>\n  </thead>\n  <tbody>\n    <tr>\n      <th>0</th>\n      <td>0</td>\n      <td>1</td>\n      <td>2</td>\n      <td>3</td>\n    </tr>\n    <tr>\n      <th>1</th>\n      <td>4</td>\n      <td>5</td>\n      <td>6</td>\n      <td>7</td>\n    </tr>\n    <tr>\n      <th>2</th>\n      <td>8</td>\n      <td>9</td>\n      <td>10</td>\n      <td>11</td>\n    </tr>\n    <tr>\n      <th>3</th>\n      <td>12</td>\n      <td>13</td>\n      <td>14</td>\n      <td>15</td>\n    </tr>\n  </tbody>\n</table>\n</div>"
     },
     "execution_count": 59,
     "metadata": {},
     "output_type": "execute_result"
    }
   ],
   "source": [
    "new"
   ],
   "metadata": {
    "collapsed": false,
    "pycharm": {
     "name": "#%%\n"
    }
   }
  },
  {
   "cell_type": "markdown",
   "source": [
    "# Data Input and Output of HTML Tables\n",
    "\n",
    "* Websites display tabular information through the use of HTML tables tags:\n",
    "    * <b>< table></b>\n",
    "* Pandas has the ability to automatically convert these HTML tables into a DataFrame\n",
    "* <i>Important Notes!</i>\n",
    "    * Not every table in a website is available through HTML tables\n",
    "    * Some websites may block your computer from scraping the HTML of the site through pandas\n",
    "    * It may be more efficient to use an API\n",
    "* Let's work through an example of grabbing all tables from a Wikipedia Article and then cleaning and organizing the information to get a DataFrame\n",
    "* Output to an HTML table is also very useful to display tables on a website!"
   ],
   "metadata": {
    "collapsed": false,
    "pycharm": {
     "name": "#%% md\n"
    }
   }
  },
  {
   "cell_type": "markdown",
   "source": [
    "# conda install lxml\n",
    "# pip install lxml\n",
    "* convert xml table to a panda's data frame\n",
    "\n"
   ],
   "metadata": {
    "collapsed": false,
    "pycharm": {
     "name": "#%% md\n"
    }
   }
  },
  {
   "cell_type": "code",
   "execution_count": 60,
   "outputs": [],
   "source": [
    "import pandas as pd"
   ],
   "metadata": {
    "collapsed": false,
    "pycharm": {
     "name": "#%%\n"
    }
   }
  },
  {
   "cell_type": "code",
   "execution_count": 61,
   "outputs": [],
   "source": [
    "# paste the link\n",
    "url = 'https://en.wikipedia.org/wiki/World_population'"
   ],
   "metadata": {
    "collapsed": false,
    "pycharm": {
     "name": "#%%\n"
    }
   }
  },
  {
   "cell_type": "code",
   "execution_count": 62,
   "outputs": [],
   "source": [
    "tables = pd.read_html(url)"
   ],
   "metadata": {
    "collapsed": false,
    "pycharm": {
     "name": "#%%\n"
    }
   }
  },
  {
   "cell_type": "markdown",
   "source": [
    "In the case the url is not work => right mouse click => click view page source => move to the new html page => save as html file to your company\n"
   ],
   "metadata": {
    "collapsed": false,
    "pycharm": {
     "name": "#%% md\n"
    }
   }
  },
  {
   "cell_type": "code",
   "execution_count": 63,
   "outputs": [
    {
     "data": {
      "text/plain": "26"
     },
     "execution_count": 63,
     "metadata": {},
     "output_type": "execute_result"
    }
   ],
   "source": [
    "len(tables)"
   ],
   "metadata": {
    "collapsed": false,
    "pycharm": {
     "name": "#%%\n"
    }
   }
  },
  {
   "cell_type": "code",
   "execution_count": 64,
   "outputs": [
    {
     "data": {
      "text/plain": "        World population (millions, UN estimates)[15]  \\\n                                                    #   \n0                                                   1   \n1                                                   2   \n2                                                   3   \n3                                                   4   \n4                                                   5   \n5                                                   6   \n6                                                   7   \n7                                                   8   \n8                                                   9   \n9                                                  10   \n10                                                NaN   \n11  Notes: .mw-parser-output .reflist{font-size:90...   \n\n                                                       \\\n                      Top ten most populous countries   \n0                                            China[B]   \n1                                               India   \n2                                       United States   \n3                                           Indonesia   \n4                                            Pakistan   \n5                                              Brazil   \n6                                             Nigeria   \n7                                          Bangladesh   \n8                                              Russia   \n9                                              Mexico   \n10                                        World total   \n11  Notes: .mw-parser-output .reflist{font-size:90...   \n\n                                                       \\\n                                                 2000   \n0                                                1270   \n1                                                1053   \n2                                                 283   \n3                                                 212   \n4                                                 136   \n5                                                 176   \n6                                                 123   \n7                                                 131   \n8                                                 146   \n9                                                 103   \n10                                               6127   \n11  Notes: .mw-parser-output .reflist{font-size:90...   \n\n                                                       \\\n                                                 2015   \n0                                                1376   \n1                                                1311   \n2                                                 322   \n3                                                 258   \n4                                                 208   \n5                                                 206   \n6                                                 182   \n7                                                 161   \n8                                                 146   \n9                                                 127   \n10                                               7349   \n11  Notes: .mw-parser-output .reflist{font-size:90...   \n\n                                                       \n                                              2030[A]  \n0                                                1416  \n1                                                1528  \n2                                                 356  \n3                                                 295  \n4                                                 245  \n5                                                 228  \n6                                                 263  \n7                                                 186  \n8                                                 149  \n9                                                 148  \n10                                               8501  \n11  Notes: .mw-parser-output .reflist{font-size:90...  ",
      "text/html": "<div>\n<style scoped>\n    .dataframe tbody tr th:only-of-type {\n        vertical-align: middle;\n    }\n\n    .dataframe tbody tr th {\n        vertical-align: top;\n    }\n\n    .dataframe thead tr th {\n        text-align: left;\n    }\n</style>\n<table border=\"1\" class=\"dataframe\">\n  <thead>\n    <tr>\n      <th></th>\n      <th colspan=\"5\" halign=\"left\">World population (millions, UN estimates)[15]</th>\n    </tr>\n    <tr>\n      <th></th>\n      <th>#</th>\n      <th>Top ten most populous countries</th>\n      <th>2000</th>\n      <th>2015</th>\n      <th>2030[A]</th>\n    </tr>\n  </thead>\n  <tbody>\n    <tr>\n      <th>0</th>\n      <td>1</td>\n      <td>China[B]</td>\n      <td>1270</td>\n      <td>1376</td>\n      <td>1416</td>\n    </tr>\n    <tr>\n      <th>1</th>\n      <td>2</td>\n      <td>India</td>\n      <td>1053</td>\n      <td>1311</td>\n      <td>1528</td>\n    </tr>\n    <tr>\n      <th>2</th>\n      <td>3</td>\n      <td>United States</td>\n      <td>283</td>\n      <td>322</td>\n      <td>356</td>\n    </tr>\n    <tr>\n      <th>3</th>\n      <td>4</td>\n      <td>Indonesia</td>\n      <td>212</td>\n      <td>258</td>\n      <td>295</td>\n    </tr>\n    <tr>\n      <th>4</th>\n      <td>5</td>\n      <td>Pakistan</td>\n      <td>136</td>\n      <td>208</td>\n      <td>245</td>\n    </tr>\n    <tr>\n      <th>5</th>\n      <td>6</td>\n      <td>Brazil</td>\n      <td>176</td>\n      <td>206</td>\n      <td>228</td>\n    </tr>\n    <tr>\n      <th>6</th>\n      <td>7</td>\n      <td>Nigeria</td>\n      <td>123</td>\n      <td>182</td>\n      <td>263</td>\n    </tr>\n    <tr>\n      <th>7</th>\n      <td>8</td>\n      <td>Bangladesh</td>\n      <td>131</td>\n      <td>161</td>\n      <td>186</td>\n    </tr>\n    <tr>\n      <th>8</th>\n      <td>9</td>\n      <td>Russia</td>\n      <td>146</td>\n      <td>146</td>\n      <td>149</td>\n    </tr>\n    <tr>\n      <th>9</th>\n      <td>10</td>\n      <td>Mexico</td>\n      <td>103</td>\n      <td>127</td>\n      <td>148</td>\n    </tr>\n    <tr>\n      <th>10</th>\n      <td>NaN</td>\n      <td>World total</td>\n      <td>6127</td>\n      <td>7349</td>\n      <td>8501</td>\n    </tr>\n    <tr>\n      <th>11</th>\n      <td>Notes: .mw-parser-output .reflist{font-size:90...</td>\n      <td>Notes: .mw-parser-output .reflist{font-size:90...</td>\n      <td>Notes: .mw-parser-output .reflist{font-size:90...</td>\n      <td>Notes: .mw-parser-output .reflist{font-size:90...</td>\n      <td>Notes: .mw-parser-output .reflist{font-size:90...</td>\n    </tr>\n  </tbody>\n</table>\n</div>"
     },
     "execution_count": 64,
     "metadata": {},
     "output_type": "execute_result"
    }
   ],
   "source": [
    "tables[0]"
   ],
   "metadata": {
    "collapsed": false,
    "pycharm": {
     "name": "#%%\n"
    }
   }
  },
  {
   "cell_type": "code",
   "execution_count": 65,
   "outputs": [
    {
     "data": {
      "text/plain": "MultiIndex([('World population (millions, UN estimates)[15]', ...),\n            ('World population (millions, UN estimates)[15]', ...),\n            ('World population (millions, UN estimates)[15]', ...),\n            ('World population (millions, UN estimates)[15]', ...),\n            ('World population (millions, UN estimates)[15]', ...)],\n           )"
     },
     "execution_count": 65,
     "metadata": {},
     "output_type": "execute_result"
    }
   ],
   "source": [
    "# multi level index\n",
    "tables[0].columns"
   ],
   "metadata": {
    "collapsed": false,
    "pycharm": {
     "name": "#%%\n"
    }
   }
  },
  {
   "cell_type": "code",
   "execution_count": 66,
   "outputs": [],
   "source": [
    "# clean up\n",
    "world_topten = tables[0]\n"
   ],
   "metadata": {
    "collapsed": false,
    "pycharm": {
     "name": "#%%\n"
    }
   }
  },
  {
   "cell_type": "code",
   "execution_count": 67,
   "outputs": [],
   "source": [
    "# grab the higher level of column\n",
    "# return the low index column\n",
    "world_topten = world_topten['World population (millions, UN estimates)[15]']\n"
   ],
   "metadata": {
    "collapsed": false,
    "pycharm": {
     "name": "#%%\n"
    }
   }
  },
  {
   "cell_type": "code",
   "execution_count": 68,
   "outputs": [
    {
     "data": {
      "text/plain": "                                                    #  \\\n0                                                   1   \n1                                                   2   \n2                                                   3   \n3                                                   4   \n4                                                   5   \n5                                                   6   \n6                                                   7   \n7                                                   8   \n8                                                   9   \n9                                                  10   \n10                                                NaN   \n11  Notes: .mw-parser-output .reflist{font-size:90...   \n\n                      Top ten most populous countries  \\\n0                                            China[B]   \n1                                               India   \n2                                       United States   \n3                                           Indonesia   \n4                                            Pakistan   \n5                                              Brazil   \n6                                             Nigeria   \n7                                          Bangladesh   \n8                                              Russia   \n9                                              Mexico   \n10                                        World total   \n11  Notes: .mw-parser-output .reflist{font-size:90...   \n\n                                                 2000  \\\n0                                                1270   \n1                                                1053   \n2                                                 283   \n3                                                 212   \n4                                                 136   \n5                                                 176   \n6                                                 123   \n7                                                 131   \n8                                                 146   \n9                                                 103   \n10                                               6127   \n11  Notes: .mw-parser-output .reflist{font-size:90...   \n\n                                                 2015  \\\n0                                                1376   \n1                                                1311   \n2                                                 322   \n3                                                 258   \n4                                                 208   \n5                                                 206   \n6                                                 182   \n7                                                 161   \n8                                                 146   \n9                                                 127   \n10                                               7349   \n11  Notes: .mw-parser-output .reflist{font-size:90...   \n\n                                              2030[A]  \n0                                                1416  \n1                                                1528  \n2                                                 356  \n3                                                 295  \n4                                                 245  \n5                                                 228  \n6                                                 263  \n7                                                 186  \n8                                                 149  \n9                                                 148  \n10                                               8501  \n11  Notes: .mw-parser-output .reflist{font-size:90...  ",
      "text/html": "<div>\n<style scoped>\n    .dataframe tbody tr th:only-of-type {\n        vertical-align: middle;\n    }\n\n    .dataframe tbody tr th {\n        vertical-align: top;\n    }\n\n    .dataframe thead th {\n        text-align: right;\n    }\n</style>\n<table border=\"1\" class=\"dataframe\">\n  <thead>\n    <tr style=\"text-align: right;\">\n      <th></th>\n      <th>#</th>\n      <th>Top ten most populous countries</th>\n      <th>2000</th>\n      <th>2015</th>\n      <th>2030[A]</th>\n    </tr>\n  </thead>\n  <tbody>\n    <tr>\n      <th>0</th>\n      <td>1</td>\n      <td>China[B]</td>\n      <td>1270</td>\n      <td>1376</td>\n      <td>1416</td>\n    </tr>\n    <tr>\n      <th>1</th>\n      <td>2</td>\n      <td>India</td>\n      <td>1053</td>\n      <td>1311</td>\n      <td>1528</td>\n    </tr>\n    <tr>\n      <th>2</th>\n      <td>3</td>\n      <td>United States</td>\n      <td>283</td>\n      <td>322</td>\n      <td>356</td>\n    </tr>\n    <tr>\n      <th>3</th>\n      <td>4</td>\n      <td>Indonesia</td>\n      <td>212</td>\n      <td>258</td>\n      <td>295</td>\n    </tr>\n    <tr>\n      <th>4</th>\n      <td>5</td>\n      <td>Pakistan</td>\n      <td>136</td>\n      <td>208</td>\n      <td>245</td>\n    </tr>\n    <tr>\n      <th>5</th>\n      <td>6</td>\n      <td>Brazil</td>\n      <td>176</td>\n      <td>206</td>\n      <td>228</td>\n    </tr>\n    <tr>\n      <th>6</th>\n      <td>7</td>\n      <td>Nigeria</td>\n      <td>123</td>\n      <td>182</td>\n      <td>263</td>\n    </tr>\n    <tr>\n      <th>7</th>\n      <td>8</td>\n      <td>Bangladesh</td>\n      <td>131</td>\n      <td>161</td>\n      <td>186</td>\n    </tr>\n    <tr>\n      <th>8</th>\n      <td>9</td>\n      <td>Russia</td>\n      <td>146</td>\n      <td>146</td>\n      <td>149</td>\n    </tr>\n    <tr>\n      <th>9</th>\n      <td>10</td>\n      <td>Mexico</td>\n      <td>103</td>\n      <td>127</td>\n      <td>148</td>\n    </tr>\n    <tr>\n      <th>10</th>\n      <td>NaN</td>\n      <td>World total</td>\n      <td>6127</td>\n      <td>7349</td>\n      <td>8501</td>\n    </tr>\n    <tr>\n      <th>11</th>\n      <td>Notes: .mw-parser-output .reflist{font-size:90...</td>\n      <td>Notes: .mw-parser-output .reflist{font-size:90...</td>\n      <td>Notes: .mw-parser-output .reflist{font-size:90...</td>\n      <td>Notes: .mw-parser-output .reflist{font-size:90...</td>\n      <td>Notes: .mw-parser-output .reflist{font-size:90...</td>\n    </tr>\n  </tbody>\n</table>\n</div>"
     },
     "execution_count": 68,
     "metadata": {},
     "output_type": "execute_result"
    }
   ],
   "source": [
    "world_topten"
   ],
   "metadata": {
    "collapsed": false,
    "pycharm": {
     "name": "#%%\n"
    }
   }
  },
  {
   "cell_type": "code",
   "execution_count": 69,
   "outputs": [],
   "source": [
    "# Drop the row 11\n",
    "world_topten = world_topten.drop(11, axis=0)"
   ],
   "metadata": {
    "collapsed": false,
    "pycharm": {
     "name": "#%%\n"
    }
   }
  },
  {
   "cell_type": "code",
   "execution_count": 70,
   "outputs": [],
   "source": [
    "# drop the # column\n",
    "world_topten = world_topten.drop(\"#\",axis=1)"
   ],
   "metadata": {
    "collapsed": false,
    "pycharm": {
     "name": "#%%\n"
    }
   }
  },
  {
   "cell_type": "code",
   "execution_count": 71,
   "outputs": [],
   "source": [
    "# change the column name\n",
    "world_topten.columns = ['Country', '2000', '2015', '2030 Est.']"
   ],
   "metadata": {
    "collapsed": false,
    "pycharm": {
     "name": "#%%\n"
    }
   }
  },
  {
   "cell_type": "code",
   "execution_count": 72,
   "outputs": [
    {
     "data": {
      "text/plain": "          Country  2000  2015 2030 Est.\n0        China[B]  1270  1376      1416\n1           India  1053  1311      1528\n2   United States   283   322       356\n3       Indonesia   212   258       295\n4        Pakistan   136   208       245\n5          Brazil   176   206       228\n6         Nigeria   123   182       263\n7      Bangladesh   131   161       186\n8          Russia   146   146       149\n9          Mexico   103   127       148\n10    World total  6127  7349      8501",
      "text/html": "<div>\n<style scoped>\n    .dataframe tbody tr th:only-of-type {\n        vertical-align: middle;\n    }\n\n    .dataframe tbody tr th {\n        vertical-align: top;\n    }\n\n    .dataframe thead th {\n        text-align: right;\n    }\n</style>\n<table border=\"1\" class=\"dataframe\">\n  <thead>\n    <tr style=\"text-align: right;\">\n      <th></th>\n      <th>Country</th>\n      <th>2000</th>\n      <th>2015</th>\n      <th>2030 Est.</th>\n    </tr>\n  </thead>\n  <tbody>\n    <tr>\n      <th>0</th>\n      <td>China[B]</td>\n      <td>1270</td>\n      <td>1376</td>\n      <td>1416</td>\n    </tr>\n    <tr>\n      <th>1</th>\n      <td>India</td>\n      <td>1053</td>\n      <td>1311</td>\n      <td>1528</td>\n    </tr>\n    <tr>\n      <th>2</th>\n      <td>United States</td>\n      <td>283</td>\n      <td>322</td>\n      <td>356</td>\n    </tr>\n    <tr>\n      <th>3</th>\n      <td>Indonesia</td>\n      <td>212</td>\n      <td>258</td>\n      <td>295</td>\n    </tr>\n    <tr>\n      <th>4</th>\n      <td>Pakistan</td>\n      <td>136</td>\n      <td>208</td>\n      <td>245</td>\n    </tr>\n    <tr>\n      <th>5</th>\n      <td>Brazil</td>\n      <td>176</td>\n      <td>206</td>\n      <td>228</td>\n    </tr>\n    <tr>\n      <th>6</th>\n      <td>Nigeria</td>\n      <td>123</td>\n      <td>182</td>\n      <td>263</td>\n    </tr>\n    <tr>\n      <th>7</th>\n      <td>Bangladesh</td>\n      <td>131</td>\n      <td>161</td>\n      <td>186</td>\n    </tr>\n    <tr>\n      <th>8</th>\n      <td>Russia</td>\n      <td>146</td>\n      <td>146</td>\n      <td>149</td>\n    </tr>\n    <tr>\n      <th>9</th>\n      <td>Mexico</td>\n      <td>103</td>\n      <td>127</td>\n      <td>148</td>\n    </tr>\n    <tr>\n      <th>10</th>\n      <td>World total</td>\n      <td>6127</td>\n      <td>7349</td>\n      <td>8501</td>\n    </tr>\n  </tbody>\n</table>\n</div>"
     },
     "execution_count": 72,
     "metadata": {},
     "output_type": "execute_result"
    }
   ],
   "source": [
    "world_topten"
   ],
   "metadata": {
    "collapsed": false,
    "pycharm": {
     "name": "#%%\n"
    }
   }
  },
  {
   "cell_type": "code",
   "execution_count": 73,
   "outputs": [
    {
     "data": {
      "text/plain": "          Country  Population  Area(km2)  Density(pop/km2)\nRank                                                      \n1       Singapore     5704000        710              8033\n2      Bangladesh   171790000     143998              1193\n3       Palestine     5266785       6020               847\n4         Lebanon     6856000      10452               656\n5          Taiwan    23604000      36193               652\n6     South Korea    51781000      99538               520\n7          Rwanda    12374000      26338               470\n8           Haiti    11578000      27065               428\n9     Netherlands    17660000      41526               425\n10         Israel     9440000      22072               428",
      "text/html": "<div>\n<style scoped>\n    .dataframe tbody tr th:only-of-type {\n        vertical-align: middle;\n    }\n\n    .dataframe tbody tr th {\n        vertical-align: top;\n    }\n\n    .dataframe thead th {\n        text-align: right;\n    }\n</style>\n<table border=\"1\" class=\"dataframe\">\n  <thead>\n    <tr style=\"text-align: right;\">\n      <th></th>\n      <th>Country</th>\n      <th>Population</th>\n      <th>Area(km2)</th>\n      <th>Density(pop/km2)</th>\n    </tr>\n    <tr>\n      <th>Rank</th>\n      <th></th>\n      <th></th>\n      <th></th>\n      <th></th>\n    </tr>\n  </thead>\n  <tbody>\n    <tr>\n      <th>1</th>\n      <td>Singapore</td>\n      <td>5704000</td>\n      <td>710</td>\n      <td>8033</td>\n    </tr>\n    <tr>\n      <th>2</th>\n      <td>Bangladesh</td>\n      <td>171790000</td>\n      <td>143998</td>\n      <td>1193</td>\n    </tr>\n    <tr>\n      <th>3</th>\n      <td>Palestine</td>\n      <td>5266785</td>\n      <td>6020</td>\n      <td>847</td>\n    </tr>\n    <tr>\n      <th>4</th>\n      <td>Lebanon</td>\n      <td>6856000</td>\n      <td>10452</td>\n      <td>656</td>\n    </tr>\n    <tr>\n      <th>5</th>\n      <td>Taiwan</td>\n      <td>23604000</td>\n      <td>36193</td>\n      <td>652</td>\n    </tr>\n    <tr>\n      <th>6</th>\n      <td>South Korea</td>\n      <td>51781000</td>\n      <td>99538</td>\n      <td>520</td>\n    </tr>\n    <tr>\n      <th>7</th>\n      <td>Rwanda</td>\n      <td>12374000</td>\n      <td>26338</td>\n      <td>470</td>\n    </tr>\n    <tr>\n      <th>8</th>\n      <td>Haiti</td>\n      <td>11578000</td>\n      <td>27065</td>\n      <td>428</td>\n    </tr>\n    <tr>\n      <th>9</th>\n      <td>Netherlands</td>\n      <td>17660000</td>\n      <td>41526</td>\n      <td>425</td>\n    </tr>\n    <tr>\n      <th>10</th>\n      <td>Israel</td>\n      <td>9440000</td>\n      <td>22072</td>\n      <td>428</td>\n    </tr>\n  </tbody>\n</table>\n</div>"
     },
     "execution_count": 73,
     "metadata": {},
     "output_type": "execute_result"
    }
   ],
   "source": [
    "tables[5].set_index('Rank')"
   ],
   "metadata": {
    "collapsed": false,
    "pycharm": {
     "name": "#%%\n"
    }
   }
  },
  {
   "cell_type": "code",
   "execution_count": 74,
   "outputs": [],
   "source": [
    "# save the html\n",
    "world_topten.to_html('sample_table.html', index=False)\n"
   ],
   "metadata": {
    "collapsed": false,
    "pycharm": {
     "name": "#%%\n"
    }
   }
  },
  {
   "cell_type": "markdown",
   "source": [
    "# Data Input and Output Excel Files\n",
    "* Pandas can read and write to Excel files.\n",
    "* <i>Important Note!</i>\n",
    "    * Pandas can only read and write in raw data, it is not able to read in macros, visualizations, or formulas created inside of spreadsheets\n",
    "* Pandas treats an Excel Workbook as a dictionary, with the key being the sheet name and the value being the DataFrame representing the sheet itself.\n",
    "* <i>Note! Using pandas with Excel requires additional libraries!</i>\n"
   ],
   "metadata": {
    "collapsed": false,
    "pycharm": {
     "name": "#%% md\n"
    }
   }
  },
  {
   "cell_type": "code",
   "execution_count": 75,
   "outputs": [],
   "source": [
    "import pandas as pd\n",
    "\n"
   ],
   "metadata": {
    "collapsed": false,
    "pycharm": {
     "name": "#%%\n"
    }
   }
  },
  {
   "cell_type": "code",
   "execution_count": 83,
   "outputs": [],
   "source": [
    "# open follow the sheet name\n",
    "df = pd.read_excel('C:\\\\Users\\\\admin\\\\Desktop\\\\Data Science\\\\Course-2021\\\\03-Pandas\\\\my_excel_file.xlsx', sheet_name='First_Sheet')"
   ],
   "metadata": {
    "collapsed": false,
    "pycharm": {
     "name": "#%%\n"
    }
   }
  },
  {
   "cell_type": "code",
   "execution_count": 84,
   "outputs": [
    {
     "data": {
      "text/plain": "    a   b   c   d\n0   0   1   2   3\n1   4   5   6   7\n2   8   9  10  11\n3  12  13  14  15",
      "text/html": "<div>\n<style scoped>\n    .dataframe tbody tr th:only-of-type {\n        vertical-align: middle;\n    }\n\n    .dataframe tbody tr th {\n        vertical-align: top;\n    }\n\n    .dataframe thead th {\n        text-align: right;\n    }\n</style>\n<table border=\"1\" class=\"dataframe\">\n  <thead>\n    <tr style=\"text-align: right;\">\n      <th></th>\n      <th>a</th>\n      <th>b</th>\n      <th>c</th>\n      <th>d</th>\n    </tr>\n  </thead>\n  <tbody>\n    <tr>\n      <th>0</th>\n      <td>0</td>\n      <td>1</td>\n      <td>2</td>\n      <td>3</td>\n    </tr>\n    <tr>\n      <th>1</th>\n      <td>4</td>\n      <td>5</td>\n      <td>6</td>\n      <td>7</td>\n    </tr>\n    <tr>\n      <th>2</th>\n      <td>8</td>\n      <td>9</td>\n      <td>10</td>\n      <td>11</td>\n    </tr>\n    <tr>\n      <th>3</th>\n      <td>12</td>\n      <td>13</td>\n      <td>14</td>\n      <td>15</td>\n    </tr>\n  </tbody>\n</table>\n</div>"
     },
     "execution_count": 84,
     "metadata": {},
     "output_type": "execute_result"
    }
   ],
   "source": [
    "df"
   ],
   "metadata": {
    "collapsed": false,
    "pycharm": {
     "name": "#%%\n"
    }
   }
  },
  {
   "cell_type": "code",
   "execution_count": 88,
   "outputs": [],
   "source": [
    "# list all the sheet name\n",
    "# need to put the full path into the wb\n",
    "wb = pd.ExcelFile('C:\\\\Users\\\\admin\\\\Desktop\\\\Data Science\\\\Course-2021\\\\03-Pandas\\\\my_excel_file.xlsx')"
   ],
   "metadata": {
    "collapsed": false,
    "pycharm": {
     "name": "#%%\n"
    }
   }
  },
  {
   "cell_type": "code",
   "execution_count": 89,
   "outputs": [
    {
     "data": {
      "text/plain": "['First_Sheet']"
     },
     "execution_count": 89,
     "metadata": {},
     "output_type": "execute_result"
    }
   ],
   "source": [
    "wb.sheet_names"
   ],
   "metadata": {
    "collapsed": false,
    "pycharm": {
     "name": "#%%\n"
    }
   }
  },
  {
   "cell_type": "code",
   "execution_count": 90,
   "outputs": [],
   "source": [
    "# read every sheet_name and return the dictionary\n",
    "excel_sheet_dict = pd.read_excel(r'C:\\\\Users\\\\admin\\\\Desktop\\\\Data Science\\\\Course-2021\\\\03-Pandas\\\\my_excel_file.xlsx', sheet_name=None)"
   ],
   "metadata": {
    "collapsed": false,
    "pycharm": {
     "name": "#%%\n"
    }
   }
  },
  {
   "cell_type": "code",
   "execution_count": 91,
   "outputs": [
    {
     "data": {
      "text/plain": "dict"
     },
     "execution_count": 91,
     "metadata": {},
     "output_type": "execute_result"
    }
   ],
   "source": [
    "type(excel_sheet_dict)"
   ],
   "metadata": {
    "collapsed": false,
    "pycharm": {
     "name": "#%%\n"
    }
   }
  },
  {
   "cell_type": "code",
   "execution_count": 93,
   "outputs": [
    {
     "data": {
      "text/plain": "dict_keys(['First_Sheet'])"
     },
     "execution_count": 93,
     "metadata": {},
     "output_type": "execute_result"
    }
   ],
   "source": [
    "excel_sheet_dict.keys()"
   ],
   "metadata": {
    "collapsed": false,
    "pycharm": {
     "name": "#%%\n"
    }
   }
  },
  {
   "cell_type": "code",
   "execution_count": 94,
   "outputs": [
    {
     "data": {
      "text/plain": "    a   b   c   d\n0   0   1   2   3\n1   4   5   6   7\n2   8   9  10  11\n3  12  13  14  15",
      "text/html": "<div>\n<style scoped>\n    .dataframe tbody tr th:only-of-type {\n        vertical-align: middle;\n    }\n\n    .dataframe tbody tr th {\n        vertical-align: top;\n    }\n\n    .dataframe thead th {\n        text-align: right;\n    }\n</style>\n<table border=\"1\" class=\"dataframe\">\n  <thead>\n    <tr style=\"text-align: right;\">\n      <th></th>\n      <th>a</th>\n      <th>b</th>\n      <th>c</th>\n      <th>d</th>\n    </tr>\n  </thead>\n  <tbody>\n    <tr>\n      <th>0</th>\n      <td>0</td>\n      <td>1</td>\n      <td>2</td>\n      <td>3</td>\n    </tr>\n    <tr>\n      <th>1</th>\n      <td>4</td>\n      <td>5</td>\n      <td>6</td>\n      <td>7</td>\n    </tr>\n    <tr>\n      <th>2</th>\n      <td>8</td>\n      <td>9</td>\n      <td>10</td>\n      <td>11</td>\n    </tr>\n    <tr>\n      <th>3</th>\n      <td>12</td>\n      <td>13</td>\n      <td>14</td>\n      <td>15</td>\n    </tr>\n  </tbody>\n</table>\n</div>"
     },
     "execution_count": 94,
     "metadata": {},
     "output_type": "execute_result"
    }
   ],
   "source": [
    "# the key is the sheet name\n",
    "# the value is the data of First_Sheet\n",
    "excel_sheet_dict['First_Sheet']"
   ],
   "metadata": {
    "collapsed": false,
    "pycharm": {
     "name": "#%%\n"
    }
   }
  },
  {
   "cell_type": "code",
   "execution_count": 95,
   "outputs": [
    {
     "data": {
      "text/plain": "{'First_Sheet':     a   b   c   d\n 0   0   1   2   3\n 1   4   5   6   7\n 2   8   9  10  11\n 3  12  13  14  15}"
     },
     "execution_count": 95,
     "metadata": {},
     "output_type": "execute_result"
    }
   ],
   "source": [
    "excel_sheet_dict\n"
   ],
   "metadata": {
    "collapsed": false,
    "pycharm": {
     "name": "#%%\n"
    }
   }
  },
  {
   "cell_type": "code",
   "execution_count": 96,
   "outputs": [],
   "source": [
    "# write DataFrame\n",
    "our_df = excel_sheet_dict['First_Sheet']\n"
   ],
   "metadata": {
    "collapsed": false,
    "pycharm": {
     "name": "#%%\n"
    }
   }
  },
  {
   "cell_type": "code",
   "execution_count": 98,
   "outputs": [],
   "source": [
    "# if the file is already existed => find out the sheet_name and replace it\n",
    "our_df.to_excel('example.xlsx', sheet_name='First_Sheet', index=False)"
   ],
   "metadata": {
    "collapsed": false,
    "pycharm": {
     "name": "#%%\n"
    }
   }
  },
  {
   "cell_type": "markdown",
   "source": [
    "# Input and Output SQL Databases\n",
    "* Pandas can read and write to various SQL engines through the use of a driver and the <b>sqlalchemy</b> python library.\n"
   ],
   "metadata": {
    "collapsed": false,
    "pycharm": {
     "name": "#%% md\n"
    }
   }
  },
  {
   "cell_type": "markdown",
   "source": [
    "* Step 1:\n",
    "    * Figure out what SQL Engine you are connecting to, for just a few examples:\n",
    "        * PostgreSQL\n",
    "        * My SQL\n",
    "        * MS SQL Server\n",
    "* Step 2:\n",
    "    * Install the appropriate Python driver library <i>(Most likely requires a Google Search)</i>:\n",
    "        * PostgreSQL - <i>psycopg2</i>\n",
    "        * MySQL - <i>pymysql</i>\n",
    "        * MS SQL Server - <i>pyodbc</i>\n",
    "* Step 3:\n",
    "    * Use the sqlalchemy library to connect to your SQL database with the driver:\n",
    "        * https://docs.sqlalchemy.org/en/14/dialects/index.html\n",
    "* Step 4:\n",
    "    * Use the sqlalchemy driver connection with pandas read sql method\n",
    "    * Pandas can read in entire tables as a DataFrame or actual parse a SQL query through the connection:\n",
    "        * SELECT * TABLE\n",
    "* Google Search: Oracle SQL + Pandas"
   ],
   "metadata": {
    "collapsed": false,
    "pycharm": {
     "name": "#%% md\n"
    }
   }
  },
  {
   "cell_type": "markdown",
   "source": [
    "# Install sqlalchemy\n",
    "* pip install sqlalchemy"
   ],
   "metadata": {
    "collapsed": false,
    "pycharm": {
     "name": "#%% md\n"
    }
   }
  },
  {
   "cell_type": "code",
   "execution_count": 4,
   "outputs": [],
   "source": [
    "import pandas as pd\n",
    "import numpy as np"
   ],
   "metadata": {
    "collapsed": false,
    "pycharm": {
     "name": "#%%\n"
    }
   }
  },
  {
   "cell_type": "code",
   "execution_count": 2,
   "outputs": [],
   "source": [
    "from sqlalchemy import create_engine"
   ],
   "metadata": {
    "collapsed": false,
    "pycharm": {
     "name": "#%%\n"
    }
   }
  },
  {
   "cell_type": "code",
   "execution_count": 3,
   "outputs": [],
   "source": [
    "# create a temporary SQLite database inside of computer's ram\n",
    "temp_db = create_engine('sqlite:///:memory:')"
   ],
   "metadata": {
    "collapsed": false,
    "pycharm": {
     "name": "#%%\n"
    }
   }
  },
  {
   "cell_type": "code",
   "execution_count": 7,
   "outputs": [],
   "source": [
    "df = pd.DataFrame(data=np.random.randint(low=0, high=100, size=(4,4)), columns=['a', 'b', 'c', 'd'])"
   ],
   "metadata": {
    "collapsed": false,
    "pycharm": {
     "name": "#%%\n"
    }
   }
  },
  {
   "cell_type": "code",
   "execution_count": 8,
   "outputs": [
    {
     "data": {
      "text/plain": "    a   b   c   d\n0  26  14  17  17\n1  30  31  39  13\n2  64  51  81  59\n3  63  14  60  40",
      "text/html": "<div>\n<style scoped>\n    .dataframe tbody tr th:only-of-type {\n        vertical-align: middle;\n    }\n\n    .dataframe tbody tr th {\n        vertical-align: top;\n    }\n\n    .dataframe thead th {\n        text-align: right;\n    }\n</style>\n<table border=\"1\" class=\"dataframe\">\n  <thead>\n    <tr style=\"text-align: right;\">\n      <th></th>\n      <th>a</th>\n      <th>b</th>\n      <th>c</th>\n      <th>d</th>\n    </tr>\n  </thead>\n  <tbody>\n    <tr>\n      <th>0</th>\n      <td>26</td>\n      <td>14</td>\n      <td>17</td>\n      <td>17</td>\n    </tr>\n    <tr>\n      <th>1</th>\n      <td>30</td>\n      <td>31</td>\n      <td>39</td>\n      <td>13</td>\n    </tr>\n    <tr>\n      <th>2</th>\n      <td>64</td>\n      <td>51</td>\n      <td>81</td>\n      <td>59</td>\n    </tr>\n    <tr>\n      <th>3</th>\n      <td>63</td>\n      <td>14</td>\n      <td>60</td>\n      <td>40</td>\n    </tr>\n  </tbody>\n</table>\n</div>"
     },
     "execution_count": 8,
     "metadata": {},
     "output_type": "execute_result"
    }
   ],
   "source": [
    "df"
   ],
   "metadata": {
    "collapsed": false,
    "pycharm": {
     "name": "#%%\n"
    }
   }
  },
  {
   "cell_type": "code",
   "execution_count": 35,
   "outputs": [],
   "source": [
    "# the name and con parameters allow you to check if table exists\n",
    "# if exist, overwrite it\n",
    "# need to be careful with the replace function\n",
    "df.to_sql(name='new_table', con=temp_db, if_exists='replace', index=False)"
   ],
   "metadata": {
    "collapsed": false,
    "pycharm": {
     "name": "#%%\n"
    }
   }
  },
  {
   "cell_type": "code",
   "execution_count": 36,
   "outputs": [],
   "source": [
    "# First way to read the sql data\n",
    "new_df = pd.read_sql(sql='new_table', con=temp_db)"
   ],
   "metadata": {
    "collapsed": false,
    "pycharm": {
     "name": "#%%\n"
    }
   }
  },
  {
   "cell_type": "code",
   "execution_count": 37,
   "outputs": [
    {
     "data": {
      "text/plain": "    a   b   c   d\n0  26  14  17  17\n1  30  31  39  13\n2  64  51  81  59\n3  63  14  60  40",
      "text/html": "<div>\n<style scoped>\n    .dataframe tbody tr th:only-of-type {\n        vertical-align: middle;\n    }\n\n    .dataframe tbody tr th {\n        vertical-align: top;\n    }\n\n    .dataframe thead th {\n        text-align: right;\n    }\n</style>\n<table border=\"1\" class=\"dataframe\">\n  <thead>\n    <tr style=\"text-align: right;\">\n      <th></th>\n      <th>a</th>\n      <th>b</th>\n      <th>c</th>\n      <th>d</th>\n    </tr>\n  </thead>\n  <tbody>\n    <tr>\n      <th>0</th>\n      <td>26</td>\n      <td>14</td>\n      <td>17</td>\n      <td>17</td>\n    </tr>\n    <tr>\n      <th>1</th>\n      <td>30</td>\n      <td>31</td>\n      <td>39</td>\n      <td>13</td>\n    </tr>\n    <tr>\n      <th>2</th>\n      <td>64</td>\n      <td>51</td>\n      <td>81</td>\n      <td>59</td>\n    </tr>\n    <tr>\n      <th>3</th>\n      <td>63</td>\n      <td>14</td>\n      <td>60</td>\n      <td>40</td>\n    </tr>\n  </tbody>\n</table>\n</div>"
     },
     "execution_count": 37,
     "metadata": {},
     "output_type": "execute_result"
    }
   ],
   "source": [
    "new_df"
   ],
   "metadata": {
    "collapsed": false,
    "pycharm": {
     "name": "#%%\n"
    }
   }
  },
  {
   "cell_type": "code",
   "execution_count": 38,
   "outputs": [],
   "source": [
    "# The second way to read the sqlite data\n",
    "result = pd.read_sql_query(sql='SELECT * FROM new_table', con=temp_db)"
   ],
   "metadata": {
    "collapsed": false,
    "pycharm": {
     "name": "#%%\n"
    }
   }
  },
  {
   "cell_type": "code",
   "execution_count": 39,
   "outputs": [
    {
     "data": {
      "text/plain": "    a   b   c   d\n0  26  14  17  17\n1  30  31  39  13\n2  64  51  81  59\n3  63  14  60  40",
      "text/html": "<div>\n<style scoped>\n    .dataframe tbody tr th:only-of-type {\n        vertical-align: middle;\n    }\n\n    .dataframe tbody tr th {\n        vertical-align: top;\n    }\n\n    .dataframe thead th {\n        text-align: right;\n    }\n</style>\n<table border=\"1\" class=\"dataframe\">\n  <thead>\n    <tr style=\"text-align: right;\">\n      <th></th>\n      <th>a</th>\n      <th>b</th>\n      <th>c</th>\n      <th>d</th>\n    </tr>\n  </thead>\n  <tbody>\n    <tr>\n      <th>0</th>\n      <td>26</td>\n      <td>14</td>\n      <td>17</td>\n      <td>17</td>\n    </tr>\n    <tr>\n      <th>1</th>\n      <td>30</td>\n      <td>31</td>\n      <td>39</td>\n      <td>13</td>\n    </tr>\n    <tr>\n      <th>2</th>\n      <td>64</td>\n      <td>51</td>\n      <td>81</td>\n      <td>59</td>\n    </tr>\n    <tr>\n      <th>3</th>\n      <td>63</td>\n      <td>14</td>\n      <td>60</td>\n      <td>40</td>\n    </tr>\n  </tbody>\n</table>\n</div>"
     },
     "execution_count": 39,
     "metadata": {},
     "output_type": "execute_result"
    }
   ],
   "source": [
    "result\n"
   ],
   "metadata": {
    "collapsed": false,
    "pycharm": {
     "name": "#%%\n"
    }
   }
  },
  {
   "cell_type": "code",
   "execution_count": null,
   "outputs": [],
   "source": [],
   "metadata": {
    "collapsed": false,
    "pycharm": {
     "name": "#%%\n"
    }
   }
  }
 ],
 "metadata": {
  "kernelspec": {
   "name": "pycharm-bbcd271a",
   "language": "python",
   "display_name": "PyCharm (Numpy)"
  },
  "language_info": {
   "codemirror_mode": {
    "name": "ipython",
    "version": 2
   },
   "file_extension": ".py",
   "mimetype": "text/x-python",
   "name": "python",
   "nbconvert_exporter": "python",
   "pygments_lexer": "ipython2",
   "version": "2.7.6"
  }
 },
 "nbformat": 4,
 "nbformat_minor": 0
}