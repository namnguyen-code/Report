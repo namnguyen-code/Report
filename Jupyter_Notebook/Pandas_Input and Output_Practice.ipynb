{
 "cells": [
  {
   "cell_type": "code",
   "execution_count": 1,
   "metadata": {
    "collapsed": true
   },
   "outputs": [],
   "source": [
    "import pandas as pd\n",
    "import numpy as np"
   ]
  },
  {
   "cell_type": "code",
   "execution_count": 3,
   "outputs": [
    {
     "data": {
      "text/plain": "'C:\\\\Users\\\\admin\\\\Desktop\\\\Data Science\\\\Jupyter_Notebook'"
     },
     "execution_count": 3,
     "metadata": {},
     "output_type": "execute_result"
    }
   ],
   "source": [
    "# get path of .py file\n",
    "# get path of current file\n",
    "import os\n",
    "os.getcwd()"
   ],
   "metadata": {
    "collapsed": false,
    "pycharm": {
     "name": "#%%\n"
    }
   }
  },
  {
   "cell_type": "code",
   "execution_count": 4,
   "outputs": [
    {
     "data": {
      "text/plain": "    0   1   2   3\n0   a   b   c   d\n1   0   1   2   3\n2   4   5   6   7\n3   8   9  10  11\n4  12  13  14  15",
      "text/html": "<div>\n<style scoped>\n    .dataframe tbody tr th:only-of-type {\n        vertical-align: middle;\n    }\n\n    .dataframe tbody tr th {\n        vertical-align: top;\n    }\n\n    .dataframe thead th {\n        text-align: right;\n    }\n</style>\n<table border=\"1\" class=\"dataframe\">\n  <thead>\n    <tr style=\"text-align: right;\">\n      <th></th>\n      <th>0</th>\n      <th>1</th>\n      <th>2</th>\n      <th>3</th>\n    </tr>\n  </thead>\n  <tbody>\n    <tr>\n      <th>0</th>\n      <td>a</td>\n      <td>b</td>\n      <td>c</td>\n      <td>d</td>\n    </tr>\n    <tr>\n      <th>1</th>\n      <td>0</td>\n      <td>1</td>\n      <td>2</td>\n      <td>3</td>\n    </tr>\n    <tr>\n      <th>2</th>\n      <td>4</td>\n      <td>5</td>\n      <td>6</td>\n      <td>7</td>\n    </tr>\n    <tr>\n      <th>3</th>\n      <td>8</td>\n      <td>9</td>\n      <td>10</td>\n      <td>11</td>\n    </tr>\n    <tr>\n      <th>4</th>\n      <td>12</td>\n      <td>13</td>\n      <td>14</td>\n      <td>15</td>\n    </tr>\n  </tbody>\n</table>\n</div>"
     },
     "execution_count": 4,
     "metadata": {},
     "output_type": "execute_result"
    }
   ],
   "source": [
    "# don't want to use header\n",
    "# use header = None\n",
    "pd.read_csv(r'C:\\Users\\admin\\Desktop\\Data Science\\Course-2021\\03-Pandas\\example.csv', header=None)"
   ],
   "metadata": {
    "collapsed": false,
    "pycharm": {
     "name": "#%%\n"
    }
   }
  },
  {
   "cell_type": "code",
   "execution_count": 5,
   "outputs": [],
   "source": [
    "# Set index column\n",
    "# Use the first column as index\n",
    "# Read csv by pandas\n",
    "df = pd.read_csv(r'C:\\Users\\admin\\Desktop\\Data Science\\Course-2021\\03-Pandas\\example.csv', index_col=0)"
   ],
   "metadata": {
    "collapsed": false,
    "pycharm": {
     "name": "#%%\n"
    }
   }
  },
  {
   "cell_type": "code",
   "execution_count": 6,
   "outputs": [
    {
     "data": {
      "text/plain": "     b   c   d\na             \n0    1   2   3\n4    5   6   7\n8    9  10  11\n12  13  14  15",
      "text/html": "<div>\n<style scoped>\n    .dataframe tbody tr th:only-of-type {\n        vertical-align: middle;\n    }\n\n    .dataframe tbody tr th {\n        vertical-align: top;\n    }\n\n    .dataframe thead th {\n        text-align: right;\n    }\n</style>\n<table border=\"1\" class=\"dataframe\">\n  <thead>\n    <tr style=\"text-align: right;\">\n      <th></th>\n      <th>b</th>\n      <th>c</th>\n      <th>d</th>\n    </tr>\n    <tr>\n      <th>a</th>\n      <th></th>\n      <th></th>\n      <th></th>\n    </tr>\n  </thead>\n  <tbody>\n    <tr>\n      <th>0</th>\n      <td>1</td>\n      <td>2</td>\n      <td>3</td>\n    </tr>\n    <tr>\n      <th>4</th>\n      <td>5</td>\n      <td>6</td>\n      <td>7</td>\n    </tr>\n    <tr>\n      <th>8</th>\n      <td>9</td>\n      <td>10</td>\n      <td>11</td>\n    </tr>\n    <tr>\n      <th>12</th>\n      <td>13</td>\n      <td>14</td>\n      <td>15</td>\n    </tr>\n  </tbody>\n</table>\n</div>"
     },
     "execution_count": 6,
     "metadata": {},
     "output_type": "execute_result"
    }
   ],
   "source": [
    "df"
   ],
   "metadata": {
    "collapsed": false,
    "pycharm": {
     "name": "#%%\n"
    }
   }
  },
  {
   "cell_type": "code",
   "execution_count": 7,
   "outputs": [],
   "source": [
    "# save this data_frame\n",
    "# save index use the 'index=True'\n",
    "# write by dataframe\n",
    "df.to_csv(r'C:\\Users\\admin\\Desktop\\newfile_1.csv', index=True)"
   ],
   "metadata": {
    "collapsed": false,
    "pycharm": {
     "name": "#%%\n"
    }
   }
  },
  {
   "cell_type": "code",
   "execution_count": 10,
   "outputs": [],
   "source": [
    "new = pd.read_csv(r'C:\\Users\\admin\\Desktop\\Data Science\\Course-2021\\03-Pandas\\example.csv')"
   ],
   "metadata": {
    "collapsed": false,
    "pycharm": {
     "name": "#%%\n"
    }
   }
  },
  {
   "cell_type": "code",
   "execution_count": 11,
   "outputs": [
    {
     "data": {
      "text/plain": "    a   b   c   d\n0   0   1   2   3\n1   4   5   6   7\n2   8   9  10  11\n3  12  13  14  15",
      "text/html": "<div>\n<style scoped>\n    .dataframe tbody tr th:only-of-type {\n        vertical-align: middle;\n    }\n\n    .dataframe tbody tr th {\n        vertical-align: top;\n    }\n\n    .dataframe thead th {\n        text-align: right;\n    }\n</style>\n<table border=\"1\" class=\"dataframe\">\n  <thead>\n    <tr style=\"text-align: right;\">\n      <th></th>\n      <th>a</th>\n      <th>b</th>\n      <th>c</th>\n      <th>d</th>\n    </tr>\n  </thead>\n  <tbody>\n    <tr>\n      <th>0</th>\n      <td>0</td>\n      <td>1</td>\n      <td>2</td>\n      <td>3</td>\n    </tr>\n    <tr>\n      <th>1</th>\n      <td>4</td>\n      <td>5</td>\n      <td>6</td>\n      <td>7</td>\n    </tr>\n    <tr>\n      <th>2</th>\n      <td>8</td>\n      <td>9</td>\n      <td>10</td>\n      <td>11</td>\n    </tr>\n    <tr>\n      <th>3</th>\n      <td>12</td>\n      <td>13</td>\n      <td>14</td>\n      <td>15</td>\n    </tr>\n  </tbody>\n</table>\n</div>"
     },
     "execution_count": 11,
     "metadata": {},
     "output_type": "execute_result"
    }
   ],
   "source": [
    "new"
   ],
   "metadata": {
    "collapsed": false,
    "pycharm": {
     "name": "#%%\n"
    }
   }
  },
  {
   "cell_type": "markdown",
   "source": [
    "# Data Input and Output of HTML Tables"
   ],
   "metadata": {
    "collapsed": false,
    "pycharm": {
     "name": "#%% md\n"
    }
   }
  },
  {
   "cell_type": "code",
   "execution_count": 12,
   "outputs": [],
   "source": [
    "import pandas as pd\n"
   ],
   "metadata": {
    "collapsed": false,
    "pycharm": {
     "name": "#%%\n"
    }
   }
  },
  {
   "cell_type": "code",
   "execution_count": 13,
   "outputs": [],
   "source": [
    "# paste the link\n",
    "url = 'https://en.wikipedia.org/wiki/World_population'"
   ],
   "metadata": {
    "collapsed": false,
    "pycharm": {
     "name": "#%%\n"
    }
   }
  },
  {
   "cell_type": "code",
   "execution_count": 14,
   "outputs": [],
   "source": [
    "tables = pd.read_html(url)"
   ],
   "metadata": {
    "collapsed": false,
    "pycharm": {
     "name": "#%%\n"
    }
   }
  },
  {
   "cell_type": "code",
   "execution_count": 17,
   "outputs": [
    {
     "data": {
      "text/plain": "26"
     },
     "execution_count": 17,
     "metadata": {},
     "output_type": "execute_result"
    }
   ],
   "source": [
    "# show the number of table\n",
    "len(tables)"
   ],
   "metadata": {
    "collapsed": false,
    "pycharm": {
     "name": "#%%\n"
    }
   }
  },
  {
   "cell_type": "markdown",
   "source": [
    "* The first table"
   ],
   "metadata": {
    "collapsed": false,
    "pycharm": {
     "name": "#%% md\n"
    }
   }
  },
  {
   "cell_type": "code",
   "execution_count": null,
   "outputs": [],
   "source": [
    "# the first table\n",
    "tables[0]"
   ],
   "metadata": {
    "collapsed": false,
    "pycharm": {
     "name": "#%%\n"
    }
   }
  },
  {
   "cell_type": "code",
   "execution_count": 21,
   "outputs": [
    {
     "data": {
      "text/plain": "MultiIndex([('World population (millions, UN estimates)[15]', ...),\n            ('World population (millions, UN estimates)[15]', ...),\n            ('World population (millions, UN estimates)[15]', ...),\n            ('World population (millions, UN estimates)[15]', ...),\n            ('World population (millions, UN estimates)[15]', ...)],\n           )"
     },
     "execution_count": 21,
     "metadata": {},
     "output_type": "execute_result"
    }
   ],
   "source": [
    "# show the level of column\n",
    "tables[0].columns"
   ],
   "metadata": {
    "collapsed": false,
    "pycharm": {
     "name": "#%%\n"
    }
   }
  },
  {
   "cell_type": "code",
   "execution_count": 28,
   "outputs": [
    {
     "data": {
      "text/plain": "                                                    #  \\\n0                                                   1   \n1                                                   2   \n2                                                   3   \n3                                                   4   \n4                                                   5   \n5                                                   6   \n6                                                   7   \n7                                                   8   \n8                                                   9   \n9                                                  10   \n10                                                NaN   \n11  Notes: .mw-parser-output .reflist{font-size:90...   \n\n                      Top ten most populous countries  \\\n0                                            China[B]   \n1                                               India   \n2                                       United States   \n3                                           Indonesia   \n4                                            Pakistan   \n5                                              Brazil   \n6                                             Nigeria   \n7                                          Bangladesh   \n8                                              Russia   \n9                                              Mexico   \n10                                        World total   \n11  Notes: .mw-parser-output .reflist{font-size:90...   \n\n                                                 2000  \\\n0                                                1270   \n1                                                1053   \n2                                                 283   \n3                                                 212   \n4                                                 136   \n5                                                 176   \n6                                                 123   \n7                                                 131   \n8                                                 146   \n9                                                 103   \n10                                               6127   \n11  Notes: .mw-parser-output .reflist{font-size:90...   \n\n                                                 2015  \\\n0                                                1376   \n1                                                1311   \n2                                                 322   \n3                                                 258   \n4                                                 208   \n5                                                 206   \n6                                                 182   \n7                                                 161   \n8                                                 146   \n9                                                 127   \n10                                               7349   \n11  Notes: .mw-parser-output .reflist{font-size:90...   \n\n                                              2030[A]  \n0                                                1416  \n1                                                1528  \n2                                                 356  \n3                                                 295  \n4                                                 245  \n5                                                 228  \n6                                                 263  \n7                                                 186  \n8                                                 149  \n9                                                 148  \n10                                               8501  \n11  Notes: .mw-parser-output .reflist{font-size:90...  ",
      "text/html": "<div>\n<style scoped>\n    .dataframe tbody tr th:only-of-type {\n        vertical-align: middle;\n    }\n\n    .dataframe tbody tr th {\n        vertical-align: top;\n    }\n\n    .dataframe thead th {\n        text-align: right;\n    }\n</style>\n<table border=\"1\" class=\"dataframe\">\n  <thead>\n    <tr style=\"text-align: right;\">\n      <th></th>\n      <th>#</th>\n      <th>Top ten most populous countries</th>\n      <th>2000</th>\n      <th>2015</th>\n      <th>2030[A]</th>\n    </tr>\n  </thead>\n  <tbody>\n    <tr>\n      <th>0</th>\n      <td>1</td>\n      <td>China[B]</td>\n      <td>1270</td>\n      <td>1376</td>\n      <td>1416</td>\n    </tr>\n    <tr>\n      <th>1</th>\n      <td>2</td>\n      <td>India</td>\n      <td>1053</td>\n      <td>1311</td>\n      <td>1528</td>\n    </tr>\n    <tr>\n      <th>2</th>\n      <td>3</td>\n      <td>United States</td>\n      <td>283</td>\n      <td>322</td>\n      <td>356</td>\n    </tr>\n    <tr>\n      <th>3</th>\n      <td>4</td>\n      <td>Indonesia</td>\n      <td>212</td>\n      <td>258</td>\n      <td>295</td>\n    </tr>\n    <tr>\n      <th>4</th>\n      <td>5</td>\n      <td>Pakistan</td>\n      <td>136</td>\n      <td>208</td>\n      <td>245</td>\n    </tr>\n    <tr>\n      <th>5</th>\n      <td>6</td>\n      <td>Brazil</td>\n      <td>176</td>\n      <td>206</td>\n      <td>228</td>\n    </tr>\n    <tr>\n      <th>6</th>\n      <td>7</td>\n      <td>Nigeria</td>\n      <td>123</td>\n      <td>182</td>\n      <td>263</td>\n    </tr>\n    <tr>\n      <th>7</th>\n      <td>8</td>\n      <td>Bangladesh</td>\n      <td>131</td>\n      <td>161</td>\n      <td>186</td>\n    </tr>\n    <tr>\n      <th>8</th>\n      <td>9</td>\n      <td>Russia</td>\n      <td>146</td>\n      <td>146</td>\n      <td>149</td>\n    </tr>\n    <tr>\n      <th>9</th>\n      <td>10</td>\n      <td>Mexico</td>\n      <td>103</td>\n      <td>127</td>\n      <td>148</td>\n    </tr>\n    <tr>\n      <th>10</th>\n      <td>NaN</td>\n      <td>World total</td>\n      <td>6127</td>\n      <td>7349</td>\n      <td>8501</td>\n    </tr>\n    <tr>\n      <th>11</th>\n      <td>Notes: .mw-parser-output .reflist{font-size:90...</td>\n      <td>Notes: .mw-parser-output .reflist{font-size:90...</td>\n      <td>Notes: .mw-parser-output .reflist{font-size:90...</td>\n      <td>Notes: .mw-parser-output .reflist{font-size:90...</td>\n      <td>Notes: .mw-parser-output .reflist{font-size:90...</td>\n    </tr>\n  </tbody>\n</table>\n</div>"
     },
     "execution_count": 28,
     "metadata": {},
     "output_type": "execute_result"
    }
   ],
   "source": [
    "# first level of table\n",
    "tables[0]['World population (millions, UN estimates)[15]']"
   ],
   "metadata": {
    "collapsed": false,
    "pycharm": {
     "name": "#%%\n"
    }
   }
  },
  {
   "cell_type": "code",
   "execution_count": 22,
   "outputs": [],
   "source": [
    "# clean the first level of column\n",
    "world_topten = tables[0]"
   ],
   "metadata": {
    "collapsed": false,
    "pycharm": {
     "name": "#%%\n"
    }
   }
  },
  {
   "cell_type": "code",
   "execution_count": 25,
   "outputs": [],
   "source": [
    "# replace the first level of column by the following level\n",
    "world_topten = world_topten['World population (millions, UN estimates)[15]']"
   ],
   "metadata": {
    "collapsed": false,
    "pycharm": {
     "name": "#%%\n"
    }
   }
  },
  {
   "cell_type": "code",
   "execution_count": 30,
   "outputs": [
    {
     "data": {
      "text/plain": "                                                    #  \\\n0                                                   1   \n1                                                   2   \n2                                                   3   \n3                                                   4   \n4                                                   5   \n5                                                   6   \n6                                                   7   \n7                                                   8   \n8                                                   9   \n9                                                  10   \n10                                                NaN   \n11  Notes: .mw-parser-output .reflist{font-size:90...   \n\n                      Top ten most populous countries  \\\n0                                            China[B]   \n1                                               India   \n2                                       United States   \n3                                           Indonesia   \n4                                            Pakistan   \n5                                              Brazil   \n6                                             Nigeria   \n7                                          Bangladesh   \n8                                              Russia   \n9                                              Mexico   \n10                                        World total   \n11  Notes: .mw-parser-output .reflist{font-size:90...   \n\n                                                 2000  \\\n0                                                1270   \n1                                                1053   \n2                                                 283   \n3                                                 212   \n4                                                 136   \n5                                                 176   \n6                                                 123   \n7                                                 131   \n8                                                 146   \n9                                                 103   \n10                                               6127   \n11  Notes: .mw-parser-output .reflist{font-size:90...   \n\n                                                 2015  \\\n0                                                1376   \n1                                                1311   \n2                                                 322   \n3                                                 258   \n4                                                 208   \n5                                                 206   \n6                                                 182   \n7                                                 161   \n8                                                 146   \n9                                                 127   \n10                                               7349   \n11  Notes: .mw-parser-output .reflist{font-size:90...   \n\n                                              2030[A]  \n0                                                1416  \n1                                                1528  \n2                                                 356  \n3                                                 295  \n4                                                 245  \n5                                                 228  \n6                                                 263  \n7                                                 186  \n8                                                 149  \n9                                                 148  \n10                                               8501  \n11  Notes: .mw-parser-output .reflist{font-size:90...  ",
      "text/html": "<div>\n<style scoped>\n    .dataframe tbody tr th:only-of-type {\n        vertical-align: middle;\n    }\n\n    .dataframe tbody tr th {\n        vertical-align: top;\n    }\n\n    .dataframe thead th {\n        text-align: right;\n    }\n</style>\n<table border=\"1\" class=\"dataframe\">\n  <thead>\n    <tr style=\"text-align: right;\">\n      <th></th>\n      <th>#</th>\n      <th>Top ten most populous countries</th>\n      <th>2000</th>\n      <th>2015</th>\n      <th>2030[A]</th>\n    </tr>\n  </thead>\n  <tbody>\n    <tr>\n      <th>0</th>\n      <td>1</td>\n      <td>China[B]</td>\n      <td>1270</td>\n      <td>1376</td>\n      <td>1416</td>\n    </tr>\n    <tr>\n      <th>1</th>\n      <td>2</td>\n      <td>India</td>\n      <td>1053</td>\n      <td>1311</td>\n      <td>1528</td>\n    </tr>\n    <tr>\n      <th>2</th>\n      <td>3</td>\n      <td>United States</td>\n      <td>283</td>\n      <td>322</td>\n      <td>356</td>\n    </tr>\n    <tr>\n      <th>3</th>\n      <td>4</td>\n      <td>Indonesia</td>\n      <td>212</td>\n      <td>258</td>\n      <td>295</td>\n    </tr>\n    <tr>\n      <th>4</th>\n      <td>5</td>\n      <td>Pakistan</td>\n      <td>136</td>\n      <td>208</td>\n      <td>245</td>\n    </tr>\n    <tr>\n      <th>5</th>\n      <td>6</td>\n      <td>Brazil</td>\n      <td>176</td>\n      <td>206</td>\n      <td>228</td>\n    </tr>\n    <tr>\n      <th>6</th>\n      <td>7</td>\n      <td>Nigeria</td>\n      <td>123</td>\n      <td>182</td>\n      <td>263</td>\n    </tr>\n    <tr>\n      <th>7</th>\n      <td>8</td>\n      <td>Bangladesh</td>\n      <td>131</td>\n      <td>161</td>\n      <td>186</td>\n    </tr>\n    <tr>\n      <th>8</th>\n      <td>9</td>\n      <td>Russia</td>\n      <td>146</td>\n      <td>146</td>\n      <td>149</td>\n    </tr>\n    <tr>\n      <th>9</th>\n      <td>10</td>\n      <td>Mexico</td>\n      <td>103</td>\n      <td>127</td>\n      <td>148</td>\n    </tr>\n    <tr>\n      <th>10</th>\n      <td>NaN</td>\n      <td>World total</td>\n      <td>6127</td>\n      <td>7349</td>\n      <td>8501</td>\n    </tr>\n    <tr>\n      <th>11</th>\n      <td>Notes: .mw-parser-output .reflist{font-size:90...</td>\n      <td>Notes: .mw-parser-output .reflist{font-size:90...</td>\n      <td>Notes: .mw-parser-output .reflist{font-size:90...</td>\n      <td>Notes: .mw-parser-output .reflist{font-size:90...</td>\n      <td>Notes: .mw-parser-output .reflist{font-size:90...</td>\n    </tr>\n  </tbody>\n</table>\n</div>"
     },
     "execution_count": 30,
     "metadata": {},
     "output_type": "execute_result"
    }
   ],
   "source": [
    "world_topten"
   ],
   "metadata": {
    "collapsed": false,
    "pycharm": {
     "name": "#%%\n"
    }
   }
  },
  {
   "cell_type": "code",
   "execution_count": 31,
   "outputs": [
    {
     "data": {
      "text/plain": "Index(['#', 'Top ten most populous countries', '2000', '2015', '2030[A]'], dtype='object')"
     },
     "execution_count": 31,
     "metadata": {},
     "output_type": "execute_result"
    }
   ],
   "source": [
    "world_topten.columns\n"
   ],
   "metadata": {
    "collapsed": false,
    "pycharm": {
     "name": "#%%\n"
    }
   }
  },
  {
   "cell_type": "code",
   "execution_count": 36,
   "outputs": [
    {
     "name": "stderr",
     "output_type": "stream",
     "text": [
      "C:\\Users\\admin\\anaconda3\\lib\\site-packages\\pandas\\core\\frame.py:4906: SettingWithCopyWarning: \n",
      "A value is trying to be set on a copy of a slice from a DataFrame\n",
      "\n",
      "See the caveats in the documentation: https://pandas.pydata.org/pandas-docs/stable/user_guide/indexing.html#returning-a-view-versus-a-copy\n",
      "  return super().drop(\n"
     ]
    }
   ],
   "source": [
    "# drop the row\n",
    "# labels : single label or list like\n",
    "# axis: {0 or ‘index’, 1 or ‘columns’}, default 0\n",
    "world_topten.drop(labels='#', axis=1, inplace=True)"
   ],
   "metadata": {
    "collapsed": false,
    "pycharm": {
     "name": "#%%\n"
    }
   }
  },
  {
   "cell_type": "code",
   "execution_count": 37,
   "outputs": [
    {
     "data": {
      "text/plain": "Index(['Top ten most populous countries', '2000', '2015', '2030[A]'], dtype='object')"
     },
     "execution_count": 37,
     "metadata": {},
     "output_type": "execute_result"
    }
   ],
   "source": [
    "world_topten.columns"
   ],
   "metadata": {
    "collapsed": false,
    "pycharm": {
     "name": "#%%\n"
    }
   }
  },
  {
   "cell_type": "code",
   "execution_count": 38,
   "outputs": [],
   "source": [
    "# change the column name\n",
    "world_topten.columns = ['Country', '2000', '2015', '2030 Est.']\n"
   ],
   "metadata": {
    "collapsed": false,
    "pycharm": {
     "name": "#%%\n"
    }
   }
  },
  {
   "cell_type": "code",
   "execution_count": 39,
   "outputs": [
    {
     "data": {
      "text/plain": "                                              Country  \\\n0                                            China[B]   \n1                                               India   \n2                                       United States   \n3                                           Indonesia   \n4                                            Pakistan   \n5                                              Brazil   \n6                                             Nigeria   \n7                                          Bangladesh   \n8                                              Russia   \n9                                              Mexico   \n10                                        World total   \n11  Notes: .mw-parser-output .reflist{font-size:90...   \n\n                                                 2000  \\\n0                                                1270   \n1                                                1053   \n2                                                 283   \n3                                                 212   \n4                                                 136   \n5                                                 176   \n6                                                 123   \n7                                                 131   \n8                                                 146   \n9                                                 103   \n10                                               6127   \n11  Notes: .mw-parser-output .reflist{font-size:90...   \n\n                                                 2015  \\\n0                                                1376   \n1                                                1311   \n2                                                 322   \n3                                                 258   \n4                                                 208   \n5                                                 206   \n6                                                 182   \n7                                                 161   \n8                                                 146   \n9                                                 127   \n10                                               7349   \n11  Notes: .mw-parser-output .reflist{font-size:90...   \n\n                                            2030 Est.  \n0                                                1416  \n1                                                1528  \n2                                                 356  \n3                                                 295  \n4                                                 245  \n5                                                 228  \n6                                                 263  \n7                                                 186  \n8                                                 149  \n9                                                 148  \n10                                               8501  \n11  Notes: .mw-parser-output .reflist{font-size:90...  ",
      "text/html": "<div>\n<style scoped>\n    .dataframe tbody tr th:only-of-type {\n        vertical-align: middle;\n    }\n\n    .dataframe tbody tr th {\n        vertical-align: top;\n    }\n\n    .dataframe thead th {\n        text-align: right;\n    }\n</style>\n<table border=\"1\" class=\"dataframe\">\n  <thead>\n    <tr style=\"text-align: right;\">\n      <th></th>\n      <th>Country</th>\n      <th>2000</th>\n      <th>2015</th>\n      <th>2030 Est.</th>\n    </tr>\n  </thead>\n  <tbody>\n    <tr>\n      <th>0</th>\n      <td>China[B]</td>\n      <td>1270</td>\n      <td>1376</td>\n      <td>1416</td>\n    </tr>\n    <tr>\n      <th>1</th>\n      <td>India</td>\n      <td>1053</td>\n      <td>1311</td>\n      <td>1528</td>\n    </tr>\n    <tr>\n      <th>2</th>\n      <td>United States</td>\n      <td>283</td>\n      <td>322</td>\n      <td>356</td>\n    </tr>\n    <tr>\n      <th>3</th>\n      <td>Indonesia</td>\n      <td>212</td>\n      <td>258</td>\n      <td>295</td>\n    </tr>\n    <tr>\n      <th>4</th>\n      <td>Pakistan</td>\n      <td>136</td>\n      <td>208</td>\n      <td>245</td>\n    </tr>\n    <tr>\n      <th>5</th>\n      <td>Brazil</td>\n      <td>176</td>\n      <td>206</td>\n      <td>228</td>\n    </tr>\n    <tr>\n      <th>6</th>\n      <td>Nigeria</td>\n      <td>123</td>\n      <td>182</td>\n      <td>263</td>\n    </tr>\n    <tr>\n      <th>7</th>\n      <td>Bangladesh</td>\n      <td>131</td>\n      <td>161</td>\n      <td>186</td>\n    </tr>\n    <tr>\n      <th>8</th>\n      <td>Russia</td>\n      <td>146</td>\n      <td>146</td>\n      <td>149</td>\n    </tr>\n    <tr>\n      <th>9</th>\n      <td>Mexico</td>\n      <td>103</td>\n      <td>127</td>\n      <td>148</td>\n    </tr>\n    <tr>\n      <th>10</th>\n      <td>World total</td>\n      <td>6127</td>\n      <td>7349</td>\n      <td>8501</td>\n    </tr>\n    <tr>\n      <th>11</th>\n      <td>Notes: .mw-parser-output .reflist{font-size:90...</td>\n      <td>Notes: .mw-parser-output .reflist{font-size:90...</td>\n      <td>Notes: .mw-parser-output .reflist{font-size:90...</td>\n      <td>Notes: .mw-parser-output .reflist{font-size:90...</td>\n    </tr>\n  </tbody>\n</table>\n</div>"
     },
     "execution_count": 39,
     "metadata": {},
     "output_type": "execute_result"
    }
   ],
   "source": [
    "world_topten"
   ],
   "metadata": {
    "collapsed": false,
    "pycharm": {
     "name": "#%%\n"
    }
   }
  },
  {
   "cell_type": "markdown",
   "source": [
    "* The fifth table"
   ],
   "metadata": {
    "collapsed": false,
    "pycharm": {
     "name": "#%% md\n"
    }
   }
  },
  {
   "cell_type": "code",
   "execution_count": 40,
   "outputs": [
    {
     "data": {
      "text/plain": "   Rank      Country  Population  Area(km2)  Density(pop/km2)\n0     1    Singapore     5704000        710              8033\n1     2   Bangladesh   171940000     143998              1194\n2     3    Palestine     5266785       6020               847\n3     4      Lebanon     6856000      10452               656\n4     5       Taiwan    23604000      36193               652\n5     6  South Korea    51781000      99538               520\n6     7       Rwanda    12374000      26338               470\n7     8        Haiti    11578000      27065               428\n8     9  Netherlands    17670000      41526               426\n9    10       Israel     9450000      22072               428",
      "text/html": "<div>\n<style scoped>\n    .dataframe tbody tr th:only-of-type {\n        vertical-align: middle;\n    }\n\n    .dataframe tbody tr th {\n        vertical-align: top;\n    }\n\n    .dataframe thead th {\n        text-align: right;\n    }\n</style>\n<table border=\"1\" class=\"dataframe\">\n  <thead>\n    <tr style=\"text-align: right;\">\n      <th></th>\n      <th>Rank</th>\n      <th>Country</th>\n      <th>Population</th>\n      <th>Area(km2)</th>\n      <th>Density(pop/km2)</th>\n    </tr>\n  </thead>\n  <tbody>\n    <tr>\n      <th>0</th>\n      <td>1</td>\n      <td>Singapore</td>\n      <td>5704000</td>\n      <td>710</td>\n      <td>8033</td>\n    </tr>\n    <tr>\n      <th>1</th>\n      <td>2</td>\n      <td>Bangladesh</td>\n      <td>171940000</td>\n      <td>143998</td>\n      <td>1194</td>\n    </tr>\n    <tr>\n      <th>2</th>\n      <td>3</td>\n      <td>Palestine</td>\n      <td>5266785</td>\n      <td>6020</td>\n      <td>847</td>\n    </tr>\n    <tr>\n      <th>3</th>\n      <td>4</td>\n      <td>Lebanon</td>\n      <td>6856000</td>\n      <td>10452</td>\n      <td>656</td>\n    </tr>\n    <tr>\n      <th>4</th>\n      <td>5</td>\n      <td>Taiwan</td>\n      <td>23604000</td>\n      <td>36193</td>\n      <td>652</td>\n    </tr>\n    <tr>\n      <th>5</th>\n      <td>6</td>\n      <td>South Korea</td>\n      <td>51781000</td>\n      <td>99538</td>\n      <td>520</td>\n    </tr>\n    <tr>\n      <th>6</th>\n      <td>7</td>\n      <td>Rwanda</td>\n      <td>12374000</td>\n      <td>26338</td>\n      <td>470</td>\n    </tr>\n    <tr>\n      <th>7</th>\n      <td>8</td>\n      <td>Haiti</td>\n      <td>11578000</td>\n      <td>27065</td>\n      <td>428</td>\n    </tr>\n    <tr>\n      <th>8</th>\n      <td>9</td>\n      <td>Netherlands</td>\n      <td>17670000</td>\n      <td>41526</td>\n      <td>426</td>\n    </tr>\n    <tr>\n      <th>9</th>\n      <td>10</td>\n      <td>Israel</td>\n      <td>9450000</td>\n      <td>22072</td>\n      <td>428</td>\n    </tr>\n  </tbody>\n</table>\n</div>"
     },
     "execution_count": 40,
     "metadata": {},
     "output_type": "execute_result"
    }
   ],
   "source": [
    "tables[5]"
   ],
   "metadata": {
    "collapsed": false,
    "pycharm": {
     "name": "#%%\n"
    }
   }
  },
  {
   "cell_type": "code",
   "execution_count": 41,
   "outputs": [
    {
     "data": {
      "text/plain": "          Country  Population  Area(km2)  Density(pop/km2)\nRank                                                      \n1       Singapore     5704000        710              8033\n2      Bangladesh   171940000     143998              1194\n3       Palestine     5266785       6020               847\n4         Lebanon     6856000      10452               656\n5          Taiwan    23604000      36193               652\n6     South Korea    51781000      99538               520\n7          Rwanda    12374000      26338               470\n8           Haiti    11578000      27065               428\n9     Netherlands    17670000      41526               426\n10         Israel     9450000      22072               428",
      "text/html": "<div>\n<style scoped>\n    .dataframe tbody tr th:only-of-type {\n        vertical-align: middle;\n    }\n\n    .dataframe tbody tr th {\n        vertical-align: top;\n    }\n\n    .dataframe thead th {\n        text-align: right;\n    }\n</style>\n<table border=\"1\" class=\"dataframe\">\n  <thead>\n    <tr style=\"text-align: right;\">\n      <th></th>\n      <th>Country</th>\n      <th>Population</th>\n      <th>Area(km2)</th>\n      <th>Density(pop/km2)</th>\n    </tr>\n    <tr>\n      <th>Rank</th>\n      <th></th>\n      <th></th>\n      <th></th>\n      <th></th>\n    </tr>\n  </thead>\n  <tbody>\n    <tr>\n      <th>1</th>\n      <td>Singapore</td>\n      <td>5704000</td>\n      <td>710</td>\n      <td>8033</td>\n    </tr>\n    <tr>\n      <th>2</th>\n      <td>Bangladesh</td>\n      <td>171940000</td>\n      <td>143998</td>\n      <td>1194</td>\n    </tr>\n    <tr>\n      <th>3</th>\n      <td>Palestine</td>\n      <td>5266785</td>\n      <td>6020</td>\n      <td>847</td>\n    </tr>\n    <tr>\n      <th>4</th>\n      <td>Lebanon</td>\n      <td>6856000</td>\n      <td>10452</td>\n      <td>656</td>\n    </tr>\n    <tr>\n      <th>5</th>\n      <td>Taiwan</td>\n      <td>23604000</td>\n      <td>36193</td>\n      <td>652</td>\n    </tr>\n    <tr>\n      <th>6</th>\n      <td>South Korea</td>\n      <td>51781000</td>\n      <td>99538</td>\n      <td>520</td>\n    </tr>\n    <tr>\n      <th>7</th>\n      <td>Rwanda</td>\n      <td>12374000</td>\n      <td>26338</td>\n      <td>470</td>\n    </tr>\n    <tr>\n      <th>8</th>\n      <td>Haiti</td>\n      <td>11578000</td>\n      <td>27065</td>\n      <td>428</td>\n    </tr>\n    <tr>\n      <th>9</th>\n      <td>Netherlands</td>\n      <td>17670000</td>\n      <td>41526</td>\n      <td>426</td>\n    </tr>\n    <tr>\n      <th>10</th>\n      <td>Israel</td>\n      <td>9450000</td>\n      <td>22072</td>\n      <td>428</td>\n    </tr>\n  </tbody>\n</table>\n</div>"
     },
     "execution_count": 41,
     "metadata": {},
     "output_type": "execute_result"
    }
   ],
   "source": [
    "# Set rank columns as index\n",
    "tables[5].set_index('Rank')"
   ],
   "metadata": {
    "collapsed": false,
    "pycharm": {
     "name": "#%%\n"
    }
   }
  },
  {
   "cell_type": "code",
   "execution_count": 43,
   "outputs": [],
   "source": [
    "# Save the data\n",
    "# index = True => save the index\n",
    "world_topten.to_html('sample_table_1.html', index=True)"
   ],
   "metadata": {
    "collapsed": false,
    "pycharm": {
     "name": "#%%\n"
    }
   }
  },
  {
   "cell_type": "markdown",
   "source": [
    "# Data Input and Output Excel Files"
   ],
   "metadata": {
    "collapsed": false,
    "pycharm": {
     "name": "#%% md\n"
    }
   }
  },
  {
   "cell_type": "code",
   "execution_count": 44,
   "outputs": [],
   "source": [
    "import pandas as pd"
   ],
   "metadata": {
    "collapsed": false,
    "pycharm": {
     "name": "#%%\n"
    }
   }
  },
  {
   "cell_type": "code",
   "execution_count": null,
   "outputs": [],
   "source": [
    "# open follow the sheet name\n"
   ],
   "metadata": {
    "collapsed": false,
    "pycharm": {
     "name": "#%%\n"
    }
   }
  }
 ],
 "metadata": {
  "kernelspec": {
   "name": "pycharm-bbcd271a",
   "language": "python",
   "display_name": "PyCharm (Numpy)"
  },
  "language_info": {
   "codemirror_mode": {
    "name": "ipython",
    "version": 2
   },
   "file_extension": ".py",
   "mimetype": "text/x-python",
   "name": "python",
   "nbconvert_exporter": "python",
   "pygments_lexer": "ipython2",
   "version": "2.7.6"
  }
 },
 "nbformat": 4,
 "nbformat_minor": 0
}