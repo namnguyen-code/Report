{
 "cells": [
  {
   "cell_type": "markdown",
   "metadata": {
    "collapsed": true,
    "pycharm": {
     "name": "#%% md\n"
    }
   },
   "source": [
    "# The utilization of Pandas\n",
    "* Tools for reading and writing data between many format\n",
    "* Intelligently grab data based on indexing, logic, subsetting, and more.\n",
    "* Handle missing data.\n",
    "* Adjust and restructure data\n",
    "# The limitation of Pandas\n",
    "* Memory of computer (RAM)\n",
    "# The outline of Pandas course\n",
    "* Series and DataFrames\n",
    "* Conditional Filtering and Useful Methods\n",
    "* Missing Data\n",
    "* Group by Operations\n",
    "* Combining Data Frames\n",
    "* Test Methods and Time Methods\n",
    "* Inputs and Outputs\n",
    "\n"
   ]
  }
 ],
 "metadata": {
  "kernelspec": {
   "name": "pycharm-bbcd271a",
   "language": "python",
   "display_name": "PyCharm (Numpy)"
  },
  "language_info": {
   "codemirror_mode": {
    "name": "ipython",
    "version": 2
   },
   "file_extension": ".py",
   "mimetype": "text/x-python",
   "name": "python",
   "nbconvert_exporter": "python",
   "pygments_lexer": "ipython2",
   "version": "2.7.6"
  }
 },
 "nbformat": 4,
 "nbformat_minor": 0
}