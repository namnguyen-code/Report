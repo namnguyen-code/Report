{
 "cells": [
  {
   "cell_type": "markdown",
   "source": [
    "# Overview:\n",
    "* Most data sets require cleaning, analysis, and feature engineering before being used for machine learning\n",
    "* Let's quickly review the data set for the Linear Regression Project\n",
    "* In the next sections, we will focus on setting up the data for machine learning"
   ],
   "metadata": {
    "collapsed": false
   }
  },
  {
   "cell_type": "code",
   "execution_count": null,
   "metadata": {
    "collapsed": true
   },
   "outputs": [],
   "source": []
  }
 ],
 "metadata": {
  "kernelspec": {
   "display_name": "Python 3",
   "language": "python",
   "name": "python3"
  },
  "language_info": {
   "codemirror_mode": {
    "name": "ipython",
    "version": 2
   },
   "file_extension": ".py",
   "mimetype": "text/x-python",
   "name": "python",
   "nbconvert_exporter": "python",
   "pygments_lexer": "ipython2",
   "version": "2.7.6"
  }
 },
 "nbformat": 4,
 "nbformat_minor": 0
}