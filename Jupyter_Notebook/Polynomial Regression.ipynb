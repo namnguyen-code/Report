{
 "cells": [
  {
   "cell_type": "markdown",
   "source": [
    "# Theory and Motivation\n",
    "* There are two issues polynomial regression will address for us:\n",
    "    * Non-linear feature relationships to label\n",
    "    * Interaction terms between features\n",
    "* Let's first explore non-linear relationships and how considering polynomial orders could help address this"
   ],
   "metadata": {
    "collapsed": false
   }
  },
  {
   "cell_type": "markdown",
   "source": [
    "* Imagine a feature that is not linear\n"
   ],
   "metadata": {
    "collapsed": false
   }
  },
  {
   "cell_type": "markdown",
   "source": [
    "<img src=\"https://www.statology.org/wp-content/uploads/2021/04/loglogPython1-768x530.png\">"
   ],
   "metadata": {
    "collapsed": false
   }
  },
  {
   "cell_type": "markdown",
   "source": [
    "* We know log(x) is not linear relationship\n",
    "* What is a feature X behaved like log(X)?\n",
    "* Will be difficult to find a linear relationship\n",
    "* What about the square of this feature? => The relationship could be more linear\n",
    "* Even more so for higher orders, such as third powers\n",
    "* Keep in mind this is an exaggerated example, and not every feature will have  relationships at higher order\n",
    "* The main point here is to show it could be reasonable to solve for a single linear Beta coefficient for polynomial of an original feature"
   ],
   "metadata": {
    "collapsed": false
   }
  },
  {
   "cell_type": "markdown",
   "source": [
    "* Let's now also consider **interaction terms**\n",
    "* What if features are only significant when **in sync** with one another\n",
    "* For example:\n",
    "    * Perhaps newspaper advertising spend by itself is not effective, but greatly increase effectiveness if added to a TV advertising campaign\n",
    "    * Consumers only watching a TV ad will create some sales, but consumers who watch TV **and** are later \"reminded through a news paper ad could contribute even more sales than TV or newspaper alone!\n",
    "* How we check for this ?\n",
    "    * The simplest way is to create a new feature that multiples two existing features together to create an **interaction term**\n",
    "    * We can keep the original features, and add on this **interaction term**\n",
    "* Fortunately Scitkit-Learn does this for us easily through a **preprocessing** call.\n",
    "* Scikit-Learn's preprocessing library contains many useful tools to apply to the original data set **before** model training\n",
    "* One tool is the **PolynomialFeatures** which automatically creates both higher order feature polynomials and the interaction terms between all feature combinations.\n",
    "* The features created include:\n",
    "    * The bias (the value of 1.0)\n",
    "    * Values raised to power for each degree (e.g. $x^1, x^2 , x^3$...)\n",
    "    * Interactions between all pairs of features (e.g. $x1*x2, x1*x3$)\n",
    "* Converting Two Features **A** and **B** into 2 order Polynomial Features\n",
    "    * <b>$1, A, B, A^2, AB, B^2$</b>\n",
    "* Generalized terms of features **$X_1$** abd **$X_2$**\n",
    "    * <b>$1, X_1, X_2, X_1^2, X_2^2, X1X2$</b>\n",
    "* Example if row was **$X_1$** = 2 and **$X_2$** = 3\n",
    "    * 1, 2, 3, 4, 6, 9\n",
    "* There is no guarantee that there are actually signals within interaction term or higher order relationship"
   ],
   "metadata": {
    "collapsed": false
   }
  },
  {
   "cell_type": "markdown",
   "source": [
    "---\n",
    "**Import environment**"
   ],
   "metadata": {
    "collapsed": false
   }
  },
  {
   "cell_type": "code",
   "execution_count": 53,
   "metadata": {
    "collapsed": true
   },
   "outputs": [],
   "source": [
    "import pandas as pd\n",
    "import numpy as np\n",
    "import matplotlib as mpl\n",
    "import matplotlib.pyplot as plt\n",
    "import seaborn as sns"
   ]
  },
  {
   "cell_type": "code",
   "execution_count": 54,
   "outputs": [],
   "source": [
    "mpl.rcParams.update({\"figure.facecolor\": \"white\"})"
   ],
   "metadata": {
    "collapsed": false,
    "pycharm": {
     "name": "#%%\n"
    }
   }
  },
  {
   "cell_type": "code",
   "execution_count": 55,
   "outputs": [],
   "source": [
    "df = pd.read_csv(filepath_or_buffer=r\"D:\\Data Science\\Course-2021\\08-Linear-Regression-Models\\Advertising.csv\")"
   ],
   "metadata": {
    "collapsed": false,
    "pycharm": {
     "name": "#%%\n"
    }
   }
  },
  {
   "cell_type": "code",
   "execution_count": 56,
   "outputs": [
    {
     "data": {
      "text/plain": "        TV  radio  newspaper  sales\n0    230.1   37.8       69.2   22.1\n1     44.5   39.3       45.1   10.4\n2     17.2   45.9       69.3    9.3\n3    151.5   41.3       58.5   18.5\n4    180.8   10.8       58.4   12.9\n..     ...    ...        ...    ...\n195   38.2    3.7       13.8    7.6\n196   94.2    4.9        8.1    9.7\n197  177.0    9.3        6.4   12.8\n198  283.6   42.0       66.2   25.5\n199  232.1    8.6        8.7   13.4\n\n[200 rows x 4 columns]",
      "text/html": "<div>\n<style scoped>\n    .dataframe tbody tr th:only-of-type {\n        vertical-align: middle;\n    }\n\n    .dataframe tbody tr th {\n        vertical-align: top;\n    }\n\n    .dataframe thead th {\n        text-align: right;\n    }\n</style>\n<table border=\"1\" class=\"dataframe\">\n  <thead>\n    <tr style=\"text-align: right;\">\n      <th></th>\n      <th>TV</th>\n      <th>radio</th>\n      <th>newspaper</th>\n      <th>sales</th>\n    </tr>\n  </thead>\n  <tbody>\n    <tr>\n      <th>0</th>\n      <td>230.1</td>\n      <td>37.8</td>\n      <td>69.2</td>\n      <td>22.1</td>\n    </tr>\n    <tr>\n      <th>1</th>\n      <td>44.5</td>\n      <td>39.3</td>\n      <td>45.1</td>\n      <td>10.4</td>\n    </tr>\n    <tr>\n      <th>2</th>\n      <td>17.2</td>\n      <td>45.9</td>\n      <td>69.3</td>\n      <td>9.3</td>\n    </tr>\n    <tr>\n      <th>3</th>\n      <td>151.5</td>\n      <td>41.3</td>\n      <td>58.5</td>\n      <td>18.5</td>\n    </tr>\n    <tr>\n      <th>4</th>\n      <td>180.8</td>\n      <td>10.8</td>\n      <td>58.4</td>\n      <td>12.9</td>\n    </tr>\n    <tr>\n      <th>...</th>\n      <td>...</td>\n      <td>...</td>\n      <td>...</td>\n      <td>...</td>\n    </tr>\n    <tr>\n      <th>195</th>\n      <td>38.2</td>\n      <td>3.7</td>\n      <td>13.8</td>\n      <td>7.6</td>\n    </tr>\n    <tr>\n      <th>196</th>\n      <td>94.2</td>\n      <td>4.9</td>\n      <td>8.1</td>\n      <td>9.7</td>\n    </tr>\n    <tr>\n      <th>197</th>\n      <td>177.0</td>\n      <td>9.3</td>\n      <td>6.4</td>\n      <td>12.8</td>\n    </tr>\n    <tr>\n      <th>198</th>\n      <td>283.6</td>\n      <td>42.0</td>\n      <td>66.2</td>\n      <td>25.5</td>\n    </tr>\n    <tr>\n      <th>199</th>\n      <td>232.1</td>\n      <td>8.6</td>\n      <td>8.7</td>\n      <td>13.4</td>\n    </tr>\n  </tbody>\n</table>\n<p>200 rows × 4 columns</p>\n</div>"
     },
     "execution_count": 56,
     "metadata": {},
     "output_type": "execute_result"
    }
   ],
   "source": [
    "df"
   ],
   "metadata": {
    "collapsed": false,
    "pycharm": {
     "name": "#%%\n"
    }
   }
  },
  {
   "cell_type": "code",
   "execution_count": 57,
   "outputs": [],
   "source": [
    "X = df.drop(columns=\"sales\", axis=1)"
   ],
   "metadata": {
    "collapsed": false,
    "pycharm": {
     "name": "#%%\n"
    }
   }
  },
  {
   "cell_type": "code",
   "execution_count": 58,
   "outputs": [
    {
     "data": {
      "text/plain": "        TV  radio  newspaper\n0    230.1   37.8       69.2\n1     44.5   39.3       45.1\n2     17.2   45.9       69.3\n3    151.5   41.3       58.5\n4    180.8   10.8       58.4\n..     ...    ...        ...\n195   38.2    3.7       13.8\n196   94.2    4.9        8.1\n197  177.0    9.3        6.4\n198  283.6   42.0       66.2\n199  232.1    8.6        8.7\n\n[200 rows x 3 columns]",
      "text/html": "<div>\n<style scoped>\n    .dataframe tbody tr th:only-of-type {\n        vertical-align: middle;\n    }\n\n    .dataframe tbody tr th {\n        vertical-align: top;\n    }\n\n    .dataframe thead th {\n        text-align: right;\n    }\n</style>\n<table border=\"1\" class=\"dataframe\">\n  <thead>\n    <tr style=\"text-align: right;\">\n      <th></th>\n      <th>TV</th>\n      <th>radio</th>\n      <th>newspaper</th>\n    </tr>\n  </thead>\n  <tbody>\n    <tr>\n      <th>0</th>\n      <td>230.1</td>\n      <td>37.8</td>\n      <td>69.2</td>\n    </tr>\n    <tr>\n      <th>1</th>\n      <td>44.5</td>\n      <td>39.3</td>\n      <td>45.1</td>\n    </tr>\n    <tr>\n      <th>2</th>\n      <td>17.2</td>\n      <td>45.9</td>\n      <td>69.3</td>\n    </tr>\n    <tr>\n      <th>3</th>\n      <td>151.5</td>\n      <td>41.3</td>\n      <td>58.5</td>\n    </tr>\n    <tr>\n      <th>4</th>\n      <td>180.8</td>\n      <td>10.8</td>\n      <td>58.4</td>\n    </tr>\n    <tr>\n      <th>...</th>\n      <td>...</td>\n      <td>...</td>\n      <td>...</td>\n    </tr>\n    <tr>\n      <th>195</th>\n      <td>38.2</td>\n      <td>3.7</td>\n      <td>13.8</td>\n    </tr>\n    <tr>\n      <th>196</th>\n      <td>94.2</td>\n      <td>4.9</td>\n      <td>8.1</td>\n    </tr>\n    <tr>\n      <th>197</th>\n      <td>177.0</td>\n      <td>9.3</td>\n      <td>6.4</td>\n    </tr>\n    <tr>\n      <th>198</th>\n      <td>283.6</td>\n      <td>42.0</td>\n      <td>66.2</td>\n    </tr>\n    <tr>\n      <th>199</th>\n      <td>232.1</td>\n      <td>8.6</td>\n      <td>8.7</td>\n    </tr>\n  </tbody>\n</table>\n<p>200 rows × 3 columns</p>\n</div>"
     },
     "execution_count": 58,
     "metadata": {},
     "output_type": "execute_result"
    }
   ],
   "source": [
    "X"
   ],
   "metadata": {
    "collapsed": false,
    "pycharm": {
     "name": "#%%\n"
    }
   }
  },
  {
   "cell_type": "code",
   "execution_count": 59,
   "outputs": [],
   "source": [
    "y = df['sales']"
   ],
   "metadata": {
    "collapsed": false,
    "pycharm": {
     "name": "#%%\n"
    }
   }
  },
  {
   "cell_type": "code",
   "execution_count": 60,
   "outputs": [
    {
     "data": {
      "text/plain": "0      22.1\n1      10.4\n2       9.3\n3      18.5\n4      12.9\n       ... \n195     7.6\n196     9.7\n197    12.8\n198    25.5\n199    13.4\nName: sales, Length: 200, dtype: float64"
     },
     "execution_count": 60,
     "metadata": {},
     "output_type": "execute_result"
    }
   ],
   "source": [
    "y"
   ],
   "metadata": {
    "collapsed": false,
    "pycharm": {
     "name": "#%%\n"
    }
   }
  },
  {
   "cell_type": "code",
   "execution_count": 61,
   "outputs": [],
   "source": [
    "from sklearn.preprocessing import  PolynomialFeatures"
   ],
   "metadata": {
    "collapsed": false,
    "pycharm": {
     "name": "#%%\n"
    }
   }
  },
  {
   "cell_type": "markdown",
   "source": [
    "* The `degree` is what the order you want to deal\n",
    "* Show only interaction terms => using the `interaction_only` = True (else it's going to include the X square)\n",
    "* the `include_bias` = True => going to add in the array column of one values."
   ],
   "metadata": {
    "collapsed": false
   }
  },
  {
   "cell_type": "markdown",
   "source": [
    "`polynomial_converter` is just feature converter"
   ],
   "metadata": {
    "collapsed": false
   }
  },
  {
   "cell_type": "code",
   "execution_count": 62,
   "outputs": [],
   "source": [
    "polynomial_converter = PolynomialFeatures(degree=2, include_bias=False)"
   ],
   "metadata": {
    "collapsed": false,
    "pycharm": {
     "name": "#%%\n"
    }
   }
  },
  {
   "cell_type": "markdown",
   "source": [
    "* Fit means is going to grab and analyze all the feature values (define the data range)\n",
    "* Not transform anything until you ask it"
   ],
   "metadata": {
    "collapsed": false
   }
  },
  {
   "cell_type": "code",
   "execution_count": 63,
   "outputs": [
    {
     "data": {
      "text/plain": "PolynomialFeatures(include_bias=False)"
     },
     "execution_count": 63,
     "metadata": {},
     "output_type": "execute_result"
    }
   ],
   "source": [
    "polynomial_converter.fit(X)"
   ],
   "metadata": {
    "collapsed": false,
    "pycharm": {
     "name": "#%%\n"
    }
   }
  },
  {
   "cell_type": "markdown",
   "source": [
    "* Tranform the data set"
   ],
   "metadata": {
    "collapsed": false
   }
  },
  {
   "cell_type": "code",
   "execution_count": 64,
   "outputs": [
    {
     "data": {
      "text/plain": "array([[ 230.1 ,   37.8 ,   69.2 , ..., 1428.84, 2615.76, 4788.64],\n       [  44.5 ,   39.3 ,   45.1 , ..., 1544.49, 1772.43, 2034.01],\n       [  17.2 ,   45.9 ,   69.3 , ..., 2106.81, 3180.87, 4802.49],\n       ...,\n       [ 177.  ,    9.3 ,    6.4 , ...,   86.49,   59.52,   40.96],\n       [ 283.6 ,   42.  ,   66.2 , ..., 1764.  , 2780.4 , 4382.44],\n       [ 232.1 ,    8.6 ,    8.7 , ...,   73.96,   74.82,   75.69]])"
     },
     "execution_count": 64,
     "metadata": {},
     "output_type": "execute_result"
    }
   ],
   "source": [
    "polynomial_converter.transform(X)"
   ],
   "metadata": {
    "collapsed": false,
    "pycharm": {
     "name": "#%%\n"
    }
   }
  },
  {
   "cell_type": "code",
   "execution_count": 65,
   "outputs": [
    {
     "data": {
      "text/plain": "(200, 9)"
     },
     "execution_count": 65,
     "metadata": {},
     "output_type": "execute_result"
    }
   ],
   "source": [
    "polynomial_converter.transform(X).shape"
   ],
   "metadata": {
    "collapsed": false,
    "pycharm": {
     "name": "#%%\n"
    }
   }
  },
  {
   "cell_type": "code",
   "execution_count": 66,
   "outputs": [],
   "source": [
    "polynomial_feature =polynomial_converter.transform(X)"
   ],
   "metadata": {
    "collapsed": false,
    "pycharm": {
     "name": "#%%\n"
    }
   }
  },
  {
   "cell_type": "code",
   "execution_count": 67,
   "outputs": [
    {
     "data": {
      "text/plain": "(200, 3)"
     },
     "execution_count": 67,
     "metadata": {},
     "output_type": "execute_result"
    }
   ],
   "source": [
    "X.shape"
   ],
   "metadata": {
    "collapsed": false,
    "pycharm": {
     "name": "#%%\n"
    }
   }
  },
  {
   "cell_type": "markdown",
   "source": [
    "The transform of X include 9 columns, while the X only include 3 columns"
   ],
   "metadata": {
    "collapsed": false
   }
  },
  {
   "cell_type": "code",
   "execution_count": 68,
   "outputs": [
    {
     "data": {
      "text/plain": "TV           230.1\nradio         37.8\nnewspaper     69.2\nName: 0, dtype: float64"
     },
     "execution_count": 68,
     "metadata": {},
     "output_type": "execute_result"
    }
   ],
   "source": [
    "X.iloc[0]"
   ],
   "metadata": {
    "collapsed": false,
    "pycharm": {
     "name": "#%%\n"
    }
   }
  },
  {
   "cell_type": "markdown",
   "source": [
    "* The first three value of the polynomial_feature are the same as original X data\n",
    "* The next value is the square of TV - the first value(230.1 * 230.1)\n",
    "* The following 2 values is the interaction term between TV and other columns (230.1 * 37.8.2 = 8697.78, 230.1 * 69.2 = )\n",
    "* The following value is the square of radio  ($37.8^2$ = 1428)\n",
    "* The following value is the interaction term of radio and newspaper 15922.92, 37.8 * 69.2 = 2615\n",
    "* The following value is the square of newspaper ($69.2^2$ = 4788.6 )"
   ],
   "metadata": {
    "collapsed": false
   }
  },
  {
   "cell_type": "code",
   "execution_count": 69,
   "outputs": [
    {
     "data": {
      "text/plain": "array([2.301000e+02, 3.780000e+01, 6.920000e+01, 5.294601e+04,\n       8.697780e+03, 1.592292e+04, 1.428840e+03, 2.615760e+03,\n       4.788640e+03])"
     },
     "execution_count": 69,
     "metadata": {},
     "output_type": "execute_result"
    }
   ],
   "source": [
    "polynomial_feature[0]"
   ],
   "metadata": {
    "collapsed": false,
    "pycharm": {
     "name": "#%%\n"
    }
   }
  },
  {
   "cell_type": "markdown",
   "source": [
    "* The fit and transform method are really popular in the reality\n",
    "=> The combination method that satisfy both fit and transform is `fit_transform`"
   ],
   "metadata": {
    "collapsed": false
   }
  },
  {
   "cell_type": "code",
   "execution_count": 70,
   "outputs": [
    {
     "data": {
      "text/plain": "array([[ 230.1 ,   37.8 ,   69.2 , ..., 1428.84, 2615.76, 4788.64],\n       [  44.5 ,   39.3 ,   45.1 , ..., 1544.49, 1772.43, 2034.01],\n       [  17.2 ,   45.9 ,   69.3 , ..., 2106.81, 3180.87, 4802.49],\n       ...,\n       [ 177.  ,    9.3 ,    6.4 , ...,   86.49,   59.52,   40.96],\n       [ 283.6 ,   42.  ,   66.2 , ..., 1764.  , 2780.4 , 4382.44],\n       [ 232.1 ,    8.6 ,    8.7 , ...,   73.96,   74.82,   75.69]])"
     },
     "execution_count": 70,
     "metadata": {},
     "output_type": "execute_result"
    }
   ],
   "source": [
    "polynomial_converter.fit_transform(X)"
   ],
   "metadata": {
    "collapsed": false,
    "pycharm": {
     "name": "#%%\n"
    }
   }
  },
  {
   "cell_type": "markdown",
   "source": [
    "# Training and Evaluation model\n",
    "* We also need to save the polynomial regression, not just model because the campaign only has 3 features why the model require 9 features"
   ],
   "metadata": {
    "collapsed": false
   }
  },
  {
   "cell_type": "markdown",
   "source": [
    "#### Perfrom the train test split"
   ],
   "metadata": {
    "collapsed": false
   }
  },
  {
   "cell_type": "code",
   "execution_count": 71,
   "outputs": [],
   "source": [
    "from sklearn.model_selection import  train_test_split"
   ],
   "metadata": {
    "collapsed": false,
    "pycharm": {
     "name": "#%%\n"
    }
   }
  },
  {
   "cell_type": "markdown",
   "source": [
    "* We will use the `polymial_converter` rather than the X because we will deal with 9 features"
   ],
   "metadata": {
    "collapsed": false
   }
  },
  {
   "cell_type": "markdown",
   "source": [
    "* Using the same `test_size` and `random_state` to compare with the linear regression"
   ],
   "metadata": {
    "collapsed": false
   }
  },
  {
   "cell_type": "code",
   "execution_count": 72,
   "outputs": [],
   "source": [
    "X_train, X_test, y_train, y_test = train_test_split(polynomial_feature, y, test_size=0.3, random_state=101)"
   ],
   "metadata": {
    "collapsed": false,
    "pycharm": {
     "name": "#%%\n"
    }
   }
  },
  {
   "cell_type": "code",
   "execution_count": 73,
   "outputs": [],
   "source": [
    "from  sklearn.linear_model import LinearRegression"
   ],
   "metadata": {
    "collapsed": false,
    "pycharm": {
     "name": "#%%\n"
    }
   }
  },
  {
   "cell_type": "code",
   "execution_count": 74,
   "outputs": [],
   "source": [
    "model = LinearRegression()"
   ],
   "metadata": {
    "collapsed": false,
    "pycharm": {
     "name": "#%%\n"
    }
   }
  },
  {
   "cell_type": "markdown",
   "source": [
    "* Select the train data"
   ],
   "metadata": {
    "collapsed": false
   }
  },
  {
   "cell_type": "code",
   "execution_count": 75,
   "outputs": [
    {
     "data": {
      "text/plain": "LinearRegression()"
     },
     "execution_count": 75,
     "metadata": {},
     "output_type": "execute_result"
    }
   ],
   "source": [
    "model.fit(X_train, y_train)"
   ],
   "metadata": {
    "collapsed": false,
    "pycharm": {
     "name": "#%%\n"
    }
   }
  },
  {
   "cell_type": "markdown",
   "source": [
    "* Test prediction for the X_test"
   ],
   "metadata": {
    "collapsed": false
   }
  },
  {
   "cell_type": "markdown",
   "source": [
    "* It includes 9 beta coefficients"
   ],
   "metadata": {
    "collapsed": false
   }
  },
  {
   "cell_type": "code",
   "execution_count": 76,
   "outputs": [
    {
     "data": {
      "text/plain": "array([ 5.17095811e-02,  1.30848864e-02,  1.20000085e-02, -1.10892474e-04,\n        1.14212673e-03, -5.24100082e-05,  3.34919737e-05,  1.46380310e-04,\n       -3.04715806e-05])"
     },
     "execution_count": 76,
     "metadata": {},
     "output_type": "execute_result"
    }
   ],
   "source": [
    "model.coef_"
   ],
   "metadata": {
    "collapsed": false,
    "pycharm": {
     "name": "#%%\n"
    }
   }
  },
  {
   "cell_type": "code",
   "execution_count": 77,
   "outputs": [],
   "source": [
    "test_prediction = model.predict(X_test)"
   ],
   "metadata": {
    "collapsed": false,
    "pycharm": {
     "name": "#%%\n"
    }
   }
  },
  {
   "cell_type": "code",
   "execution_count": 78,
   "outputs": [],
   "source": [
    "from sklearn.metrics import mean_squared_error, mean_absolute_error"
   ],
   "metadata": {
    "collapsed": false,
    "pycharm": {
     "name": "#%%\n"
    }
   }
  },
  {
   "cell_type": "code",
   "execution_count": 79,
   "outputs": [],
   "source": [
    "MAE = mean_absolute_error(y_test, test_prediction)"
   ],
   "metadata": {
    "collapsed": false,
    "pycharm": {
     "name": "#%%\n"
    }
   }
  },
  {
   "cell_type": "code",
   "execution_count": 80,
   "outputs": [],
   "source": [
    "MSE = mean_squared_error(y_test, test_prediction)"
   ],
   "metadata": {
    "collapsed": false,
    "pycharm": {
     "name": "#%%\n"
    }
   }
  },
  {
   "cell_type": "code",
   "execution_count": 81,
   "outputs": [],
   "source": [
    "RMSE = np.sqrt(MSE)"
   ],
   "metadata": {
    "collapsed": false,
    "pycharm": {
     "name": "#%%\n"
    }
   }
  },
  {
   "cell_type": "markdown",
   "source": [
    "* Those values are more good than the Linear Regression ( Remember to test the same test size, random_state with the Linear Regresison)\n",
    "    * Linear Regression\n",
    "        * MAE: 1.213\n",
    "        * RMSE: 1.516\n",
    "    * Polynomial Regression\n",
    "        * MAE: 0.4896\n",
    "        * RMSE: 0.6646"
   ],
   "metadata": {
    "collapsed": false
   }
  },
  {
   "cell_type": "code",
   "execution_count": 82,
   "outputs": [
    {
     "data": {
      "text/plain": "0.48967980448035886"
     },
     "execution_count": 82,
     "metadata": {},
     "output_type": "execute_result"
    }
   ],
   "source": [
    "MAE"
   ],
   "metadata": {
    "collapsed": false,
    "pycharm": {
     "name": "#%%\n"
    }
   }
  },
  {
   "cell_type": "code",
   "execution_count": 83,
   "outputs": [
    {
     "data": {
      "text/plain": "0.6646431757269"
     },
     "execution_count": 83,
     "metadata": {},
     "output_type": "execute_result"
    }
   ],
   "source": [
    "RMSE"
   ],
   "metadata": {
    "collapsed": false,
    "pycharm": {
     "name": "#%%\n"
    }
   }
  },
  {
   "cell_type": "markdown",
   "source": [
    "* coef_ of the polynomial regression\n",
    "* Need to base on `polynomial_features` to see what coefficient belongs to what type of data (original features, interation term feature or square feature)"
   ],
   "metadata": {
    "collapsed": false
   }
  },
  {
   "cell_type": "code",
   "execution_count": 84,
   "outputs": [
    {
     "data": {
      "text/plain": "array([ 5.17095811e-02,  1.30848864e-02,  1.20000085e-02, -1.10892474e-04,\n        1.14212673e-03, -5.24100082e-05,  3.34919737e-05,  1.46380310e-04,\n       -3.04715806e-05])"
     },
     "execution_count": 84,
     "metadata": {},
     "output_type": "execute_result"
    }
   ],
   "source": [
    "model.coef_"
   ],
   "metadata": {
    "collapsed": false,
    "pycharm": {
     "name": "#%%\n"
    }
   }
  },
  {
   "cell_type": "code",
   "execution_count": 85,
   "outputs": [
    {
     "data": {
      "text/plain": "array([2.301000e+02, 3.780000e+01, 6.920000e+01, 5.294601e+04,\n       8.697780e+03, 1.592292e+04, 1.428840e+03, 2.615760e+03,\n       4.788640e+03])"
     },
     "execution_count": 85,
     "metadata": {},
     "output_type": "execute_result"
    }
   ],
   "source": [
    "polynomial_feature[0]"
   ],
   "metadata": {
    "collapsed": false,
    "pycharm": {
     "name": "#%%\n"
    }
   }
  },
  {
   "cell_type": "code",
   "execution_count": 86,
   "outputs": [
    {
     "data": {
      "text/plain": "TV           230.1\nradio         37.8\nnewspaper     69.2\nName: 0, dtype: float64"
     },
     "execution_count": 86,
     "metadata": {},
     "output_type": "execute_result"
    }
   ],
   "source": [
    "X.iloc[0]"
   ],
   "metadata": {
    "collapsed": false,
    "pycharm": {
     "name": "#%%\n"
    }
   }
  },
  {
   "cell_type": "markdown",
   "source": [
    "#### Bias-Variance Trade Off (Overfitting versus Underfitting)\n",
    "* **Very important topic**"
   ],
   "metadata": {
    "collapsed": false
   }
  },
  {
   "cell_type": "markdown",
   "source": [
    "* We have seen that a higher order polynomial model performs significantly better than a standard linear regression model\n",
    "* But how can we choose the optimal degree for the polynomial?\n",
    "* What the trade-offs are we to consider as we increase model complexity\n",
    "* In general, increasing model complexity in search for better performance leads to a **Bias-Variance trade-off**\n",
    "* We want to have a model that can generalize well to new unseen data, but can also accout for variance and patterns in the known data\n",
    "* Extreme bias or extreme variance both lead to bad models\n",
    "* We can visualize this effect by considering a model that underfits (high bias) or a model that overfits (high variance)\n",
    "* Let's start with a model that overfits to a dataset...\n"
   ],
   "metadata": {
    "collapsed": false
   }
  },
  {
   "cell_type": "markdown",
   "source": [
    "* **Overfitting**\n",
    "    * Variance indicates how much the estimates of the target function will alter if different training data were used. In other words, variance describes how much a random variable differs from its expected value\n",
    "    * The model fits too much to the **noise** from the data\n",
    "    * This often results in **low error on training sets but high error on test/validation sets**\n",
    "    * Sometime, the overfitting can be little hard to catch because you may think your model's performance well in training data set but not in test set data\n",
    "    * Consider the following overfitting data\n",
    "        * <img src=\"https://www.datarobot.com/wp-content/uploads/2018/03/Screen-Shot-2018-03-22-at-11.22.15-AM-e1527613915658.png\">\n",
    "        * What is the error on the training data here?\n",
    "        * You notice that the model is hitting every single point => when calculate the MAE and MSE, RMSE => get training error of zero => mislead you in the fitting model\n",
    "        * But what about on a new unseen data point?\n",
    "        * Overfitting can cause large test errors!\n",
    "        * <img src=\"https://encrypted-tbn0.gstatic.com/images?q=tbn:ANd9GcTytHm2HONNTAxGx2fTHtltREciUCmctWYru6gYA6waapzZVjCOdBhdSObclLyp3c0AkAo&usqp=CAU\">\n",
    "    * Model is fitting too much to noise and variance in the training data\n",
    "    * Model will perform very well on training data, but have poor performance on new unseen data.\n"
   ],
   "metadata": {
    "collapsed": false
   }
  },
  {
   "cell_type": "markdown",
   "source": [
    "* **Underfitting**\n",
    "    * Model does not capture the underlying trend of the data and does not fit the data well enough.\n",
    "    * **Low variance but high bias.**\n",
    "    * underfitting is often a result of an excessively simple model\n",
    "    * Model has high bias and is generalizing too much\n",
    "    * Underfitting can lead to poor performance in both traning and testing data sets\n",
    "    * Bias **describes how well a model matches the training set**.  Bias is the amount that a model’s prediction differs from the target value, compared to the training data.\n",
    "    * <img src=\"https://docs.aws.amazon.com/machine-learning/latest/dg/images/mlconcepts_image5.png\">"
   ],
   "metadata": {
    "collapsed": false
   }
  },
  {
   "cell_type": "markdown",
   "source": [
    "* **Overfitting and Underfitting**\n",
    "    * This data was easy to visualize (only has one X feature), but how can we see underfitting and overfitting when dealing with multidimensional data sets?\n",
    "    * First let's imagine we trained a model and then measured its **error versus model complexity** (e.g. higher order polynomials)\n",
    "    * **model complexity** is a general term that is going to apply more than just polynomial\n",
    "    *  model complexity often refers to the number of features or terms included in a given predictive model, as well as whether the chosen model is linear, nonlinear, and so on. It can also refer to the algorithmic learning complexity or computational complexity\n",
    "    * model complex => that mean it's a higher order polynomial\n",
    "    * Good model\n",
    "        * Increase the model comlexity => lower the errors\n",
    "        * In the polynomial case => increase the polynomial degree => lower the error\n",
    "        * <img src=\"https://media.springernature.com/original/springer-static/image/chp%3A10.1007%2F978-3-030-47439-3_7/MediaObjects/492262_1_En_7_Fig2_HTML.png\">\n",
    "    * Bad model\n",
    "        * Increase the error => increase the model complexity\n",
    "    * When thinking about **overfitting and underfitting** we want to keep in mind the relationship of model performance on the training set versus the test/validation set\n",
    "    * Let's imagine we split our data into **training set** and **test set**\n",
    "        * Try to decide what complexity of model is most appropriate, what polynomial degree should I choose?\n",
    "        * We first see performance on the training set\n",
    "            * Increase the model comlexity => lower the errors. Eventually, you are increasing your moral complexity so that your model is capturing every single piece of noise and variance in your training data set\n",
    "        * Now, we can't use this by itself to choose the correct moral complexity\n",
    "        * Next we check performance on the test set (if overfit too much on the training test => we would eventually perform poorly on the test set)\n",
    "        * Ideally the model would perform well on both, with similar behavior\n",
    "        * But what happpens if we overfit on the training data? that means we would perform poorly on new test data!\n",
    "        * This is good indication too much complexity, you should look for the point to determine appropriate values!\n",
    "        * For certain algrithms this test error jump can be sudden isntead of gradual\n",
    "        * This means when deciding optimal model complexity **and** wanting to fairly evaluate our model's performance, we can consider both the train error and test error to select an ideal complexity\n",
    "        * In the case of Polynomial Regression, complexity directly relates to degree of the polynomial, but many machine learning algoithms have their own hyperparameters that can increase complexity\n",
    "        * <img src=\"https://i.stack.imgur.com/rpqa6.jpg\">"
   ],
   "metadata": {
    "collapsed": false
   }
  },
  {
   "cell_type": "markdown",
   "source": [
    "# Adjusting model parameters\n",
    "* Let's explore choosing the optimal model complexity (order of polynomial)\n",
    "* As we previously discussed, we will need to understand error for both training and test data to look out for potential overfitting"
   ],
   "metadata": {
    "collapsed": false
   }
  },
  {
   "cell_type": "markdown",
   "source": [
    "* Can we improve the performance by increasing the degree of the polynomial to an even higher number, like a third degree or even fourth degree polynomial\n",
    "* Well we can do is just simply create a **loop** that creates all those models for the various polynomial degree, train them, calculate the error metrics for both out training data and out test data\n",
    "* Then visually see where we begin to  (sudden large increase) on the test error and where we continue to decline on the training error"
   ],
   "metadata": {
    "collapsed": false
   }
  },
  {
   "cell_type": "markdown",
   "source": [
    "* The process of multiple degree of the polynomial:\n",
    "    * Create the different order poly\n",
    "    * Split poly feat train/test\n",
    "    * fit on train\n",
    "    * Store/save the RMSE for both the train AND test\n",
    "    * Plot the results (error and poly order)"
   ],
   "metadata": {
    "collapsed": false
   }
  },
  {
   "cell_type": "markdown",
   "source": [
    "* Create list to store the test and train set"
   ],
   "metadata": {
    "collapsed": false
   }
  },
  {
   "cell_type": "code",
   "execution_count": 87,
   "outputs": [],
   "source": [
    "train_rmse_errors = []\n",
    "test_rmse_errors = []"
   ],
   "metadata": {
    "collapsed": false,
    "pycharm": {
     "name": "#%%\n"
    }
   }
  },
  {
   "cell_type": "markdown",
   "source": [
    "* The larger the range you test, the more degrees you take into account"
   ],
   "metadata": {
    "collapsed": false
   }
  },
  {
   "cell_type": "code",
   "execution_count": 88,
   "outputs": [],
   "source": [
    "for d in range(1,10):\n",
    "    poly_converter = PolynomialFeatures(degree=d, include_bias=False) # convert it\n",
    "    poly_features = poly_converter.fit_transform(X) # fit and transform it\n",
    "    X_train, X_test, y_train, y_test = train_test_split(poly_features, y, test_size=0.3, random_state=101) # create train/test set for multiple degree\n",
    "    model = LinearRegression()\n",
    "    model.fit(X_train, y_train) # fit on train\n",
    "    # calculate both train prediction and test prediction to avoid the overfitting or underfitting\n",
    "    train_pred = model.predict(X_train)\n",
    "    test_pred = model.predict(X_test)\n",
    "    # calculate the train rmse and test rmse\n",
    "    train_rmse = np.sqrt(mean_squared_error(y_train, train_pred))\n",
    "    test_rmse = np.sqrt(mean_squared_error(y_test, test_pred))\n",
    "    train_rmse_errors.append(train_rmse)\n",
    "    test_rmse_errors.append(test_rmse)\n"
   ],
   "metadata": {
    "collapsed": false,
    "pycharm": {
     "name": "#%%\n"
    }
   }
  },
  {
   "cell_type": "markdown",
   "source": [
    "* You should don't overcome the spike point"
   ],
   "metadata": {
    "collapsed": false
   }
  },
  {
   "cell_type": "code",
   "execution_count": 89,
   "outputs": [
    {
     "data": {
      "text/plain": "[1.734594124329376,\n 0.5879574085292234,\n 0.43393443569020695,\n 0.3517083688399345,\n 0.25093429203443857,\n 0.19397956253436668,\n 5.421548536515169,\n 0.14281430849698556,\n 0.1719282016506676]"
     },
     "execution_count": 89,
     "metadata": {},
     "output_type": "execute_result"
    }
   ],
   "source": [
    "train_rmse_errors"
   ],
   "metadata": {
    "collapsed": false,
    "pycharm": {
     "name": "#%%\n"
    }
   }
  },
  {
   "cell_type": "markdown",
   "source": [
    "* As you can see that if you overcome the spike point and the rmse of train data still low => the test data show the different point of view."
   ],
   "metadata": {
    "collapsed": false
   }
  },
  {
   "cell_type": "code",
   "execution_count": 90,
   "outputs": [
    {
     "data": {
      "text/plain": "[1.5161519375993877,\n 0.6646431757269,\n 0.5803286825216851,\n 0.5077742636722449,\n 2.575818175027777,\n 4.318761965217181,\n 1379.5295413992226,\n 3910.2091466276274,\n 94237.7187453714]"
     },
     "execution_count": 90,
     "metadata": {},
     "output_type": "execute_result"
    }
   ],
   "source": [
    "test_rmse_errors"
   ],
   "metadata": {
    "collapsed": false,
    "pycharm": {
     "name": "#%%\n"
    }
   }
  },
  {
   "cell_type": "markdown",
   "source": [
    "* After increase the degree of polynomial, the train RMSE decrease\n",
    "* After increase the degree of polynomial, around 4 degree the test RMSE increase significantly"
   ],
   "metadata": {
    "collapsed": false
   }
  },
  {
   "cell_type": "code",
   "execution_count": 91,
   "outputs": [
    {
     "data": {
      "text/plain": "<matplotlib.legend.Legend at 0x27ced02b8e0>"
     },
     "execution_count": 91,
     "metadata": {},
     "output_type": "execute_result"
    },
    {
     "data": {
      "text/plain": "<Figure size 432x288 with 1 Axes>",
      "image/png": "[encoded data removed]"
     },
     "metadata": {},
     "output_type": "display_data"
    }
   ],
   "source": [
    "plt.plot(range(1,6), train_rmse_errors[:5], label=\"Train RMSE\") # train RMSE\n",
    "plt.plot(range(1,6), test_rmse_errors[:5], label=\"Test RMSE\") # test RMSE\n",
    "\n",
    "plt.ylabel(\"RMSE\")\n",
    "plt.xlabel(\"Degree of Poly\")\n",
    "plt.legend()"
   ],
   "metadata": {
    "collapsed": false,
    "pycharm": {
     "name": "#%%\n"
    }
   }
  },
  {
   "cell_type": "code",
   "execution_count": 92,
   "outputs": [
    {
     "data": {
      "text/plain": "<matplotlib.legend.Legend at 0x27ced0a4e80>"
     },
     "execution_count": 92,
     "metadata": {},
     "output_type": "execute_result"
    },
    {
     "data": {
      "text/plain": "<Figure size 432x288 with 1 Axes>",
      "image/png": "[encoded data removed]"
     },
     "metadata": {},
     "output_type": "display_data"
    }
   ],
   "source": [
    "plt.plot(range(1,10), train_rmse_errors, label=\"Train RMSE\") # train RMSE\n",
    "plt.plot(range(1,10), test_rmse_errors, label=\"Test RMSE\") # test RMSE\n",
    "\n",
    "plt.ylabel(\"RMSE\")\n",
    "plt.xlabel(\"Degree of Poly\")\n",
    "plt.legend()"
   ],
   "metadata": {
    "collapsed": false,
    "pycharm": {
     "name": "#%%\n"
    }
   }
  },
  {
   "cell_type": "markdown",
   "source": [
    "* We choose both good training set and test set\n",
    "* We should choose the value before the break down point (the point that spiking) to avoid the"
   ],
   "metadata": {
    "collapsed": false
   }
  },
  {
   "cell_type": "markdown",
   "source": [
    "# Model Deployment\n"
   ],
   "metadata": {
    "collapsed": false
   }
  },
  {
   "cell_type": "code",
   "execution_count": 93,
   "outputs": [],
   "source": [
    "final_poly_converter = PolynomialFeatures(degree=3, include_bias=False)"
   ],
   "metadata": {
    "collapsed": false,
    "pycharm": {
     "name": "#%%\n"
    }
   }
  },
  {
   "cell_type": "code",
   "execution_count": 94,
   "outputs": [],
   "source": [
    "final_model = LinearRegression()"
   ],
   "metadata": {
    "collapsed": false,
    "pycharm": {
     "name": "#%%\n"
    }
   }
  },
  {
   "cell_type": "markdown",
   "source": [],
   "metadata": {
    "collapsed": false
   }
  },
  {
   "cell_type": "code",
   "execution_count": 95,
   "outputs": [
    {
     "data": {
      "text/plain": "LinearRegression()"
     },
     "execution_count": 95,
     "metadata": {},
     "output_type": "execute_result"
    }
   ],
   "source": [
    "full_converter_X = final_poly_converter.fit_transform(X)\n",
    "final_model.fit(full_converter_X, y)"
   ],
   "metadata": {
    "collapsed": false,
    "pycharm": {
     "name": "#%%\n"
    }
   }
  },
  {
   "cell_type": "markdown",
   "source": [
    "* Save the model and converter"
   ],
   "metadata": {
    "collapsed": false
   }
  },
  {
   "cell_type": "code",
   "execution_count": 96,
   "outputs": [
    {
     "data": {
      "text/plain": "array([ 8.96744296e-02,  3.87306507e-02,  1.40116785e-02, -4.39852533e-04,\n        1.38525353e-03, -2.11551525e-04, -5.78622015e-04, -3.39038010e-04,\n        2.30693236e-04,  7.62775843e-07, -1.21636828e-06,  7.24494002e-07,\n        1.79932497e-06, -1.51021227e-06, -1.14841391e-07,  3.32749144e-06,\n        4.93904244e-06,  2.67349509e-06, -2.30514930e-06])"
     },
     "execution_count": 96,
     "metadata": {},
     "output_type": "execute_result"
    }
   ],
   "source": [
    "final_model.coef_"
   ],
   "metadata": {
    "collapsed": false,
    "pycharm": {
     "name": "#%%\n"
    }
   }
  },
  {
   "cell_type": "code",
   "execution_count": 97,
   "outputs": [],
   "source": [
    "from joblib import dump, load"
   ],
   "metadata": {
    "collapsed": false,
    "pycharm": {
     "name": "#%%\n"
    }
   }
  },
  {
   "cell_type": "code",
   "execution_count": 98,
   "outputs": [
    {
     "data": {
      "text/plain": "['final_poly_model.joblib']"
     },
     "execution_count": 98,
     "metadata": {},
     "output_type": "execute_result"
    }
   ],
   "source": [
    "dump(final_model, \"final_poly_model.joblib\")"
   ],
   "metadata": {
    "collapsed": false,
    "pycharm": {
     "name": "#%%\n"
    }
   }
  },
  {
   "cell_type": "code",
   "execution_count": 99,
   "outputs": [
    {
     "data": {
      "text/plain": "['final_poly_converter.joblib']"
     },
     "execution_count": 99,
     "metadata": {},
     "output_type": "execute_result"
    }
   ],
   "source": [
    "dump(final_poly_converter, \"final_poly_converter.joblib\")"
   ],
   "metadata": {
    "collapsed": false,
    "pycharm": {
     "name": "#%%\n"
    }
   }
  },
  {
   "cell_type": "code",
   "execution_count": 100,
   "outputs": [],
   "source": [
    "loaded_converter = load(\"final_poly_converter.joblib\")"
   ],
   "metadata": {
    "collapsed": false,
    "pycharm": {
     "name": "#%%\n"
    }
   }
  },
  {
   "cell_type": "code",
   "execution_count": 101,
   "outputs": [],
   "source": [
    "loaded_model = load(\"final_poly_model.joblib\")"
   ],
   "metadata": {
    "collapsed": false,
    "pycharm": {
     "name": "#%%\n"
    }
   }
  },
  {
   "cell_type": "code",
   "execution_count": 102,
   "outputs": [],
   "source": [
    "campaign = [[149, 22, 12]]"
   ],
   "metadata": {
    "collapsed": false,
    "pycharm": {
     "name": "#%%\n"
    }
   }
  },
  {
   "cell_type": "code",
   "execution_count": 103,
   "outputs": [],
   "source": [
    "transformed_data = loaded_converter.fit_transform(campaign)"
   ],
   "metadata": {
    "collapsed": false,
    "pycharm": {
     "name": "#%%\n"
    }
   }
  },
  {
   "cell_type": "code",
   "execution_count": 104,
   "outputs": [
    {
     "data": {
      "text/plain": "array([14.64501014])"
     },
     "execution_count": 104,
     "metadata": {},
     "output_type": "execute_result"
    }
   ],
   "source": [
    "loaded_model.predict(transformed_data)"
   ],
   "metadata": {
    "collapsed": false,
    "pycharm": {
     "name": "#%%\n"
    }
   }
  },
  {
   "cell_type": "code",
   "execution_count": 104,
   "outputs": [],
   "source": [],
   "metadata": {
    "collapsed": false,
    "pycharm": {
     "name": "#%%\n"
    }
   }
  }
 ],
 "metadata": {
  "kernelspec": {
   "display_name": "Python 3",
   "language": "python",
   "name": "python3"
  },
  "language_info": {
   "codemirror_mode": {
    "name": "ipython",
    "version": 2
   },
   "file_extension": ".py",
   "mimetype": "text/x-python",
   "name": "python",
   "nbconvert_exporter": "python",
   "pygments_lexer": "ipython2",
   "version": "2.7.6"
  }
 },
 "nbformat": 4,
 "nbformat_minor": 0
}