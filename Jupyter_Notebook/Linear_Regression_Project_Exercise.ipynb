{
 "cells": [
  {
   "cell_type": "markdown",
   "source": [
    "# Linear Regression Project Exercise\n",
    "Now that we have learned about feature engineering, cross validation, and grid search, let's test all your new skills with a project exercise in Machine Learning. This exercise will have a more guided approach, later on the ML projects will begin to be more open-ended. We'll start off with using the final version of the Ames Housing dataset we worked on through the feature engineering section of the course. Your goal will be to create a Linear Regression Model, train it on the data with the optimal parameters using a grid search, and then evaluate the model's capabilities on a test set."
   ],
   "metadata": {
    "collapsed": false
   }
  },
  {
   "cell_type": "markdown",
   "source": [
    "---\n",
    "---\n",
    "---\n",
    "## Complete the tasks in bold\n",
    "\n",
    "**TASK: Run the cells under the Imports and Data section to make sure you have imported the correct general libraries as well as the correct datasets. Later on you may need to run further imports from scikit-learn.**\n",
    "\n",
    "---\n",
    "### Imports"
   ],
   "metadata": {
    "collapsed": false
   }
  },
  {
   "cell_type": "code",
   "execution_count": 477,
   "metadata": {
    "collapsed": true
   },
   "outputs": [],
   "source": [
    "import pandas as pd\n",
    "import numpy as np\n",
    "import seaborn as sns\n",
    "import matplotlib as mpl\n",
    "import matplotlib.pyplot as plt"
   ]
  },
  {
   "cell_type": "markdown",
   "source": [
    "---\n",
    "### Background"
   ],
   "metadata": {
    "collapsed": false
   }
  },
  {
   "cell_type": "code",
   "execution_count": 478,
   "outputs": [],
   "source": [
    "mpl.rcParams.update({\"figure.facecolor\" : \"white\",\n",
    "                     \"figure.figsize\": [16,11]})"
   ],
   "metadata": {
    "collapsed": false,
    "pycharm": {
     "name": "#%%\n"
    }
   }
  },
  {
   "cell_type": "markdown",
   "source": [
    "---\n",
    "### Project Data"
   ],
   "metadata": {
    "collapsed": false
   }
  },
  {
   "cell_type": "code",
   "execution_count": 479,
   "outputs": [],
   "source": [
    "df = pd.read_csv(r\"..\\Course-2021\\DATA\\AMES_Final_DF.csv\")"
   ],
   "metadata": {
    "collapsed": false,
    "pycharm": {
     "name": "#%%\n"
    }
   }
  },
  {
   "cell_type": "code",
   "execution_count": 480,
   "outputs": [
    {
     "data": {
      "text/plain": "   Lot Frontage  Lot Area  Overall Qual  Overall Cond  Year Built  \\\n0         141.0     31770             6             5        1960   \n1          80.0     11622             5             6        1961   \n2          81.0     14267             6             6        1958   \n3          93.0     11160             7             5        1968   \n4          74.0     13830             5             5        1997   \n\n   Year Remod/Add  Mas Vnr Area  BsmtFin SF 1  BsmtFin SF 2  Bsmt Unf SF  ...  \\\n0            1960         112.0         639.0           0.0        441.0  ...   \n1            1961           0.0         468.0         144.0        270.0  ...   \n2            1958         108.0         923.0           0.0        406.0  ...   \n3            1968           0.0        1065.0           0.0       1045.0  ...   \n4            1998           0.0         791.0           0.0        137.0  ...   \n\n   Sale Type_ConLw  Sale Type_New  Sale Type_Oth  Sale Type_VWD  \\\n0                0              0              0              0   \n1                0              0              0              0   \n2                0              0              0              0   \n3                0              0              0              0   \n4                0              0              0              0   \n\n   Sale Type_WD   Sale Condition_AdjLand  Sale Condition_Alloca  \\\n0              1                       0                      0   \n1              1                       0                      0   \n2              1                       0                      0   \n3              1                       0                      0   \n4              1                       0                      0   \n\n   Sale Condition_Family  Sale Condition_Normal  Sale Condition_Partial  \n0                      0                      1                       0  \n1                      0                      1                       0  \n2                      0                      1                       0  \n3                      0                      1                       0  \n4                      0                      1                       0  \n\n[5 rows x 274 columns]",
      "text/html": "<div>\n<style scoped>\n    .dataframe tbody tr th:only-of-type {\n        vertical-align: middle;\n    }\n\n    .dataframe tbody tr th {\n        vertical-align: top;\n    }\n\n    .dataframe thead th {\n        text-align: right;\n    }\n</style>\n<table border=\"1\" class=\"dataframe\">\n  <thead>\n    <tr style=\"text-align: right;\">\n      <th></th>\n      <th>Lot Frontage</th>\n      <th>Lot Area</th>\n      <th>Overall Qual</th>\n      <th>Overall Cond</th>\n      <th>Year Built</th>\n      <th>Year Remod/Add</th>\n      <th>Mas Vnr Area</th>\n      <th>BsmtFin SF 1</th>\n      <th>BsmtFin SF 2</th>\n      <th>Bsmt Unf SF</th>\n      <th>...</th>\n      <th>Sale Type_ConLw</th>\n      <th>Sale Type_New</th>\n      <th>Sale Type_Oth</th>\n      <th>Sale Type_VWD</th>\n      <th>Sale Type_WD</th>\n      <th>Sale Condition_AdjLand</th>\n      <th>Sale Condition_Alloca</th>\n      <th>Sale Condition_Family</th>\n      <th>Sale Condition_Normal</th>\n      <th>Sale Condition_Partial</th>\n    </tr>\n  </thead>\n  <tbody>\n    <tr>\n      <th>0</th>\n      <td>141.0</td>\n      <td>31770</td>\n      <td>6</td>\n      <td>5</td>\n      <td>1960</td>\n      <td>1960</td>\n      <td>112.0</td>\n      <td>639.0</td>\n      <td>0.0</td>\n      <td>441.0</td>\n      <td>...</td>\n      <td>0</td>\n      <td>0</td>\n      <td>0</td>\n      <td>0</td>\n      <td>1</td>\n      <td>0</td>\n      <td>0</td>\n      <td>0</td>\n      <td>1</td>\n      <td>0</td>\n    </tr>\n    <tr>\n      <th>1</th>\n      <td>80.0</td>\n      <td>11622</td>\n      <td>5</td>\n      <td>6</td>\n      <td>1961</td>\n      <td>1961</td>\n      <td>0.0</td>\n      <td>468.0</td>\n      <td>144.0</td>\n      <td>270.0</td>\n      <td>...</td>\n      <td>0</td>\n      <td>0</td>\n      <td>0</td>\n      <td>0</td>\n      <td>1</td>\n      <td>0</td>\n      <td>0</td>\n      <td>0</td>\n      <td>1</td>\n      <td>0</td>\n    </tr>\n    <tr>\n      <th>2</th>\n      <td>81.0</td>\n      <td>14267</td>\n      <td>6</td>\n      <td>6</td>\n      <td>1958</td>\n      <td>1958</td>\n      <td>108.0</td>\n      <td>923.0</td>\n      <td>0.0</td>\n      <td>406.0</td>\n      <td>...</td>\n      <td>0</td>\n      <td>0</td>\n      <td>0</td>\n      <td>0</td>\n      <td>1</td>\n      <td>0</td>\n      <td>0</td>\n      <td>0</td>\n      <td>1</td>\n      <td>0</td>\n    </tr>\n    <tr>\n      <th>3</th>\n      <td>93.0</td>\n      <td>11160</td>\n      <td>7</td>\n      <td>5</td>\n      <td>1968</td>\n      <td>1968</td>\n      <td>0.0</td>\n      <td>1065.0</td>\n      <td>0.0</td>\n      <td>1045.0</td>\n      <td>...</td>\n      <td>0</td>\n      <td>0</td>\n      <td>0</td>\n      <td>0</td>\n      <td>1</td>\n      <td>0</td>\n      <td>0</td>\n      <td>0</td>\n      <td>1</td>\n      <td>0</td>\n    </tr>\n    <tr>\n      <th>4</th>\n      <td>74.0</td>\n      <td>13830</td>\n      <td>5</td>\n      <td>5</td>\n      <td>1997</td>\n      <td>1998</td>\n      <td>0.0</td>\n      <td>791.0</td>\n      <td>0.0</td>\n      <td>137.0</td>\n      <td>...</td>\n      <td>0</td>\n      <td>0</td>\n      <td>0</td>\n      <td>0</td>\n      <td>1</td>\n      <td>0</td>\n      <td>0</td>\n      <td>0</td>\n      <td>1</td>\n      <td>0</td>\n    </tr>\n  </tbody>\n</table>\n<p>5 rows × 274 columns</p>\n</div>"
     },
     "execution_count": 480,
     "metadata": {},
     "output_type": "execute_result"
    }
   ],
   "source": [
    "df.head()"
   ],
   "metadata": {
    "collapsed": false,
    "pycharm": {
     "name": "#%%\n"
    }
   }
  },
  {
   "cell_type": "code",
   "execution_count": 481,
   "outputs": [
    {
     "name": "stdout",
     "output_type": "stream",
     "text": [
      "<class 'pandas.core.frame.DataFrame'>\n",
      "RangeIndex: 2925 entries, 0 to 2924\n",
      "Columns: 274 entries, Lot Frontage to Sale Condition_Partial\n",
      "dtypes: float64(11), int64(263)\n",
      "memory usage: 6.1 MB\n"
     ]
    }
   ],
   "source": [
    "df.info()"
   ],
   "metadata": {
    "collapsed": false,
    "pycharm": {
     "name": "#%%\n"
    }
   }
  },
  {
   "cell_type": "markdown",
   "source": [
    "**TASK: The label we are trying to predict is the SalePrice column. Separate out the data into X features and y labels**"
   ],
   "metadata": {
    "collapsed": false
   }
  },
  {
   "cell_type": "code",
   "execution_count": 482,
   "outputs": [],
   "source": [
    "X = df.drop(labels=\"SalePrice\", axis=1)"
   ],
   "metadata": {
    "collapsed": false,
    "pycharm": {
     "name": "#%%\n"
    }
   }
  },
  {
   "cell_type": "code",
   "execution_count": 483,
   "outputs": [],
   "source": [
    "y = df[\"SalePrice\"]"
   ],
   "metadata": {
    "collapsed": false,
    "pycharm": {
     "name": "#%%\n"
    }
   }
  },
  {
   "cell_type": "markdown",
   "source": [
    "**TASK: Use scikit-learn to split up X and y into a training set and test set. Since we will later be using a Grid Search strategy, set your test proportion to 10%. To get the same data split as the solutions notebook, you can specify random_state = 101**"
   ],
   "metadata": {
    "collapsed": false
   }
  },
  {
   "cell_type": "code",
   "execution_count": 484,
   "outputs": [],
   "source": [
    "from sklearn.model_selection import train_test_split"
   ],
   "metadata": {
    "collapsed": false,
    "pycharm": {
     "name": "#%%\n"
    }
   }
  },
  {
   "cell_type": "code",
   "execution_count": 485,
   "outputs": [],
   "source": [
    "X_train, X_test, y_train, y_test = train_test_split(X, y, test_size=0.1, random_state=101)"
   ],
   "metadata": {
    "collapsed": false,
    "pycharm": {
     "name": "#%%\n"
    }
   }
  },
  {
   "cell_type": "markdown",
   "source": [
    "**TASK: The dataset features has a variety of scales and units. For optimal regression performance, scale the X features. Take carefuly note of what to use for .fit() vs what to use for .transform()**"
   ],
   "metadata": {
    "collapsed": false
   }
  },
  {
   "cell_type": "code",
   "execution_count": 486,
   "outputs": [],
   "source": [
    "from sklearn.preprocessing import StandardScaler"
   ],
   "metadata": {
    "collapsed": false,
    "pycharm": {
     "name": "#%%\n"
    }
   }
  },
  {
   "cell_type": "code",
   "execution_count": 487,
   "outputs": [],
   "source": [
    "scaler = StandardScaler()"
   ],
   "metadata": {
    "collapsed": false,
    "pycharm": {
     "name": "#%%\n"
    }
   }
  },
  {
   "cell_type": "code",
   "execution_count": 488,
   "outputs": [
    {
     "data": {
      "text/plain": "StandardScaler()"
     },
     "execution_count": 488,
     "metadata": {},
     "output_type": "execute_result"
    }
   ],
   "source": [
    "scaler.fit(X_train)"
   ],
   "metadata": {
    "collapsed": false,
    "pycharm": {
     "name": "#%%\n"
    }
   }
  },
  {
   "cell_type": "code",
   "execution_count": 489,
   "outputs": [],
   "source": [
    "X_train = scaler.transform(X_train)"
   ],
   "metadata": {
    "collapsed": false,
    "pycharm": {
     "name": "#%%\n"
    }
   }
  },
  {
   "cell_type": "code",
   "execution_count": 490,
   "outputs": [],
   "source": [
    "X_test = scaler.transform(X_test)"
   ],
   "metadata": {
    "collapsed": false,
    "pycharm": {
     "name": "#%%\n"
    }
   }
  },
  {
   "cell_type": "markdown",
   "source": [
    "**TASK: We will use an Elastic Net model. Create an instance of default ElasticNet model with scikit-learn**"
   ],
   "metadata": {
    "collapsed": false
   }
  },
  {
   "cell_type": "code",
   "execution_count": 491,
   "outputs": [],
   "source": [
    "from sklearn.linear_model import ElasticNet"
   ],
   "metadata": {
    "collapsed": false,
    "pycharm": {
     "name": "#%%\n"
    }
   }
  },
  {
   "cell_type": "code",
   "execution_count": 492,
   "outputs": [],
   "source": [
    "model_elastic = ElasticNet(tol=1e-4)"
   ],
   "metadata": {
    "collapsed": false,
    "pycharm": {
     "name": "#%%\n"
    }
   }
  },
  {
   "cell_type": "markdown",
   "source": [
    "**TASK:  The Elastic Net model has two main parameters, alpha and the L1 ratio. Create a dictionary parameter grid of values for the ElasticNet. Feel free to play around with these values, keep in mind, you may not match up exactly with the solution choices**"
   ],
   "metadata": {
    "collapsed": false
   }
  },
  {
   "cell_type": "code",
   "execution_count": 493,
   "outputs": [],
   "source": [
    "para_grids = {\"alpha\": [0.1, 1, 5, 10, 50, 100],\n",
    "              \"l1_ratio\": [.1, .5, .7, .95, .99, 1]}"
   ],
   "metadata": {
    "collapsed": false,
    "pycharm": {
     "name": "#%%\n"
    }
   }
  },
  {
   "cell_type": "markdown",
   "source": [
    "**TASK: Using scikit-learn create a GridSearchCV object and run a grid search for the best parameters for your model based on your scaled training data. [In case you are curious about the warnings you may recieve for certain parameter combinations](https://stackoverflow.com/questions/20681864/lasso-on-sklearn-does-not-converge)**"
   ],
   "metadata": {
    "collapsed": false
   }
  },
  {
   "cell_type": "code",
   "execution_count": 494,
   "outputs": [],
   "source": [
    "from sklearn.model_selection import GridSearchCV"
   ],
   "metadata": {
    "collapsed": false,
    "pycharm": {
     "name": "#%%\n"
    }
   }
  },
  {
   "cell_type": "code",
   "execution_count": 495,
   "outputs": [],
   "source": [
    "grid_model = GridSearchCV(estimator=model_elastic, param_grid=para_grids, cv=5, scoring=\"neg_mean_squared_error\", verbose=2)"
   ],
   "metadata": {
    "collapsed": false,
    "pycharm": {
     "name": "#%%\n"
    }
   }
  },
  {
   "cell_type": "markdown",
   "source": [],
   "metadata": {
    "collapsed": false
   }
  },
  {
   "cell_type": "code",
   "execution_count": 496,
   "outputs": [
    {
     "data": {
      "text/plain": "GridSearchCV(cv=5, estimator=ElasticNet(),\n             param_grid={'alpha': [0.1, 1, 5, 10, 50, 100],\n                         'l1_ratio': [0.1, 0.5, 0.7, 0.95, 0.99, 1]},\n             scoring='neg_mean_squared_error', verbose=2)"
     },
     "execution_count": 496,
     "metadata": {},
     "output_type": "execute_result"
    }
   ],
   "source": [
    "grid_model"
   ],
   "metadata": {
    "collapsed": false,
    "pycharm": {
     "name": "#%%\n"
    }
   }
  },
  {
   "cell_type": "code",
   "execution_count": 497,
   "outputs": [
    {
     "name": "stdout",
     "output_type": "stream",
     "text": [
      "Fitting 5 folds for each of 36 candidates, totalling 180 fits\n",
      "[CV] END ............................alpha=0.1, l1_ratio=0.1; total time=   0.0s\n",
      "[CV] END ............................alpha=0.1, l1_ratio=0.1; total time=   0.0s\n",
      "[CV] END ............................alpha=0.1, l1_ratio=0.1; total time=   0.0s\n",
      "[CV] END ............................alpha=0.1, l1_ratio=0.1; total time=   0.0s\n",
      "[CV] END ............................alpha=0.1, l1_ratio=0.1; total time=   0.0s\n",
      "[CV] END ............................alpha=0.1, l1_ratio=0.5; total time=   0.0s\n",
      "[CV] END ............................alpha=0.1, l1_ratio=0.5; total time=   0.0s\n",
      "[CV] END ............................alpha=0.1, l1_ratio=0.5; total time=   0.0s\n",
      "[CV] END ............................alpha=0.1, l1_ratio=0.5; total time=   0.0s\n",
      "[CV] END ............................alpha=0.1, l1_ratio=0.5; total time=   0.0s\n",
      "[CV] END ............................alpha=0.1, l1_ratio=0.7; total time=   0.0s\n",
      "[CV] END ............................alpha=0.1, l1_ratio=0.7; total time=   0.1s\n",
      "[CV] END ............................alpha=0.1, l1_ratio=0.7; total time=   0.1s\n",
      "[CV] END ............................alpha=0.1, l1_ratio=0.7; total time=   0.1s\n",
      "[CV] END ............................alpha=0.1, l1_ratio=0.7; total time=   0.0s\n"
     ]
    },
    {
     "name": "stderr",
     "output_type": "stream",
     "text": [
      "c:\\users\\admin\\appdata\\local\\programs\\python\\python39\\lib\\site-packages\\sklearn\\linear_model\\_coordinate_descent.py:647: ConvergenceWarning: Objective did not converge. You might want to increase the number of iterations, check the scale of the features or consider increasing regularisation. Duality gap: 3.235e+11, tolerance: 1.355e+09\n",
      "  model = cd_fast.enet_coordinate_descent(\n"
     ]
    },
    {
     "name": "stdout",
     "output_type": "stream",
     "text": [
      "[CV] END ...........................alpha=0.1, l1_ratio=0.95; total time=   0.1s\n"
     ]
    },
    {
     "name": "stderr",
     "output_type": "stream",
     "text": [
      "c:\\users\\admin\\appdata\\local\\programs\\python\\python39\\lib\\site-packages\\sklearn\\linear_model\\_coordinate_descent.py:647: ConvergenceWarning: Objective did not converge. You might want to increase the number of iterations, check the scale of the features or consider increasing regularisation. Duality gap: 3.369e+11, tolerance: 1.308e+09\n",
      "  model = cd_fast.enet_coordinate_descent(\n"
     ]
    },
    {
     "name": "stdout",
     "output_type": "stream",
     "text": [
      "[CV] END ...........................alpha=0.1, l1_ratio=0.95; total time=   0.1s\n"
     ]
    },
    {
     "name": "stderr",
     "output_type": "stream",
     "text": [
      "c:\\users\\admin\\appdata\\local\\programs\\python\\python39\\lib\\site-packages\\sklearn\\linear_model\\_coordinate_descent.py:647: ConvergenceWarning: Objective did not converge. You might want to increase the number of iterations, check the scale of the features or consider increasing regularisation. Duality gap: 3.575e+11, tolerance: 1.415e+09\n",
      "  model = cd_fast.enet_coordinate_descent(\n"
     ]
    },
    {
     "name": "stdout",
     "output_type": "stream",
     "text": [
      "[CV] END ...........................alpha=0.1, l1_ratio=0.95; total time=   0.1s\n"
     ]
    },
    {
     "name": "stderr",
     "output_type": "stream",
     "text": [
      "c:\\users\\admin\\appdata\\local\\programs\\python\\python39\\lib\\site-packages\\sklearn\\linear_model\\_coordinate_descent.py:647: ConvergenceWarning: Objective did not converge. You might want to increase the number of iterations, check the scale of the features or consider increasing regularisation. Duality gap: 3.887e+11, tolerance: 1.438e+09\n",
      "  model = cd_fast.enet_coordinate_descent(\n"
     ]
    },
    {
     "name": "stdout",
     "output_type": "stream",
     "text": [
      "[CV] END ...........................alpha=0.1, l1_ratio=0.95; total time=   0.1s\n"
     ]
    },
    {
     "name": "stderr",
     "output_type": "stream",
     "text": [
      "c:\\users\\admin\\appdata\\local\\programs\\python\\python39\\lib\\site-packages\\sklearn\\linear_model\\_coordinate_descent.py:647: ConvergenceWarning: Objective did not converge. You might want to increase the number of iterations, check the scale of the features or consider increasing regularisation. Duality gap: 2.928e+11, tolerance: 1.346e+09\n",
      "  model = cd_fast.enet_coordinate_descent(\n"
     ]
    },
    {
     "name": "stdout",
     "output_type": "stream",
     "text": [
      "[CV] END ...........................alpha=0.1, l1_ratio=0.95; total time=   0.2s\n"
     ]
    },
    {
     "name": "stderr",
     "output_type": "stream",
     "text": [
      "c:\\users\\admin\\appdata\\local\\programs\\python\\python39\\lib\\site-packages\\sklearn\\linear_model\\_coordinate_descent.py:647: ConvergenceWarning: Objective did not converge. You might want to increase the number of iterations, check the scale of the features or consider increasing regularisation. Duality gap: 3.542e+11, tolerance: 1.355e+09\n",
      "  model = cd_fast.enet_coordinate_descent(\n"
     ]
    },
    {
     "name": "stdout",
     "output_type": "stream",
     "text": [
      "[CV] END ...........................alpha=0.1, l1_ratio=0.99; total time=   0.1s\n"
     ]
    },
    {
     "name": "stderr",
     "output_type": "stream",
     "text": [
      "c:\\users\\admin\\appdata\\local\\programs\\python\\python39\\lib\\site-packages\\sklearn\\linear_model\\_coordinate_descent.py:647: ConvergenceWarning: Objective did not converge. You might want to increase the number of iterations, check the scale of the features or consider increasing regularisation. Duality gap: 3.635e+11, tolerance: 1.308e+09\n",
      "  model = cd_fast.enet_coordinate_descent(\n"
     ]
    },
    {
     "name": "stdout",
     "output_type": "stream",
     "text": [
      "[CV] END ...........................alpha=0.1, l1_ratio=0.99; total time=   0.1s\n"
     ]
    },
    {
     "name": "stderr",
     "output_type": "stream",
     "text": [
      "c:\\users\\admin\\appdata\\local\\programs\\python\\python39\\lib\\site-packages\\sklearn\\linear_model\\_coordinate_descent.py:647: ConvergenceWarning: Objective did not converge. You might want to increase the number of iterations, check the scale of the features or consider increasing regularisation. Duality gap: 4.085e+11, tolerance: 1.415e+09\n",
      "  model = cd_fast.enet_coordinate_descent(\n"
     ]
    },
    {
     "name": "stdout",
     "output_type": "stream",
     "text": [
      "[CV] END ...........................alpha=0.1, l1_ratio=0.99; total time=   0.1s\n"
     ]
    },
    {
     "name": "stderr",
     "output_type": "stream",
     "text": [
      "c:\\users\\admin\\appdata\\local\\programs\\python\\python39\\lib\\site-packages\\sklearn\\linear_model\\_coordinate_descent.py:647: ConvergenceWarning: Objective did not converge. You might want to increase the number of iterations, check the scale of the features or consider increasing regularisation. Duality gap: 4.071e+11, tolerance: 1.438e+09\n",
      "  model = cd_fast.enet_coordinate_descent(\n"
     ]
    },
    {
     "name": "stdout",
     "output_type": "stream",
     "text": [
      "[CV] END ...........................alpha=0.1, l1_ratio=0.99; total time=   0.1s\n"
     ]
    },
    {
     "name": "stderr",
     "output_type": "stream",
     "text": [
      "c:\\users\\admin\\appdata\\local\\programs\\python\\python39\\lib\\site-packages\\sklearn\\linear_model\\_coordinate_descent.py:647: ConvergenceWarning: Objective did not converge. You might want to increase the number of iterations, check the scale of the features or consider increasing regularisation. Duality gap: 3.553e+11, tolerance: 1.346e+09\n",
      "  model = cd_fast.enet_coordinate_descent(\n"
     ]
    },
    {
     "name": "stdout",
     "output_type": "stream",
     "text": [
      "[CV] END ...........................alpha=0.1, l1_ratio=0.99; total time=   0.1s\n"
     ]
    },
    {
     "name": "stderr",
     "output_type": "stream",
     "text": [
      "c:\\users\\admin\\appdata\\local\\programs\\python\\python39\\lib\\site-packages\\sklearn\\linear_model\\_coordinate_descent.py:647: ConvergenceWarning: Objective did not converge. You might want to increase the number of iterations, check the scale of the features or consider increasing regularisation. Duality gap: 3.498e+11, tolerance: 1.355e+09\n",
      "  model = cd_fast.enet_coordinate_descent(\n"
     ]
    },
    {
     "name": "stdout",
     "output_type": "stream",
     "text": [
      "[CV] END ..............................alpha=0.1, l1_ratio=1; total time=   0.1s\n"
     ]
    },
    {
     "name": "stderr",
     "output_type": "stream",
     "text": [
      "c:\\users\\admin\\appdata\\local\\programs\\python\\python39\\lib\\site-packages\\sklearn\\linear_model\\_coordinate_descent.py:647: ConvergenceWarning: Objective did not converge. You might want to increase the number of iterations, check the scale of the features or consider increasing regularisation. Duality gap: 3.591e+11, tolerance: 1.308e+09\n",
      "  model = cd_fast.enet_coordinate_descent(\n"
     ]
    },
    {
     "name": "stdout",
     "output_type": "stream",
     "text": [
      "[CV] END ..............................alpha=0.1, l1_ratio=1; total time=   0.1s\n"
     ]
    },
    {
     "name": "stderr",
     "output_type": "stream",
     "text": [
      "c:\\users\\admin\\appdata\\local\\programs\\python\\python39\\lib\\site-packages\\sklearn\\linear_model\\_coordinate_descent.py:647: ConvergenceWarning: Objective did not converge. You might want to increase the number of iterations, check the scale of the features or consider increasing regularisation. Duality gap: 4.066e+11, tolerance: 1.415e+09\n",
      "  model = cd_fast.enet_coordinate_descent(\n"
     ]
    },
    {
     "name": "stdout",
     "output_type": "stream",
     "text": [
      "[CV] END ..............................alpha=0.1, l1_ratio=1; total time=   0.1s\n"
     ]
    },
    {
     "name": "stderr",
     "output_type": "stream",
     "text": [
      "c:\\users\\admin\\appdata\\local\\programs\\python\\python39\\lib\\site-packages\\sklearn\\linear_model\\_coordinate_descent.py:647: ConvergenceWarning: Objective did not converge. You might want to increase the number of iterations, check the scale of the features or consider increasing regularisation. Duality gap: 4.028e+11, tolerance: 1.438e+09\n",
      "  model = cd_fast.enet_coordinate_descent(\n"
     ]
    },
    {
     "name": "stdout",
     "output_type": "stream",
     "text": [
      "[CV] END ..............................alpha=0.1, l1_ratio=1; total time=   0.1s\n"
     ]
    },
    {
     "name": "stderr",
     "output_type": "stream",
     "text": [
      "c:\\users\\admin\\appdata\\local\\programs\\python\\python39\\lib\\site-packages\\sklearn\\linear_model\\_coordinate_descent.py:647: ConvergenceWarning: Objective did not converge. You might want to increase the number of iterations, check the scale of the features or consider increasing regularisation. Duality gap: 3.687e+11, tolerance: 1.346e+09\n",
      "  model = cd_fast.enet_coordinate_descent(\n"
     ]
    },
    {
     "name": "stdout",
     "output_type": "stream",
     "text": [
      "[CV] END ..............................alpha=0.1, l1_ratio=1; total time=   0.1s\n",
      "[CV] END ..............................alpha=1, l1_ratio=0.1; total time=   0.0s\n",
      "[CV] END ..............................alpha=1, l1_ratio=0.1; total time=   0.0s\n",
      "[CV] END ..............................alpha=1, l1_ratio=0.1; total time=   0.0s\n",
      "[CV] END ..............................alpha=1, l1_ratio=0.1; total time=   0.0s\n",
      "[CV] END ..............................alpha=1, l1_ratio=0.1; total time=   0.0s\n",
      "[CV] END ..............................alpha=1, l1_ratio=0.5; total time=   0.0s\n",
      "[CV] END ..............................alpha=1, l1_ratio=0.5; total time=   0.0s\n",
      "[CV] END ..............................alpha=1, l1_ratio=0.5; total time=   0.0s\n",
      "[CV] END ..............................alpha=1, l1_ratio=0.5; total time=   0.0s\n",
      "[CV] END ..............................alpha=1, l1_ratio=0.5; total time=   0.0s\n",
      "[CV] END ..............................alpha=1, l1_ratio=0.7; total time=   0.0s\n",
      "[CV] END ..............................alpha=1, l1_ratio=0.7; total time=   0.0s\n",
      "[CV] END ..............................alpha=1, l1_ratio=0.7; total time=   0.0s\n",
      "[CV] END ..............................alpha=1, l1_ratio=0.7; total time=   0.0s\n",
      "[CV] END ..............................alpha=1, l1_ratio=0.7; total time=   0.0s\n",
      "[CV] END .............................alpha=1, l1_ratio=0.95; total time=   0.0s\n",
      "[CV] END .............................alpha=1, l1_ratio=0.95; total time=   0.0s\n",
      "[CV] END .............................alpha=1, l1_ratio=0.95; total time=   0.0s\n",
      "[CV] END .............................alpha=1, l1_ratio=0.95; total time=   0.0s\n",
      "[CV] END .............................alpha=1, l1_ratio=0.95; total time=   0.0s\n",
      "[CV] END .............................alpha=1, l1_ratio=0.99; total time=   0.1s\n",
      "[CV] END .............................alpha=1, l1_ratio=0.99; total time=   0.1s\n",
      "[CV] END .............................alpha=1, l1_ratio=0.99; total time=   0.1s\n",
      "[CV] END .............................alpha=1, l1_ratio=0.99; total time=   0.1s\n",
      "[CV] END .............................alpha=1, l1_ratio=0.99; total time=   0.1s\n"
     ]
    },
    {
     "name": "stderr",
     "output_type": "stream",
     "text": [
      "c:\\users\\admin\\appdata\\local\\programs\\python\\python39\\lib\\site-packages\\sklearn\\linear_model\\_coordinate_descent.py:647: ConvergenceWarning: Objective did not converge. You might want to increase the number of iterations, check the scale of the features or consider increasing regularisation. Duality gap: 3.025e+11, tolerance: 1.355e+09\n",
      "  model = cd_fast.enet_coordinate_descent(\n"
     ]
    },
    {
     "name": "stdout",
     "output_type": "stream",
     "text": [
      "[CV] END ................................alpha=1, l1_ratio=1; total time=   0.1s\n"
     ]
    },
    {
     "name": "stderr",
     "output_type": "stream",
     "text": [
      "c:\\users\\admin\\appdata\\local\\programs\\python\\python39\\lib\\site-packages\\sklearn\\linear_model\\_coordinate_descent.py:647: ConvergenceWarning: Objective did not converge. You might want to increase the number of iterations, check the scale of the features or consider increasing regularisation. Duality gap: 3.127e+11, tolerance: 1.308e+09\n",
      "  model = cd_fast.enet_coordinate_descent(\n"
     ]
    },
    {
     "name": "stdout",
     "output_type": "stream",
     "text": [
      "[CV] END ................................alpha=1, l1_ratio=1; total time=   0.1s\n"
     ]
    },
    {
     "name": "stderr",
     "output_type": "stream",
     "text": [
      "c:\\users\\admin\\appdata\\local\\programs\\python\\python39\\lib\\site-packages\\sklearn\\linear_model\\_coordinate_descent.py:647: ConvergenceWarning: Objective did not converge. You might want to increase the number of iterations, check the scale of the features or consider increasing regularisation. Duality gap: 3.475e+11, tolerance: 1.415e+09\n",
      "  model = cd_fast.enet_coordinate_descent(\n"
     ]
    },
    {
     "name": "stdout",
     "output_type": "stream",
     "text": [
      "[CV] END ................................alpha=1, l1_ratio=1; total time=   0.1s\n"
     ]
    },
    {
     "name": "stderr",
     "output_type": "stream",
     "text": [
      "c:\\users\\admin\\appdata\\local\\programs\\python\\python39\\lib\\site-packages\\sklearn\\linear_model\\_coordinate_descent.py:647: ConvergenceWarning: Objective did not converge. You might want to increase the number of iterations, check the scale of the features or consider increasing regularisation. Duality gap: 3.526e+11, tolerance: 1.438e+09\n",
      "  model = cd_fast.enet_coordinate_descent(\n"
     ]
    },
    {
     "name": "stdout",
     "output_type": "stream",
     "text": [
      "[CV] END ................................alpha=1, l1_ratio=1; total time=   0.1s\n"
     ]
    },
    {
     "name": "stderr",
     "output_type": "stream",
     "text": [
      "c:\\users\\admin\\appdata\\local\\programs\\python\\python39\\lib\\site-packages\\sklearn\\linear_model\\_coordinate_descent.py:647: ConvergenceWarning: Objective did not converge. You might want to increase the number of iterations, check the scale of the features or consider increasing regularisation. Duality gap: 2.559e+11, tolerance: 1.346e+09\n",
      "  model = cd_fast.enet_coordinate_descent(\n"
     ]
    },
    {
     "name": "stdout",
     "output_type": "stream",
     "text": [
      "[CV] END ................................alpha=1, l1_ratio=1; total time=   0.1s\n",
      "[CV] END ..............................alpha=5, l1_ratio=0.1; total time=   0.0s\n",
      "[CV] END ..............................alpha=5, l1_ratio=0.1; total time=   0.0s\n",
      "[CV] END ..............................alpha=5, l1_ratio=0.1; total time=   0.0s\n",
      "[CV] END ..............................alpha=5, l1_ratio=0.1; total time=   0.0s\n",
      "[CV] END ..............................alpha=5, l1_ratio=0.1; total time=   0.0s\n",
      "[CV] END ..............................alpha=5, l1_ratio=0.5; total time=   0.0s\n",
      "[CV] END ..............................alpha=5, l1_ratio=0.5; total time=   0.0s\n",
      "[CV] END ..............................alpha=5, l1_ratio=0.5; total time=   0.0s\n",
      "[CV] END ..............................alpha=5, l1_ratio=0.5; total time=   0.0s\n",
      "[CV] END ..............................alpha=5, l1_ratio=0.5; total time=   0.0s\n",
      "[CV] END ..............................alpha=5, l1_ratio=0.7; total time=   0.0s\n",
      "[CV] END ..............................alpha=5, l1_ratio=0.7; total time=   0.0s\n",
      "[CV] END ..............................alpha=5, l1_ratio=0.7; total time=   0.0s\n",
      "[CV] END ..............................alpha=5, l1_ratio=0.7; total time=   0.0s\n",
      "[CV] END ..............................alpha=5, l1_ratio=0.7; total time=   0.0s\n",
      "[CV] END .............................alpha=5, l1_ratio=0.95; total time=   0.0s\n",
      "[CV] END .............................alpha=5, l1_ratio=0.95; total time=   0.0s\n",
      "[CV] END .............................alpha=5, l1_ratio=0.95; total time=   0.0s\n",
      "[CV] END .............................alpha=5, l1_ratio=0.95; total time=   0.0s\n",
      "[CV] END .............................alpha=5, l1_ratio=0.95; total time=   0.0s\n",
      "[CV] END .............................alpha=5, l1_ratio=0.99; total time=   0.0s\n",
      "[CV] END .............................alpha=5, l1_ratio=0.99; total time=   0.0s\n",
      "[CV] END .............................alpha=5, l1_ratio=0.99; total time=   0.0s\n",
      "[CV] END .............................alpha=5, l1_ratio=0.99; total time=   0.0s\n",
      "[CV] END .............................alpha=5, l1_ratio=0.99; total time=   0.0s\n"
     ]
    },
    {
     "name": "stderr",
     "output_type": "stream",
     "text": [
      "c:\\users\\admin\\appdata\\local\\programs\\python\\python39\\lib\\site-packages\\sklearn\\linear_model\\_coordinate_descent.py:647: ConvergenceWarning: Objective did not converge. You might want to increase the number of iterations, check the scale of the features or consider increasing regularisation. Duality gap: 1.707e+11, tolerance: 1.355e+09\n",
      "  model = cd_fast.enet_coordinate_descent(\n"
     ]
    },
    {
     "name": "stdout",
     "output_type": "stream",
     "text": [
      "[CV] END ................................alpha=5, l1_ratio=1; total time=   0.1s\n"
     ]
    },
    {
     "name": "stderr",
     "output_type": "stream",
     "text": [
      "c:\\users\\admin\\appdata\\local\\programs\\python\\python39\\lib\\site-packages\\sklearn\\linear_model\\_coordinate_descent.py:647: ConvergenceWarning: Objective did not converge. You might want to increase the number of iterations, check the scale of the features or consider increasing regularisation. Duality gap: 1.869e+11, tolerance: 1.308e+09\n",
      "  model = cd_fast.enet_coordinate_descent(\n"
     ]
    },
    {
     "name": "stdout",
     "output_type": "stream",
     "text": [
      "[CV] END ................................alpha=5, l1_ratio=1; total time=   0.1s\n"
     ]
    },
    {
     "name": "stderr",
     "output_type": "stream",
     "text": [
      "c:\\users\\admin\\appdata\\local\\programs\\python\\python39\\lib\\site-packages\\sklearn\\linear_model\\_coordinate_descent.py:647: ConvergenceWarning: Objective did not converge. You might want to increase the number of iterations, check the scale of the features or consider increasing regularisation. Duality gap: 1.965e+11, tolerance: 1.415e+09\n",
      "  model = cd_fast.enet_coordinate_descent(\n"
     ]
    },
    {
     "name": "stdout",
     "output_type": "stream",
     "text": [
      "[CV] END ................................alpha=5, l1_ratio=1; total time=   0.1s\n"
     ]
    },
    {
     "name": "stderr",
     "output_type": "stream",
     "text": [
      "c:\\users\\admin\\appdata\\local\\programs\\python\\python39\\lib\\site-packages\\sklearn\\linear_model\\_coordinate_descent.py:647: ConvergenceWarning: Objective did not converge. You might want to increase the number of iterations, check the scale of the features or consider increasing regularisation. Duality gap: 2.128e+11, tolerance: 1.438e+09\n",
      "  model = cd_fast.enet_coordinate_descent(\n"
     ]
    },
    {
     "name": "stdout",
     "output_type": "stream",
     "text": [
      "[CV] END ................................alpha=5, l1_ratio=1; total time=   0.1s\n"
     ]
    },
    {
     "name": "stderr",
     "output_type": "stream",
     "text": [
      "c:\\users\\admin\\appdata\\local\\programs\\python\\python39\\lib\\site-packages\\sklearn\\linear_model\\_coordinate_descent.py:647: ConvergenceWarning: Objective did not converge. You might want to increase the number of iterations, check the scale of the features or consider increasing regularisation. Duality gap: 4.849e+09, tolerance: 1.346e+09\n",
      "  model = cd_fast.enet_coordinate_descent(\n"
     ]
    },
    {
     "name": "stdout",
     "output_type": "stream",
     "text": [
      "[CV] END ................................alpha=5, l1_ratio=1; total time=   0.1s\n",
      "[CV] END .............................alpha=10, l1_ratio=0.1; total time=   0.0s\n",
      "[CV] END .............................alpha=10, l1_ratio=0.1; total time=   0.0s\n",
      "[CV] END .............................alpha=10, l1_ratio=0.1; total time=   0.0s\n",
      "[CV] END .............................alpha=10, l1_ratio=0.1; total time=   0.0s\n",
      "[CV] END .............................alpha=10, l1_ratio=0.1; total time=   0.0s\n",
      "[CV] END .............................alpha=10, l1_ratio=0.5; total time=   0.0s\n",
      "[CV] END .............................alpha=10, l1_ratio=0.5; total time=   0.0s\n",
      "[CV] END .............................alpha=10, l1_ratio=0.5; total time=   0.0s\n",
      "[CV] END .............................alpha=10, l1_ratio=0.5; total time=   0.0s\n",
      "[CV] END .............................alpha=10, l1_ratio=0.5; total time=   0.0s\n",
      "[CV] END .............................alpha=10, l1_ratio=0.7; total time=   0.0s\n",
      "[CV] END .............................alpha=10, l1_ratio=0.7; total time=   0.0s\n",
      "[CV] END .............................alpha=10, l1_ratio=0.7; total time=   0.0s\n",
      "[CV] END .............................alpha=10, l1_ratio=0.7; total time=   0.0s\n",
      "[CV] END .............................alpha=10, l1_ratio=0.7; total time=   0.0s\n",
      "[CV] END ............................alpha=10, l1_ratio=0.95; total time=   0.0s\n",
      "[CV] END ............................alpha=10, l1_ratio=0.95; total time=   0.0s\n",
      "[CV] END ............................alpha=10, l1_ratio=0.95; total time=   0.0s\n",
      "[CV] END ............................alpha=10, l1_ratio=0.95; total time=   0.0s\n",
      "[CV] END ............................alpha=10, l1_ratio=0.95; total time=   0.0s\n",
      "[CV] END ............................alpha=10, l1_ratio=0.99; total time=   0.0s\n",
      "[CV] END ............................alpha=10, l1_ratio=0.99; total time=   0.0s\n",
      "[CV] END ............................alpha=10, l1_ratio=0.99; total time=   0.0s\n",
      "[CV] END ............................alpha=10, l1_ratio=0.99; total time=   0.0s\n",
      "[CV] END ............................alpha=10, l1_ratio=0.99; total time=   0.0s\n"
     ]
    },
    {
     "name": "stderr",
     "output_type": "stream",
     "text": [
      "c:\\users\\admin\\appdata\\local\\programs\\python\\python39\\lib\\site-packages\\sklearn\\linear_model\\_coordinate_descent.py:647: ConvergenceWarning: Objective did not converge. You might want to increase the number of iterations, check the scale of the features or consider increasing regularisation. Duality gap: 1.313e+10, tolerance: 1.355e+09\n",
      "  model = cd_fast.enet_coordinate_descent(\n"
     ]
    },
    {
     "name": "stdout",
     "output_type": "stream",
     "text": [
      "[CV] END ...............................alpha=10, l1_ratio=1; total time=   0.1s\n"
     ]
    },
    {
     "name": "stderr",
     "output_type": "stream",
     "text": [
      "c:\\users\\admin\\appdata\\local\\programs\\python\\python39\\lib\\site-packages\\sklearn\\linear_model\\_coordinate_descent.py:647: ConvergenceWarning: Objective did not converge. You might want to increase the number of iterations, check the scale of the features or consider increasing regularisation. Duality gap: 4.414e+09, tolerance: 1.308e+09\n",
      "  model = cd_fast.enet_coordinate_descent(\n"
     ]
    },
    {
     "name": "stdout",
     "output_type": "stream",
     "text": [
      "[CV] END ...............................alpha=10, l1_ratio=1; total time=   0.1s\n"
     ]
    },
    {
     "name": "stderr",
     "output_type": "stream",
     "text": [
      "c:\\users\\admin\\appdata\\local\\programs\\python\\python39\\lib\\site-packages\\sklearn\\linear_model\\_coordinate_descent.py:647: ConvergenceWarning: Objective did not converge. You might want to increase the number of iterations, check the scale of the features or consider increasing regularisation. Duality gap: 3.628e+10, tolerance: 1.415e+09\n",
      "  model = cd_fast.enet_coordinate_descent(\n"
     ]
    },
    {
     "name": "stdout",
     "output_type": "stream",
     "text": [
      "[CV] END ...............................alpha=10, l1_ratio=1; total time=   0.1s\n"
     ]
    },
    {
     "name": "stderr",
     "output_type": "stream",
     "text": [
      "c:\\users\\admin\\appdata\\local\\programs\\python\\python39\\lib\\site-packages\\sklearn\\linear_model\\_coordinate_descent.py:647: ConvergenceWarning: Objective did not converge. You might want to increase the number of iterations, check the scale of the features or consider increasing regularisation. Duality gap: 3.970e+09, tolerance: 1.438e+09\n",
      "  model = cd_fast.enet_coordinate_descent(\n"
     ]
    },
    {
     "name": "stdout",
     "output_type": "stream",
     "text": [
      "[CV] END ...............................alpha=10, l1_ratio=1; total time=   0.1s\n",
      "[CV] END ...............................alpha=10, l1_ratio=1; total time=   0.1s\n",
      "[CV] END .............................alpha=50, l1_ratio=0.1; total time=   0.0s\n",
      "[CV] END .............................alpha=50, l1_ratio=0.1; total time=   0.0s\n",
      "[CV] END .............................alpha=50, l1_ratio=0.1; total time=   0.0s\n",
      "[CV] END .............................alpha=50, l1_ratio=0.1; total time=   0.0s\n",
      "[CV] END .............................alpha=50, l1_ratio=0.1; total time=   0.0s\n",
      "[CV] END .............................alpha=50, l1_ratio=0.5; total time=   0.0s\n",
      "[CV] END .............................alpha=50, l1_ratio=0.5; total time=   0.0s\n",
      "[CV] END .............................alpha=50, l1_ratio=0.5; total time=   0.0s\n",
      "[CV] END .............................alpha=50, l1_ratio=0.5; total time=   0.0s\n",
      "[CV] END .............................alpha=50, l1_ratio=0.5; total time=   0.0s\n",
      "[CV] END .............................alpha=50, l1_ratio=0.7; total time=   0.0s\n",
      "[CV] END .............................alpha=50, l1_ratio=0.7; total time=   0.0s\n",
      "[CV] END .............................alpha=50, l1_ratio=0.7; total time=   0.0s\n",
      "[CV] END .............................alpha=50, l1_ratio=0.7; total time=   0.0s\n",
      "[CV] END .............................alpha=50, l1_ratio=0.7; total time=   0.0s\n",
      "[CV] END ............................alpha=50, l1_ratio=0.95; total time=   0.0s\n",
      "[CV] END ............................alpha=50, l1_ratio=0.95; total time=   0.0s\n",
      "[CV] END ............................alpha=50, l1_ratio=0.95; total time=   0.0s\n",
      "[CV] END ............................alpha=50, l1_ratio=0.95; total time=   0.0s\n",
      "[CV] END ............................alpha=50, l1_ratio=0.95; total time=   0.0s\n",
      "[CV] END ............................alpha=50, l1_ratio=0.99; total time=   0.0s\n",
      "[CV] END ............................alpha=50, l1_ratio=0.99; total time=   0.0s\n",
      "[CV] END ............................alpha=50, l1_ratio=0.99; total time=   0.0s\n",
      "[CV] END ............................alpha=50, l1_ratio=0.99; total time=   0.0s\n",
      "[CV] END ............................alpha=50, l1_ratio=0.99; total time=   0.0s\n",
      "[CV] END ...............................alpha=50, l1_ratio=1; total time=   0.1s\n",
      "[CV] END ...............................alpha=50, l1_ratio=1; total time=   0.1s\n",
      "[CV] END ...............................alpha=50, l1_ratio=1; total time=   0.1s\n",
      "[CV] END ...............................alpha=50, l1_ratio=1; total time=   0.1s\n",
      "[CV] END ...............................alpha=50, l1_ratio=1; total time=   0.1s\n",
      "[CV] END ............................alpha=100, l1_ratio=0.1; total time=   0.0s\n",
      "[CV] END ............................alpha=100, l1_ratio=0.1; total time=   0.0s\n",
      "[CV] END ............................alpha=100, l1_ratio=0.1; total time=   0.0s\n",
      "[CV] END ............................alpha=100, l1_ratio=0.1; total time=   0.0s\n",
      "[CV] END ............................alpha=100, l1_ratio=0.1; total time=   0.0s\n",
      "[CV] END ............................alpha=100, l1_ratio=0.5; total time=   0.0s\n",
      "[CV] END ............................alpha=100, l1_ratio=0.5; total time=   0.0s\n",
      "[CV] END ............................alpha=100, l1_ratio=0.5; total time=   0.0s\n",
      "[CV] END ............................alpha=100, l1_ratio=0.5; total time=   0.0s\n",
      "[CV] END ............................alpha=100, l1_ratio=0.5; total time=   0.0s\n",
      "[CV] END ............................alpha=100, l1_ratio=0.7; total time=   0.0s\n",
      "[CV] END ............................alpha=100, l1_ratio=0.7; total time=   0.0s\n",
      "[CV] END ............................alpha=100, l1_ratio=0.7; total time=   0.0s\n",
      "[CV] END ............................alpha=100, l1_ratio=0.7; total time=   0.0s\n",
      "[CV] END ............................alpha=100, l1_ratio=0.7; total time=   0.0s\n",
      "[CV] END ...........................alpha=100, l1_ratio=0.95; total time=   0.0s\n",
      "[CV] END ...........................alpha=100, l1_ratio=0.95; total time=   0.0s\n",
      "[CV] END ...........................alpha=100, l1_ratio=0.95; total time=   0.0s\n",
      "[CV] END ...........................alpha=100, l1_ratio=0.95; total time=   0.0s\n",
      "[CV] END ...........................alpha=100, l1_ratio=0.95; total time=   0.0s\n",
      "[CV] END ...........................alpha=100, l1_ratio=0.99; total time=   0.0s\n",
      "[CV] END ...........................alpha=100, l1_ratio=0.99; total time=   0.0s\n",
      "[CV] END ...........................alpha=100, l1_ratio=0.99; total time=   0.0s\n",
      "[CV] END ...........................alpha=100, l1_ratio=0.99; total time=   0.0s\n",
      "[CV] END ...........................alpha=100, l1_ratio=0.99; total time=   0.0s\n",
      "[CV] END ..............................alpha=100, l1_ratio=1; total time=   0.0s\n",
      "[CV] END ..............................alpha=100, l1_ratio=1; total time=   0.0s\n",
      "[CV] END ..............................alpha=100, l1_ratio=1; total time=   0.0s\n",
      "[CV] END ..............................alpha=100, l1_ratio=1; total time=   0.0s\n",
      "[CV] END ..............................alpha=100, l1_ratio=1; total time=   0.0s\n"
     ]
    },
    {
     "data": {
      "text/plain": "GridSearchCV(cv=5, estimator=ElasticNet(),\n             param_grid={'alpha': [0.1, 1, 5, 10, 50, 100],\n                         'l1_ratio': [0.1, 0.5, 0.7, 0.95, 0.99, 1]},\n             scoring='neg_mean_squared_error', verbose=2)"
     },
     "execution_count": 497,
     "metadata": {},
     "output_type": "execute_result"
    }
   ],
   "source": [
    "grid_model.fit(X_train, y_train)"
   ],
   "metadata": {
    "collapsed": false,
    "pycharm": {
     "name": "#%%\n"
    }
   }
  },
  {
   "cell_type": "code",
   "execution_count": 498,
   "outputs": [
    {
     "data": {
      "text/plain": "ElasticNet(alpha=100, l1_ratio=1)"
     },
     "execution_count": 498,
     "metadata": {},
     "output_type": "execute_result"
    }
   ],
   "source": [
    "grid_model.best_estimator_"
   ],
   "metadata": {
    "collapsed": false,
    "pycharm": {
     "name": "#%%\n"
    }
   }
  },
  {
   "cell_type": "code",
   "execution_count": 499,
   "outputs": [
    {
     "data": {
      "text/plain": "{'alpha': 100, 'l1_ratio': 1}"
     },
     "execution_count": 499,
     "metadata": {},
     "output_type": "execute_result"
    }
   ],
   "source": [
    "grid_model.best_params_"
   ],
   "metadata": {
    "collapsed": false,
    "pycharm": {
     "name": "#%%\n"
    }
   }
  },
  {
   "cell_type": "code",
   "execution_count": 500,
   "outputs": [],
   "source": [
    "results = grid_model.cv_results_"
   ],
   "metadata": {
    "collapsed": false,
    "pycharm": {
     "name": "#%%\n"
    }
   }
  },
  {
   "cell_type": "code",
   "execution_count": 501,
   "outputs": [],
   "source": [
    "results = pd.DataFrame(results)"
   ],
   "metadata": {
    "collapsed": false,
    "pycharm": {
     "name": "#%%\n"
    }
   }
  },
  {
   "cell_type": "code",
   "execution_count": 502,
   "outputs": [
    {
     "data": {
      "text/plain": "    mean_fit_time  std_fit_time  mean_score_time  std_score_time param_alpha  \\\n0        0.089526      0.004761         0.000798        0.000397         0.1   \n1        0.121510      0.003583         0.000598        0.000488         0.1   \n2        0.158933      0.015118         0.000598        0.000488         0.1   \n3        0.236326      0.007985         0.000737        0.000387         0.1   \n4        0.228097      0.008002         0.000948        0.000109         0.1   \n5        0.220609      0.007813         0.001115        0.000100         0.1   \n6        0.029695      0.001255         0.000398        0.000488           1   \n7        0.036749      0.001581         0.000337        0.000424           1   \n8        0.039652      0.001128         0.000797        0.000399           1   \n9        0.079036      0.002194         0.000598        0.000489           1   \n10       0.197990      0.009639         0.000797        0.000399           1   \n11       0.219569      0.003340         0.000898        0.000524           1   \n12       0.014286      0.002695         0.000516        0.000447           5   \n13       0.014063      0.000434         0.000598        0.000488           5   \n14       0.017816      0.000765         0.000850        0.000433           5   \n15       0.035791      0.001684         0.000399        0.000489           5   \n16       0.064786      0.003497         0.000399        0.000488           5   \n17       0.222652      0.006584         0.000884        0.000450           5   \n18       0.010632      0.000721         0.000549        0.000458          10   \n19       0.011600      0.000507         0.000586        0.000386          10   \n20       0.014294      0.002125         0.000438        0.000417          10   \n21       0.026798      0.001094         0.000540        0.000454          10   \n22       0.037707      0.001560         0.000399        0.000489          10   \n23       0.218133      0.002331         0.000981        0.000036          10   \n24       0.009053      0.000533         0.001378        0.000826          50   \n25       0.008727      0.000404         0.000745        0.000384          50   \n26       0.008615      0.000428         0.000472        0.000412          50   \n27       0.013277      0.002170         0.000782        0.000392          50   \n28       0.025123      0.001755         0.000970        0.000213          50   \n29       0.185455      0.012603         0.000329        0.000419          50   \n30       0.007881      0.000354         0.000843        0.000495         100   \n31       0.008477      0.000085         0.000982        0.000115         100   \n32       0.007987      0.000437         0.001061        0.000128         100   \n33       0.010881      0.002116         0.000995        0.000032         100   \n34       0.017688      0.001554         0.000771        0.000389         100   \n35       0.099278      0.005979         0.000949        0.001096         100   \n\n   param_l1_ratio                            params  split0_test_score  \\\n0             0.1   {'alpha': 0.1, 'l1_ratio': 0.1}      -6.953930e+08   \n1             0.5   {'alpha': 0.1, 'l1_ratio': 0.5}      -6.822497e+08   \n2             0.7   {'alpha': 0.1, 'l1_ratio': 0.7}      -6.746170e+08   \n3            0.95  {'alpha': 0.1, 'l1_ratio': 0.95}      -6.671344e+08   \n4            0.99  {'alpha': 0.1, 'l1_ratio': 0.99}      -6.726844e+08   \n5               1     {'alpha': 0.1, 'l1_ratio': 1}      -6.782769e+08   \n6             0.1     {'alpha': 1, 'l1_ratio': 0.1}      -8.919258e+08   \n7             0.5     {'alpha': 1, 'l1_ratio': 0.5}      -7.996614e+08   \n8             0.7     {'alpha': 1, 'l1_ratio': 0.7}      -7.508349e+08   \n9            0.95    {'alpha': 1, 'l1_ratio': 0.95}      -6.821107e+08   \n10           0.99    {'alpha': 1, 'l1_ratio': 0.99}      -6.669618e+08   \n11              1       {'alpha': 1, 'l1_ratio': 1}      -6.768547e+08   \n12            0.1     {'alpha': 5, 'l1_ratio': 0.1}      -1.559315e+09   \n13            0.5     {'alpha': 5, 'l1_ratio': 0.5}      -1.214943e+09   \n14            0.7     {'alpha': 5, 'l1_ratio': 0.7}      -1.020199e+09   \n15           0.95    {'alpha': 5, 'l1_ratio': 0.95}      -7.380469e+08   \n16           0.99    {'alpha': 5, 'l1_ratio': 0.99}      -6.815304e+08   \n17              1       {'alpha': 5, 'l1_ratio': 1}      -6.714998e+08   \n18            0.1    {'alpha': 10, 'l1_ratio': 0.1}      -2.196049e+09   \n19            0.5    {'alpha': 10, 'l1_ratio': 0.5}      -1.638794e+09   \n20            0.7    {'alpha': 10, 'l1_ratio': 0.7}      -1.306247e+09   \n21           0.95   {'alpha': 10, 'l1_ratio': 0.95}      -7.998303e+08   \n22           0.99   {'alpha': 10, 'l1_ratio': 0.99}      -6.974280e+08   \n23              1      {'alpha': 10, 'l1_ratio': 1}      -6.672342e+08   \n24            0.1    {'alpha': 50, 'l1_ratio': 0.1}      -4.521898e+09   \n25            0.5    {'alpha': 50, 'l1_ratio': 0.5}      -3.617005e+09   \n26            0.7    {'alpha': 50, 'l1_ratio': 0.7}      -2.850466e+09   \n27           0.95   {'alpha': 50, 'l1_ratio': 0.95}      -1.217909e+09   \n28           0.99   {'alpha': 50, 'l1_ratio': 0.99}      -8.010221e+08   \n29              1      {'alpha': 50, 'l1_ratio': 1}      -6.534345e+08   \n30            0.1   {'alpha': 100, 'l1_ratio': 0.1}      -5.427362e+09   \n31            0.5   {'alpha': 100, 'l1_ratio': 0.5}      -4.678476e+09   \n32            0.7   {'alpha': 100, 'l1_ratio': 0.7}      -3.906658e+09   \n33           0.95  {'alpha': 100, 'l1_ratio': 0.95}      -1.646694e+09   \n34           0.99  {'alpha': 100, 'l1_ratio': 0.99}      -9.183798e+08   \n35              1     {'alpha': 100, 'l1_ratio': 1}      -6.527522e+08   \n\n    split1_test_score  split2_test_score  split3_test_score  \\\n0       -6.296423e+08      -3.820861e+08      -4.109032e+08   \n1       -6.064555e+08      -3.807991e+08      -4.071806e+08   \n2       -5.953424e+08      -3.807417e+08      -4.065177e+08   \n3       -5.894025e+08      -3.827143e+08      -4.124198e+08   \n4       -5.963010e+08      -3.823734e+08      -4.166526e+08   \n5       -6.017437e+08      -3.828040e+08      -4.341237e+08   \n6       -9.860140e+08      -4.701213e+08      -5.232028e+08   \n7       -8.298680e+08      -4.177369e+08      -4.658621e+08   \n8       -7.393671e+08      -3.964823e+08      -4.376120e+08   \n9       -6.064237e+08      -3.806976e+08      -4.070077e+08   \n10      -5.879018e+08      -3.819024e+08      -4.093708e+08   \n11      -6.003944e+08      -3.821751e+08      -4.306818e+08   \n12      -1.908632e+09      -9.766328e+08      -9.760468e+08   \n13      -1.458996e+09      -7.016213e+08      -7.370326e+08   \n14      -1.183631e+09      -5.565884e+08      -6.065791e+08   \n15      -7.152032e+08      -3.919408e+08      -4.305438e+08   \n16      -6.063142e+08      -3.802629e+08      -4.062500e+08   \n17      -5.966434e+08      -3.804620e+08      -4.191734e+08   \n18      -2.680776e+09      -1.513349e+09      -1.440617e+09   \n19      -2.008322e+09      -1.042129e+09      -1.032572e+09   \n20      -1.581829e+09      -7.728658e+08      -7.994745e+08   \n21      -8.308887e+08      -4.178338e+08      -4.660963e+08   \n22      -6.356626e+08      -3.817457e+08      -4.107073e+08   \n23      -5.937499e+08      -3.809313e+08      -4.127535e+08   \n24      -5.274542e+09      -3.582001e+09      -3.295250e+09   \n25      -4.289261e+09      -2.765078e+09      -2.551358e+09   \n26      -3.434632e+09      -2.083660e+09      -1.941614e+09   \n27      -1.464324e+09      -7.045606e+08      -7.395645e+08   \n28      -8.357895e+08      -4.184254e+08      -4.671594e+08   \n29      -5.766999e+08      -3.806750e+08      -4.047287e+08   \n30      -6.244043e+09      -4.409434e+09      -4.059744e+09   \n31      -5.443283e+09      -3.724350e+09      -3.426008e+09   \n32      -4.607061e+09      -3.025208e+09      -2.786780e+09   \n33      -2.019573e+09      -1.049231e+09      -1.038702e+09   \n34      -1.033918e+09      -4.885863e+08      -5.409925e+08   \n35      -5.774424e+08      -3.762401e+08      -3.950646e+08   \n\n    split4_test_score  mean_test_score  std_test_score  rank_test_score  \n0       -5.931194e+08    -5.422288e+08    1.237597e+08               14  \n1       -5.880587e+08    -5.329487e+08    1.180663e+08               11  \n2       -5.869686e+08    -5.288375e+08    1.148463e+08                5  \n3       -5.896326e+08    -5.282607e+08    1.108094e+08                4  \n4       -5.921745e+08    -5.320372e+08    1.124641e+08                8  \n5       -5.958512e+08    -5.385599e+08    1.113213e+08               13  \n6       -7.759128e+08    -7.294353e+08    2.020750e+08               21  \n7       -6.830981e+08    -6.392453e+08    1.691869e+08               18  \n8       -6.363607e+08    -5.921314e+08    1.489807e+08               17  \n9       -5.878334e+08    -5.328146e+08    1.180692e+08               10  \n10      -5.880459e+08    -5.268365e+08    1.112787e+08                3  \n11      -5.943141e+08    -5.368840e+08    1.114786e+08               12  \n12      -1.476170e+09    -1.379359e+09    3.596485e+08               27  \n13      -1.111373e+09    -1.044793e+09    2.889399e+08               24  \n14      -9.079494e+08    -8.549895e+08    2.403561e+08               23  \n15      -6.246432e+08    -5.800756e+08    1.434957e+08               16  \n16      -5.868648e+08    -5.322445e+08    1.180923e+08                9  \n17      -5.913751e+08    -5.318307e+08    1.121230e+08                7  \n18      -2.158587e+09    -1.997876e+09    4.640597e+08               30  \n19      -1.560973e+09    -1.456558e+09    3.741851e+08               28  \n20      -1.207512e+09    -1.133586e+09    3.091756e+08               26  \n21      -6.829041e+08    -6.395106e+08    1.693659e+08               19  \n22      -5.931710e+08    -5.437429e+08    1.252622e+08               15  \n23      -5.900095e+08    -5.289357e+08    1.117685e+08                6  \n24      -4.632304e+09    -4.261199e+09    7.248331e+08               34  \n25      -3.676952e+09    -3.379931e+09    6.381042e+08               32  \n26      -2.860333e+09    -2.634141e+09    5.516101e+08               31  \n27      -1.114204e+09    -1.048112e+09    2.897104e+08               25  \n28      -6.824159e+08    -6.409624e+08    1.703087e+08               20  \n29      -5.806001e+08    -5.192277e+08    1.071335e+08                2  \n30      -5.579981e+09    -5.144113e+09    7.994581e+08               36  \n31      -4.796636e+09    -4.413750e+09    7.385833e+08               35  \n32      -3.983546e+09    -3.661851e+09    6.675183e+08               33  \n33      -1.569011e+09    -1.464642e+09    3.757594e+08               29  \n34      -8.010733e+08    -7.565901e+08    2.113641e+08               22  \n35      -5.724653e+08    -5.147929e+08    1.093760e+08                1  ",
      "text/html": "<div>\n<style scoped>\n    .dataframe tbody tr th:only-of-type {\n        vertical-align: middle;\n    }\n\n    .dataframe tbody tr th {\n        vertical-align: top;\n    }\n\n    .dataframe thead th {\n        text-align: right;\n    }\n</style>\n<table border=\"1\" class=\"dataframe\">\n  <thead>\n    <tr style=\"text-align: right;\">\n      <th></th>\n      <th>mean_fit_time</th>\n      <th>std_fit_time</th>\n      <th>mean_score_time</th>\n      <th>std_score_time</th>\n      <th>param_alpha</th>\n      <th>param_l1_ratio</th>\n      <th>params</th>\n      <th>split0_test_score</th>\n      <th>split1_test_score</th>\n      <th>split2_test_score</th>\n      <th>split3_test_score</th>\n      <th>split4_test_score</th>\n      <th>mean_test_score</th>\n      <th>std_test_score</th>\n      <th>rank_test_score</th>\n    </tr>\n  </thead>\n  <tbody>\n    <tr>\n      <th>0</th>\n      <td>0.089526</td>\n      <td>0.004761</td>\n      <td>0.000798</td>\n      <td>0.000397</td>\n      <td>0.1</td>\n      <td>0.1</td>\n      <td>{'alpha': 0.1, 'l1_ratio': 0.1}</td>\n      <td>-6.953930e+08</td>\n      <td>-6.296423e+08</td>\n      <td>-3.820861e+08</td>\n      <td>-4.109032e+08</td>\n      <td>-5.931194e+08</td>\n      <td>-5.422288e+08</td>\n      <td>1.237597e+08</td>\n      <td>14</td>\n    </tr>\n    <tr>\n      <th>1</th>\n      <td>0.121510</td>\n      <td>0.003583</td>\n      <td>0.000598</td>\n      <td>0.000488</td>\n      <td>0.1</td>\n      <td>0.5</td>\n      <td>{'alpha': 0.1, 'l1_ratio': 0.5}</td>\n      <td>-6.822497e+08</td>\n      <td>-6.064555e+08</td>\n      <td>-3.807991e+08</td>\n      <td>-4.071806e+08</td>\n      <td>-5.880587e+08</td>\n      <td>-5.329487e+08</td>\n      <td>1.180663e+08</td>\n      <td>11</td>\n    </tr>\n    <tr>\n      <th>2</th>\n      <td>0.158933</td>\n      <td>0.015118</td>\n      <td>0.000598</td>\n      <td>0.000488</td>\n      <td>0.1</td>\n      <td>0.7</td>\n      <td>{'alpha': 0.1, 'l1_ratio': 0.7}</td>\n      <td>-6.746170e+08</td>\n      <td>-5.953424e+08</td>\n      <td>-3.807417e+08</td>\n      <td>-4.065177e+08</td>\n      <td>-5.869686e+08</td>\n      <td>-5.288375e+08</td>\n      <td>1.148463e+08</td>\n      <td>5</td>\n    </tr>\n    <tr>\n      <th>3</th>\n      <td>0.236326</td>\n      <td>0.007985</td>\n      <td>0.000737</td>\n      <td>0.000387</td>\n      <td>0.1</td>\n      <td>0.95</td>\n      <td>{'alpha': 0.1, 'l1_ratio': 0.95}</td>\n      <td>-6.671344e+08</td>\n      <td>-5.894025e+08</td>\n      <td>-3.827143e+08</td>\n      <td>-4.124198e+08</td>\n      <td>-5.896326e+08</td>\n      <td>-5.282607e+08</td>\n      <td>1.108094e+08</td>\n      <td>4</td>\n    </tr>\n    <tr>\n      <th>4</th>\n      <td>0.228097</td>\n      <td>0.008002</td>\n      <td>0.000948</td>\n      <td>0.000109</td>\n      <td>0.1</td>\n      <td>0.99</td>\n      <td>{'alpha': 0.1, 'l1_ratio': 0.99}</td>\n      <td>-6.726844e+08</td>\n      <td>-5.963010e+08</td>\n      <td>-3.823734e+08</td>\n      <td>-4.166526e+08</td>\n      <td>-5.921745e+08</td>\n      <td>-5.320372e+08</td>\n      <td>1.124641e+08</td>\n      <td>8</td>\n    </tr>\n    <tr>\n      <th>5</th>\n      <td>0.220609</td>\n      <td>0.007813</td>\n      <td>0.001115</td>\n      <td>0.000100</td>\n      <td>0.1</td>\n      <td>1</td>\n      <td>{'alpha': 0.1, 'l1_ratio': 1}</td>\n      <td>-6.782769e+08</td>\n      <td>-6.017437e+08</td>\n      <td>-3.828040e+08</td>\n      <td>-4.341237e+08</td>\n      <td>-5.958512e+08</td>\n      <td>-5.385599e+08</td>\n      <td>1.113213e+08</td>\n      <td>13</td>\n    </tr>\n    <tr>\n      <th>6</th>\n      <td>0.029695</td>\n      <td>0.001255</td>\n      <td>0.000398</td>\n      <td>0.000488</td>\n      <td>1</td>\n      <td>0.1</td>\n      <td>{'alpha': 1, 'l1_ratio': 0.1}</td>\n      <td>-8.919258e+08</td>\n      <td>-9.860140e+08</td>\n      <td>-4.701213e+08</td>\n      <td>-5.232028e+08</td>\n      <td>-7.759128e+08</td>\n      <td>-7.294353e+08</td>\n      <td>2.020750e+08</td>\n      <td>21</td>\n    </tr>\n    <tr>\n      <th>7</th>\n      <td>0.036749</td>\n      <td>0.001581</td>\n      <td>0.000337</td>\n      <td>0.000424</td>\n      <td>1</td>\n      <td>0.5</td>\n      <td>{'alpha': 1, 'l1_ratio': 0.5}</td>\n      <td>-7.996614e+08</td>\n      <td>-8.298680e+08</td>\n      <td>-4.177369e+08</td>\n      <td>-4.658621e+08</td>\n      <td>-6.830981e+08</td>\n      <td>-6.392453e+08</td>\n      <td>1.691869e+08</td>\n      <td>18</td>\n    </tr>\n    <tr>\n      <th>8</th>\n      <td>0.039652</td>\n      <td>0.001128</td>\n      <td>0.000797</td>\n      <td>0.000399</td>\n      <td>1</td>\n      <td>0.7</td>\n      <td>{'alpha': 1, 'l1_ratio': 0.7}</td>\n      <td>-7.508349e+08</td>\n      <td>-7.393671e+08</td>\n      <td>-3.964823e+08</td>\n      <td>-4.376120e+08</td>\n      <td>-6.363607e+08</td>\n      <td>-5.921314e+08</td>\n      <td>1.489807e+08</td>\n      <td>17</td>\n    </tr>\n    <tr>\n      <th>9</th>\n      <td>0.079036</td>\n      <td>0.002194</td>\n      <td>0.000598</td>\n      <td>0.000489</td>\n      <td>1</td>\n      <td>0.95</td>\n      <td>{'alpha': 1, 'l1_ratio': 0.95}</td>\n      <td>-6.821107e+08</td>\n      <td>-6.064237e+08</td>\n      <td>-3.806976e+08</td>\n      <td>-4.070077e+08</td>\n      <td>-5.878334e+08</td>\n      <td>-5.328146e+08</td>\n      <td>1.180692e+08</td>\n      <td>10</td>\n    </tr>\n    <tr>\n      <th>10</th>\n      <td>0.197990</td>\n      <td>0.009639</td>\n      <td>0.000797</td>\n      <td>0.000399</td>\n      <td>1</td>\n      <td>0.99</td>\n      <td>{'alpha': 1, 'l1_ratio': 0.99}</td>\n      <td>-6.669618e+08</td>\n      <td>-5.879018e+08</td>\n      <td>-3.819024e+08</td>\n      <td>-4.093708e+08</td>\n      <td>-5.880459e+08</td>\n      <td>-5.268365e+08</td>\n      <td>1.112787e+08</td>\n      <td>3</td>\n    </tr>\n    <tr>\n      <th>11</th>\n      <td>0.219569</td>\n      <td>0.003340</td>\n      <td>0.000898</td>\n      <td>0.000524</td>\n      <td>1</td>\n      <td>1</td>\n      <td>{'alpha': 1, 'l1_ratio': 1}</td>\n      <td>-6.768547e+08</td>\n      <td>-6.003944e+08</td>\n      <td>-3.821751e+08</td>\n      <td>-4.306818e+08</td>\n      <td>-5.943141e+08</td>\n      <td>-5.368840e+08</td>\n      <td>1.114786e+08</td>\n      <td>12</td>\n    </tr>\n    <tr>\n      <th>12</th>\n      <td>0.014286</td>\n      <td>0.002695</td>\n      <td>0.000516</td>\n      <td>0.000447</td>\n      <td>5</td>\n      <td>0.1</td>\n      <td>{'alpha': 5, 'l1_ratio': 0.1}</td>\n      <td>-1.559315e+09</td>\n      <td>-1.908632e+09</td>\n      <td>-9.766328e+08</td>\n      <td>-9.760468e+08</td>\n      <td>-1.476170e+09</td>\n      <td>-1.379359e+09</td>\n      <td>3.596485e+08</td>\n      <td>27</td>\n    </tr>\n    <tr>\n      <th>13</th>\n      <td>0.014063</td>\n      <td>0.000434</td>\n      <td>0.000598</td>\n      <td>0.000488</td>\n      <td>5</td>\n      <td>0.5</td>\n      <td>{'alpha': 5, 'l1_ratio': 0.5}</td>\n      <td>-1.214943e+09</td>\n      <td>-1.458996e+09</td>\n      <td>-7.016213e+08</td>\n      <td>-7.370326e+08</td>\n      <td>-1.111373e+09</td>\n      <td>-1.044793e+09</td>\n      <td>2.889399e+08</td>\n      <td>24</td>\n    </tr>\n    <tr>\n      <th>14</th>\n      <td>0.017816</td>\n      <td>0.000765</td>\n      <td>0.000850</td>\n      <td>0.000433</td>\n      <td>5</td>\n      <td>0.7</td>\n      <td>{'alpha': 5, 'l1_ratio': 0.7}</td>\n      <td>-1.020199e+09</td>\n      <td>-1.183631e+09</td>\n      <td>-5.565884e+08</td>\n      <td>-6.065791e+08</td>\n      <td>-9.079494e+08</td>\n      <td>-8.549895e+08</td>\n      <td>2.403561e+08</td>\n      <td>23</td>\n    </tr>\n    <tr>\n      <th>15</th>\n      <td>0.035791</td>\n      <td>0.001684</td>\n      <td>0.000399</td>\n      <td>0.000489</td>\n      <td>5</td>\n      <td>0.95</td>\n      <td>{'alpha': 5, 'l1_ratio': 0.95}</td>\n      <td>-7.380469e+08</td>\n      <td>-7.152032e+08</td>\n      <td>-3.919408e+08</td>\n      <td>-4.305438e+08</td>\n      <td>-6.246432e+08</td>\n      <td>-5.800756e+08</td>\n      <td>1.434957e+08</td>\n      <td>16</td>\n    </tr>\n    <tr>\n      <th>16</th>\n      <td>0.064786</td>\n      <td>0.003497</td>\n      <td>0.000399</td>\n      <td>0.000488</td>\n      <td>5</td>\n      <td>0.99</td>\n      <td>{'alpha': 5, 'l1_ratio': 0.99}</td>\n      <td>-6.815304e+08</td>\n      <td>-6.063142e+08</td>\n      <td>-3.802629e+08</td>\n      <td>-4.062500e+08</td>\n      <td>-5.868648e+08</td>\n      <td>-5.322445e+08</td>\n      <td>1.180923e+08</td>\n      <td>9</td>\n    </tr>\n    <tr>\n      <th>17</th>\n      <td>0.222652</td>\n      <td>0.006584</td>\n      <td>0.000884</td>\n      <td>0.000450</td>\n      <td>5</td>\n      <td>1</td>\n      <td>{'alpha': 5, 'l1_ratio': 1}</td>\n      <td>-6.714998e+08</td>\n      <td>-5.966434e+08</td>\n      <td>-3.804620e+08</td>\n      <td>-4.191734e+08</td>\n      <td>-5.913751e+08</td>\n      <td>-5.318307e+08</td>\n      <td>1.121230e+08</td>\n      <td>7</td>\n    </tr>\n    <tr>\n      <th>18</th>\n      <td>0.010632</td>\n      <td>0.000721</td>\n      <td>0.000549</td>\n      <td>0.000458</td>\n      <td>10</td>\n      <td>0.1</td>\n      <td>{'alpha': 10, 'l1_ratio': 0.1}</td>\n      <td>-2.196049e+09</td>\n      <td>-2.680776e+09</td>\n      <td>-1.513349e+09</td>\n      <td>-1.440617e+09</td>\n      <td>-2.158587e+09</td>\n      <td>-1.997876e+09</td>\n      <td>4.640597e+08</td>\n      <td>30</td>\n    </tr>\n    <tr>\n      <th>19</th>\n      <td>0.011600</td>\n      <td>0.000507</td>\n      <td>0.000586</td>\n      <td>0.000386</td>\n      <td>10</td>\n      <td>0.5</td>\n      <td>{'alpha': 10, 'l1_ratio': 0.5}</td>\n      <td>-1.638794e+09</td>\n      <td>-2.008322e+09</td>\n      <td>-1.042129e+09</td>\n      <td>-1.032572e+09</td>\n      <td>-1.560973e+09</td>\n      <td>-1.456558e+09</td>\n      <td>3.741851e+08</td>\n      <td>28</td>\n    </tr>\n    <tr>\n      <th>20</th>\n      <td>0.014294</td>\n      <td>0.002125</td>\n      <td>0.000438</td>\n      <td>0.000417</td>\n      <td>10</td>\n      <td>0.7</td>\n      <td>{'alpha': 10, 'l1_ratio': 0.7}</td>\n      <td>-1.306247e+09</td>\n      <td>-1.581829e+09</td>\n      <td>-7.728658e+08</td>\n      <td>-7.994745e+08</td>\n      <td>-1.207512e+09</td>\n      <td>-1.133586e+09</td>\n      <td>3.091756e+08</td>\n      <td>26</td>\n    </tr>\n    <tr>\n      <th>21</th>\n      <td>0.026798</td>\n      <td>0.001094</td>\n      <td>0.000540</td>\n      <td>0.000454</td>\n      <td>10</td>\n      <td>0.95</td>\n      <td>{'alpha': 10, 'l1_ratio': 0.95}</td>\n      <td>-7.998303e+08</td>\n      <td>-8.308887e+08</td>\n      <td>-4.178338e+08</td>\n      <td>-4.660963e+08</td>\n      <td>-6.829041e+08</td>\n      <td>-6.395106e+08</td>\n      <td>1.693659e+08</td>\n      <td>19</td>\n    </tr>\n    <tr>\n      <th>22</th>\n      <td>0.037707</td>\n      <td>0.001560</td>\n      <td>0.000399</td>\n      <td>0.000489</td>\n      <td>10</td>\n      <td>0.99</td>\n      <td>{'alpha': 10, 'l1_ratio': 0.99}</td>\n      <td>-6.974280e+08</td>\n      <td>-6.356626e+08</td>\n      <td>-3.817457e+08</td>\n      <td>-4.107073e+08</td>\n      <td>-5.931710e+08</td>\n      <td>-5.437429e+08</td>\n      <td>1.252622e+08</td>\n      <td>15</td>\n    </tr>\n    <tr>\n      <th>23</th>\n      <td>0.218133</td>\n      <td>0.002331</td>\n      <td>0.000981</td>\n      <td>0.000036</td>\n      <td>10</td>\n      <td>1</td>\n      <td>{'alpha': 10, 'l1_ratio': 1}</td>\n      <td>-6.672342e+08</td>\n      <td>-5.937499e+08</td>\n      <td>-3.809313e+08</td>\n      <td>-4.127535e+08</td>\n      <td>-5.900095e+08</td>\n      <td>-5.289357e+08</td>\n      <td>1.117685e+08</td>\n      <td>6</td>\n    </tr>\n    <tr>\n      <th>24</th>\n      <td>0.009053</td>\n      <td>0.000533</td>\n      <td>0.001378</td>\n      <td>0.000826</td>\n      <td>50</td>\n      <td>0.1</td>\n      <td>{'alpha': 50, 'l1_ratio': 0.1}</td>\n      <td>-4.521898e+09</td>\n      <td>-5.274542e+09</td>\n      <td>-3.582001e+09</td>\n      <td>-3.295250e+09</td>\n      <td>-4.632304e+09</td>\n      <td>-4.261199e+09</td>\n      <td>7.248331e+08</td>\n      <td>34</td>\n    </tr>\n    <tr>\n      <th>25</th>\n      <td>0.008727</td>\n      <td>0.000404</td>\n      <td>0.000745</td>\n      <td>0.000384</td>\n      <td>50</td>\n      <td>0.5</td>\n      <td>{'alpha': 50, 'l1_ratio': 0.5}</td>\n      <td>-3.617005e+09</td>\n      <td>-4.289261e+09</td>\n      <td>-2.765078e+09</td>\n      <td>-2.551358e+09</td>\n      <td>-3.676952e+09</td>\n      <td>-3.379931e+09</td>\n      <td>6.381042e+08</td>\n      <td>32</td>\n    </tr>\n    <tr>\n      <th>26</th>\n      <td>0.008615</td>\n      <td>0.000428</td>\n      <td>0.000472</td>\n      <td>0.000412</td>\n      <td>50</td>\n      <td>0.7</td>\n      <td>{'alpha': 50, 'l1_ratio': 0.7}</td>\n      <td>-2.850466e+09</td>\n      <td>-3.434632e+09</td>\n      <td>-2.083660e+09</td>\n      <td>-1.941614e+09</td>\n      <td>-2.860333e+09</td>\n      <td>-2.634141e+09</td>\n      <td>5.516101e+08</td>\n      <td>31</td>\n    </tr>\n    <tr>\n      <th>27</th>\n      <td>0.013277</td>\n      <td>0.002170</td>\n      <td>0.000782</td>\n      <td>0.000392</td>\n      <td>50</td>\n      <td>0.95</td>\n      <td>{'alpha': 50, 'l1_ratio': 0.95}</td>\n      <td>-1.217909e+09</td>\n      <td>-1.464324e+09</td>\n      <td>-7.045606e+08</td>\n      <td>-7.395645e+08</td>\n      <td>-1.114204e+09</td>\n      <td>-1.048112e+09</td>\n      <td>2.897104e+08</td>\n      <td>25</td>\n    </tr>\n    <tr>\n      <th>28</th>\n      <td>0.025123</td>\n      <td>0.001755</td>\n      <td>0.000970</td>\n      <td>0.000213</td>\n      <td>50</td>\n      <td>0.99</td>\n      <td>{'alpha': 50, 'l1_ratio': 0.99}</td>\n      <td>-8.010221e+08</td>\n      <td>-8.357895e+08</td>\n      <td>-4.184254e+08</td>\n      <td>-4.671594e+08</td>\n      <td>-6.824159e+08</td>\n      <td>-6.409624e+08</td>\n      <td>1.703087e+08</td>\n      <td>20</td>\n    </tr>\n    <tr>\n      <th>29</th>\n      <td>0.185455</td>\n      <td>0.012603</td>\n      <td>0.000329</td>\n      <td>0.000419</td>\n      <td>50</td>\n      <td>1</td>\n      <td>{'alpha': 50, 'l1_ratio': 1}</td>\n      <td>-6.534345e+08</td>\n      <td>-5.766999e+08</td>\n      <td>-3.806750e+08</td>\n      <td>-4.047287e+08</td>\n      <td>-5.806001e+08</td>\n      <td>-5.192277e+08</td>\n      <td>1.071335e+08</td>\n      <td>2</td>\n    </tr>\n    <tr>\n      <th>30</th>\n      <td>0.007881</td>\n      <td>0.000354</td>\n      <td>0.000843</td>\n      <td>0.000495</td>\n      <td>100</td>\n      <td>0.1</td>\n      <td>{'alpha': 100, 'l1_ratio': 0.1}</td>\n      <td>-5.427362e+09</td>\n      <td>-6.244043e+09</td>\n      <td>-4.409434e+09</td>\n      <td>-4.059744e+09</td>\n      <td>-5.579981e+09</td>\n      <td>-5.144113e+09</td>\n      <td>7.994581e+08</td>\n      <td>36</td>\n    </tr>\n    <tr>\n      <th>31</th>\n      <td>0.008477</td>\n      <td>0.000085</td>\n      <td>0.000982</td>\n      <td>0.000115</td>\n      <td>100</td>\n      <td>0.5</td>\n      <td>{'alpha': 100, 'l1_ratio': 0.5}</td>\n      <td>-4.678476e+09</td>\n      <td>-5.443283e+09</td>\n      <td>-3.724350e+09</td>\n      <td>-3.426008e+09</td>\n      <td>-4.796636e+09</td>\n      <td>-4.413750e+09</td>\n      <td>7.385833e+08</td>\n      <td>35</td>\n    </tr>\n    <tr>\n      <th>32</th>\n      <td>0.007987</td>\n      <td>0.000437</td>\n      <td>0.001061</td>\n      <td>0.000128</td>\n      <td>100</td>\n      <td>0.7</td>\n      <td>{'alpha': 100, 'l1_ratio': 0.7}</td>\n      <td>-3.906658e+09</td>\n      <td>-4.607061e+09</td>\n      <td>-3.025208e+09</td>\n      <td>-2.786780e+09</td>\n      <td>-3.983546e+09</td>\n      <td>-3.661851e+09</td>\n      <td>6.675183e+08</td>\n      <td>33</td>\n    </tr>\n    <tr>\n      <th>33</th>\n      <td>0.010881</td>\n      <td>0.002116</td>\n      <td>0.000995</td>\n      <td>0.000032</td>\n      <td>100</td>\n      <td>0.95</td>\n      <td>{'alpha': 100, 'l1_ratio': 0.95}</td>\n      <td>-1.646694e+09</td>\n      <td>-2.019573e+09</td>\n      <td>-1.049231e+09</td>\n      <td>-1.038702e+09</td>\n      <td>-1.569011e+09</td>\n      <td>-1.464642e+09</td>\n      <td>3.757594e+08</td>\n      <td>29</td>\n    </tr>\n    <tr>\n      <th>34</th>\n      <td>0.017688</td>\n      <td>0.001554</td>\n      <td>0.000771</td>\n      <td>0.000389</td>\n      <td>100</td>\n      <td>0.99</td>\n      <td>{'alpha': 100, 'l1_ratio': 0.99}</td>\n      <td>-9.183798e+08</td>\n      <td>-1.033918e+09</td>\n      <td>-4.885863e+08</td>\n      <td>-5.409925e+08</td>\n      <td>-8.010733e+08</td>\n      <td>-7.565901e+08</td>\n      <td>2.113641e+08</td>\n      <td>22</td>\n    </tr>\n    <tr>\n      <th>35</th>\n      <td>0.099278</td>\n      <td>0.005979</td>\n      <td>0.000949</td>\n      <td>0.001096</td>\n      <td>100</td>\n      <td>1</td>\n      <td>{'alpha': 100, 'l1_ratio': 1}</td>\n      <td>-6.527522e+08</td>\n      <td>-5.774424e+08</td>\n      <td>-3.762401e+08</td>\n      <td>-3.950646e+08</td>\n      <td>-5.724653e+08</td>\n      <td>-5.147929e+08</td>\n      <td>1.093760e+08</td>\n      <td>1</td>\n    </tr>\n  </tbody>\n</table>\n</div>"
     },
     "execution_count": 502,
     "metadata": {},
     "output_type": "execute_result"
    }
   ],
   "source": [
    "results"
   ],
   "metadata": {
    "collapsed": false,
    "pycharm": {
     "name": "#%%\n"
    }
   }
  },
  {
   "cell_type": "markdown",
   "source": [
    "**TASK: Evaluate your model's performance on the unseen 10% scaled test set. In the solutions notebook we achieved an MAE of (14149 dollar) and a RMSE of (20532 dollar)**"
   ],
   "metadata": {
    "collapsed": false
   }
  },
  {
   "cell_type": "code",
   "execution_count": 503,
   "outputs": [],
   "source": [
    "grid_predict = grid_model.predict(X_test)"
   ],
   "metadata": {
    "collapsed": false,
    "pycharm": {
     "name": "#%%\n"
    }
   }
  },
  {
   "cell_type": "code",
   "execution_count": 504,
   "outputs": [],
   "source": [
    "from sklearn.metrics import mean_squared_error, mean_absolute_error"
   ],
   "metadata": {
    "collapsed": false,
    "pycharm": {
     "name": "#%%\n"
    }
   }
  },
  {
   "cell_type": "code",
   "execution_count": 505,
   "outputs": [],
   "source": [
    "MAE = mean_absolute_error(y_true=y_test, y_pred= grid_predict)"
   ],
   "metadata": {
    "collapsed": false,
    "pycharm": {
     "name": "#%%\n"
    }
   }
  },
  {
   "cell_type": "code",
   "execution_count": 506,
   "outputs": [
    {
     "data": {
      "text/plain": "14195.35490056217"
     },
     "execution_count": 506,
     "metadata": {},
     "output_type": "execute_result"
    }
   ],
   "source": [
    "MAE"
   ],
   "metadata": {
    "collapsed": false,
    "pycharm": {
     "name": "#%%\n"
    }
   }
  },
  {
   "cell_type": "code",
   "execution_count": 507,
   "outputs": [],
   "source": [
    "RMSE = np.sqrt(mean_squared_error(y_true=y_test, y_pred=grid_predict))"
   ],
   "metadata": {
    "collapsed": false,
    "pycharm": {
     "name": "#%%\n"
    }
   }
  },
  {
   "cell_type": "code",
   "execution_count": 508,
   "outputs": [
    {
     "data": {
      "text/plain": "20558.50856689317"
     },
     "execution_count": 508,
     "metadata": {},
     "output_type": "execute_result"
    }
   ],
   "source": [
    "RMSE"
   ],
   "metadata": {
    "collapsed": false,
    "pycharm": {
     "name": "#%%\n"
    }
   }
  },
  {
   "cell_type": "code",
   "execution_count": 508,
   "outputs": [],
   "source": [],
   "metadata": {
    "collapsed": false,
    "pycharm": {
     "name": "#%%\n"
    }
   }
  }
 ],
 "metadata": {
  "kernelspec": {
   "display_name": "Python 3",
   "language": "python",
   "name": "python3"
  },
  "language_info": {
   "codemirror_mode": {
    "name": "ipython",
    "version": 2
   },
   "file_extension": ".py",
   "mimetype": "text/x-python",
   "name": "python",
   "nbconvert_exporter": "python",
   "pygments_lexer": "ipython2",
   "version": "2.7.6"
  }
 },
 "nbformat": 4,
 "nbformat_minor": 0
}