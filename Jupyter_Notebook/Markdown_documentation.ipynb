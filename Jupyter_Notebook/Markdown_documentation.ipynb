{
 "cells": [
  {
   "cell_type": "markdown",
   "metadata": {
    "collapsed": true,
    "pycharm": {
     "name": "#%% md\n"
    }
   },
   "source": [
    "Link: https://towardsdatascience.com/write-markdown-latex-in-the-jupyter-notebook-10985edb91fd\n",
    "<!-- [![Alt Text](image path \"title\")](link) -->\n",
    "<p><a href=\"https://medium.com/@ahmedazizkhelifi\"><img src=\"https://miro.medium.com/max/80/0*PRNVc7bjff0Jj1pm.png\" alt=\"Alt Text\" title=\"Optional Title\"></a></p>"
   ]
  }
 ],
 "metadata": {
  "kernelspec": {
   "name": "pycharm-bbcd271a",
   "language": "python",
   "display_name": "PyCharm (Numpy)"
  },
  "language_info": {
   "codemirror_mode": {
    "name": "ipython",
    "version": 2
   },
   "file_extension": ".py",
   "mimetype": "text/x-python",
   "name": "python",
   "nbconvert_exporter": "python",
   "pygments_lexer": "ipython2",
   "version": "2.7.6"
  }
 },
 "nbformat": 4,
 "nbformat_minor": 0
}