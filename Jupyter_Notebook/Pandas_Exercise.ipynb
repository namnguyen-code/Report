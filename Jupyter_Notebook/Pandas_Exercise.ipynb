{
 "cells": [
  {
   "cell_type": "code",
   "execution_count": 62,
   "metadata": {
    "collapsed": true
   },
   "outputs": [],
   "source": [
    "import pandas as pd\n",
    "import numpy as np"
   ]
  },
  {
   "cell_type": "code",
   "execution_count": 63,
   "outputs": [],
   "source": [
    "hotels = pd.read_csv(r'C:\\Users\\admin\\Desktop\\Data Science\\Course-2021\\03-Pandas\\hotel_booking_data.csv')"
   ],
   "metadata": {
    "collapsed": false,
    "pycharm": {
     "name": "#%%\n"
    }
   }
  },
  {
   "cell_type": "code",
   "execution_count": 64,
   "outputs": [
    {
     "data": {
      "text/plain": "               hotel  is_canceled  lead_time  arrival_date_year  \\\n0       Resort Hotel            0        342               2015   \n1       Resort Hotel            0        737               2015   \n2       Resort Hotel            0          7               2015   \n3       Resort Hotel            0         13               2015   \n4       Resort Hotel            0         14               2015   \n...              ...          ...        ...                ...   \n119385    City Hotel            0         23               2017   \n119386    City Hotel            0        102               2017   \n119387    City Hotel            0         34               2017   \n119388    City Hotel            0        109               2017   \n119389    City Hotel            0        205               2017   \n\n       arrival_date_month  arrival_date_week_number  \\\n0                    July                        27   \n1                    July                        27   \n2                    July                        27   \n3                    July                        27   \n4                    July                        27   \n...                   ...                       ...   \n119385             August                        35   \n119386             August                        35   \n119387             August                        35   \n119388             August                        35   \n119389             August                        35   \n\n        arrival_date_day_of_month  stays_in_weekend_nights  \\\n0                               1                        0   \n1                               1                        0   \n2                               1                        0   \n3                               1                        0   \n4                               1                        0   \n...                           ...                      ...   \n119385                         30                        2   \n119386                         31                        2   \n119387                         31                        2   \n119388                         31                        2   \n119389                         29                        2   \n\n        stays_in_week_nights  adults  ...  customer_type     adr  \\\n0                          0       2  ...      Transient    0.00   \n1                          0       2  ...      Transient    0.00   \n2                          1       1  ...      Transient   75.00   \n3                          1       1  ...      Transient   75.00   \n4                          2       2  ...      Transient   98.00   \n...                      ...     ...  ...            ...     ...   \n119385                     5       2  ...      Transient   96.14   \n119386                     5       3  ...      Transient  225.43   \n119387                     5       2  ...      Transient  157.71   \n119388                     5       2  ...      Transient  104.40   \n119389                     7       2  ...      Transient  151.20   \n\n       required_car_parking_spaces total_of_special_requests  \\\n0                                0                         0   \n1                                0                         0   \n2                                0                         0   \n3                                0                         0   \n4                                0                         1   \n...                            ...                       ...   \n119385                           0                         0   \n119386                           0                         2   \n119387                           0                         4   \n119388                           0                         0   \n119389                           0                         2   \n\n       reservation_status reservation_status_date                name  \\\n0               Check-Out              2015-07-01       Ernest Barnes   \n1               Check-Out              2015-07-01        Andrea Baker   \n2               Check-Out              2015-07-02      Rebecca Parker   \n3               Check-Out              2015-07-02        Laura Murray   \n4               Check-Out              2015-07-03         Linda Hines   \n...                   ...                     ...                 ...   \n119385          Check-Out              2017-09-06     Claudia Johnson   \n119386          Check-Out              2017-09-07      Wesley Aguilar   \n119387          Check-Out              2017-09-07        Mary Morales   \n119388          Check-Out              2017-09-07  Caroline Conley MD   \n119389          Check-Out              2017-09-07      Ariana Michael   \n\n                              email  phone-number       credit_card  \n0       Ernest.Barnes31@outlook.com  669-792-1661  ************4322  \n1            Andrea_Baker94@aol.com  858-637-6955  ************9157  \n2        Rebecca_Parker@comcast.net  652-885-2745  ************3734  \n3                 Laura_M@gmail.com  364-656-8427  ************5677  \n4                LHines@verizon.com  713-226-5883  ************5498  \n...                             ...           ...               ...  \n119385          Claudia.J@yahoo.com  403-092-5582  ************8647  \n119386         WAguilar@xfinity.com  238-763-0612  ************4333  \n119387     Mary_Morales@hotmail.com  395-518-4100  ************1821  \n119388      MD_Caroline@comcast.net  531-528-1017  ************7860  \n119389         Ariana_M@xfinity.com  422-804-6403  ************4482  \n\n[119390 rows x 36 columns]",
      "text/html": "<div>\n<style scoped>\n    .dataframe tbody tr th:only-of-type {\n        vertical-align: middle;\n    }\n\n    .dataframe tbody tr th {\n        vertical-align: top;\n    }\n\n    .dataframe thead th {\n        text-align: right;\n    }\n</style>\n<table border=\"1\" class=\"dataframe\">\n  <thead>\n    <tr style=\"text-align: right;\">\n      <th></th>\n      <th>hotel</th>\n      <th>is_canceled</th>\n      <th>lead_time</th>\n      <th>arrival_date_year</th>\n      <th>arrival_date_month</th>\n      <th>arrival_date_week_number</th>\n      <th>arrival_date_day_of_month</th>\n      <th>stays_in_weekend_nights</th>\n      <th>stays_in_week_nights</th>\n      <th>adults</th>\n      <th>...</th>\n      <th>customer_type</th>\n      <th>adr</th>\n      <th>required_car_parking_spaces</th>\n      <th>total_of_special_requests</th>\n      <th>reservation_status</th>\n      <th>reservation_status_date</th>\n      <th>name</th>\n      <th>email</th>\n      <th>phone-number</th>\n      <th>credit_card</th>\n    </tr>\n  </thead>\n  <tbody>\n    <tr>\n      <th>0</th>\n      <td>Resort Hotel</td>\n      <td>0</td>\n      <td>342</td>\n      <td>2015</td>\n      <td>July</td>\n      <td>27</td>\n      <td>1</td>\n      <td>0</td>\n      <td>0</td>\n      <td>2</td>\n      <td>...</td>\n      <td>Transient</td>\n      <td>0.00</td>\n      <td>0</td>\n      <td>0</td>\n      <td>Check-Out</td>\n      <td>2015-07-01</td>\n      <td>Ernest Barnes</td>\n      <td>Ernest.Barnes31@outlook.com</td>\n      <td>669-792-1661</td>\n      <td>************4322</td>\n    </tr>\n    <tr>\n      <th>1</th>\n      <td>Resort Hotel</td>\n      <td>0</td>\n      <td>737</td>\n      <td>2015</td>\n      <td>July</td>\n      <td>27</td>\n      <td>1</td>\n      <td>0</td>\n      <td>0</td>\n      <td>2</td>\n      <td>...</td>\n      <td>Transient</td>\n      <td>0.00</td>\n      <td>0</td>\n      <td>0</td>\n      <td>Check-Out</td>\n      <td>2015-07-01</td>\n      <td>Andrea Baker</td>\n      <td>Andrea_Baker94@aol.com</td>\n      <td>858-637-6955</td>\n      <td>************9157</td>\n    </tr>\n    <tr>\n      <th>2</th>\n      <td>Resort Hotel</td>\n      <td>0</td>\n      <td>7</td>\n      <td>2015</td>\n      <td>July</td>\n      <td>27</td>\n      <td>1</td>\n      <td>0</td>\n      <td>1</td>\n      <td>1</td>\n      <td>...</td>\n      <td>Transient</td>\n      <td>75.00</td>\n      <td>0</td>\n      <td>0</td>\n      <td>Check-Out</td>\n      <td>2015-07-02</td>\n      <td>Rebecca Parker</td>\n      <td>Rebecca_Parker@comcast.net</td>\n      <td>652-885-2745</td>\n      <td>************3734</td>\n    </tr>\n    <tr>\n      <th>3</th>\n      <td>Resort Hotel</td>\n      <td>0</td>\n      <td>13</td>\n      <td>2015</td>\n      <td>July</td>\n      <td>27</td>\n      <td>1</td>\n      <td>0</td>\n      <td>1</td>\n      <td>1</td>\n      <td>...</td>\n      <td>Transient</td>\n      <td>75.00</td>\n      <td>0</td>\n      <td>0</td>\n      <td>Check-Out</td>\n      <td>2015-07-02</td>\n      <td>Laura Murray</td>\n      <td>Laura_M@gmail.com</td>\n      <td>364-656-8427</td>\n      <td>************5677</td>\n    </tr>\n    <tr>\n      <th>4</th>\n      <td>Resort Hotel</td>\n      <td>0</td>\n      <td>14</td>\n      <td>2015</td>\n      <td>July</td>\n      <td>27</td>\n      <td>1</td>\n      <td>0</td>\n      <td>2</td>\n      <td>2</td>\n      <td>...</td>\n      <td>Transient</td>\n      <td>98.00</td>\n      <td>0</td>\n      <td>1</td>\n      <td>Check-Out</td>\n      <td>2015-07-03</td>\n      <td>Linda Hines</td>\n      <td>LHines@verizon.com</td>\n      <td>713-226-5883</td>\n      <td>************5498</td>\n    </tr>\n    <tr>\n      <th>...</th>\n      <td>...</td>\n      <td>...</td>\n      <td>...</td>\n      <td>...</td>\n      <td>...</td>\n      <td>...</td>\n      <td>...</td>\n      <td>...</td>\n      <td>...</td>\n      <td>...</td>\n      <td>...</td>\n      <td>...</td>\n      <td>...</td>\n      <td>...</td>\n      <td>...</td>\n      <td>...</td>\n      <td>...</td>\n      <td>...</td>\n      <td>...</td>\n      <td>...</td>\n      <td>...</td>\n    </tr>\n    <tr>\n      <th>119385</th>\n      <td>City Hotel</td>\n      <td>0</td>\n      <td>23</td>\n      <td>2017</td>\n      <td>August</td>\n      <td>35</td>\n      <td>30</td>\n      <td>2</td>\n      <td>5</td>\n      <td>2</td>\n      <td>...</td>\n      <td>Transient</td>\n      <td>96.14</td>\n      <td>0</td>\n      <td>0</td>\n      <td>Check-Out</td>\n      <td>2017-09-06</td>\n      <td>Claudia Johnson</td>\n      <td>Claudia.J@yahoo.com</td>\n      <td>403-092-5582</td>\n      <td>************8647</td>\n    </tr>\n    <tr>\n      <th>119386</th>\n      <td>City Hotel</td>\n      <td>0</td>\n      <td>102</td>\n      <td>2017</td>\n      <td>August</td>\n      <td>35</td>\n      <td>31</td>\n      <td>2</td>\n      <td>5</td>\n      <td>3</td>\n      <td>...</td>\n      <td>Transient</td>\n      <td>225.43</td>\n      <td>0</td>\n      <td>2</td>\n      <td>Check-Out</td>\n      <td>2017-09-07</td>\n      <td>Wesley Aguilar</td>\n      <td>WAguilar@xfinity.com</td>\n      <td>238-763-0612</td>\n      <td>************4333</td>\n    </tr>\n    <tr>\n      <th>119387</th>\n      <td>City Hotel</td>\n      <td>0</td>\n      <td>34</td>\n      <td>2017</td>\n      <td>August</td>\n      <td>35</td>\n      <td>31</td>\n      <td>2</td>\n      <td>5</td>\n      <td>2</td>\n      <td>...</td>\n      <td>Transient</td>\n      <td>157.71</td>\n      <td>0</td>\n      <td>4</td>\n      <td>Check-Out</td>\n      <td>2017-09-07</td>\n      <td>Mary Morales</td>\n      <td>Mary_Morales@hotmail.com</td>\n      <td>395-518-4100</td>\n      <td>************1821</td>\n    </tr>\n    <tr>\n      <th>119388</th>\n      <td>City Hotel</td>\n      <td>0</td>\n      <td>109</td>\n      <td>2017</td>\n      <td>August</td>\n      <td>35</td>\n      <td>31</td>\n      <td>2</td>\n      <td>5</td>\n      <td>2</td>\n      <td>...</td>\n      <td>Transient</td>\n      <td>104.40</td>\n      <td>0</td>\n      <td>0</td>\n      <td>Check-Out</td>\n      <td>2017-09-07</td>\n      <td>Caroline Conley MD</td>\n      <td>MD_Caroline@comcast.net</td>\n      <td>531-528-1017</td>\n      <td>************7860</td>\n    </tr>\n    <tr>\n      <th>119389</th>\n      <td>City Hotel</td>\n      <td>0</td>\n      <td>205</td>\n      <td>2017</td>\n      <td>August</td>\n      <td>35</td>\n      <td>29</td>\n      <td>2</td>\n      <td>7</td>\n      <td>2</td>\n      <td>...</td>\n      <td>Transient</td>\n      <td>151.20</td>\n      <td>0</td>\n      <td>2</td>\n      <td>Check-Out</td>\n      <td>2017-09-07</td>\n      <td>Ariana Michael</td>\n      <td>Ariana_M@xfinity.com</td>\n      <td>422-804-6403</td>\n      <td>************4482</td>\n    </tr>\n  </tbody>\n</table>\n<p>119390 rows × 36 columns</p>\n</div>"
     },
     "execution_count": 64,
     "metadata": {},
     "output_type": "execute_result"
    }
   ],
   "source": [
    "hotels"
   ],
   "metadata": {
    "collapsed": false,
    "pycharm": {
     "name": "#%%\n"
    }
   }
  },
  {
   "cell_type": "code",
   "execution_count": 65,
   "outputs": [
    {
     "data": {
      "text/plain": "          hotel  is_canceled  lead_time  arrival_date_year arrival_date_month  \\\n0  Resort Hotel            0        342               2015               July   \n1  Resort Hotel            0        737               2015               July   \n2  Resort Hotel            0          7               2015               July   \n3  Resort Hotel            0         13               2015               July   \n4  Resort Hotel            0         14               2015               July   \n\n   arrival_date_week_number  arrival_date_day_of_month  \\\n0                        27                          1   \n1                        27                          1   \n2                        27                          1   \n3                        27                          1   \n4                        27                          1   \n\n   stays_in_weekend_nights  stays_in_week_nights  adults  ...  customer_type  \\\n0                        0                     0       2  ...      Transient   \n1                        0                     0       2  ...      Transient   \n2                        0                     1       1  ...      Transient   \n3                        0                     1       1  ...      Transient   \n4                        0                     2       2  ...      Transient   \n\n    adr required_car_parking_spaces total_of_special_requests  \\\n0   0.0                           0                         0   \n1   0.0                           0                         0   \n2  75.0                           0                         0   \n3  75.0                           0                         0   \n4  98.0                           0                         1   \n\n  reservation_status reservation_status_date            name  \\\n0          Check-Out              2015-07-01   Ernest Barnes   \n1          Check-Out              2015-07-01    Andrea Baker   \n2          Check-Out              2015-07-02  Rebecca Parker   \n3          Check-Out              2015-07-02    Laura Murray   \n4          Check-Out              2015-07-03     Linda Hines   \n\n                         email  phone-number       credit_card  \n0  Ernest.Barnes31@outlook.com  669-792-1661  ************4322  \n1       Andrea_Baker94@aol.com  858-637-6955  ************9157  \n2   Rebecca_Parker@comcast.net  652-885-2745  ************3734  \n3            Laura_M@gmail.com  364-656-8427  ************5677  \n4           LHines@verizon.com  713-226-5883  ************5498  \n\n[5 rows x 36 columns]",
      "text/html": "<div>\n<style scoped>\n    .dataframe tbody tr th:only-of-type {\n        vertical-align: middle;\n    }\n\n    .dataframe tbody tr th {\n        vertical-align: top;\n    }\n\n    .dataframe thead th {\n        text-align: right;\n    }\n</style>\n<table border=\"1\" class=\"dataframe\">\n  <thead>\n    <tr style=\"text-align: right;\">\n      <th></th>\n      <th>hotel</th>\n      <th>is_canceled</th>\n      <th>lead_time</th>\n      <th>arrival_date_year</th>\n      <th>arrival_date_month</th>\n      <th>arrival_date_week_number</th>\n      <th>arrival_date_day_of_month</th>\n      <th>stays_in_weekend_nights</th>\n      <th>stays_in_week_nights</th>\n      <th>adults</th>\n      <th>...</th>\n      <th>customer_type</th>\n      <th>adr</th>\n      <th>required_car_parking_spaces</th>\n      <th>total_of_special_requests</th>\n      <th>reservation_status</th>\n      <th>reservation_status_date</th>\n      <th>name</th>\n      <th>email</th>\n      <th>phone-number</th>\n      <th>credit_card</th>\n    </tr>\n  </thead>\n  <tbody>\n    <tr>\n      <th>0</th>\n      <td>Resort Hotel</td>\n      <td>0</td>\n      <td>342</td>\n      <td>2015</td>\n      <td>July</td>\n      <td>27</td>\n      <td>1</td>\n      <td>0</td>\n      <td>0</td>\n      <td>2</td>\n      <td>...</td>\n      <td>Transient</td>\n      <td>0.0</td>\n      <td>0</td>\n      <td>0</td>\n      <td>Check-Out</td>\n      <td>2015-07-01</td>\n      <td>Ernest Barnes</td>\n      <td>Ernest.Barnes31@outlook.com</td>\n      <td>669-792-1661</td>\n      <td>************4322</td>\n    </tr>\n    <tr>\n      <th>1</th>\n      <td>Resort Hotel</td>\n      <td>0</td>\n      <td>737</td>\n      <td>2015</td>\n      <td>July</td>\n      <td>27</td>\n      <td>1</td>\n      <td>0</td>\n      <td>0</td>\n      <td>2</td>\n      <td>...</td>\n      <td>Transient</td>\n      <td>0.0</td>\n      <td>0</td>\n      <td>0</td>\n      <td>Check-Out</td>\n      <td>2015-07-01</td>\n      <td>Andrea Baker</td>\n      <td>Andrea_Baker94@aol.com</td>\n      <td>858-637-6955</td>\n      <td>************9157</td>\n    </tr>\n    <tr>\n      <th>2</th>\n      <td>Resort Hotel</td>\n      <td>0</td>\n      <td>7</td>\n      <td>2015</td>\n      <td>July</td>\n      <td>27</td>\n      <td>1</td>\n      <td>0</td>\n      <td>1</td>\n      <td>1</td>\n      <td>...</td>\n      <td>Transient</td>\n      <td>75.0</td>\n      <td>0</td>\n      <td>0</td>\n      <td>Check-Out</td>\n      <td>2015-07-02</td>\n      <td>Rebecca Parker</td>\n      <td>Rebecca_Parker@comcast.net</td>\n      <td>652-885-2745</td>\n      <td>************3734</td>\n    </tr>\n    <tr>\n      <th>3</th>\n      <td>Resort Hotel</td>\n      <td>0</td>\n      <td>13</td>\n      <td>2015</td>\n      <td>July</td>\n      <td>27</td>\n      <td>1</td>\n      <td>0</td>\n      <td>1</td>\n      <td>1</td>\n      <td>...</td>\n      <td>Transient</td>\n      <td>75.0</td>\n      <td>0</td>\n      <td>0</td>\n      <td>Check-Out</td>\n      <td>2015-07-02</td>\n      <td>Laura Murray</td>\n      <td>Laura_M@gmail.com</td>\n      <td>364-656-8427</td>\n      <td>************5677</td>\n    </tr>\n    <tr>\n      <th>4</th>\n      <td>Resort Hotel</td>\n      <td>0</td>\n      <td>14</td>\n      <td>2015</td>\n      <td>July</td>\n      <td>27</td>\n      <td>1</td>\n      <td>0</td>\n      <td>2</td>\n      <td>2</td>\n      <td>...</td>\n      <td>Transient</td>\n      <td>98.0</td>\n      <td>0</td>\n      <td>1</td>\n      <td>Check-Out</td>\n      <td>2015-07-03</td>\n      <td>Linda Hines</td>\n      <td>LHines@verizon.com</td>\n      <td>713-226-5883</td>\n      <td>************5498</td>\n    </tr>\n  </tbody>\n</table>\n<p>5 rows × 36 columns</p>\n</div>"
     },
     "execution_count": 65,
     "metadata": {},
     "output_type": "execute_result"
    }
   ],
   "source": [
    "hotels.head()"
   ],
   "metadata": {
    "collapsed": false,
    "pycharm": {
     "name": "#%%\n"
    }
   }
  },
  {
   "cell_type": "markdown",
   "source": [
    "# How many row are there?"
   ],
   "metadata": {
    "collapsed": false,
    "pycharm": {
     "name": "#%% md\n"
    }
   }
  },
  {
   "cell_type": "code",
   "execution_count": 66,
   "outputs": [
    {
     "data": {
      "text/plain": "119390"
     },
     "execution_count": 66,
     "metadata": {},
     "output_type": "execute_result"
    }
   ],
   "source": [
    "hotels.count(axis=0)[0]"
   ],
   "metadata": {
    "collapsed": false,
    "pycharm": {
     "name": "#%%\n"
    }
   }
  },
  {
   "cell_type": "code",
   "execution_count": 67,
   "outputs": [
    {
     "data": {
      "text/plain": "119390"
     },
     "execution_count": 67,
     "metadata": {},
     "output_type": "execute_result"
    }
   ],
   "source": [
    "len(hotels)"
   ],
   "metadata": {
    "collapsed": false,
    "pycharm": {
     "name": "#%%\n"
    }
   }
  },
  {
   "cell_type": "code",
   "execution_count": 68,
   "outputs": [
    {
     "name": "stdout",
     "output_type": "stream",
     "text": [
      "<class 'pandas.core.frame.DataFrame'>\n",
      "RangeIndex: 119390 entries, 0 to 119389\n",
      "Data columns (total 36 columns):\n",
      " #   Column                          Non-Null Count   Dtype  \n",
      "---  ------                          --------------   -----  \n",
      " 0   hotel                           119390 non-null  object \n",
      " 1   is_canceled                     119390 non-null  int64  \n",
      " 2   lead_time                       119390 non-null  int64  \n",
      " 3   arrival_date_year               119390 non-null  int64  \n",
      " 4   arrival_date_month              119390 non-null  object \n",
      " 5   arrival_date_week_number        119390 non-null  int64  \n",
      " 6   arrival_date_day_of_month       119390 non-null  int64  \n",
      " 7   stays_in_weekend_nights         119390 non-null  int64  \n",
      " 8   stays_in_week_nights            119390 non-null  int64  \n",
      " 9   adults                          119390 non-null  int64  \n",
      " 10  children                        119386 non-null  float64\n",
      " 11  babies                          119390 non-null  int64  \n",
      " 12  meal                            119390 non-null  object \n",
      " 13  country                         118902 non-null  object \n",
      " 14  market_segment                  119390 non-null  object \n",
      " 15  distribution_channel            119390 non-null  object \n",
      " 16  is_repeated_guest               119390 non-null  int64  \n",
      " 17  previous_cancellations          119390 non-null  int64  \n",
      " 18  previous_bookings_not_canceled  119390 non-null  int64  \n",
      " 19  reserved_room_type              119390 non-null  object \n",
      " 20  assigned_room_type              119390 non-null  object \n",
      " 21  booking_changes                 119390 non-null  int64  \n",
      " 22  deposit_type                    119390 non-null  object \n",
      " 23  agent                           103050 non-null  float64\n",
      " 24  company                         6797 non-null    float64\n",
      " 25  days_in_waiting_list            119390 non-null  int64  \n",
      " 26  customer_type                   119390 non-null  object \n",
      " 27  adr                             119390 non-null  float64\n",
      " 28  required_car_parking_spaces     119390 non-null  int64  \n",
      " 29  total_of_special_requests       119390 non-null  int64  \n",
      " 30  reservation_status              119390 non-null  object \n",
      " 31  reservation_status_date         119390 non-null  object \n",
      " 32  name                            119390 non-null  object \n",
      " 33  email                           119390 non-null  object \n",
      " 34  phone-number                    119390 non-null  object \n",
      " 35  credit_card                     119390 non-null  object \n",
      "dtypes: float64(4), int64(16), object(16)\n",
      "memory usage: 32.8+ MB\n"
     ]
    }
   ],
   "source": [
    "hotels.info()"
   ],
   "metadata": {
    "collapsed": false,
    "pycharm": {
     "name": "#%%\n"
    }
   }
  },
  {
   "cell_type": "markdown",
   "source": [
    "# TASK: Is there any missing data? If so, which column has the most missing data?"
   ],
   "metadata": {
    "collapsed": false,
    "pycharm": {
     "name": "#%% md\n"
    }
   }
  },
  {
   "cell_type": "code",
   "execution_count": 69,
   "outputs": [
    {
     "data": {
      "text/plain": "hotel                                  0\nis_canceled                            0\nlead_time                              0\narrival_date_year                      0\narrival_date_month                     0\narrival_date_week_number               0\narrival_date_day_of_month              0\nstays_in_weekend_nights                0\nstays_in_week_nights                   0\nadults                                 0\nchildren                               4\nbabies                                 0\nmeal                                   0\ncountry                              488\nmarket_segment                         0\ndistribution_channel                   0\nis_repeated_guest                      0\nprevious_cancellations                 0\nprevious_bookings_not_canceled         0\nreserved_room_type                     0\nassigned_room_type                     0\nbooking_changes                        0\ndeposit_type                           0\nagent                              16340\ncompany                           112593\ndays_in_waiting_list                   0\ncustomer_type                          0\nadr                                    0\nrequired_car_parking_spaces            0\ntotal_of_special_requests              0\nreservation_status                     0\nreservation_status_date                0\nname                                   0\nemail                                  0\nphone-number                           0\ncredit_card                            0\ndtype: int64"
     },
     "execution_count": 69,
     "metadata": {},
     "output_type": "execute_result"
    }
   ],
   "source": [
    "# 1st solution\n",
    "hotels.isna().sum()"
   ],
   "metadata": {
    "collapsed": false,
    "pycharm": {
     "name": "#%%\n"
    }
   }
  },
  {
   "cell_type": "code",
   "execution_count": 70,
   "outputs": [
    {
     "data": {
      "text/plain": "hotel                                  0\nis_canceled                            0\nlead_time                              0\narrival_date_year                      0\narrival_date_month                     0\narrival_date_week_number               0\narrival_date_day_of_month              0\nstays_in_weekend_nights                0\nstays_in_week_nights                   0\nadults                                 0\nchildren                               4\nbabies                                 0\nmeal                                   0\ncountry                              488\nmarket_segment                         0\ndistribution_channel                   0\nis_repeated_guest                      0\nprevious_cancellations                 0\nprevious_bookings_not_canceled         0\nreserved_room_type                     0\nassigned_room_type                     0\nbooking_changes                        0\ndeposit_type                           0\nagent                              16340\ncompany                           112593\ndays_in_waiting_list                   0\ncustomer_type                          0\nadr                                    0\nrequired_car_parking_spaces            0\ntotal_of_special_requests              0\nreservation_status                     0\nreservation_status_date                0\nname                                   0\nemail                                  0\nphone-number                           0\ncredit_card                            0\ndtype: int64"
     },
     "execution_count": 70,
     "metadata": {},
     "output_type": "execute_result"
    }
   ],
   "source": [
    "hotels.isnull().sum()"
   ],
   "metadata": {
    "collapsed": false,
    "pycharm": {
     "name": "#%%\n"
    }
   }
  },
  {
   "cell_type": "markdown",
   "source": [
    "# TASK: Drop the \"company\" column from the dataset."
   ],
   "metadata": {
    "collapsed": false,
    "pycharm": {
     "name": "#%% md\n"
    }
   }
  },
  {
   "cell_type": "code",
   "execution_count": 71,
   "outputs": [],
   "source": [
    "hotels = hotels.drop(labels='company', axis=1)"
   ],
   "metadata": {
    "collapsed": false,
    "pycharm": {
     "name": "#%%\n"
    }
   }
  },
  {
   "cell_type": "markdown",
   "source": [
    "# TASK: What are the top 5 most common country codes in the dataset?"
   ],
   "metadata": {
    "collapsed": false,
    "pycharm": {
     "name": "#%% md\n"
    }
   }
  },
  {
   "cell_type": "code",
   "execution_count": 72,
   "outputs": [
    {
     "data": {
      "text/plain": "PRT    48590\nGBR    12129\nFRA    10415\nESP     8568\nDEU     7287\nName: country, dtype: int64"
     },
     "execution_count": 72,
     "metadata": {},
     "output_type": "execute_result"
    }
   ],
   "source": [
    "# the first way - the recommend way\n",
    "hotels['country'].value_counts(ascending=False).head(5)"
   ],
   "metadata": {
    "collapsed": false,
    "pycharm": {
     "name": "#%%\n"
    }
   }
  },
  {
   "cell_type": "code",
   "execution_count": 73,
   "outputs": [
    {
     "data": {
      "text/plain": "country\nPRT    48590\nGBR    12129\nFRA    10415\nESP     8568\nDEU     7287\nName: hotel, dtype: int64"
     },
     "execution_count": 73,
     "metadata": {},
     "output_type": "execute_result"
    }
   ],
   "source": [
    "# the second way - use the group up\n",
    "hotels.groupby('country').count().sort_values(by='hotel',ascending=False)['hotel'][:5]"
   ],
   "metadata": {
    "collapsed": false,
    "pycharm": {
     "name": "#%%\n"
    }
   }
  },
  {
   "cell_type": "markdown",
   "source": [
    "# TASK: What is the name of the person who paid the highest ADR (average daily rate)? How much was their ADR?"
   ],
   "metadata": {
    "collapsed": false,
    "pycharm": {
     "name": "#%% md\n"
    }
   }
  },
  {
   "cell_type": "code",
   "execution_count": 74,
   "outputs": [
    {
     "data": {
      "text/plain": "name    Daniel Walter\nadr            5400.0\nName: 48515, dtype: object"
     },
     "execution_count": 74,
     "metadata": {},
     "output_type": "execute_result"
    }
   ],
   "source": [
    "# the first solution\n",
    "hotels.iloc[hotels['adr'].idxmax()][['name', 'adr']]"
   ],
   "metadata": {
    "collapsed": false,
    "pycharm": {
     "name": "#%%\n"
    }
   }
  },
  {
   "cell_type": "code",
   "execution_count": 75,
   "outputs": [
    {
     "data": {
      "text/plain": "            adr            name\n48515   5400.00   Daniel Walter\n111403   510.00     Jesus Mason\n15083    508.00  Samuel Hammond\n103912   451.50  Jessica Morris\n13142    450.00       Amy Banks\n...         ...             ...\n110204     0.00    Ashley Lewis\n13973      0.00     Yvonne Pena\n90028      0.00    Kayla Reilly\n0          0.00   Ernest Barnes\n14969     -6.38    Chase Santos\n\n[119390 rows x 2 columns]",
      "text/html": "<div>\n<style scoped>\n    .dataframe tbody tr th:only-of-type {\n        vertical-align: middle;\n    }\n\n    .dataframe tbody tr th {\n        vertical-align: top;\n    }\n\n    .dataframe thead th {\n        text-align: right;\n    }\n</style>\n<table border=\"1\" class=\"dataframe\">\n  <thead>\n    <tr style=\"text-align: right;\">\n      <th></th>\n      <th>adr</th>\n      <th>name</th>\n    </tr>\n  </thead>\n  <tbody>\n    <tr>\n      <th>48515</th>\n      <td>5400.00</td>\n      <td>Daniel Walter</td>\n    </tr>\n    <tr>\n      <th>111403</th>\n      <td>510.00</td>\n      <td>Jesus Mason</td>\n    </tr>\n    <tr>\n      <th>15083</th>\n      <td>508.00</td>\n      <td>Samuel Hammond</td>\n    </tr>\n    <tr>\n      <th>103912</th>\n      <td>451.50</td>\n      <td>Jessica Morris</td>\n    </tr>\n    <tr>\n      <th>13142</th>\n      <td>450.00</td>\n      <td>Amy Banks</td>\n    </tr>\n    <tr>\n      <th>...</th>\n      <td>...</td>\n      <td>...</td>\n    </tr>\n    <tr>\n      <th>110204</th>\n      <td>0.00</td>\n      <td>Ashley Lewis</td>\n    </tr>\n    <tr>\n      <th>13973</th>\n      <td>0.00</td>\n      <td>Yvonne Pena</td>\n    </tr>\n    <tr>\n      <th>90028</th>\n      <td>0.00</td>\n      <td>Kayla Reilly</td>\n    </tr>\n    <tr>\n      <th>0</th>\n      <td>0.00</td>\n      <td>Ernest Barnes</td>\n    </tr>\n    <tr>\n      <th>14969</th>\n      <td>-6.38</td>\n      <td>Chase Santos</td>\n    </tr>\n  </tbody>\n</table>\n<p>119390 rows × 2 columns</p>\n</div>"
     },
     "execution_count": 75,
     "metadata": {},
     "output_type": "execute_result"
    }
   ],
   "source": [
    "# the second solution\n",
    "# pass the table\n",
    "hotels.sort_values('adr', ascending=False)[['adr', 'name']]"
   ],
   "metadata": {
    "collapsed": false,
    "pycharm": {
     "name": "#%%\n"
    }
   }
  },
  {
   "cell_type": "code",
   "execution_count": 76,
   "outputs": [
    {
     "data": {
      "text/plain": "adr            5400.0\nname    Daniel Walter\nName: 48515, dtype: object"
     },
     "execution_count": 76,
     "metadata": {},
     "output_type": "execute_result"
    }
   ],
   "source": [
    "# pass the specific value\n",
    "# pass to the first value\n",
    "hotels.sort_values(by='adr', ascending=False)[['adr','name']].iloc[0]"
   ],
   "metadata": {
    "collapsed": false,
    "pycharm": {
     "name": "#%%\n"
    }
   }
  },
  {
   "cell_type": "markdown",
   "source": [
    "# TASK: The adr is the average daily rate for a person's stay at the hotel. What is the mean adr across all the hotel stays in the dataset?"
   ],
   "metadata": {
    "collapsed": false,
    "pycharm": {
     "name": "#%% md\n"
    }
   }
  },
  {
   "cell_type": "code",
   "execution_count": 77,
   "outputs": [
    {
     "data": {
      "text/plain": "101.83"
     },
     "execution_count": 77,
     "metadata": {},
     "output_type": "execute_result"
    }
   ],
   "source": [
    "# could use the python function\n",
    "round(hotels['adr'].mean(), 2)"
   ],
   "metadata": {
    "collapsed": false,
    "pycharm": {
     "name": "#%%\n"
    }
   }
  },
  {
   "cell_type": "markdown",
   "source": [
    "# TASK: What is the average (mean) number of nights for a stay across the entire data set? Feel free to round this to 2 decimal points."
   ],
   "metadata": {
    "collapsed": false,
    "pycharm": {
     "name": "#%% md\n"
    }
   }
  },
  {
   "cell_type": "code",
   "execution_count": 78,
   "outputs": [],
   "source": [
    "# First way\n",
    "# using the normal adding\n",
    "hotels['nights'] = hotels['stays_in_week_nights'] + hotels['stays_in_weekend_nights']"
   ],
   "metadata": {
    "collapsed": false,
    "pycharm": {
     "name": "#%%\n"
    }
   }
  },
  {
   "cell_type": "code",
   "execution_count": 79,
   "outputs": [
    {
     "data": {
      "text/plain": "3.43"
     },
     "execution_count": 79,
     "metadata": {},
     "output_type": "execute_result"
    }
   ],
   "source": [
    "round(hotels['nights'].mean(), 2)"
   ],
   "metadata": {
    "collapsed": false,
    "pycharm": {
     "name": "#%%\n"
    }
   }
  },
  {
   "cell_type": "code",
   "source": [
    "# Second way\n",
    "# using the loc\n",
    "hotels.loc[:,'nights_1'] = hotels.loc[:,'stays_in_week_nights'].add(hotels.loc[:,'stays_in_weekend_nights'])"
   ],
   "metadata": {
    "collapsed": false,
    "pycharm": {
     "name": "#%%\n"
    }
   },
   "execution_count": 80,
   "outputs": []
  },
  {
   "cell_type": "code",
   "execution_count": 81,
   "outputs": [
    {
     "data": {
      "text/plain": "3.43"
     },
     "execution_count": 81,
     "metadata": {},
     "output_type": "execute_result"
    }
   ],
   "source": [
    "round(hotels['nights_1'].mean(), 2)"
   ],
   "metadata": {
    "collapsed": false,
    "pycharm": {
     "name": "#%%\n"
    }
   }
  },
  {
   "cell_type": "markdown",
   "source": [
    "# TASK: What is the average total cost for a stay in the dataset? Not average daily cost, but total stay cost. (You will need to calculate total cost your self by using ADR and week day and weeknight stays). Feel free to round this to 2 decimal points\n"
   ],
   "metadata": {
    "collapsed": false,
    "pycharm": {
     "name": "#%% md\n"
    }
   }
  },
  {
   "cell_type": "code",
   "execution_count": 82,
   "outputs": [],
   "source": [
    "average_total_cost = (hotels.loc[:,'adr'] * hotels.loc[:,'nights_1']).mean()"
   ],
   "metadata": {
    "collapsed": false,
    "pycharm": {
     "name": "#%%\n"
    }
   }
  },
  {
   "cell_type": "code",
   "execution_count": 83,
   "outputs": [
    {
     "data": {
      "text/plain": "357.85"
     },
     "execution_count": 83,
     "metadata": {},
     "output_type": "execute_result"
    }
   ],
   "source": [
    "round(average_total_cost, 2)"
   ],
   "metadata": {
    "collapsed": false,
    "pycharm": {
     "name": "#%%\n"
    }
   }
  },
  {
   "cell_type": "markdown",
   "source": [
    "# TASK: What are the names and emails of people who made exactly 5 \"Special Requests\"?"
   ],
   "metadata": {
    "collapsed": false,
    "pycharm": {
     "name": "#%% md\n"
    }
   }
  },
  {
   "cell_type": "code",
   "execution_count": 84,
   "outputs": [
    {
     "data": {
      "text/plain": "                          name                          email\n7860             Amanda Harper           Amanda.H66@yahoo.com\n11125            Laura Sanders      Sanders_Laura@hotmail.com\n14596              Tommy Ortiz            Tommy_O@hotmail.com\n14921           Gilbert Miller         Miller.Gilbert@aol.com\n14922           Timothy Torres         TTorres@protonmail.com\n24630          Jennifer Weaver             Jennifer_W@aol.com\n27288           Crystal Horton             Crystal.H@mail.com\n27477           Brittney Burke       Burke_Brittney16@att.com\n29906          Cynthia Cabrera    Cabrera.Cynthia@xfinity.com\n29949              Sarah Floyd              Sarah_F@gmail.com\n32267           Michelle Villa         Michelle.Villa@aol.com\n39027           Nichole Hebert       Hebert.Nichole@gmail.com\n39129         Lindsey Mckenzie       Lindsey.Mckenzie@att.com\n39525           Ashley Edwards       Edwards.Ashley@yahoo.com\n70114       Christopher Torres   Torres.Christopher@gmail.com\n78819   Mrs. Tara Sullivan DVM           Mrs..DVM@xfinity.com\n78820           Michaela Brown          MichaelaBrown@att.com\n78822        Kurt Maldonado MD              KMD15@xfinity.com\n97072         Jason Richardson               Jason.R@zoho.com\n97099             Terri Hurley            THurley@xfinity.com\n97261        Mrs. Caitlin Webb             Mrs._W@comcast.net\n98410             Holly Arroyo          Arroyo_Holly@mail.com\n98674          Denise Campbell             Denise_C@gmail.com\n99887            Michael Smith            Michael.S42@aol.com\n99888       Dr. Trevor Sellers                  Dr._S@aol.com\n101569            Kayla Murphy         Kayla.Murphy@yahoo.com\n102061         Taylor Martinez    Taylor.Martinez@hotmail.com\n109511          Charles Wilson       Charles_Wilson@yahoo.com\n109590           Tyler Allison         Tyler.A@protonmail.com\n110082          Matthew Bailey         Matthew_Bailey@aol.com\n110083       Charlotte Acevedo        Charlotte_A@verizon.com\n111909         Darrell Brennan  Brennan_Darrell51@hotmail.com\n111911          Melinda Jensen         MelindaJensen@zoho.com\n113915            Terry Arnold          Arnold.Terry@zoho.com\n114770             Mary Nguyen     Nguyen.Mary@protonmail.com\n114909          Lindsay Cuevas      Lindsay.Cuevas40@mail.com\n116455       Cynthia Hernandez   CynthiaHernandez@xfinity.com\n116457          Angela Hawkins             Angela_H@gmail.com\n118817              Sue Lawson            Sue.L52@comcast.net\n119161         Alyssa Richards        Alyssa_Richards@aol.com",
      "text/html": "<div>\n<style scoped>\n    .dataframe tbody tr th:only-of-type {\n        vertical-align: middle;\n    }\n\n    .dataframe tbody tr th {\n        vertical-align: top;\n    }\n\n    .dataframe thead th {\n        text-align: right;\n    }\n</style>\n<table border=\"1\" class=\"dataframe\">\n  <thead>\n    <tr style=\"text-align: right;\">\n      <th></th>\n      <th>name</th>\n      <th>email</th>\n    </tr>\n  </thead>\n  <tbody>\n    <tr>\n      <th>7860</th>\n      <td>Amanda Harper</td>\n      <td>Amanda.H66@yahoo.com</td>\n    </tr>\n    <tr>\n      <th>11125</th>\n      <td>Laura Sanders</td>\n      <td>Sanders_Laura@hotmail.com</td>\n    </tr>\n    <tr>\n      <th>14596</th>\n      <td>Tommy Ortiz</td>\n      <td>Tommy_O@hotmail.com</td>\n    </tr>\n    <tr>\n      <th>14921</th>\n      <td>Gilbert Miller</td>\n      <td>Miller.Gilbert@aol.com</td>\n    </tr>\n    <tr>\n      <th>14922</th>\n      <td>Timothy Torres</td>\n      <td>TTorres@protonmail.com</td>\n    </tr>\n    <tr>\n      <th>24630</th>\n      <td>Jennifer Weaver</td>\n      <td>Jennifer_W@aol.com</td>\n    </tr>\n    <tr>\n      <th>27288</th>\n      <td>Crystal Horton</td>\n      <td>Crystal.H@mail.com</td>\n    </tr>\n    <tr>\n      <th>27477</th>\n      <td>Brittney Burke</td>\n      <td>Burke_Brittney16@att.com</td>\n    </tr>\n    <tr>\n      <th>29906</th>\n      <td>Cynthia Cabrera</td>\n      <td>Cabrera.Cynthia@xfinity.com</td>\n    </tr>\n    <tr>\n      <th>29949</th>\n      <td>Sarah Floyd</td>\n      <td>Sarah_F@gmail.com</td>\n    </tr>\n    <tr>\n      <th>32267</th>\n      <td>Michelle Villa</td>\n      <td>Michelle.Villa@aol.com</td>\n    </tr>\n    <tr>\n      <th>39027</th>\n      <td>Nichole Hebert</td>\n      <td>Hebert.Nichole@gmail.com</td>\n    </tr>\n    <tr>\n      <th>39129</th>\n      <td>Lindsey Mckenzie</td>\n      <td>Lindsey.Mckenzie@att.com</td>\n    </tr>\n    <tr>\n      <th>39525</th>\n      <td>Ashley Edwards</td>\n      <td>Edwards.Ashley@yahoo.com</td>\n    </tr>\n    <tr>\n      <th>70114</th>\n      <td>Christopher Torres</td>\n      <td>Torres.Christopher@gmail.com</td>\n    </tr>\n    <tr>\n      <th>78819</th>\n      <td>Mrs. Tara Sullivan DVM</td>\n      <td>Mrs..DVM@xfinity.com</td>\n    </tr>\n    <tr>\n      <th>78820</th>\n      <td>Michaela Brown</td>\n      <td>MichaelaBrown@att.com</td>\n    </tr>\n    <tr>\n      <th>78822</th>\n      <td>Kurt Maldonado MD</td>\n      <td>KMD15@xfinity.com</td>\n    </tr>\n    <tr>\n      <th>97072</th>\n      <td>Jason Richardson</td>\n      <td>Jason.R@zoho.com</td>\n    </tr>\n    <tr>\n      <th>97099</th>\n      <td>Terri Hurley</td>\n      <td>THurley@xfinity.com</td>\n    </tr>\n    <tr>\n      <th>97261</th>\n      <td>Mrs. Caitlin Webb</td>\n      <td>Mrs._W@comcast.net</td>\n    </tr>\n    <tr>\n      <th>98410</th>\n      <td>Holly Arroyo</td>\n      <td>Arroyo_Holly@mail.com</td>\n    </tr>\n    <tr>\n      <th>98674</th>\n      <td>Denise Campbell</td>\n      <td>Denise_C@gmail.com</td>\n    </tr>\n    <tr>\n      <th>99887</th>\n      <td>Michael Smith</td>\n      <td>Michael.S42@aol.com</td>\n    </tr>\n    <tr>\n      <th>99888</th>\n      <td>Dr. Trevor Sellers</td>\n      <td>Dr._S@aol.com</td>\n    </tr>\n    <tr>\n      <th>101569</th>\n      <td>Kayla Murphy</td>\n      <td>Kayla.Murphy@yahoo.com</td>\n    </tr>\n    <tr>\n      <th>102061</th>\n      <td>Taylor Martinez</td>\n      <td>Taylor.Martinez@hotmail.com</td>\n    </tr>\n    <tr>\n      <th>109511</th>\n      <td>Charles Wilson</td>\n      <td>Charles_Wilson@yahoo.com</td>\n    </tr>\n    <tr>\n      <th>109590</th>\n      <td>Tyler Allison</td>\n      <td>Tyler.A@protonmail.com</td>\n    </tr>\n    <tr>\n      <th>110082</th>\n      <td>Matthew Bailey</td>\n      <td>Matthew_Bailey@aol.com</td>\n    </tr>\n    <tr>\n      <th>110083</th>\n      <td>Charlotte Acevedo</td>\n      <td>Charlotte_A@verizon.com</td>\n    </tr>\n    <tr>\n      <th>111909</th>\n      <td>Darrell Brennan</td>\n      <td>Brennan_Darrell51@hotmail.com</td>\n    </tr>\n    <tr>\n      <th>111911</th>\n      <td>Melinda Jensen</td>\n      <td>MelindaJensen@zoho.com</td>\n    </tr>\n    <tr>\n      <th>113915</th>\n      <td>Terry Arnold</td>\n      <td>Arnold.Terry@zoho.com</td>\n    </tr>\n    <tr>\n      <th>114770</th>\n      <td>Mary Nguyen</td>\n      <td>Nguyen.Mary@protonmail.com</td>\n    </tr>\n    <tr>\n      <th>114909</th>\n      <td>Lindsay Cuevas</td>\n      <td>Lindsay.Cuevas40@mail.com</td>\n    </tr>\n    <tr>\n      <th>116455</th>\n      <td>Cynthia Hernandez</td>\n      <td>CynthiaHernandez@xfinity.com</td>\n    </tr>\n    <tr>\n      <th>116457</th>\n      <td>Angela Hawkins</td>\n      <td>Angela_H@gmail.com</td>\n    </tr>\n    <tr>\n      <th>118817</th>\n      <td>Sue Lawson</td>\n      <td>Sue.L52@comcast.net</td>\n    </tr>\n    <tr>\n      <th>119161</th>\n      <td>Alyssa Richards</td>\n      <td>Alyssa_Richards@aol.com</td>\n    </tr>\n  </tbody>\n</table>\n</div>"
     },
     "execution_count": 84,
     "metadata": {},
     "output_type": "execute_result"
    }
   ],
   "source": [
    "hotels[hotels['total_of_special_requests'] == 5][['name', 'email']]\n"
   ],
   "metadata": {
    "collapsed": false,
    "pycharm": {
     "name": "#%%\n"
    }
   }
  },
  {
   "cell_type": "markdown",
   "source": [
    "# TASK: What percentage of hotel stays were classified as \"repeat guests\"? (Do not base this off the name of the person, but instead of the is_repeated_guest column)"
   ],
   "metadata": {
    "collapsed": false,
    "pycharm": {
     "name": "#%% md\n"
    }
   }
  },
  {
   "cell_type": "code",
   "execution_count": 85,
   "outputs": [
    {
     "data": {
      "text/plain": "array([0, 1], dtype=int64)"
     },
     "execution_count": 85,
     "metadata": {},
     "output_type": "execute_result"
    }
   ],
   "source": [
    "# the first solution - the better solution\n",
    "# get the unique value\n",
    "hotels['is_repeated_guest'].unique()"
   ],
   "metadata": {
    "collapsed": false,
    "pycharm": {
     "name": "#%%\n"
    }
   }
  },
  {
   "cell_type": "code",
   "execution_count": 86,
   "outputs": [
    {
     "data": {
      "text/plain": "3.19"
     },
     "execution_count": 86,
     "metadata": {},
     "output_type": "execute_result"
    }
   ],
   "source": [
    "# get the sum of repeated value\n",
    "round(100 *sum(hotels['is_repeated_guest'] == 1)/len(hotels),2)"
   ],
   "metadata": {
    "collapsed": false,
    "pycharm": {
     "name": "#%%\n"
    }
   }
  },
  {
   "cell_type": "code",
   "execution_count": 87,
   "outputs": [
    {
     "data": {
      "text/plain": "3.19"
     },
     "execution_count": 87,
     "metadata": {},
     "output_type": "execute_result"
    }
   ],
   "source": [
    "# the second solution\n",
    "round(hotels['is_repeated_guest'].mean() * 100, 2)"
   ],
   "metadata": {
    "collapsed": false,
    "pycharm": {
     "name": "#%%\n"
    }
   }
  },
  {
   "cell_type": "markdown",
   "source": [
    "# TASK: What are the top 5 most common last name in the dataset? Bonus: Can you figure this out in one line of pandas code? (For simplicity treat the a title such as MD as a last name, for example Caroline Conley MD can be said to have the last name MD)"
   ],
   "metadata": {
    "collapsed": false,
    "pycharm": {
     "name": "#%% md\n"
    }
   }
  },
  {
   "cell_type": "code",
   "execution_count": 88,
   "outputs": [
    {
     "data": {
      "text/plain": "Smith       2503\nJohnson     1990\nWilliams    1618\nJones       1434\nBrown       1423\nName: name, dtype: int64"
     },
     "execution_count": 88,
     "metadata": {},
     "output_type": "execute_result"
    }
   ],
   "source": [
    "# the first solution\n",
    "# use the -1 to access the final element of list\n",
    "hotels['name'].apply(lambda name: name.split(' ')[-1]).value_counts().head(5)"
   ],
   "metadata": {
    "collapsed": false,
    "pycharm": {
     "name": "#%%\n"
    }
   }
  },
  {
   "cell_type": "code",
   "execution_count": 89,
   "outputs": [],
   "source": [
    "# the second solution\n",
    "def last_name(name):\n",
    "    name = name.split()[-1]\n",
    "    return name"
   ],
   "metadata": {
    "collapsed": false,
    "pycharm": {
     "name": "#%%\n"
    }
   }
  },
  {
   "cell_type": "code",
   "execution_count": 90,
   "outputs": [
    {
     "data": {
      "text/plain": "Smith       2503\nJohnson     1990\nWilliams    1618\nJones       1434\nBrown       1423\nName: name, dtype: int64"
     },
     "execution_count": 90,
     "metadata": {},
     "output_type": "execute_result"
    }
   ],
   "source": [
    "hotels['name'].apply(last_name).value_counts()[:5]"
   ],
   "metadata": {
    "collapsed": false,
    "pycharm": {
     "name": "#%%\n"
    }
   }
  },
  {
   "cell_type": "markdown",
   "source": [
    "# TASK: What are the names of the people who had booked the most number children and babies for their stay? (Don't worry if they canceled, only consider number of people reported at the time of their reservation"
   ],
   "metadata": {
    "collapsed": false,
    "pycharm": {
     "name": "#%% md\n"
    }
   }
  },
  {
   "cell_type": "code",
   "execution_count": 91,
   "outputs": [],
   "source": [
    "# first way\n",
    "hotels['total_kids_1'] = hotels['babies'] + hotels['children']"
   ],
   "metadata": {
    "collapsed": false,
    "pycharm": {
     "name": "#%%\n"
    }
   }
  },
  {
   "cell_type": "code",
   "execution_count": 92,
   "outputs": [
    {
     "data": {
      "text/plain": "                  name  adults  total_kids_1  babies  children\n328      Jamie Ramirez       2          10.0       0      10.0\n46619  Nicholas Parker       2          10.0      10       0.0\n78656    Marc Robinson       1           9.0       9       0.0",
      "text/html": "<div>\n<style scoped>\n    .dataframe tbody tr th:only-of-type {\n        vertical-align: middle;\n    }\n\n    .dataframe tbody tr th {\n        vertical-align: top;\n    }\n\n    .dataframe thead th {\n        text-align: right;\n    }\n</style>\n<table border=\"1\" class=\"dataframe\">\n  <thead>\n    <tr style=\"text-align: right;\">\n      <th></th>\n      <th>name</th>\n      <th>adults</th>\n      <th>total_kids_1</th>\n      <th>babies</th>\n      <th>children</th>\n    </tr>\n  </thead>\n  <tbody>\n    <tr>\n      <th>328</th>\n      <td>Jamie Ramirez</td>\n      <td>2</td>\n      <td>10.0</td>\n      <td>0</td>\n      <td>10.0</td>\n    </tr>\n    <tr>\n      <th>46619</th>\n      <td>Nicholas Parker</td>\n      <td>2</td>\n      <td>10.0</td>\n      <td>10</td>\n      <td>0.0</td>\n    </tr>\n    <tr>\n      <th>78656</th>\n      <td>Marc Robinson</td>\n      <td>1</td>\n      <td>9.0</td>\n      <td>9</td>\n      <td>0.0</td>\n    </tr>\n  </tbody>\n</table>\n</div>"
     },
     "execution_count": 92,
     "metadata": {},
     "output_type": "execute_result"
    }
   ],
   "source": [
    "hotels.sort_values(by='total_kids_1', ascending=False)[['name', 'adults', 'total_kids_1', 'babies', 'children']][:3]"
   ],
   "metadata": {
    "collapsed": false,
    "pycharm": {
     "name": "#%%\n"
    }
   }
  },
  {
   "cell_type": "code",
   "execution_count": 93,
   "outputs": [],
   "source": [
    "# second way\n",
    "hotels.loc[:,'total_kids'] = hotels.loc[:,'babies'].add(hotels.loc[:,'children'])\n"
   ],
   "metadata": {
    "collapsed": false,
    "pycharm": {
     "name": "#%%\n"
    }
   }
  },
  {
   "cell_type": "code",
   "execution_count": 94,
   "outputs": [
    {
     "data": {
      "text/plain": "                  name  adults  total_kids  babies  children\n328      Jamie Ramirez       2        10.0       0      10.0\n46619  Nicholas Parker       2        10.0      10       0.0\n78656    Marc Robinson       1         9.0       9       0.0",
      "text/html": "<div>\n<style scoped>\n    .dataframe tbody tr th:only-of-type {\n        vertical-align: middle;\n    }\n\n    .dataframe tbody tr th {\n        vertical-align: top;\n    }\n\n    .dataframe thead th {\n        text-align: right;\n    }\n</style>\n<table border=\"1\" class=\"dataframe\">\n  <thead>\n    <tr style=\"text-align: right;\">\n      <th></th>\n      <th>name</th>\n      <th>adults</th>\n      <th>total_kids</th>\n      <th>babies</th>\n      <th>children</th>\n    </tr>\n  </thead>\n  <tbody>\n    <tr>\n      <th>328</th>\n      <td>Jamie Ramirez</td>\n      <td>2</td>\n      <td>10.0</td>\n      <td>0</td>\n      <td>10.0</td>\n    </tr>\n    <tr>\n      <th>46619</th>\n      <td>Nicholas Parker</td>\n      <td>2</td>\n      <td>10.0</td>\n      <td>10</td>\n      <td>0.0</td>\n    </tr>\n    <tr>\n      <th>78656</th>\n      <td>Marc Robinson</td>\n      <td>1</td>\n      <td>9.0</td>\n      <td>9</td>\n      <td>0.0</td>\n    </tr>\n  </tbody>\n</table>\n</div>"
     },
     "execution_count": 94,
     "metadata": {},
     "output_type": "execute_result"
    }
   ],
   "source": [
    "hotels.nlargest(3 ,columns=['total_kids'])[['name', 'adults', 'total_kids', 'babies', 'children']]"
   ],
   "metadata": {
    "collapsed": false,
    "pycharm": {
     "name": "#%%\n"
    }
   }
  },
  {
   "cell_type": "markdown",
   "source": [
    "# TASK: What are the top 3 most common area code in the phone numbers? (Area code is first 3 digits)"
   ],
   "metadata": {
    "collapsed": false,
    "pycharm": {
     "name": "#%% md\n"
    }
   }
  },
  {
   "cell_type": "code",
   "execution_count": 95,
   "outputs": [
    {
     "data": {
      "text/plain": "799    168\n185    167\n541    166\nName: phone-number, dtype: int64"
     },
     "execution_count": 95,
     "metadata": {},
     "output_type": "execute_result"
    }
   ],
   "source": [
    "hotels['phone-number'].apply(lambda digit: digit[0:3]).value_counts().head(3)"
   ],
   "metadata": {
    "collapsed": false,
    "pycharm": {
     "name": "#%%\n"
    }
   }
  },
  {
   "cell_type": "markdown",
   "source": [
    "# TASK: How many arrivals took place between the 1st and the 15th of the month (inclusive of 1 and 15) ? Bonus: Can you do this in one line of pandas code?"
   ],
   "metadata": {
    "collapsed": false,
    "pycharm": {
     "name": "#%% md\n"
    }
   }
  },
  {
   "cell_type": "code",
   "execution_count": 96,
   "outputs": [
    {
     "data": {
      "text/plain": "58152"
     },
     "execution_count": 96,
     "metadata": {},
     "output_type": "execute_result"
    }
   ],
   "source": [
    "# the first way\n",
    "hotels['arrival_date_day_of_month']. apply(lambda day: day in range(1,16)).sum()"
   ],
   "metadata": {
    "collapsed": false,
    "pycharm": {
     "name": "#%%\n"
    }
   }
  },
  {
   "cell_type": "code",
   "execution_count": 97,
   "outputs": [
    {
     "data": {
      "text/plain": "       arrival_date_month  arrival_date_week_number  arrival_date_day_of_month\n0                    July                        27                          1\n1                    July                        27                          1\n2                    July                        27                          1\n3                    July                        27                          1\n4                    July                        27                          1\n...                   ...                       ...                        ...\n119385             August                        35                         30\n119386             August                        35                         31\n119387             August                        35                         31\n119388             August                        35                         31\n119389             August                        35                         29\n\n[119390 rows x 3 columns]",
      "text/html": "<div>\n<style scoped>\n    .dataframe tbody tr th:only-of-type {\n        vertical-align: middle;\n    }\n\n    .dataframe tbody tr th {\n        vertical-align: top;\n    }\n\n    .dataframe thead th {\n        text-align: right;\n    }\n</style>\n<table border=\"1\" class=\"dataframe\">\n  <thead>\n    <tr style=\"text-align: right;\">\n      <th></th>\n      <th>arrival_date_month</th>\n      <th>arrival_date_week_number</th>\n      <th>arrival_date_day_of_month</th>\n    </tr>\n  </thead>\n  <tbody>\n    <tr>\n      <th>0</th>\n      <td>July</td>\n      <td>27</td>\n      <td>1</td>\n    </tr>\n    <tr>\n      <th>1</th>\n      <td>July</td>\n      <td>27</td>\n      <td>1</td>\n    </tr>\n    <tr>\n      <th>2</th>\n      <td>July</td>\n      <td>27</td>\n      <td>1</td>\n    </tr>\n    <tr>\n      <th>3</th>\n      <td>July</td>\n      <td>27</td>\n      <td>1</td>\n    </tr>\n    <tr>\n      <th>4</th>\n      <td>July</td>\n      <td>27</td>\n      <td>1</td>\n    </tr>\n    <tr>\n      <th>...</th>\n      <td>...</td>\n      <td>...</td>\n      <td>...</td>\n    </tr>\n    <tr>\n      <th>119385</th>\n      <td>August</td>\n      <td>35</td>\n      <td>30</td>\n    </tr>\n    <tr>\n      <th>119386</th>\n      <td>August</td>\n      <td>35</td>\n      <td>31</td>\n    </tr>\n    <tr>\n      <th>119387</th>\n      <td>August</td>\n      <td>35</td>\n      <td>31</td>\n    </tr>\n    <tr>\n      <th>119388</th>\n      <td>August</td>\n      <td>35</td>\n      <td>31</td>\n    </tr>\n    <tr>\n      <th>119389</th>\n      <td>August</td>\n      <td>35</td>\n      <td>29</td>\n    </tr>\n  </tbody>\n</table>\n<p>119390 rows × 3 columns</p>\n</div>"
     },
     "execution_count": 97,
     "metadata": {},
     "output_type": "execute_result"
    }
   ],
   "source": [
    "# the second way\n",
    "hotels[['arrival_date_month', 'arrival_date_week_number', 'arrival_date_day_of_month']]"
   ],
   "metadata": {
    "collapsed": false,
    "pycharm": {
     "name": "#%%\n"
    }
   }
  },
  {
   "cell_type": "code",
   "execution_count": 98,
   "outputs": [
    {
     "name": "stderr",
     "output_type": "stream",
     "text": [
      "C:\\Users\\admin\\AppData\\Local\\Temp/ipykernel_10684/76762860.py:1: FutureWarning: Boolean inputs to the `inclusive` argument are deprecated infavour of `both` or `neither`.\n",
      "  len(hotels[hotels['arrival_date_day_of_month'].between(left=0, right=15, inclusive=True)])\n"
     ]
    },
    {
     "data": {
      "text/plain": "58152"
     },
     "execution_count": 98,
     "metadata": {},
     "output_type": "execute_result"
    }
   ],
   "source": [
    "len(hotels[hotels['arrival_date_day_of_month'].between(left=0, right=15, inclusive=True)])"
   ],
   "metadata": {
    "collapsed": false,
    "pycharm": {
     "name": "#%%\n"
    }
   }
  },
  {
   "cell_type": "markdown",
   "source": [
    "#  HARD BONUS TASK: Create a table for counts for each day of the week that people arrived. (E.g. 5000 arrivals were on a Monday, 3000 were on a Tuesday, etc..)"
   ],
   "metadata": {
    "collapsed": false,
    "pycharm": {
     "name": "#%% md\n"
    }
   }
  },
  {
   "cell_type": "code",
   "execution_count": 99,
   "outputs": [],
   "source": [
    "import numpy as np\n",
    "import pandas as pd\n"
   ],
   "metadata": {
    "collapsed": false,
    "pycharm": {
     "name": "#%%\n"
    }
   }
  },
  {
   "cell_type": "code",
   "execution_count": 100,
   "outputs": [],
   "source": [
    "# first solution\n",
    "def convert(date, month, year):\n",
    "    tranfer = f'{date}-{month}-{year}'\n",
    "    return tranfer"
   ],
   "metadata": {
    "collapsed": false,
    "pycharm": {
     "name": "#%%\n"
    }
   }
  },
  {
   "cell_type": "code",
   "execution_count": 101,
   "outputs": [],
   "source": [
    "hotels['date']  = np.vectorize(convert)(hotels['arrival_date_day_of_month'],\n",
    "                                         hotels['arrival_date_month'],\n",
    "                                         hotels['arrival_date_year'])"
   ],
   "metadata": {
    "collapsed": false,
    "pycharm": {
     "name": "#%%\n"
    }
   }
  },
  {
   "cell_type": "code",
   "execution_count": 102,
   "outputs": [
    {
     "data": {
      "text/plain": "0            1-July-2015\n1            1-July-2015\n2            1-July-2015\n3            1-July-2015\n4            1-July-2015\n               ...      \n119385    30-August-2017\n119386    31-August-2017\n119387    31-August-2017\n119388    31-August-2017\n119389    29-August-2017\nName: date, Length: 119390, dtype: object"
     },
     "execution_count": 102,
     "metadata": {},
     "output_type": "execute_result"
    }
   ],
   "source": [
    "# the type of the date column is object\n",
    "hotels['date']"
   ],
   "metadata": {
    "collapsed": false,
    "pycharm": {
     "name": "#%%\n"
    }
   }
  },
  {
   "cell_type": "code",
   "execution_count": 103,
   "outputs": [],
   "source": [
    "# transfer the date column from object to datetime64\n",
    "hotels['transfer'] = pd.to_datetime(hotels['date'])"
   ],
   "metadata": {
    "collapsed": false,
    "pycharm": {
     "name": "#%%\n"
    }
   }
  },
  {
   "cell_type": "code",
   "execution_count": 104,
   "outputs": [
    {
     "data": {
      "text/plain": "0        2015-07-01\n1        2015-07-01\n2        2015-07-01\n3        2015-07-01\n4        2015-07-01\n            ...    \n119385   2017-08-30\n119386   2017-08-31\n119387   2017-08-31\n119388   2017-08-31\n119389   2017-08-29\nName: transfer, Length: 119390, dtype: datetime64[ns]"
     },
     "execution_count": 104,
     "metadata": {},
     "output_type": "execute_result"
    }
   ],
   "source": [
    "hotels['transfer']"
   ],
   "metadata": {
    "collapsed": false,
    "pycharm": {
     "name": "#%%\n"
    }
   }
  },
  {
   "cell_type": "code",
   "execution_count": 105,
   "outputs": [
    {
     "data": {
      "text/plain": "Friday       19631\nThursday     19254\nMonday       18171\nSaturday     18055\nWednesday    16139\nSunday       14141\nTuesday      13999\nName: transfer, dtype: int64"
     },
     "execution_count": 105,
     "metadata": {},
     "output_type": "execute_result"
    }
   ],
   "source": [
    "hotels['transfer'].dt.day_name().value_counts()"
   ],
   "metadata": {
    "collapsed": false,
    "pycharm": {
     "name": "#%%\n"
    }
   }
  },
  {
   "cell_type": "code",
   "execution_count": 106,
   "outputs": [],
   "source": [
    "# second solution\n",
    "def convert(date, month, year):\n",
    "    return f'{date}-{month}-{year}'"
   ],
   "metadata": {
    "collapsed": false,
    "pycharm": {
     "name": "#%%\n"
    }
   }
  },
  {
   "cell_type": "code",
   "execution_count": 107,
   "outputs": [],
   "source": [
    "# hotels.insert(loc=0, column='date_1', value=len(hotels))"
   ],
   "metadata": {
    "collapsed": false,
    "pycharm": {
     "name": "#%%\n"
    }
   }
  },
  {
   "cell_type": "code",
   "execution_count": 108,
   "outputs": [],
   "source": [
    "hotels['date_2'] = hotels[['arrival_date_day_of_month',\n",
    "                           'arrival_date_month',\n",
    "                           'arrival_date_year']].apply(lambda hotels: convert(hotels['arrival_date_day_of_month'],\n",
    "                                                                              hotels['arrival_date_month'],\n",
    "                                                                              hotels['arrival_date_year']), axis=1)"
   ],
   "metadata": {
    "collapsed": false,
    "pycharm": {
     "name": "#%%\n"
    }
   }
  },
  {
   "cell_type": "code",
   "execution_count": 109,
   "outputs": [],
   "source": [
    "# third solution\n",
    "def convert_1(hotel):\n",
    "    return \"{}-{}-{}\".format(hotel['arrival_date_day_of_month'],\n",
    "                             hotel['arrival_date_month'],\n",
    "                             hotel['arrival_date_year'])"
   ],
   "metadata": {
    "collapsed": false,
    "pycharm": {
     "name": "#%%\n"
    }
   }
  },
  {
   "cell_type": "code",
   "execution_count": 110,
   "outputs": [],
   "source": [
    "hotels['date_1'] = hotels.apply(func=convert_1, axis=1)"
   ],
   "metadata": {
    "collapsed": false,
    "pycharm": {
     "name": "#%%\n"
    }
   }
  },
  {
   "cell_type": "code",
   "execution_count": 113,
   "outputs": [],
   "source": [
    "hotels['date_1'] = pd.to_datetime(arg=hotels['date_1'], format=\"%d-%B-%Y\")"
   ],
   "metadata": {
    "collapsed": false,
    "pycharm": {
     "name": "#%%\n"
    }
   }
  },
  {
   "cell_type": "code",
   "execution_count": 115,
   "outputs": [
    {
     "data": {
      "text/plain": "Friday       19631\nThursday     19254\nMonday       18171\nSaturday     18055\nWednesday    16139\nSunday       14141\nTuesday      13999\nName: date_1, dtype: int64"
     },
     "execution_count": 115,
     "metadata": {},
     "output_type": "execute_result"
    }
   ],
   "source": [
    "hotels['date_1'].dt.day_name().value_counts()"
   ],
   "metadata": {
    "collapsed": false,
    "pycharm": {
     "name": "#%%\n"
    }
   }
  },
  {
   "cell_type": "code",
   "execution_count": null,
   "outputs": [],
   "source": [],
   "metadata": {
    "collapsed": false,
    "pycharm": {
     "name": "#%%\n"
    }
   }
  }
 ],
 "metadata": {
  "kernelspec": {
   "name": "pycharm-bbcd271a",
   "language": "python",
   "display_name": "PyCharm (Numpy)"
  },
  "language_info": {
   "codemirror_mode": {
    "name": "ipython",
    "version": 2
   },
   "file_extension": ".py",
   "mimetype": "text/x-python",
   "name": "python",
   "nbconvert_exporter": "python",
   "pygments_lexer": "ipython2",
   "version": "2.7.6"
  }
 },
 "nbformat": 4,
 "nbformat_minor": 0
}