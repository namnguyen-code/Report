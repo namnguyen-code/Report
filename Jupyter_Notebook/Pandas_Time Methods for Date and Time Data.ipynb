{
 "cells": [
  {
   "cell_type": "markdown",
   "metadata": {
    "collapsed": true,
    "pycharm": {
     "name": "#%% md\n"
    }
   },
   "source": [
    "# Time Methods for Date and Time Data\n",
    "* Pandas allows us to easily extract information from a datetime object to use feature engineering\n"
   ]
  },
  {
   "cell_type": "markdown",
   "source": [
    "* For example, we have recent timestamped sales data.\n",
    "* Pandas will allow us to extract information from the timestamp, such as:\n",
    "    * Day of the Week\n",
    "    * Weekend vs Weekday\n",
    "    * AM vs PM\n",
    "\n",
    "\n"
   ],
   "metadata": {
    "collapsed": false,
    "pycharm": {
     "name": "#%% md\n"
    }
   }
  },
  {
   "cell_type": "code",
   "execution_count": 36,
   "outputs": [],
   "source": [
    "import numpy as np\n",
    "import pandas as pd\n",
    "from  datetime import datetime"
   ],
   "metadata": {
    "collapsed": false,
    "pycharm": {
     "name": "#%%\n"
    }
   }
  },
  {
   "cell_type": "code",
   "execution_count": 37,
   "outputs": [],
   "source": [
    "myyear = 2015\n",
    "mymonth = 1\n",
    "myday = 1\n",
    "myhour = 2\n",
    "mymin =30\n",
    "mysecond = 15"
   ],
   "metadata": {
    "collapsed": false,
    "pycharm": {
     "name": "#%%\n"
    }
   }
  },
  {
   "cell_type": "code",
   "execution_count": 38,
   "outputs": [],
   "source": [
    "mydate = datetime(myyear, mymonth,myday)"
   ],
   "metadata": {
    "collapsed": false,
    "pycharm": {
     "name": "#%%\n"
    }
   }
  },
  {
   "cell_type": "code",
   "execution_count": 39,
   "outputs": [
    {
     "data": {
      "text/plain": "datetime.datetime(2015, 1, 1, 0, 0)"
     },
     "execution_count": 39,
     "metadata": {},
     "output_type": "execute_result"
    }
   ],
   "source": [
    "mydate"
   ],
   "metadata": {
    "collapsed": false,
    "pycharm": {
     "name": "#%%\n"
    }
   }
  },
  {
   "cell_type": "code",
   "execution_count": 40,
   "outputs": [],
   "source": [
    "mydatetime = datetime(myyear, mymonth,myday, myhour, mymin, mysecond)"
   ],
   "metadata": {
    "collapsed": false,
    "pycharm": {
     "name": "#%%\n"
    }
   }
  },
  {
   "cell_type": "code",
   "execution_count": 41,
   "outputs": [
    {
     "data": {
      "text/plain": "datetime.datetime(2015, 1, 1, 2, 30, 15)"
     },
     "execution_count": 41,
     "metadata": {},
     "output_type": "execute_result"
    }
   ],
   "source": [
    "mydatetime"
   ],
   "metadata": {
    "collapsed": false,
    "pycharm": {
     "name": "#%%\n"
    }
   }
  },
  {
   "cell_type": "code",
   "execution_count": 42,
   "outputs": [
    {
     "data": {
      "text/plain": "2015"
     },
     "execution_count": 42,
     "metadata": {},
     "output_type": "execute_result"
    }
   ],
   "source": [
    "mydatetime.year"
   ],
   "metadata": {
    "collapsed": false,
    "pycharm": {
     "name": "#%%\n"
    }
   }
  },
  {
   "cell_type": "code",
   "execution_count": 43,
   "outputs": [],
   "source": [
    "# create a series object\n",
    "myser = pd.Series(['Nov 3, 1990', '2000-01-01', None])"
   ],
   "metadata": {
    "collapsed": false,
    "pycharm": {
     "name": "#%%\n"
    }
   }
  },
  {
   "cell_type": "code",
   "execution_count": 44,
   "outputs": [
    {
     "data": {
      "text/plain": "0    Nov 3, 1990\n1     2000-01-01\n2           None\ndtype: object"
     },
     "execution_count": 44,
     "metadata": {},
     "output_type": "execute_result"
    }
   ],
   "source": [
    "myser"
   ],
   "metadata": {
    "collapsed": false,
    "pycharm": {
     "name": "#%%\n"
    }
   }
  },
  {
   "cell_type": "markdown",
   "source": [
    "* it not happen due to the string\n",
    "* myser[0].year -> cause error"
   ],
   "metadata": {
    "collapsed": false,
    "pycharm": {
     "name": "#%% md\n"
    }
   }
  },
  {
   "cell_type": "code",
   "execution_count": 45,
   "outputs": [],
   "source": [
    "# Convert argument to datetime.\n",
    "# Parameters\n",
    "# arg : int, float, str, datetime, list, tuple, 1-d array, Series, DataFrame/dict-like\n",
    "# The object to convert to a datetime.\n",
    "# dtype = datetime64(nano second)\n",
    "timeser = pd.to_datetime(myser)"
   ],
   "metadata": {
    "collapsed": false,
    "pycharm": {
     "name": "#%%\n"
    }
   }
  },
  {
   "cell_type": "code",
   "execution_count": 46,
   "outputs": [
    {
     "data": {
      "text/plain": "1990"
     },
     "execution_count": 46,
     "metadata": {},
     "output_type": "execute_result"
    }
   ],
   "source": [
    "# timestamp object calling (timeser[0])\n",
    "# call out the year\n",
    "timeser[0].year"
   ],
   "metadata": {
    "collapsed": false,
    "pycharm": {
     "name": "#%%\n"
    }
   }
  },
  {
   "cell_type": "code",
   "execution_count": 47,
   "outputs": [],
   "source": [
    "# Euro Date (date-month-year)\n",
    "obvi_euro_date = '31-12-2000'"
   ],
   "metadata": {
    "collapsed": false,
    "pycharm": {
     "name": "#%%\n"
    }
   }
  },
  {
   "cell_type": "code",
   "execution_count": 48,
   "outputs": [
    {
     "data": {
      "text/plain": "Timestamp('2000-12-31 00:00:00')"
     },
     "execution_count": 48,
     "metadata": {},
     "output_type": "execute_result"
    }
   ],
   "source": [
    "# converts euro-date to (year-month-date)\n",
    "pd.to_datetime(obvi_euro_date)"
   ],
   "metadata": {
    "collapsed": false,
    "pycharm": {
     "name": "#%%\n"
    }
   }
  },
  {
   "cell_type": "code",
   "execution_count": 49,
   "outputs": [],
   "source": [
    "# some America will think is 12th October 2000\n",
    "# but the actually date is 10th December 2000\n",
    "euro_date = '10-12-2000'"
   ],
   "metadata": {
    "collapsed": false,
    "pycharm": {
     "name": "#%%\n"
    }
   }
  },
  {
   "cell_type": "code",
   "execution_count": 50,
   "outputs": [
    {
     "data": {
      "text/plain": "Timestamp('2000-12-10 00:00:00')"
     },
     "execution_count": 50,
     "metadata": {},
     "output_type": "execute_result"
    }
   ],
   "source": [
    "# convert to wrong results due to the America style in the code\n",
    "# => Month go first (October 12th 2000)\n",
    "# The right is 10th December 2000\n",
    "# Solve it by use 'dayfirst'\n",
    "# dayfirstbool, default False\n",
    "# Specify a date parse order if arg is str or its list-likes. If True, parses dates with the day first, eg 10/11/12 is parsed as 2012-11-10.\n",
    "pd.to_datetime(euro_date, dayfirst=True)"
   ],
   "metadata": {
    "collapsed": false,
    "pycharm": {
     "name": "#%%\n"
    }
   }
  },
  {
   "cell_type": "markdown",
   "source": [
    "* If you have mix of America datetime and European datetime\n",
    "=> The problem is not with pandas to datetime, it really bad data\n",
    "=> <b>clean up the data first</b>\n"
   ],
   "metadata": {
    "collapsed": false,
    "pycharm": {
     "name": "#%% md\n"
    }
   }
  },
  {
   "cell_type": "code",
   "execution_count": 51,
   "outputs": [],
   "source": [
    "# the difference of date style\n",
    "style_date = '12--Dec--2000'"
   ],
   "metadata": {
    "collapsed": false,
    "pycharm": {
     "name": "#%%\n"
    }
   }
  },
  {
   "cell_type": "code",
   "execution_count": 52,
   "outputs": [
    {
     "data": {
      "text/plain": "Timestamp('2000-12-12 00:00:00')"
     },
     "execution_count": 52,
     "metadata": {},
     "output_type": "execute_result"
    }
   ],
   "source": [
    "# Tell the pandas the actual formatting of date\n",
    "#  format : str, default None\n",
    "# The strftime to parse time, eg \"%d/%m/%Y\", note that \"%f\" will parse\n",
    "# all the way up to nanoseconds. - Microsecond as a decimal number, zero-padded to 6 digits.\n",
    "# See strftime documentation for more information on choices:\n",
    "#     https://docs.python.org/3/library/datetime.html#strftime-and-strptime-behavior.\n",
    "pd.to_datetime(style_date, format='%d--%b--%Y')"
   ],
   "metadata": {
    "collapsed": false,
    "pycharm": {
     "name": "#%%\n"
    }
   }
  },
  {
   "cell_type": "code",
   "execution_count": 53,
   "outputs": [],
   "source": [
    "# custom time\n",
    "custom_date = \"12th of Dec 2000\""
   ],
   "metadata": {
    "collapsed": false,
    "pycharm": {
     "name": "#%%\n"
    }
   }
  },
  {
   "cell_type": "code",
   "execution_count": 54,
   "outputs": [
    {
     "data": {
      "text/plain": "Timestamp('2000-12-12 00:00:00')"
     },
     "execution_count": 54,
     "metadata": {},
     "output_type": "execute_result"
    }
   ],
   "source": [
    "# this enough smart to understand this kind of datetime\n",
    "pd.to_datetime(custom_date)"
   ],
   "metadata": {
    "collapsed": false,
    "pycharm": {
     "name": "#%%\n"
    }
   }
  },
  {
   "cell_type": "code",
   "execution_count": 55,
   "outputs": [],
   "source": [
    "sales = pd.read_csv(r'C:\\\\Users\\\\admin\\\\Desktop\\\\Data Science\\\\Course-2021\\\\\\03-Pandas\\\\RetailSales_BeerWineLiquor.csv')"
   ],
   "metadata": {
    "collapsed": false,
    "pycharm": {
     "name": "#%%\n"
    }
   }
  },
  {
   "cell_type": "code",
   "execution_count": 56,
   "outputs": [
    {
     "data": {
      "text/plain": "0      1992-01-01\n1      1992-02-01\n2      1992-03-01\n3      1992-04-01\n4      1992-05-01\n          ...    \n335    2019-12-01\n336    2020-01-01\n337    2020-02-01\n338    2020-03-01\n339    2020-04-01\nName: DATE, Length: 340, dtype: object"
     },
     "execution_count": 56,
     "metadata": {},
     "output_type": "execute_result"
    }
   ],
   "source": [
    "# dtype = object\n",
    "sales['DATE']"
   ],
   "metadata": {
    "collapsed": false,
    "pycharm": {
     "name": "#%%\n"
    }
   }
  },
  {
   "cell_type": "code",
   "execution_count": 57,
   "outputs": [],
   "source": [
    "sales['DATE'] = pd.to_datetime(sales[\"DATE\"])"
   ],
   "metadata": {
    "collapsed": false,
    "pycharm": {
     "name": "#%%\n"
    }
   }
  },
  {
   "cell_type": "code",
   "execution_count": 58,
   "outputs": [
    {
     "data": {
      "text/plain": "          DATE  MRTSSM4453USN\n0   1992-01-01           1509\n1   1992-02-01           1541\n2   1992-03-01           1597\n3   1992-04-01           1675\n4   1992-05-01           1822\n..         ...            ...\n335 2019-12-01           6630\n336 2020-01-01           4388\n337 2020-02-01           4533\n338 2020-03-01           5562\n339 2020-04-01           5207\n\n[340 rows x 2 columns]",
      "text/html": "<div>\n<style scoped>\n    .dataframe tbody tr th:only-of-type {\n        vertical-align: middle;\n    }\n\n    .dataframe tbody tr th {\n        vertical-align: top;\n    }\n\n    .dataframe thead th {\n        text-align: right;\n    }\n</style>\n<table border=\"1\" class=\"dataframe\">\n  <thead>\n    <tr style=\"text-align: right;\">\n      <th></th>\n      <th>DATE</th>\n      <th>MRTSSM4453USN</th>\n    </tr>\n  </thead>\n  <tbody>\n    <tr>\n      <th>0</th>\n      <td>1992-01-01</td>\n      <td>1509</td>\n    </tr>\n    <tr>\n      <th>1</th>\n      <td>1992-02-01</td>\n      <td>1541</td>\n    </tr>\n    <tr>\n      <th>2</th>\n      <td>1992-03-01</td>\n      <td>1597</td>\n    </tr>\n    <tr>\n      <th>3</th>\n      <td>1992-04-01</td>\n      <td>1675</td>\n    </tr>\n    <tr>\n      <th>4</th>\n      <td>1992-05-01</td>\n      <td>1822</td>\n    </tr>\n    <tr>\n      <th>...</th>\n      <td>...</td>\n      <td>...</td>\n    </tr>\n    <tr>\n      <th>335</th>\n      <td>2019-12-01</td>\n      <td>6630</td>\n    </tr>\n    <tr>\n      <th>336</th>\n      <td>2020-01-01</td>\n      <td>4388</td>\n    </tr>\n    <tr>\n      <th>337</th>\n      <td>2020-02-01</td>\n      <td>4533</td>\n    </tr>\n    <tr>\n      <th>338</th>\n      <td>2020-03-01</td>\n      <td>5562</td>\n    </tr>\n    <tr>\n      <th>339</th>\n      <td>2020-04-01</td>\n      <td>5207</td>\n    </tr>\n  </tbody>\n</table>\n<p>340 rows × 2 columns</p>\n</div>"
     },
     "execution_count": 58,
     "metadata": {},
     "output_type": "execute_result"
    }
   ],
   "source": [
    "# dtype=datetime64\n",
    "sales"
   ],
   "metadata": {
    "collapsed": false,
    "pycharm": {
     "name": "#%%\n"
    }
   }
  },
  {
   "cell_type": "code",
   "execution_count": 59,
   "outputs": [
    {
     "data": {
      "text/plain": "1992"
     },
     "execution_count": 59,
     "metadata": {},
     "output_type": "execute_result"
    }
   ],
   "source": [
    "# call out the year\n",
    "sales['DATE'][0].year\n"
   ],
   "metadata": {
    "collapsed": false,
    "pycharm": {
     "name": "#%%\n"
    }
   }
  },
  {
   "cell_type": "code",
   "execution_count": 60,
   "outputs": [],
   "source": [
    "# Read the column as a datetime column\n",
    "sales = pd.read_csv(r'C:\\\\Users\\\\admin\\\\Desktop\\\\Data Science\\\\Course-2021\\\\\\03-Pandas\\\\RetailSales_BeerWineLiquor.csv', parse_dates=['DATE'])\n"
   ],
   "metadata": {
    "collapsed": false,
    "pycharm": {
     "name": "#%%\n"
    }
   }
  },
  {
   "cell_type": "code",
   "execution_count": 61,
   "outputs": [
    {
     "data": {
      "text/plain": "0     1992-01-01\n1     1992-02-01\n2     1992-03-01\n3     1992-04-01\n4     1992-05-01\n         ...    \n335   2019-12-01\n336   2020-01-01\n337   2020-02-01\n338   2020-03-01\n339   2020-04-01\nName: DATE, Length: 340, dtype: datetime64[ns]"
     },
     "execution_count": 61,
     "metadata": {},
     "output_type": "execute_result"
    }
   ],
   "source": [
    "sales['DATE']"
   ],
   "metadata": {
    "collapsed": false,
    "pycharm": {
     "name": "#%%\n"
    }
   }
  },
  {
   "cell_type": "code",
   "execution_count": 62,
   "outputs": [],
   "source": [
    "sales = sales.set_index('DATE')"
   ],
   "metadata": {
    "collapsed": false,
    "pycharm": {
     "name": "#%%\n"
    }
   }
  },
  {
   "cell_type": "code",
   "execution_count": 63,
   "outputs": [
    {
     "data": {
      "text/plain": "            MRTSSM4453USN\nDATE                     \n1992-01-01           1509\n1992-02-01           1541\n1992-03-01           1597\n1992-04-01           1675\n1992-05-01           1822\n...                   ...\n2019-12-01           6630\n2020-01-01           4388\n2020-02-01           4533\n2020-03-01           5562\n2020-04-01           5207\n\n[340 rows x 1 columns]",
      "text/html": "<div>\n<style scoped>\n    .dataframe tbody tr th:only-of-type {\n        vertical-align: middle;\n    }\n\n    .dataframe tbody tr th {\n        vertical-align: top;\n    }\n\n    .dataframe thead th {\n        text-align: right;\n    }\n</style>\n<table border=\"1\" class=\"dataframe\">\n  <thead>\n    <tr style=\"text-align: right;\">\n      <th></th>\n      <th>MRTSSM4453USN</th>\n    </tr>\n    <tr>\n      <th>DATE</th>\n      <th></th>\n    </tr>\n  </thead>\n  <tbody>\n    <tr>\n      <th>1992-01-01</th>\n      <td>1509</td>\n    </tr>\n    <tr>\n      <th>1992-02-01</th>\n      <td>1541</td>\n    </tr>\n    <tr>\n      <th>1992-03-01</th>\n      <td>1597</td>\n    </tr>\n    <tr>\n      <th>1992-04-01</th>\n      <td>1675</td>\n    </tr>\n    <tr>\n      <th>1992-05-01</th>\n      <td>1822</td>\n    </tr>\n    <tr>\n      <th>...</th>\n      <td>...</td>\n    </tr>\n    <tr>\n      <th>2019-12-01</th>\n      <td>6630</td>\n    </tr>\n    <tr>\n      <th>2020-01-01</th>\n      <td>4388</td>\n    </tr>\n    <tr>\n      <th>2020-02-01</th>\n      <td>4533</td>\n    </tr>\n    <tr>\n      <th>2020-03-01</th>\n      <td>5562</td>\n    </tr>\n    <tr>\n      <th>2020-04-01</th>\n      <td>5207</td>\n    </tr>\n  </tbody>\n</table>\n<p>340 rows × 1 columns</p>\n</div>"
     },
     "execution_count": 63,
     "metadata": {},
     "output_type": "execute_result"
    }
   ],
   "source": [
    "sales"
   ],
   "metadata": {
    "collapsed": false,
    "pycharm": {
     "name": "#%%\n"
    }
   }
  },
  {
   "cell_type": "code",
   "execution_count": 64,
   "outputs": [
    {
     "data": {
      "text/plain": "            MRTSSM4453USN\nDATE                     \n1992-12-31          21687\n1993-12-31          21538\n1994-12-31          22101\n1995-12-31          22007\n1996-12-31          23157\n1997-12-31          24081\n1998-12-31          25382\n1999-12-31          26476\n2000-12-31          28507\n2001-12-31          29621\n2002-12-31          29894\n2003-12-31          30469\n2004-12-31          32189\n2005-12-31          33567\n2006-12-31          36016\n2007-12-31          38128\n2008-12-31          39504\n2009-12-31          40245\n2010-12-31          41401\n2011-12-31          42392\n2012-12-31          44365\n2013-12-31          46076\n2014-12-31          48286\n2015-12-31          50550\n2016-12-31          53213\n2017-12-31          55232\n2018-12-31          57968\n2019-12-31          59673\n2020-12-31          19690",
      "text/html": "<div>\n<style scoped>\n    .dataframe tbody tr th:only-of-type {\n        vertical-align: middle;\n    }\n\n    .dataframe tbody tr th {\n        vertical-align: top;\n    }\n\n    .dataframe thead th {\n        text-align: right;\n    }\n</style>\n<table border=\"1\" class=\"dataframe\">\n  <thead>\n    <tr style=\"text-align: right;\">\n      <th></th>\n      <th>MRTSSM4453USN</th>\n    </tr>\n    <tr>\n      <th>DATE</th>\n      <th></th>\n    </tr>\n  </thead>\n  <tbody>\n    <tr>\n      <th>1992-12-31</th>\n      <td>21687</td>\n    </tr>\n    <tr>\n      <th>1993-12-31</th>\n      <td>21538</td>\n    </tr>\n    <tr>\n      <th>1994-12-31</th>\n      <td>22101</td>\n    </tr>\n    <tr>\n      <th>1995-12-31</th>\n      <td>22007</td>\n    </tr>\n    <tr>\n      <th>1996-12-31</th>\n      <td>23157</td>\n    </tr>\n    <tr>\n      <th>1997-12-31</th>\n      <td>24081</td>\n    </tr>\n    <tr>\n      <th>1998-12-31</th>\n      <td>25382</td>\n    </tr>\n    <tr>\n      <th>1999-12-31</th>\n      <td>26476</td>\n    </tr>\n    <tr>\n      <th>2000-12-31</th>\n      <td>28507</td>\n    </tr>\n    <tr>\n      <th>2001-12-31</th>\n      <td>29621</td>\n    </tr>\n    <tr>\n      <th>2002-12-31</th>\n      <td>29894</td>\n    </tr>\n    <tr>\n      <th>2003-12-31</th>\n      <td>30469</td>\n    </tr>\n    <tr>\n      <th>2004-12-31</th>\n      <td>32189</td>\n    </tr>\n    <tr>\n      <th>2005-12-31</th>\n      <td>33567</td>\n    </tr>\n    <tr>\n      <th>2006-12-31</th>\n      <td>36016</td>\n    </tr>\n    <tr>\n      <th>2007-12-31</th>\n      <td>38128</td>\n    </tr>\n    <tr>\n      <th>2008-12-31</th>\n      <td>39504</td>\n    </tr>\n    <tr>\n      <th>2009-12-31</th>\n      <td>40245</td>\n    </tr>\n    <tr>\n      <th>2010-12-31</th>\n      <td>41401</td>\n    </tr>\n    <tr>\n      <th>2011-12-31</th>\n      <td>42392</td>\n    </tr>\n    <tr>\n      <th>2012-12-31</th>\n      <td>44365</td>\n    </tr>\n    <tr>\n      <th>2013-12-31</th>\n      <td>46076</td>\n    </tr>\n    <tr>\n      <th>2014-12-31</th>\n      <td>48286</td>\n    </tr>\n    <tr>\n      <th>2015-12-31</th>\n      <td>50550</td>\n    </tr>\n    <tr>\n      <th>2016-12-31</th>\n      <td>53213</td>\n    </tr>\n    <tr>\n      <th>2017-12-31</th>\n      <td>55232</td>\n    </tr>\n    <tr>\n      <th>2018-12-31</th>\n      <td>57968</td>\n    </tr>\n    <tr>\n      <th>2019-12-31</th>\n      <td>59673</td>\n    </tr>\n    <tr>\n      <th>2020-12-31</th>\n      <td>19690</td>\n    </tr>\n  </tbody>\n</table>\n</div>"
     },
     "execution_count": 64,
     "metadata": {},
     "output_type": "execute_result"
    }
   ],
   "source": [
    "sales.resample(rule='A').sum()"
   ],
   "metadata": {
    "collapsed": false,
    "pycharm": {
     "name": "#%%\n"
    }
   }
  },
  {
   "cell_type": "code",
   "execution_count": 65,
   "outputs": [
    {
     "data": {
      "text/plain": "            MRTSSM4453USN\nDATE                     \n1992-12-31    1807.250000\n1993-12-31    1794.833333\n1994-12-31    1841.750000\n1995-12-31    1833.916667\n1996-12-31    1929.750000\n1997-12-31    2006.750000\n1998-12-31    2115.166667\n1999-12-31    2206.333333\n2000-12-31    2375.583333\n2001-12-31    2468.416667\n2002-12-31    2491.166667\n2003-12-31    2539.083333\n2004-12-31    2682.416667\n2005-12-31    2797.250000\n2006-12-31    3001.333333\n2007-12-31    3177.333333\n2008-12-31    3292.000000\n2009-12-31    3353.750000\n2010-12-31    3450.083333\n2011-12-31    3532.666667\n2012-12-31    3697.083333\n2013-12-31    3839.666667\n2014-12-31    4023.833333\n2015-12-31    4212.500000\n2016-12-31    4434.416667\n2017-12-31    4602.666667\n2018-12-31    4830.666667\n2019-12-31    4972.750000\n2020-12-31    4922.500000",
      "text/html": "<div>\n<style scoped>\n    .dataframe tbody tr th:only-of-type {\n        vertical-align: middle;\n    }\n\n    .dataframe tbody tr th {\n        vertical-align: top;\n    }\n\n    .dataframe thead th {\n        text-align: right;\n    }\n</style>\n<table border=\"1\" class=\"dataframe\">\n  <thead>\n    <tr style=\"text-align: right;\">\n      <th></th>\n      <th>MRTSSM4453USN</th>\n    </tr>\n    <tr>\n      <th>DATE</th>\n      <th></th>\n    </tr>\n  </thead>\n  <tbody>\n    <tr>\n      <th>1992-12-31</th>\n      <td>1807.250000</td>\n    </tr>\n    <tr>\n      <th>1993-12-31</th>\n      <td>1794.833333</td>\n    </tr>\n    <tr>\n      <th>1994-12-31</th>\n      <td>1841.750000</td>\n    </tr>\n    <tr>\n      <th>1995-12-31</th>\n      <td>1833.916667</td>\n    </tr>\n    <tr>\n      <th>1996-12-31</th>\n      <td>1929.750000</td>\n    </tr>\n    <tr>\n      <th>1997-12-31</th>\n      <td>2006.750000</td>\n    </tr>\n    <tr>\n      <th>1998-12-31</th>\n      <td>2115.166667</td>\n    </tr>\n    <tr>\n      <th>1999-12-31</th>\n      <td>2206.333333</td>\n    </tr>\n    <tr>\n      <th>2000-12-31</th>\n      <td>2375.583333</td>\n    </tr>\n    <tr>\n      <th>2001-12-31</th>\n      <td>2468.416667</td>\n    </tr>\n    <tr>\n      <th>2002-12-31</th>\n      <td>2491.166667</td>\n    </tr>\n    <tr>\n      <th>2003-12-31</th>\n      <td>2539.083333</td>\n    </tr>\n    <tr>\n      <th>2004-12-31</th>\n      <td>2682.416667</td>\n    </tr>\n    <tr>\n      <th>2005-12-31</th>\n      <td>2797.250000</td>\n    </tr>\n    <tr>\n      <th>2006-12-31</th>\n      <td>3001.333333</td>\n    </tr>\n    <tr>\n      <th>2007-12-31</th>\n      <td>3177.333333</td>\n    </tr>\n    <tr>\n      <th>2008-12-31</th>\n      <td>3292.000000</td>\n    </tr>\n    <tr>\n      <th>2009-12-31</th>\n      <td>3353.750000</td>\n    </tr>\n    <tr>\n      <th>2010-12-31</th>\n      <td>3450.083333</td>\n    </tr>\n    <tr>\n      <th>2011-12-31</th>\n      <td>3532.666667</td>\n    </tr>\n    <tr>\n      <th>2012-12-31</th>\n      <td>3697.083333</td>\n    </tr>\n    <tr>\n      <th>2013-12-31</th>\n      <td>3839.666667</td>\n    </tr>\n    <tr>\n      <th>2014-12-31</th>\n      <td>4023.833333</td>\n    </tr>\n    <tr>\n      <th>2015-12-31</th>\n      <td>4212.500000</td>\n    </tr>\n    <tr>\n      <th>2016-12-31</th>\n      <td>4434.416667</td>\n    </tr>\n    <tr>\n      <th>2017-12-31</th>\n      <td>4602.666667</td>\n    </tr>\n    <tr>\n      <th>2018-12-31</th>\n      <td>4830.666667</td>\n    </tr>\n    <tr>\n      <th>2019-12-31</th>\n      <td>4972.750000</td>\n    </tr>\n    <tr>\n      <th>2020-12-31</th>\n      <td>4922.500000</td>\n    </tr>\n  </tbody>\n</table>\n</div>"
     },
     "execution_count": 65,
     "metadata": {},
     "output_type": "execute_result"
    }
   ],
   "source": [
    "# group by (group everything by YEAR)\n",
    "# Rule= - The offset string or object representing target conversion.\n",
    "sales.resample(rule='A').mean()"
   ],
   "metadata": {
    "collapsed": false,
    "pycharm": {
     "name": "#%%\n"
    }
   }
  },
  {
   "cell_type": "markdown",
   "source": [
    "<table style=\"display: inline-block\">\n",
    "    <caption style=\"text-align: center\"><strong>TIME SERIES OFFSET ALIASES</strong></caption>\n",
    "<tr><th>ALIAS</th><th>DESCRIPTION</th></tr>\n",
    "<tr><td>B</td><td>business day frequency</td></tr>\n",
    "<tr><td>C</td><td>custom business day frequency (experimental)</td></tr>\n",
    "<tr><td>D</td><td>calendar day frequency</td></tr>\n",
    "<tr><td>W</td><td>weekly frequency</td></tr>\n",
    "<tr><td>M</td><td>month end frequency</td></tr>\n",
    "<tr><td>SM</td><td>semi-month end frequency (15th and end of month)</td></tr>\n",
    "<tr><td>BM</td><td>business month end frequency</td></tr>\n",
    "<tr><td>CBM</td><td>custom business month end frequency</td></tr>\n",
    "<tr><td>MS</td><td>month start frequency</td></tr>\n",
    "<tr><td>SMS</td><td>semi-month start frequency (1st and 15th)</td></tr>\n",
    "<tr><td>BMS</td><td>business month start frequency</td></tr>\n",
    "<tr><td>CBMS</td><td>custom business month start frequency</td></tr>\n",
    "<tr><td>Q</td><td>quarter end frequency</td></tr>\n",
    "<tr><td></td><td><font color=white>intentionally left blank</font></td></tr></table>\n",
    "\n",
    "<table style=\"display: inline-block; margin-left: 40px\">\n",
    "<caption style=\"text-align: center\"></caption>\n",
    "<tr><th>ALIAS</th><th>DESCRIPTION</th></tr>\n",
    "<tr><td>BQ</td><td>business quarter endfrequency</td></tr>\n",
    "<tr><td>QS</td><td>quarter start frequency</td></tr>\n",
    "<tr><td>BQS</td><td>business quarter start frequency</td></tr>\n",
    "<tr><td>A</td><td>year end frequency</td></tr>\n",
    "<tr><td>BA</td><td>business year end frequency</td></tr>\n",
    "<tr><td>AS</td><td>year start frequency</td></tr>\n",
    "<tr><td>BAS</td><td>business year start frequency</td></tr>\n",
    "<tr><td>BH</td><td>business hour frequency</td></tr>\n",
    "<tr><td>H</td><td>hourly frequency</td></tr>\n",
    "<tr><td>T, min</td><td>minutely frequency</td></tr>\n",
    "<tr><td>S</td><td>secondly frequency</td></tr>\n",
    "<tr><td>L, ms</td><td>milliseconds</td></tr>\n",
    "<tr><td>U, us</td><td>microseconds</td></tr>\n",
    "<tr><td>N</td><td>nanoseconds</td></tr></table>\n",
    "\n"
   ],
   "metadata": {
    "collapsed": false,
    "pycharm": {
     "name": "#%% md\n"
    }
   }
  },
  {
   "cell_type": "code",
   "execution_count": 66,
   "outputs": [],
   "source": [
    "sales = pd.read_csv(r'C:\\\\Users\\\\admin\\\\Desktop\\\\Data Science\\\\Course-2021\\\\\\03-Pandas\\\\RetailSales_BeerWineLiquor.csv', parse_dates=['DATE'])"
   ],
   "metadata": {
    "collapsed": false,
    "pycharm": {
     "name": "#%%\n"
    }
   }
  },
  {
   "cell_type": "code",
   "execution_count": 67,
   "outputs": [
    {
     "data": {
      "text/plain": "        DATE  MRTSSM4453USN\n0 1992-01-01           1509\n1 1992-02-01           1541\n2 1992-03-01           1597\n3 1992-04-01           1675\n4 1992-05-01           1822\n5 1992-06-01           1775\n6 1992-07-01           1912\n7 1992-08-01           1862",
      "text/html": "<div>\n<style scoped>\n    .dataframe tbody tr th:only-of-type {\n        vertical-align: middle;\n    }\n\n    .dataframe tbody tr th {\n        vertical-align: top;\n    }\n\n    .dataframe thead th {\n        text-align: right;\n    }\n</style>\n<table border=\"1\" class=\"dataframe\">\n  <thead>\n    <tr style=\"text-align: right;\">\n      <th></th>\n      <th>DATE</th>\n      <th>MRTSSM4453USN</th>\n    </tr>\n  </thead>\n  <tbody>\n    <tr>\n      <th>0</th>\n      <td>1992-01-01</td>\n      <td>1509</td>\n    </tr>\n    <tr>\n      <th>1</th>\n      <td>1992-02-01</td>\n      <td>1541</td>\n    </tr>\n    <tr>\n      <th>2</th>\n      <td>1992-03-01</td>\n      <td>1597</td>\n    </tr>\n    <tr>\n      <th>3</th>\n      <td>1992-04-01</td>\n      <td>1675</td>\n    </tr>\n    <tr>\n      <th>4</th>\n      <td>1992-05-01</td>\n      <td>1822</td>\n    </tr>\n    <tr>\n      <th>5</th>\n      <td>1992-06-01</td>\n      <td>1775</td>\n    </tr>\n    <tr>\n      <th>6</th>\n      <td>1992-07-01</td>\n      <td>1912</td>\n    </tr>\n    <tr>\n      <th>7</th>\n      <td>1992-08-01</td>\n      <td>1862</td>\n    </tr>\n  </tbody>\n</table>\n</div>"
     },
     "execution_count": 67,
     "metadata": {},
     "output_type": "execute_result"
    }
   ],
   "source": [
    "sales.head(8)"
   ],
   "metadata": {
    "collapsed": false,
    "pycharm": {
     "name": "#%%\n"
    }
   }
  },
  {
   "cell_type": "code",
   "execution_count": 68,
   "outputs": [
    {
     "name": "stdout",
     "output_type": "stream",
     "text": [
      "<class 'pandas.core.frame.DataFrame'>\n",
      "RangeIndex: 340 entries, 0 to 339\n",
      "Data columns (total 2 columns):\n",
      " #   Column         Non-Null Count  Dtype         \n",
      "---  ------         --------------  -----         \n",
      " 0   DATE           340 non-null    datetime64[ns]\n",
      " 1   MRTSSM4453USN  340 non-null    int64         \n",
      "dtypes: datetime64[ns](1), int64(1)\n",
      "memory usage: 5.4 KB\n"
     ]
    }
   ],
   "source": [
    "sales.info()"
   ],
   "metadata": {
    "collapsed": false,
    "pycharm": {
     "name": "#%%\n"
    }
   }
  },
  {
   "cell_type": "code",
   "execution_count": 69,
   "outputs": [
    {
     "data": {
      "text/plain": "0      1992\n1      1992\n2      1992\n3      1992\n4      1992\n       ... \n335    2019\n336    2020\n337    2020\n338    2020\n339    2020\nName: DATE, Length: 340, dtype: int64"
     },
     "execution_count": 69,
     "metadata": {},
     "output_type": "execute_result"
    }
   ],
   "source": [
    "# use the dt=datetime\n",
    "sales['DATE'].dt.year"
   ],
   "metadata": {
    "collapsed": false,
    "pycharm": {
     "name": "#%%\n"
    }
   }
  },
  {
   "cell_type": "code",
   "execution_count": 70,
   "outputs": [
    {
     "data": {
      "text/plain": "0       1\n1       2\n2       3\n3       4\n4       5\n       ..\n335    12\n336     1\n337     2\n338     3\n339     4\nName: DATE, Length: 340, dtype: int64"
     },
     "execution_count": 70,
     "metadata": {},
     "output_type": "execute_result"
    }
   ],
   "source": [
    "sales['DATE'].dt.month\n"
   ],
   "metadata": {
    "collapsed": false,
    "pycharm": {
     "name": "#%%\n"
    }
   }
  }
 ],
 "metadata": {
  "kernelspec": {
   "name": "pycharm-bbcd271a",
   "language": "python",
   "display_name": "PyCharm (Numpy)"
  },
  "language_info": {
   "codemirror_mode": {
    "name": "ipython",
    "version": 2
   },
   "file_extension": ".py",
   "mimetype": "text/x-python",
   "name": "python",
   "nbconvert_exporter": "python",
   "pygments_lexer": "ipython2",
   "version": "2.7.6"
  }
 },
 "nbformat": 4,
 "nbformat_minor": 0
}